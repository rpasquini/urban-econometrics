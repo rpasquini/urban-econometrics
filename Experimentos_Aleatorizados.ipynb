{
  "nbformat": 4,
  "nbformat_minor": 0,
  "metadata": {
    "colab": {
      "name": "Experimentos Aleatorizados.ipynb",
      "provenance": [],
      "authorship_tag": "ABX9TyN4z6AXDSe7e4xyL4+75jGQ",
      "include_colab_link": true
    },
    "kernelspec": {
      "name": "python3",
      "display_name": "Python 3"
    }
  },
  "cells": [
    {
      "cell_type": "markdown",
      "metadata": {
        "id": "view-in-github",
        "colab_type": "text"
      },
      "source": [
        "<a href=\"https://colab.research.google.com/github/rpasquini/urban-econometrics/blob/master/Experimentos_Aleatorizados.ipynb\" target=\"_parent\"><img src=\"https://colab.research.google.com/assets/colab-badge.svg\" alt=\"Open In Colab\"/></a>"
      ]
    },
    {
      "cell_type": "code",
      "metadata": {
        "id": "z27Cwxw3dlH7",
        "colab_type": "code",
        "colab": {
          "base_uri": "https://localhost:8080/",
          "height": 72
        },
        "outputId": "c49132ff-2aec-43c0-b2c3-b8ce744c5be4"
      },
      "source": [
        "import pandas as pd\n",
        "import statsmodels.api as sm  \n",
        "from scipy import stats  \n",
        "import numpy as np"
      ],
      "execution_count": null,
      "outputs": [
        {
          "output_type": "stream",
          "text": [
            "/usr/local/lib/python3.6/dist-packages/statsmodels/tools/_testing.py:19: FutureWarning: pandas.util.testing is deprecated. Use the functions in the public API at pandas.testing instead.\n",
            "  import pandas.util.testing as tm\n"
          ],
          "name": "stderr"
        }
      ]
    },
    {
      "cell_type": "code",
      "metadata": {
        "id": "FQxEYR1Fdist",
        "colab_type": "code",
        "colab": {}
      },
      "source": [
        "df=pd.read_csv('https://raw.githubusercontent.com/rpasquini/econometrics_and_causality/master/happiness_on_tap_extract.csv')"
      ],
      "execution_count": null,
      "outputs": []
    },
    {
      "cell_type": "markdown",
      "metadata": {
        "id": "z79v6Q66f5Ju",
        "colab_type": "text"
      },
      "source": [
        "Extracto de datos de: \n",
        "\n",
        "[Devoto, F., Duflo, E., Dupas, P., Parienté, W., & Pons, V. (2012). Happiness on tap: piped water adoption in urban Morocco. American Economic Journal: Economic Policy, 4(4), 68-99.](https://web.stanford.edu/~pdupas/MoroccoWaterConnections.pdf\n",
        ")\n",
        "\n",
        "Las variables fueron modificadas para el proposito de este ejercicio. \n",
        "\n",
        "**Descripción de variables**\n",
        "\n",
        "\n",
        "motivacion: Dummy = 1 si el hogar recibió motivación para conexión \\\n",
        "conectado: Dummy = 1 si el hogar se conectó a la red de agua \\\n",
        "sexojefe: Dummy = 1 Masculino, 0 Femenino \\\n",
        "edadjefe: Edad Jefe de Hogar \\\n",
        "jefesabeleer: Dummy=1 Jefe sabe leer \\\n",
        "jefesabeescribir: Dummy=1 Jefe sabe escribir \\\n",
        "pdiasfueaescuela: Porcentaje dias hijos fueron a la escuela.\n",
        "\n",
        "\n"
      ]
    },
    {
      "cell_type": "code",
      "metadata": {
        "id": "p1Xb2xlweJEP",
        "colab_type": "code",
        "colab": {
          "base_uri": "https://localhost:8080/",
          "height": 202
        },
        "outputId": "6bea7dc2-e599-4f31-9a6d-ec8003cf9184"
      },
      "source": [
        "df.head()"
      ],
      "execution_count": null,
      "outputs": [
        {
          "output_type": "execute_result",
          "data": {
            "text/html": [
              "<div>\n",
              "<style scoped>\n",
              "    .dataframe tbody tr th:only-of-type {\n",
              "        vertical-align: middle;\n",
              "    }\n",
              "\n",
              "    .dataframe tbody tr th {\n",
              "        vertical-align: top;\n",
              "    }\n",
              "\n",
              "    .dataframe thead th {\n",
              "        text-align: right;\n",
              "    }\n",
              "</style>\n",
              "<table border=\"1\" class=\"dataframe\">\n",
              "  <thead>\n",
              "    <tr style=\"text-align: right;\">\n",
              "      <th></th>\n",
              "      <th>random_id</th>\n",
              "      <th>motivacion</th>\n",
              "      <th>conectado</th>\n",
              "      <th>sexojefe</th>\n",
              "      <th>edadjefe</th>\n",
              "      <th>jefesabeleer</th>\n",
              "      <th>jefesabeescribir</th>\n",
              "      <th>pdiasfueaescuela</th>\n",
              "    </tr>\n",
              "  </thead>\n",
              "  <tbody>\n",
              "    <tr>\n",
              "      <th>0</th>\n",
              "      <td>1</td>\n",
              "      <td>0</td>\n",
              "      <td>0</td>\n",
              "      <td>1</td>\n",
              "      <td>37.0</td>\n",
              "      <td>1.0</td>\n",
              "      <td>1.0</td>\n",
              "      <td>NaN</td>\n",
              "    </tr>\n",
              "    <tr>\n",
              "      <th>1</th>\n",
              "      <td>3</td>\n",
              "      <td>1</td>\n",
              "      <td>1</td>\n",
              "      <td>1</td>\n",
              "      <td>45.0</td>\n",
              "      <td>0.0</td>\n",
              "      <td>0.0</td>\n",
              "      <td>57.142860</td>\n",
              "    </tr>\n",
              "    <tr>\n",
              "      <th>2</th>\n",
              "      <td>5</td>\n",
              "      <td>0</td>\n",
              "      <td>0</td>\n",
              "      <td>1</td>\n",
              "      <td>50.0</td>\n",
              "      <td>1.0</td>\n",
              "      <td>1.0</td>\n",
              "      <td>85.714287</td>\n",
              "    </tr>\n",
              "    <tr>\n",
              "      <th>3</th>\n",
              "      <td>7</td>\n",
              "      <td>1</td>\n",
              "      <td>1</td>\n",
              "      <td>1</td>\n",
              "      <td>54.0</td>\n",
              "      <td>1.0</td>\n",
              "      <td>1.0</td>\n",
              "      <td>85.714287</td>\n",
              "    </tr>\n",
              "    <tr>\n",
              "      <th>4</th>\n",
              "      <td>8</td>\n",
              "      <td>0</td>\n",
              "      <td>0</td>\n",
              "      <td>2</td>\n",
              "      <td>66.0</td>\n",
              "      <td>0.0</td>\n",
              "      <td>0.0</td>\n",
              "      <td>NaN</td>\n",
              "    </tr>\n",
              "  </tbody>\n",
              "</table>\n",
              "</div>"
            ],
            "text/plain": [
              "   random_id  motivacion  ...  jefesabeescribir  pdiasfueaescuela\n",
              "0          1           0  ...               1.0               NaN\n",
              "1          3           1  ...               0.0         57.142860\n",
              "2          5           0  ...               1.0         85.714287\n",
              "3          7           1  ...               1.0         85.714287\n",
              "4          8           0  ...               0.0               NaN\n",
              "\n",
              "[5 rows x 8 columns]"
            ]
          },
          "metadata": {
            "tags": []
          },
          "execution_count": 11
        }
      ]
    },
    {
      "cell_type": "code",
      "metadata": {
        "id": "kOVdGbUGjcvu",
        "colab_type": "code",
        "colab": {}
      },
      "source": [
        "df=df.dropna()"
      ],
      "execution_count": null,
      "outputs": []
    },
    {
      "cell_type": "code",
      "metadata": {
        "id": "WC4uhOw9ePqL",
        "colab_type": "code",
        "colab": {}
      },
      "source": [
        "dias_tratados=df.pdiasfueaescuela.loc[df.motivacion==1]\n",
        "dias_control=df.pdiasfueaescuela.loc[df.motivacion==0]"
      ],
      "execution_count": null,
      "outputs": []
    },
    {
      "cell_type": "markdown",
      "metadata": {
        "id": "qMJzBFXLrogW",
        "colab_type": "text"
      },
      "source": [
        "## Test de medias (supuesto varianzas son iguales)\n",
        "\n"
      ]
    },
    {
      "cell_type": "code",
      "metadata": {
        "id": "0floEgWJjq7u",
        "colab_type": "code",
        "colab": {
          "base_uri": "https://localhost:8080/",
          "height": 34
        },
        "outputId": "cc0a87b0-f624-43c8-f7a8-5d4937c56f55"
      },
      "source": [
        "stats.ttest_ind(dias_tratados, dias_control, equal_var=True)"
      ],
      "execution_count": null,
      "outputs": [
        {
          "output_type": "execute_result",
          "data": {
            "text/plain": [
              "Ttest_indResult(statistic=-1.5002574789125818, pvalue=0.13454932763122404)"
            ]
          },
          "metadata": {
            "tags": []
          },
          "execution_count": 28
        }
      ]
    },
    {
      "cell_type": "markdown",
      "metadata": {
        "id": "_v5YvTRQtEuL",
        "colab_type": "text"
      },
      "source": [
        "#Equivalencia del test a través de estimar OLS \n",
        "\n",
        "\n",
        "\n",
        "$pdiasescuela_i=\\beta_0+\\beta_1motivacion_i+\\epsilon_i$"
      ]
    },
    {
      "cell_type": "code",
      "metadata": {
        "id": "svIPzXUDjVlI",
        "colab_type": "code",
        "colab": {}
      },
      "source": [
        "def ols(lista, data):\n",
        "  \"\"\" \n",
        "  Funcion que realiza la regresion OLS\n",
        "  La primera variable de la lista es la dependiente, el resto son las explicativas\n",
        "  data es la base de datos\n",
        "  \"\"\"\n",
        "  datos=data[lista]\n",
        "  # el metodo dropna() me permite eliminar las filas que tienen algun valor missing\n",
        "  datos=datos.dropna()\n",
        "  Y=datos[lista[0]]\n",
        "  X=datos[lista[1:]]\n",
        "  X=sm.add_constant(X)\n",
        "  modelo=sm.OLS(Y,X)\n",
        "  modeloajustado=modelo.fit()\n",
        "  print(modeloajustado.summary())\n",
        "  return modeloajustado"
      ],
      "execution_count": null,
      "outputs": []
    },
    {
      "cell_type": "code",
      "metadata": {
        "id": "Up6QXV-MkAfd",
        "colab_type": "code",
        "colab": {
          "base_uri": "https://localhost:8080/",
          "height": 474
        },
        "outputId": "1c6c04a6-e57c-4b09-c606-367b42ad33f0"
      },
      "source": [
        "ols(['pdiasfueaescuela', 'motivacion'], df)"
      ],
      "execution_count": null,
      "outputs": [
        {
          "output_type": "stream",
          "text": [
            "                            OLS Regression Results                            \n",
            "==============================================================================\n",
            "Dep. Variable:       pdiasfueaescuela   R-squared:                       0.007\n",
            "Model:                            OLS   Adj. R-squared:                  0.004\n",
            "Method:                 Least Squares   F-statistic:                     2.251\n",
            "Date:                Tue, 28 Jul 2020   Prob (F-statistic):              0.135\n",
            "Time:                        17:56:55   Log-Likelihood:                -1476.3\n",
            "No. Observations:                 317   AIC:                             2957.\n",
            "Df Residuals:                     315   BIC:                             2964.\n",
            "Df Model:                           1                                         \n",
            "Covariance Type:            nonrobust                                         \n",
            "==============================================================================\n",
            "                 coef    std err          t      P>|t|      [0.025      0.975]\n",
            "------------------------------------------------------------------------------\n",
            "const         62.1331      2.116     29.366      0.000      57.970      66.296\n",
            "motivacion    -4.3219      2.881     -1.500      0.135      -9.990       1.346\n",
            "==============================================================================\n",
            "Omnibus:                       33.768   Durbin-Watson:                   1.885\n",
            "Prob(Omnibus):                  0.000   Jarque-Bera (JB):               40.136\n",
            "Skew:                          -0.847   Prob(JB):                     1.93e-09\n",
            "Kurtosis:                       2.586   Cond. No.                         2.72\n",
            "==============================================================================\n",
            "\n",
            "Warnings:\n",
            "[1] Standard Errors assume that the covariance matrix of the errors is correctly specified.\n"
          ],
          "name": "stdout"
        },
        {
          "output_type": "execute_result",
          "data": {
            "text/plain": [
              "<statsmodels.regression.linear_model.RegressionResultsWrapper at 0x7f492cff6da0>"
            ]
          },
          "metadata": {
            "tags": []
          },
          "execution_count": 35
        }
      ]
    },
    {
      "cell_type": "markdown",
      "metadata": {
        "id": "fsZ0Fn8PzMt3",
        "colab_type": "text"
      },
      "source": [
        "# Randomnization Inference Approach\n"
      ]
    },
    {
      "cell_type": "code",
      "metadata": {
        "id": "9wYX0UISu55k",
        "colab_type": "code",
        "colab": {
          "base_uri": "https://localhost:8080/",
          "height": 34
        },
        "outputId": "7c14e8ff-8379-4c54-e552-518a08b0d78a"
      },
      "source": [
        "# Vamos a utilizar un permutador disponible en Python. Aqui un ejemplo\n",
        "from itertools import permutations \n",
        "l = list(permutations(range(1, 4))) \n",
        "print (l)"
      ],
      "execution_count": null,
      "outputs": [
        {
          "output_type": "stream",
          "text": [
            "[(1, 2, 3), (1, 3, 2), (2, 1, 3), (2, 3, 1), (3, 1, 2), (3, 2, 1)]\n"
          ],
          "name": "stdout"
        }
      ]
    },
    {
      "cell_type": "code",
      "metadata": {
        "id": "tInPgE61vZ5Z",
        "colab_type": "code",
        "colab": {}
      },
      "source": [
        ""
      ],
      "execution_count": null,
      "outputs": []
    },
    {
      "cell_type": "code",
      "metadata": {
        "id": "Dgqj7OiiwIHl",
        "colab_type": "code",
        "colab": {}
      },
      "source": [
        "iterador=permutations(df.motivacion)  #Generamos un iterador de permutaciones. Cada vez que invoquemos la funcion next() sobre él me devolverá una iteracion.\n",
        "listadediferencias=[]\n",
        "for i in range(0,10000):\n",
        "  df['falsotratamiento']=next(iterador)  #usamos la permutacion como si fuese una falsa variable de motivacion\n",
        "  dias_tratados=df.pdiasfueaescuela.loc[df.falsotratamiento==1]\n",
        "  dias_control=df.pdiasfueaescuela.loc[df.falsotratamiento==0]\n",
        "  dif_means=np.mean(dias_tratados)-np.mean(dias_control) #computamos la diferencia de medias\n",
        "  listadediferencias.append(dif_means)"
      ],
      "execution_count": null,
      "outputs": []
    },
    {
      "cell_type": "code",
      "metadata": {
        "id": "mwiSwpLYxEfp",
        "colab_type": "code",
        "colab": {
          "base_uri": "https://localhost:8080/",
          "height": 316
        },
        "outputId": "84779daf-ed48-46eb-bcdd-a7140a7f2446"
      },
      "source": [
        "pd.DataFrame(listadediferencias).hist()"
      ],
      "execution_count": null,
      "outputs": [
        {
          "output_type": "execute_result",
          "data": {
            "text/plain": [
              "array([[<matplotlib.axes._subplots.AxesSubplot object at 0x7f112d1099b0>]],\n",
              "      dtype=object)"
            ]
          },
          "metadata": {
            "tags": []
          },
          "execution_count": 51
        },
        {
          "output_type": "display_data",
          "data": {
            "image/png": "[encoded data removed]",
            "text/plain": [
              "<Figure size 432x288 with 1 Axes>"
            ]
          },
          "metadata": {
            "tags": [],
            "needs_background": "light"
          }
        }
      ]
    },
    {
      "cell_type": "code",
      "metadata": {
        "id": "toTj0EY6y1ZS",
        "colab_type": "code",
        "colab": {
          "base_uri": "https://localhost:8080/",
          "height": 34
        },
        "outputId": "098fae13-9f86-4f20-ac71-0f30b2fd4859"
      },
      "source": [
        "stats.percentileofscore(listadediferencias,-4.32)"
      ],
      "execution_count": null,
      "outputs": [
        {
          "output_type": "execute_result",
          "data": {
            "text/plain": [
              "60.55"
            ]
          },
          "metadata": {
            "tags": []
          },
          "execution_count": 52
        }
      ]
    }
  ]
}