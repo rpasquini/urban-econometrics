{
  "nbformat": 4,
  "nbformat_minor": 0,
  "metadata": {
    "colab": {
      "name": "Experimentos Aleatorizados.ipynb",
      "provenance": [],
      "authorship_tag": "ABX9TyMlg98vENRjQ+GDNjgplVWr",
      "include_colab_link": true
    },
    "kernelspec": {
      "name": "python3",
      "display_name": "Python 3"
    }
  },
  "cells": [
    {
      "cell_type": "markdown",
      "metadata": {
        "id": "view-in-github",
        "colab_type": "text"
      },
      "source": [
        "<a href=\"https://colab.research.google.com/github/rpasquini/urban-econometrics/blob/master/Experimentos_Aleatorizados.ipynb\" target=\"_parent\"><img src=\"https://colab.research.google.com/assets/colab-badge.svg\" alt=\"Open In Colab\"/></a>"
      ]
    },
    {
      "cell_type": "code",
      "metadata": {
        "id": "z27Cwxw3dlH7",
        "colab_type": "code",
        "colab": {
          "base_uri": "https://localhost:8080/",
          "height": 72
        },
        "outputId": "59e7f013-eec6-40ff-823c-3830e34bacfe"
      },
      "source": [
        "import pandas as pd\n",
        "import statsmodels.api as sm  \n",
        "from scipy import stats  \n",
        "import numpy as np"
      ],
      "execution_count": 49,
      "outputs": [
        {
          "output_type": "stream",
          "text": [
            "/usr/local/lib/python3.6/dist-packages/statsmodels/tools/_testing.py:19: FutureWarning: pandas.util.testing is deprecated. Use the functions in the public API at pandas.testing instead.\n",
            "  import pandas.util.testing as tm\n"
          ],
          "name": "stderr"
        }
      ]
    },
    {
      "cell_type": "code",
      "metadata": {
        "id": "FQxEYR1Fdist",
        "colab_type": "code",
        "colab": {}
      },
      "source": [
        "df=pd.read_csv('https://raw.githubusercontent.com/rpasquini/econometrics_and_causality/master/happiness_on_tap_extract.csv')"
      ],
      "execution_count": 66,
      "outputs": []
    },
    {
      "cell_type": "markdown",
      "metadata": {
        "id": "z79v6Q66f5Ju",
        "colab_type": "text"
      },
      "source": [
        "Extracto de datos de: \n",
        "\n",
        "[Devoto, F., Duflo, E., Dupas, P., Parienté, W., & Pons, V. (2012). Happiness on tap: piped water adoption in urban Morocco. American Economic Journal: Economic Policy, 4(4), 68-99.](https://web.stanford.edu/~pdupas/MoroccoWaterConnections.pdf\n",
        ")\n",
        "\n",
        "Las variables fueron modificadas para el proposito de este ejercicio. \n",
        "\n",
        "**Descripción de variables**\n",
        "\n",
        "\n",
        "motivacion: Dummy = 1 si el hogar recibió motivación para conexión \\\n",
        "conectado: Dummy = 1 si el hogar se conectó a la red de agua \\\n",
        "sexojefe: Dummy = 1 Masculino, 0 Femenino \\\n",
        "edadjefe: Edad Jefe de Hogar \\\n",
        "jefesabeleer: Dummy=1 Jefe sabe leer \\\n",
        "jefesabeescribir: Dummy=1 Jefe sabe escribir \\\n",
        "pdiasfueaescuela: Porcentaje dias hijos fueron a la escuela.\n",
        "\n",
        "\n"
      ]
    },
    {
      "cell_type": "code",
      "metadata": {
        "id": "p1Xb2xlweJEP",
        "colab_type": "code",
        "colab": {
          "base_uri": "https://localhost:8080/",
          "height": 202
        },
        "outputId": "02567998-242c-4e06-98c8-7849b6a83928"
      },
      "source": [
        "df.head()"
      ],
      "execution_count": 51,
      "outputs": [
        {
          "output_type": "execute_result",
          "data": {
            "text/html": [
              "<div>\n",
              "<style scoped>\n",
              "    .dataframe tbody tr th:only-of-type {\n",
              "        vertical-align: middle;\n",
              "    }\n",
              "\n",
              "    .dataframe tbody tr th {\n",
              "        vertical-align: top;\n",
              "    }\n",
              "\n",
              "    .dataframe thead th {\n",
              "        text-align: right;\n",
              "    }\n",
              "</style>\n",
              "<table border=\"1\" class=\"dataframe\">\n",
              "  <thead>\n",
              "    <tr style=\"text-align: right;\">\n",
              "      <th></th>\n",
              "      <th>random_id</th>\n",
              "      <th>motivacion</th>\n",
              "      <th>conectado</th>\n",
              "      <th>sexojefe</th>\n",
              "      <th>edadjefe</th>\n",
              "      <th>jefesabeleer</th>\n",
              "      <th>jefesabeescribir</th>\n",
              "      <th>pdiasfueaescuela</th>\n",
              "    </tr>\n",
              "  </thead>\n",
              "  <tbody>\n",
              "    <tr>\n",
              "      <th>0</th>\n",
              "      <td>1</td>\n",
              "      <td>0</td>\n",
              "      <td>0</td>\n",
              "      <td>1</td>\n",
              "      <td>37.0</td>\n",
              "      <td>1.0</td>\n",
              "      <td>1.0</td>\n",
              "      <td>NaN</td>\n",
              "    </tr>\n",
              "    <tr>\n",
              "      <th>1</th>\n",
              "      <td>3</td>\n",
              "      <td>1</td>\n",
              "      <td>1</td>\n",
              "      <td>1</td>\n",
              "      <td>45.0</td>\n",
              "      <td>0.0</td>\n",
              "      <td>0.0</td>\n",
              "      <td>57.142860</td>\n",
              "    </tr>\n",
              "    <tr>\n",
              "      <th>2</th>\n",
              "      <td>5</td>\n",
              "      <td>0</td>\n",
              "      <td>0</td>\n",
              "      <td>1</td>\n",
              "      <td>50.0</td>\n",
              "      <td>1.0</td>\n",
              "      <td>1.0</td>\n",
              "      <td>85.714287</td>\n",
              "    </tr>\n",
              "    <tr>\n",
              "      <th>3</th>\n",
              "      <td>7</td>\n",
              "      <td>1</td>\n",
              "      <td>1</td>\n",
              "      <td>1</td>\n",
              "      <td>54.0</td>\n",
              "      <td>1.0</td>\n",
              "      <td>1.0</td>\n",
              "      <td>85.714287</td>\n",
              "    </tr>\n",
              "    <tr>\n",
              "      <th>4</th>\n",
              "      <td>8</td>\n",
              "      <td>0</td>\n",
              "      <td>0</td>\n",
              "      <td>2</td>\n",
              "      <td>66.0</td>\n",
              "      <td>0.0</td>\n",
              "      <td>0.0</td>\n",
              "      <td>NaN</td>\n",
              "    </tr>\n",
              "  </tbody>\n",
              "</table>\n",
              "</div>"
            ],
            "text/plain": [
              "   random_id  motivacion  ...  jefesabeescribir  pdiasfueaescuela\n",
              "0          1           0  ...               1.0               NaN\n",
              "1          3           1  ...               0.0         57.142860\n",
              "2          5           0  ...               1.0         85.714287\n",
              "3          7           1  ...               1.0         85.714287\n",
              "4          8           0  ...               0.0               NaN\n",
              "\n",
              "[5 rows x 8 columns]"
            ]
          },
          "metadata": {
            "tags": []
          },
          "execution_count": 51
        }
      ]
    },
    {
      "cell_type": "code",
      "metadata": {
        "id": "c4O9WsOMps3b",
        "colab_type": "code",
        "colab": {
          "base_uri": "https://localhost:8080/",
          "height": 140
        },
        "outputId": "9035dbe1-4d7c-4abe-bc6a-58b1a15f1dc9"
      },
      "source": [
        "df.groupby('motivacion').count()"
      ],
      "execution_count": 71,
      "outputs": [
        {
          "output_type": "execute_result",
          "data": {
            "text/html": [
              "<div>\n",
              "<style scoped>\n",
              "    .dataframe tbody tr th:only-of-type {\n",
              "        vertical-align: middle;\n",
              "    }\n",
              "\n",
              "    .dataframe tbody tr th {\n",
              "        vertical-align: top;\n",
              "    }\n",
              "\n",
              "    .dataframe thead th {\n",
              "        text-align: right;\n",
              "    }\n",
              "</style>\n",
              "<table border=\"1\" class=\"dataframe\">\n",
              "  <thead>\n",
              "    <tr style=\"text-align: right;\">\n",
              "      <th></th>\n",
              "      <th>random_id</th>\n",
              "      <th>conectado</th>\n",
              "      <th>sexojefe</th>\n",
              "      <th>edadjefe</th>\n",
              "      <th>jefesabeleer</th>\n",
              "      <th>jefesabeescribir</th>\n",
              "      <th>pdiasfueaescuela</th>\n",
              "    </tr>\n",
              "    <tr>\n",
              "      <th>motivacion</th>\n",
              "      <th></th>\n",
              "      <th></th>\n",
              "      <th></th>\n",
              "      <th></th>\n",
              "      <th></th>\n",
              "      <th></th>\n",
              "      <th></th>\n",
              "    </tr>\n",
              "  </thead>\n",
              "  <tbody>\n",
              "    <tr>\n",
              "      <th>0</th>\n",
              "      <td>377</td>\n",
              "      <td>377</td>\n",
              "      <td>377</td>\n",
              "      <td>372</td>\n",
              "      <td>372</td>\n",
              "      <td>372</td>\n",
              "      <td>147</td>\n",
              "    </tr>\n",
              "    <tr>\n",
              "      <th>1</th>\n",
              "      <td>411</td>\n",
              "      <td>411</td>\n",
              "      <td>411</td>\n",
              "      <td>407</td>\n",
              "      <td>404</td>\n",
              "      <td>404</td>\n",
              "      <td>173</td>\n",
              "    </tr>\n",
              "  </tbody>\n",
              "</table>\n",
              "</div>"
            ],
            "text/plain": [
              "            random_id  conectado  ...  jefesabeescribir  pdiasfueaescuela\n",
              "motivacion                        ...                                    \n",
              "0                 377        377  ...               372               147\n",
              "1                 411        411  ...               404               173\n",
              "\n",
              "[2 rows x 7 columns]"
            ]
          },
          "metadata": {
            "tags": []
          },
          "execution_count": 71
        }
      ]
    },
    {
      "cell_type": "code",
      "metadata": {
        "id": "kOVdGbUGjcvu",
        "colab_type": "code",
        "colab": {}
      },
      "source": [
        "df=df.dropna()"
      ],
      "execution_count": 52,
      "outputs": []
    },
    {
      "cell_type": "code",
      "metadata": {
        "id": "WC4uhOw9ePqL",
        "colab_type": "code",
        "colab": {}
      },
      "source": [
        "dias_tratados=df.pdiasfueaescuela.loc[df.motivacion==1]\n",
        "dias_control=df.pdiasfueaescuela.loc[df.motivacion==0]"
      ],
      "execution_count": 53,
      "outputs": []
    },
    {
      "cell_type": "markdown",
      "metadata": {
        "id": "qMJzBFXLrogW",
        "colab_type": "text"
      },
      "source": [
        "## Test de medias (supuesto varianzas son iguales)\n",
        "\n"
      ]
    },
    {
      "cell_type": "code",
      "metadata": {
        "id": "0floEgWJjq7u",
        "colab_type": "code",
        "colab": {
          "base_uri": "https://localhost:8080/",
          "height": 34
        },
        "outputId": "824af8e2-6c4e-4d08-f591-1fc268102053"
      },
      "source": [
        "stats.ttest_ind(dias_tratados, dias_control, equal_var=True)"
      ],
      "execution_count": 54,
      "outputs": [
        {
          "output_type": "execute_result",
          "data": {
            "text/plain": [
              "Ttest_indResult(statistic=-1.5002574789125818, pvalue=0.13454932763122404)"
            ]
          },
          "metadata": {
            "tags": []
          },
          "execution_count": 54
        }
      ]
    },
    {
      "cell_type": "markdown",
      "metadata": {
        "id": "_v5YvTRQtEuL",
        "colab_type": "text"
      },
      "source": [
        "#Equivalencia del test a través de estimar OLS \n",
        "\n",
        "\n",
        "\n",
        "$pdiasescuela_i=\\beta_0+\\beta_1motivacion_i+\\epsilon_i$"
      ]
    },
    {
      "cell_type": "code",
      "metadata": {
        "id": "svIPzXUDjVlI",
        "colab_type": "code",
        "colab": {}
      },
      "source": [
        "def ols(lista, data):\n",
        "  \"\"\" \n",
        "  Funcion que realiza la regresion OLS\n",
        "  La primera variable de la lista es la dependiente, el resto son las explicativas\n",
        "  data es la base de datos\n",
        "  \"\"\"\n",
        "  datos=data[lista]\n",
        "  # el metodo dropna() me permite eliminar las filas que tienen algun valor missing\n",
        "  datos=datos.dropna()\n",
        "  Y=datos[lista[0]]\n",
        "  X=datos[lista[1:]]\n",
        "  X=sm.add_constant(X)\n",
        "  modelo=sm.OLS(Y,X)\n",
        "  modeloajustado=modelo.fit()\n",
        "  print(modeloajustado.summary())\n",
        "  return modeloajustado"
      ],
      "execution_count": 55,
      "outputs": []
    },
    {
      "cell_type": "code",
      "metadata": {
        "id": "Up6QXV-MkAfd",
        "colab_type": "code",
        "colab": {
          "base_uri": "https://localhost:8080/",
          "height": 474
        },
        "outputId": "b1c43fb7-740e-4953-fa0b-fa15c09951f9"
      },
      "source": [
        "ols(['pdiasfueaescuela', 'motivacion'], df)"
      ],
      "execution_count": 56,
      "outputs": [
        {
          "output_type": "stream",
          "text": [
            "                            OLS Regression Results                            \n",
            "==============================================================================\n",
            "Dep. Variable:       pdiasfueaescuela   R-squared:                       0.007\n",
            "Model:                            OLS   Adj. R-squared:                  0.004\n",
            "Method:                 Least Squares   F-statistic:                     2.251\n",
            "Date:                Thu, 30 Jul 2020   Prob (F-statistic):              0.135\n",
            "Time:                        21:32:20   Log-Likelihood:                -1476.3\n",
            "No. Observations:                 317   AIC:                             2957.\n",
            "Df Residuals:                     315   BIC:                             2964.\n",
            "Df Model:                           1                                         \n",
            "Covariance Type:            nonrobust                                         \n",
            "==============================================================================\n",
            "                 coef    std err          t      P>|t|      [0.025      0.975]\n",
            "------------------------------------------------------------------------------\n",
            "const         62.1331      2.116     29.366      0.000      57.970      66.296\n",
            "motivacion    -4.3219      2.881     -1.500      0.135      -9.990       1.346\n",
            "==============================================================================\n",
            "Omnibus:                       33.768   Durbin-Watson:                   1.885\n",
            "Prob(Omnibus):                  0.000   Jarque-Bera (JB):               40.136\n",
            "Skew:                          -0.847   Prob(JB):                     1.93e-09\n",
            "Kurtosis:                       2.586   Cond. No.                         2.72\n",
            "==============================================================================\n",
            "\n",
            "Warnings:\n",
            "[1] Standard Errors assume that the covariance matrix of the errors is correctly specified.\n"
          ],
          "name": "stdout"
        },
        {
          "output_type": "execute_result",
          "data": {
            "text/plain": [
              "<statsmodels.regression.linear_model.RegressionResultsWrapper at 0x7f81ea06bb70>"
            ]
          },
          "metadata": {
            "tags": []
          },
          "execution_count": 56
        }
      ]
    },
    {
      "cell_type": "markdown",
      "metadata": {
        "id": "fsZ0Fn8PzMt3",
        "colab_type": "text"
      },
      "source": [
        "# Randomnization Inference Approach\n"
      ]
    },
    {
      "cell_type": "code",
      "metadata": {
        "id": "P48CytdafqA7",
        "colab_type": "code",
        "colab": {}
      },
      "source": [
        "lista=[[\"Buenos Aires\",1,1],[\"Catamarca\",1,1],[\"Chaco\",1,1],[\"Chubut\",1,1],[\"Córdoba\",1,0],[\"Corrientes\",0,0],[\"Entre Ríos\",0,0],[\"Formosa\",0,0],[\"Jujuy\",0,0],[\"La Pampa\",0,0]]\n",
        "variables=['provincia',\"T\",\"Y\"]\n",
        "df=pd.DataFrame(lista, columns=variables)"
      ],
      "execution_count": 64,
      "outputs": []
    },
    {
      "cell_type": "code",
      "metadata": {
        "id": "DdPN8Y1jmrhD",
        "colab_type": "code",
        "colab": {
          "base_uri": "https://localhost:8080/",
          "height": 356
        },
        "outputId": "9aa38f87-7b35-4fa0-c7de-de7af2b400c1"
      },
      "source": [
        "df"
      ],
      "execution_count": 58,
      "outputs": [
        {
          "output_type": "execute_result",
          "data": {
            "text/html": [
              "<div>\n",
              "<style scoped>\n",
              "    .dataframe tbody tr th:only-of-type {\n",
              "        vertical-align: middle;\n",
              "    }\n",
              "\n",
              "    .dataframe tbody tr th {\n",
              "        vertical-align: top;\n",
              "    }\n",
              "\n",
              "    .dataframe thead th {\n",
              "        text-align: right;\n",
              "    }\n",
              "</style>\n",
              "<table border=\"1\" class=\"dataframe\">\n",
              "  <thead>\n",
              "    <tr style=\"text-align: right;\">\n",
              "      <th></th>\n",
              "      <th>provincia</th>\n",
              "      <th>T</th>\n",
              "      <th>Y</th>\n",
              "    </tr>\n",
              "  </thead>\n",
              "  <tbody>\n",
              "    <tr>\n",
              "      <th>0</th>\n",
              "      <td>Buenos Aires</td>\n",
              "      <td>1</td>\n",
              "      <td>1</td>\n",
              "    </tr>\n",
              "    <tr>\n",
              "      <th>1</th>\n",
              "      <td>Catamarca</td>\n",
              "      <td>1</td>\n",
              "      <td>1</td>\n",
              "    </tr>\n",
              "    <tr>\n",
              "      <th>2</th>\n",
              "      <td>Chaco</td>\n",
              "      <td>1</td>\n",
              "      <td>1</td>\n",
              "    </tr>\n",
              "    <tr>\n",
              "      <th>3</th>\n",
              "      <td>Chubut</td>\n",
              "      <td>1</td>\n",
              "      <td>1</td>\n",
              "    </tr>\n",
              "    <tr>\n",
              "      <th>4</th>\n",
              "      <td>Córdoba</td>\n",
              "      <td>1</td>\n",
              "      <td>0</td>\n",
              "    </tr>\n",
              "    <tr>\n",
              "      <th>5</th>\n",
              "      <td>Corrientes</td>\n",
              "      <td>0</td>\n",
              "      <td>0</td>\n",
              "    </tr>\n",
              "    <tr>\n",
              "      <th>6</th>\n",
              "      <td>Entre Ríos</td>\n",
              "      <td>0</td>\n",
              "      <td>0</td>\n",
              "    </tr>\n",
              "    <tr>\n",
              "      <th>7</th>\n",
              "      <td>Formosa</td>\n",
              "      <td>0</td>\n",
              "      <td>0</td>\n",
              "    </tr>\n",
              "    <tr>\n",
              "      <th>8</th>\n",
              "      <td>Jujuy</td>\n",
              "      <td>0</td>\n",
              "      <td>0</td>\n",
              "    </tr>\n",
              "    <tr>\n",
              "      <th>9</th>\n",
              "      <td>La Pampa</td>\n",
              "      <td>0</td>\n",
              "      <td>0</td>\n",
              "    </tr>\n",
              "  </tbody>\n",
              "</table>\n",
              "</div>"
            ],
            "text/plain": [
              "      provincia  T  Y\n",
              "0  Buenos Aires  1  1\n",
              "1     Catamarca  1  1\n",
              "2         Chaco  1  1\n",
              "3        Chubut  1  1\n",
              "4       Córdoba  1  0\n",
              "5    Corrientes  0  0\n",
              "6    Entre Ríos  0  0\n",
              "7       Formosa  0  0\n",
              "8         Jujuy  0  0\n",
              "9      La Pampa  0  0"
            ]
          },
          "metadata": {
            "tags": []
          },
          "execution_count": 58
        }
      ]
    },
    {
      "cell_type": "code",
      "metadata": {
        "id": "qrww9UchpaMQ",
        "colab_type": "code",
        "colab": {
          "base_uri": "https://localhost:8080/",
          "height": 34
        },
        "outputId": "50014456-59eb-407d-ac13-1567c53f0eae"
      },
      "source": [
        "  Y_tratadas=df['Y'].loc[df['T']==1]\n",
        "  Y_control=df['Y'].loc[df['T']==0]\n",
        "  dif_means=np.mean(Y_tratadas)-np.mean(Y_control) #computamos la diferencia de medias\n",
        "  dif_means"
      ],
      "execution_count": 65,
      "outputs": [
        {
          "output_type": "execute_result",
          "data": {
            "text/plain": [
              "0.8"
            ]
          },
          "metadata": {
            "tags": []
          },
          "execution_count": 65
        }
      ]
    },
    {
      "cell_type": "code",
      "metadata": {
        "id": "tInPgE61vZ5Z",
        "colab_type": "code",
        "colab": {
          "base_uri": "https://localhost:8080/",
          "height": 316
        },
        "outputId": "75672844-c3c7-4593-fd41-447b6714a3fb"
      },
      "source": [
        "from itertools import permutations \n",
        "import numpy as np\n",
        "iteradorcomb=combinations(df.index,5)  #Generamos un iterador de permutaciones. Cada vez que invoquemos la funcion next() sobre él me devolverá una iteracion.\n",
        "listadediferencias=[]\n",
        "for i in range(0,252):\n",
        "  posicionestratadosfalso=next(iteradorcomb)\n",
        "  df.loc[df.index.isin(posicionestratadosfalso),'falsotratamiento']=1\n",
        "  df.loc[~df.index.isin(posicionestratadosfalso),'falsotratamiento']=0\n",
        "  Y_tratadas=df['Y'].loc[df['falsotratamiento']==1]\n",
        "  Y_control=df['Y'].loc[df['falsotratamiento']==0]\n",
        "  dif_means=np.mean(Y_tratadas)-np.mean(Y_control) #computamos la diferencia de medias\n",
        "  listadediferencias.append(dif_means)\n",
        "\n",
        "pd.DataFrame(listadediferencias).hist()"
      ],
      "execution_count": 59,
      "outputs": [
        {
          "output_type": "execute_result",
          "data": {
            "text/plain": [
              "array([[<matplotlib.axes._subplots.AxesSubplot object at 0x7f81ea032198>]],\n",
              "      dtype=object)"
            ]
          },
          "metadata": {
            "tags": []
          },
          "execution_count": 59
        },
        {
          "output_type": "display_data",
          "data": {
            "image/png": "[encoded data removed]",
            "text/plain": [
              "<Figure size 432x288 with 1 Axes>"
            ]
          },
          "metadata": {
            "tags": [],
            "needs_background": "light"
          }
        }
      ]
    },
    {
      "cell_type": "code",
      "metadata": {
        "id": "QMVHgTg4o2A6",
        "colab_type": "code",
        "colab": {
          "base_uri": "https://localhost:8080/",
          "height": 34
        },
        "outputId": "296ed1db-486e-440c-c9d1-dcda35acb28d"
      },
      "source": [
        "stats.percentileofscore(listadediferencias,0.8)"
      ],
      "execution_count": 60,
      "outputs": [
        {
          "output_type": "execute_result",
          "data": {
            "text/plain": [
              "99.0079365079365"
            ]
          },
          "metadata": {
            "tags": []
          },
          "execution_count": 60
        }
      ]
    }
  ]
}