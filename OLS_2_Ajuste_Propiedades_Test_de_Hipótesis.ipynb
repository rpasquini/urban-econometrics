{
  "nbformat": 4,
  "nbformat_minor": 0,
  "metadata": {
    "colab": {
      "name": "OLS 2 Ajuste Propiedades Test de Hipótesis.ipynb",
      "provenance": [],
      "authorship_tag": "ABX9TyPVjUC801YYrmMpVco93RE5",
      "include_colab_link": true
    },
    "kernelspec": {
      "name": "python3",
      "display_name": "Python 3"
    }
  },
  "cells": [
    {
      "cell_type": "markdown",
      "metadata": {
        "id": "view-in-github",
        "colab_type": "text"
      },
      "source": [
        "<a href=\"https://colab.research.google.com/github/rpasquini/urban-econometrics/blob/master/OLS_2_Ajuste_Propiedades_Test_de_Hip%C3%B3tesis.ipynb\" target=\"_parent\"><img src=\"https://colab.research.google.com/assets/colab-badge.svg\" alt=\"Open In Colab\"/></a>"
      ]
    },
    {
      "cell_type": "code",
      "metadata": {
        "id": "s8wWTj1S0Wl2",
        "colab_type": "code",
        "colab": {
          "base_uri": "https://localhost:8080/",
          "height": 477
        },
        "outputId": "e979f347-7302-4386-f28c-d2662e961046"
      },
      "source": [
        "!pip install geopandas"
      ],
      "execution_count": 1,
      "outputs": [
        {
          "output_type": "stream",
          "text": [
            "Collecting geopandas\n",
            "\u001b[?25l  Downloading https://files.pythonhosted.org/packages/83/c5/3cf9cdc39a6f2552922f79915f36b45a95b71fd343cfc51170a5b6ddb6e8/geopandas-0.7.0-py2.py3-none-any.whl (928kB)\n",
            "\u001b[K     |████████████████████████████████| 931kB 2.5MB/s \n",
            "\u001b[?25hCollecting fiona\n",
            "\u001b[?25l  Downloading https://files.pythonhosted.org/packages/ec/20/4e63bc5c6e62df889297b382c3ccd4a7a488b00946aaaf81a118158c6f09/Fiona-1.8.13.post1-cp36-cp36m-manylinux1_x86_64.whl (14.7MB)\n",
            "\u001b[K     |████████████████████████████████| 14.7MB 307kB/s \n",
            "\u001b[?25hRequirement already satisfied: pandas>=0.23.0 in /usr/local/lib/python3.6/dist-packages (from geopandas) (1.0.4)\n",
            "Collecting pyproj>=2.2.0\n",
            "\u001b[?25l  Downloading https://files.pythonhosted.org/packages/e5/c3/071e080230ac4b6c64f1a2e2f9161c9737a2bc7b683d2c90b024825000c0/pyproj-2.6.1.post1-cp36-cp36m-manylinux2010_x86_64.whl (10.9MB)\n",
            "\u001b[K     |████████████████████████████████| 10.9MB 43.8MB/s \n",
            "\u001b[?25hRequirement already satisfied: shapely in /usr/local/lib/python3.6/dist-packages (from geopandas) (1.7.0)\n",
            "Collecting cligj>=0.5\n",
            "  Downloading https://files.pythonhosted.org/packages/e4/be/30a58b4b0733850280d01f8bd132591b4668ed5c7046761098d665ac2174/cligj-0.5.0-py3-none-any.whl\n",
            "Requirement already satisfied: click<8,>=4.0 in /usr/local/lib/python3.6/dist-packages (from fiona->geopandas) (7.1.2)\n",
            "Collecting click-plugins>=1.0\n",
            "  Downloading https://files.pythonhosted.org/packages/e9/da/824b92d9942f4e472702488857914bdd50f73021efea15b4cad9aca8ecef/click_plugins-1.1.1-py2.py3-none-any.whl\n",
            "Requirement already satisfied: attrs>=17 in /usr/local/lib/python3.6/dist-packages (from fiona->geopandas) (19.3.0)\n",
            "Collecting munch\n",
            "  Downloading https://files.pythonhosted.org/packages/cc/ab/85d8da5c9a45e072301beb37ad7f833cd344e04c817d97e0cc75681d248f/munch-2.5.0-py2.py3-none-any.whl\n",
            "Requirement already satisfied: six>=1.7 in /usr/local/lib/python3.6/dist-packages (from fiona->geopandas) (1.12.0)\n",
            "Requirement already satisfied: pytz>=2017.2 in /usr/local/lib/python3.6/dist-packages (from pandas>=0.23.0->geopandas) (2018.9)\n",
            "Requirement already satisfied: python-dateutil>=2.6.1 in /usr/local/lib/python3.6/dist-packages (from pandas>=0.23.0->geopandas) (2.8.1)\n",
            "Requirement already satisfied: numpy>=1.13.3 in /usr/local/lib/python3.6/dist-packages (from pandas>=0.23.0->geopandas) (1.18.5)\n",
            "Installing collected packages: cligj, click-plugins, munch, fiona, pyproj, geopandas\n",
            "Successfully installed click-plugins-1.1.1 cligj-0.5.0 fiona-1.8.13.post1 geopandas-0.7.0 munch-2.5.0 pyproj-2.6.1.post1\n"
          ],
          "name": "stdout"
        }
      ]
    },
    {
      "cell_type": "code",
      "metadata": {
        "id": "NNmORTIw0Z_t",
        "colab_type": "code",
        "colab": {
          "base_uri": "https://localhost:8080/",
          "height": 72
        },
        "outputId": "30d03dd6-9dd6-42e4-8152-40595b65edaa"
      },
      "source": [
        "import geopandas as gpd\n",
        "import statsmodels.api as sm\n",
        "import matplotlib.pyplot as plt\n",
        "import numpy as np"
      ],
      "execution_count": 2,
      "outputs": [
        {
          "output_type": "stream",
          "text": [
            "/usr/local/lib/python3.6/dist-packages/statsmodels/tools/_testing.py:19: FutureWarning: pandas.util.testing is deprecated. Use the functions in the public API at pandas.testing instead.\n",
            "  import pandas.util.testing as tm\n"
          ],
          "name": "stderr"
        }
      ]
    },
    {
      "cell_type": "code",
      "metadata": {
        "id": "OTliy8gp0cuf",
        "colab_type": "code",
        "colab": {}
      },
      "source": [
        "departamentos=gpd.GeoDataFrame.from_file(\"https://github.com/rpasquini/urban-econometrics/blob/master/data/departamentos2019amba.zip?raw=true\")"
      ],
      "execution_count": 3,
      "outputs": []
    },
    {
      "cell_type": "code",
      "metadata": {
        "id": "a8eqhgfD0mIu",
        "colab_type": "code",
        "colab": {}
      },
      "source": [
        "datos=departamentos[['price', 'bedrooms']]"
      ],
      "execution_count": 4,
      "outputs": []
    },
    {
      "cell_type": "code",
      "metadata": {
        "id": "A5cJHKA90nW_",
        "colab_type": "code",
        "colab": {}
      },
      "source": [
        "# el metodo dropna() me permite eliminar las filas que tienen algun valor missing\n",
        "datos=datos.dropna()"
      ],
      "execution_count": 5,
      "outputs": []
    },
    {
      "cell_type": "code",
      "metadata": {
        "id": "oqCjibXA0viR",
        "colab_type": "code",
        "colab": {}
      },
      "source": [
        "Y=datos.price\n",
        "X=datos.bedrooms\n",
        "X=sm.add_constant(X)"
      ],
      "execution_count": 6,
      "outputs": []
    },
    {
      "cell_type": "code",
      "metadata": {
        "id": "FBqHGMC70-1G",
        "colab_type": "code",
        "colab": {}
      },
      "source": [
        "modelo=sm.OLS(Y,X)\n",
        "resultados=modelo.fit()"
      ],
      "execution_count": 8,
      "outputs": []
    },
    {
      "cell_type": "code",
      "metadata": {
        "id": "Sg_K-vCB1F_-",
        "colab_type": "code",
        "colab": {
          "base_uri": "https://localhost:8080/",
          "height": 457
        },
        "outputId": "82e14f33-f356-4893-bd2e-ca1b46686e9a"
      },
      "source": [
        "# mostramos los resultados\n",
        "print(resultados.summary())"
      ],
      "execution_count": null,
      "outputs": [
        {
          "output_type": "stream",
          "text": [
            "                            OLS Regression Results                            \n",
            "==============================================================================\n",
            "Dep. Variable:                  price   R-squared:                       0.049\n",
            "Model:                            OLS   Adj. R-squared:                  0.049\n",
            "Method:                 Least Squares   F-statistic:                     1443.\n",
            "Date:                Thu, 18 Jun 2020   Prob (F-statistic):          7.68e-308\n",
            "Time:                        14:29:22   Log-Likelihood:            -3.0876e+05\n",
            "No. Observations:               27879   AIC:                         6.175e+05\n",
            "Df Residuals:                   27877   BIC:                         6.175e+05\n",
            "Df Model:                           1                                         \n",
            "Covariance Type:            nonrobust                                         \n",
            "==============================================================================\n",
            "                 coef    std err          t      P>|t|      [0.025      0.975]\n",
            "------------------------------------------------------------------------------\n",
            "const       1.151e+04    205.145     56.088      0.000    1.11e+04    1.19e+04\n",
            "bedrooms    4253.5067    111.984     37.983      0.000    4034.013    4473.000\n",
            "==============================================================================\n",
            "Omnibus:                    39834.368   Durbin-Watson:                   1.851\n",
            "Prob(Omnibus):                  0.000   Jarque-Bera (JB):         59814269.062\n",
            "Skew:                           7.918   Prob(JB):                         0.00\n",
            "Kurtosis:                     229.365   Cond. No.                         5.02\n",
            "==============================================================================\n",
            "\n",
            "Warnings:\n",
            "[1] Standard Errors assume that the covariance matrix of the errors is correctly specified.\n"
          ],
          "name": "stdout"
        }
      ]
    },
    {
      "cell_type": "markdown",
      "metadata": {
        "id": "S9dlbmRICHfI",
        "colab_type": "text"
      },
      "source": [
        "# Predicción"
      ]
    },
    {
      "cell_type": "markdown",
      "metadata": {
        "id": "ONHB57OpCWiR",
        "colab_type": "text"
      },
      "source": [
        "$\\hat{Y}=\\hat{\\beta_0}+\\hat{\\beta_1}*X$"
      ]
    },
    {
      "cell_type": "code",
      "metadata": {
        "id": "la4qtvGUCNgJ",
        "colab_type": "code",
        "colab": {
          "base_uri": "https://localhost:8080/",
          "height": 35
        },
        "outputId": "21f8991d-1de4-444b-b2ff-62c92caf3558"
      },
      "source": [
        "# Departamento de 2 dormitorios\n",
        "11510+4253*2"
      ],
      "execution_count": 13,
      "outputs": [
        {
          "output_type": "execute_result",
          "data": {
            "text/plain": [
              "20016"
            ]
          },
          "metadata": {
            "tags": []
          },
          "execution_count": 13
        }
      ]
    },
    {
      "cell_type": "code",
      "metadata": {
        "id": "G60RKQOvCrW5",
        "colab_type": "code",
        "colab": {
          "base_uri": "https://localhost:8080/",
          "height": 35
        },
        "outputId": "1fd76066-5397-4489-eba9-38d86260c8b8"
      },
      "source": [
        "# Departamento de 2 dormitorios\n",
        "resultados.params['const']+resultados.params['bedrooms']*2"
      ],
      "execution_count": 14,
      "outputs": [
        {
          "output_type": "execute_result",
          "data": {
            "text/plain": [
              "20013.204472922604"
            ]
          },
          "metadata": {
            "tags": []
          },
          "execution_count": 14
        }
      ]
    },
    {
      "cell_type": "code",
      "metadata": {
        "id": "8PzA4iHtDLSw",
        "colab_type": "code",
        "colab": {
          "base_uri": "https://localhost:8080/",
          "height": 228
        },
        "outputId": "37a26562-64ff-4349-eb19-ddf652c06aa0"
      },
      "source": [
        "# Predicciones para observaciones en la data\n",
        "resultados.params['const']+resultados.params['bedrooms']*datos.bedrooms"
      ],
      "execution_count": 15,
      "outputs": [
        {
          "output_type": "execute_result",
          "data": {
            "text/plain": [
              "0        15759.697728\n",
              "2        20013.204473\n",
              "4        15759.697728\n",
              "43       15759.697728\n",
              "45       15759.697728\n",
              "             ...     \n",
              "50647    20013.204473\n",
              "50648    15759.697728\n",
              "50650    28520.217963\n",
              "50651    15759.697728\n",
              "50652    20013.204473\n",
              "Name: bedrooms, Length: 27879, dtype: float64"
            ]
          },
          "metadata": {
            "tags": []
          },
          "execution_count": 15
        }
      ]
    },
    {
      "cell_type": "code",
      "metadata": {
        "id": "NWU5mDsvDhBf",
        "colab_type": "code",
        "colab": {
          "base_uri": "https://localhost:8080/",
          "height": 228
        },
        "outputId": "42af8603-fb07-469b-d443-d00eecc91396"
      },
      "source": [
        "resultados.predict(X)"
      ],
      "execution_count": 16,
      "outputs": [
        {
          "output_type": "execute_result",
          "data": {
            "text/plain": [
              "0        15759.697728\n",
              "2        20013.204473\n",
              "4        15759.697728\n",
              "43       15759.697728\n",
              "45       15759.697728\n",
              "             ...     \n",
              "50647    20013.204473\n",
              "50648    15759.697728\n",
              "50650    28520.217963\n",
              "50651    15759.697728\n",
              "50652    20013.204473\n",
              "Length: 27879, dtype: float64"
            ]
          },
          "metadata": {
            "tags": []
          },
          "execution_count": 16
        }
      ]
    },
    {
      "cell_type": "code",
      "metadata": {
        "id": "Cw17S2gYDrhp",
        "colab_type": "code",
        "colab": {
          "base_uri": "https://localhost:8080/",
          "height": 283
        },
        "outputId": "27dfd0b4-e0a4-40c6-8ee2-30aab3d46eea"
      },
      "source": [
        "# Ploteamos prediccion con matplolib\n",
        "plt.scatter(datos.bedrooms, resultados.predict(X))"
      ],
      "execution_count": 17,
      "outputs": [
        {
          "output_type": "execute_result",
          "data": {
            "text/plain": [
              "<matplotlib.collections.PathCollection at 0x7f7dda07e9e8>"
            ]
          },
          "metadata": {
            "tags": []
          },
          "execution_count": 17
        },
        {
          "output_type": "display_data",
          "data": {
            "image/png": "[encoded data removed]",
            "text/plain": [
              "<Figure size 432x288 with 1 Axes>"
            ]
          },
          "metadata": {
            "tags": [],
            "needs_background": "light"
          }
        }
      ]
    },
    {
      "cell_type": "markdown",
      "metadata": {
        "id": "QZRn9Kqu4Kyf",
        "colab_type": "text"
      },
      "source": [
        "# Error Cuadrático Medio\n"
      ]
    },
    {
      "cell_type": "code",
      "metadata": {
        "id": "kF_enYAB1f8Z",
        "colab_type": "code",
        "colab": {
          "base_uri": "https://localhost:8080/",
          "height": 34
        },
        "outputId": "187c0522-526c-431b-b446-07f3ab4d5e39"
      },
      "source": [
        "resultados.mse_resid"
      ],
      "execution_count": null,
      "outputs": [
        {
          "output_type": "execute_result",
          "data": {
            "text/plain": [
              "243930120.92914465"
            ]
          },
          "metadata": {
            "tags": []
          },
          "execution_count": 16
        }
      ]
    },
    {
      "cell_type": "markdown",
      "metadata": {
        "id": "hl56Qpf43A49",
        "colab_type": "text"
      },
      "source": [
        "Error Cuadrático Medio (MSE) a mano\n",
        "\n",
        "$MSE=\\sqrt{\\frac{\\sum^n_{i=1} e_i^2}{n-2}}$ donde\n",
        "\n",
        "$e=y-\\hat{y}$\n",
        "\n"
      ]
    },
    {
      "cell_type": "code",
      "metadata": {
        "id": "uQngrpST12tx",
        "colab_type": "code",
        "colab": {
          "base_uri": "https://localhost:8080/",
          "height": 35
        },
        "outputId": "f66918a8-4b0a-4c59-a355-c580f9306fb3"
      },
      "source": [
        "ypred = resultados.predict(X)\n",
        "residuos=Y-ypred\n",
        "rss=np.sum(residuos**2)\n",
        "MSE=(rss/(resultados.nobs-2))\n",
        "MSE"
      ],
      "execution_count": 23,
      "outputs": [
        {
          "output_type": "execute_result",
          "data": {
            "text/plain": [
              "243930120.92914465"
            ]
          },
          "metadata": {
            "tags": []
          },
          "execution_count": 23
        }
      ]
    },
    {
      "cell_type": "code",
      "metadata": {
        "id": "MLzHND1dJzv8",
        "colab_type": "code",
        "colab": {
          "base_uri": "https://localhost:8080/",
          "height": 35
        },
        "outputId": "4afe771a-0cb4-48ab-fec9-798c03d5469f"
      },
      "source": [
        "MSE**0.5"
      ],
      "execution_count": 24,
      "outputs": [
        {
          "output_type": "execute_result",
          "data": {
            "text/plain": [
              "15618.262417091879"
            ]
          },
          "metadata": {
            "tags": []
          },
          "execution_count": 24
        }
      ]
    },
    {
      "cell_type": "code",
      "metadata": {
        "id": "7327gR3F4X0e",
        "colab_type": "code",
        "colab": {
          "base_uri": "https://localhost:8080/",
          "height": 175
        },
        "outputId": "0f330aae-d6a3-4dab-b3f7-0fecc306eea8"
      },
      "source": [
        "residuos2=residuos*residuos\n",
        "residuos2.describe()"
      ],
      "execution_count": null,
      "outputs": [
        {
          "output_type": "execute_result",
          "data": {
            "text/plain": [
              "count    2.787900e+04\n",
              "mean     2.439126e+08\n",
              "std      3.686013e+09\n",
              "min      3.832827e+01\n",
              "25%      5.106234e+06\n",
              "50%      2.513222e+07\n",
              "75%      1.436833e+08\n",
              "max      4.126768e+11\n",
              "dtype: float64"
            ]
          },
          "metadata": {
            "tags": []
          },
          "execution_count": 27
        }
      ]
    },
    {
      "cell_type": "code",
      "metadata": {
        "id": "BDcE_OXPE3gM",
        "colab_type": "code",
        "colab": {
          "base_uri": "https://localhost:8080/",
          "height": 175
        },
        "outputId": "4f9064af-cb4c-4764-a728-72cd261bda9b"
      },
      "source": [
        "residuos.describe()"
      ],
      "execution_count": null,
      "outputs": [
        {
          "output_type": "execute_result",
          "data": {
            "text/plain": [
              "count    2.787900e+04\n",
              "mean     5.759983e-11\n",
              "std      1.561798e+04\n",
              "min     -5.769477e+04\n",
              "25%     -6.013204e+03\n",
              "50%     -1.759698e+03\n",
              "75%      3.986796e+03\n",
              "max      6.423993e+05\n",
              "dtype: float64"
            ]
          },
          "metadata": {
            "tags": []
          },
          "execution_count": 28
        }
      ]
    },
    {
      "cell_type": "markdown",
      "metadata": {
        "id": "48PRmVlhJxBC",
        "colab_type": "text"
      },
      "source": [
        "# Propiedades de los estimadores cuando los errores son normales"
      ]
    },
    {
      "cell_type": "markdown",
      "metadata": {
        "id": "7FAwtdmpKN-U",
        "colab_type": "text"
      },
      "source": [
        "¿Cuál es el beta que espero obtener si los errores de nuestro fueran errores normales?\n",
        "Simulamos las estimaciones de los coeficientes beta en presencia de errores normales  \n",
        "\n"
      ]
    },
    {
      "cell_type": "code",
      "metadata": {
        "id": "JcwYaNioLTFZ",
        "colab_type": "code",
        "colab": {
          "base_uri": "https://localhost:8080/",
          "height": 370
        },
        "outputId": "b0aa0951-5912-4c52-82be-8619abc759f6"
      },
      "source": [
        "\n",
        "e_simu= np.random.normal(0, 15617, 27879)\n",
        "plt.hist(e_simu)\n"
      ],
      "execution_count": null,
      "outputs": [
        {
          "output_type": "execute_result",
          "data": {
            "text/plain": [
              "(array([2.400e+01, 2.490e+02, 1.612e+03, 5.015e+03, 8.723e+03, 7.642e+03,\n",
              "        3.622e+03, 8.680e+02, 1.160e+02, 8.000e+00]),\n",
              " array([-62491.59528379, -49543.05007022, -36594.50485665, -23645.95964308,\n",
              "        -10697.41442951,   2251.13078406,  15199.67599763,  28148.2212112 ,\n",
              "         41096.76642477,  54045.31163834,  66993.85685191]),\n",
              " <a list of 10 Patch objects>)"
            ]
          },
          "metadata": {
            "tags": []
          },
          "execution_count": 59
        },
        {
          "output_type": "display_data",
          "data": {
            "image/png": "[encoded data removed]",
            "text/plain": [
              "<Figure size 432x288 with 1 Axes>"
            ]
          },
          "metadata": {
            "tags": [],
            "needs_background": "light"
          }
        }
      ]
    },
    {
      "cell_type": "code",
      "metadata": {
        "id": "xuqh7kr2FGNr",
        "colab_type": "code",
        "colab": {
          "base_uri": "https://localhost:8080/",
          "height": 34
        },
        "outputId": "3167d687-e01a-491d-d274-10b0e5225d90"
      },
      "source": [
        "def simu():\n",
        "  e_simu = np.random.normal(0, 15617, 27879)\n",
        "  y_simu=1.151e+04+4253.5067*datos.bedrooms+e_simu\n",
        "  model_simu=sm.OLS(y_simu,X)\n",
        "  resultados_simu=model_simu.fit()\n",
        "  #print(resultados_simu.summary())\n",
        "  #print(resultados_simu.params['bedrooms'])\n",
        "  return resultados_simu.params['bedrooms']\n",
        "simu()"
      ],
      "execution_count": null,
      "outputs": [
        {
          "output_type": "execute_result",
          "data": {
            "text/plain": [
              "4136.3514932957105"
            ]
          },
          "metadata": {
            "tags": []
          },
          "execution_count": 46
        }
      ]
    },
    {
      "cell_type": "code",
      "metadata": {
        "id": "xc0V-YE2G5xO",
        "colab_type": "code",
        "colab": {
          "base_uri": "https://localhost:8080/",
          "height": 54
        },
        "outputId": "82a41383-8a1a-4b0b-e47b-d17eed25027f"
      },
      "source": [
        "betacoefs=[]\n",
        "for i in range(0,200):\n",
        "  beta=simu()\n",
        "  betacoefs.append(beta)\n",
        "print(betacoefs)\n"
      ],
      "execution_count": null,
      "outputs": [
        {
          "output_type": "stream",
          "text": [
            "[4143.386073022606, 4071.22527025976, 4195.925662762462, 4196.431313673331, 4097.137536612655, 4189.404663726467, 4499.606641935565, 4286.665073675551, 4328.7059279116, 4193.329419498614, 4320.407243421195, 4245.08168462754, 4313.574511045935, 4088.602873979174, 4223.795231268065, 4198.29242980668, 4210.6765294119905, 4252.850836789494, 4279.684222190424, 4165.439087324192, 4312.12174518929, 4265.586166996356, 4165.152903783814, 4246.5528922743615, 4297.252464449558, 4227.929353909369, 4313.1793684475615, 4303.699114018703, 4263.687689153709, 4287.511452661091, 4255.6013996226175, 4168.499008041259, 4338.731553354319, 4299.153215088924, 4203.676315841913, 4088.0119412945237, 4146.553098350327, 4236.866806081003, 4225.971484569218, 4195.867091287391, 4441.213271533007, 4326.201939215861, 4184.303930067296, 4111.795158572679, 4094.9184622480298, 4289.056378957178, 4307.2685383123835, 4379.845101824143, 4075.162224522618, 4162.528748423024, 4215.883562725155, 3933.6548529503425, 4302.111754176877, 4339.801131711125, 4086.2773097039085, 4140.905233493487, 4261.513884464481, 4461.189708032135, 4251.248431412265, 4409.225010450374, 4229.873111561433, 4320.153988623163, 4459.089447447944, 4266.225424110675, 4106.726879983764, 4137.662577722934, 4289.906175027419, 4360.904529243121, 4338.790799483671, 4235.614470990509, 4217.171659611352, 4229.776329136271, 4196.791455777692, 3950.7288001062466, 4208.914303264499, 4280.649950623932, 4398.134365492675, 4407.157442577444, 4398.484914720539, 4172.865160073414, 4426.797406754918, 4301.520206579047, 4451.714552148802, 4290.810750658774, 4435.649863311771, 4249.986915447146, 4156.959850056638, 4137.356007569326, 4290.432854481618, 4083.037219623645, 4227.436309189578, 4004.2529292450895, 4208.546422275648, 4087.1985499741777, 4167.984405824292, 4210.1677871653565, 4364.348740852015, 4161.548240774324, 4346.192284411605, 4117.616666888438, 4237.0532882698235, 4313.894679407149, 4179.561858064985, 4215.612058234431, 4248.693065106722, 4109.284513645473, 4289.305891450236, 4230.604149572548, 4443.582242351124, 4318.434533437506, 4132.339223507837, 4388.514679585811, 4381.773346177186, 4232.194386429507, 4172.756599526067, 4308.580911428896, 4276.579969153264, 4142.381540875302, 4192.833321534587, 4255.671758078867, 4198.199928444583, 4278.317309304598, 4369.02238370425, 4340.675194069811, 4300.026614976141, 4052.4144902716257, 4559.912508978654, 4349.266499902562, 4310.935579666455, 4163.138957096234, 4083.918972777825, 4247.483937230734, 4382.728074451068, 4191.772268686803, 4320.085397405989, 4192.282788788065, 4331.2790897615205, 4212.681650416521, 4035.861326306949, 4321.634087211489, 4205.631551209676, 3987.15059318706, 4133.543103497962, 4333.360031124445, 4447.458058939235, 4404.926390616143, 4226.767880462807, 4214.304577390425, 4332.440356094668, 4389.852651635365, 4287.644931504655, 4262.725173391474, 3930.3653794911806, 4175.522405149679, 4227.4886983388515, 4333.221728125168, 4162.7090427171415, 4452.788872854807, 4184.939621489353, 4226.667582963964, 4351.151205713853, 4058.26161239147, 4105.6549918067985, 4208.6059053961235, 4237.088351073015, 4177.974303467305, 4227.316090613684, 4273.198661849647, 4187.310124117018, 4218.609561029795, 4234.419115894259, 4346.972322013883, 4210.2149826689265, 4309.3528835523375, 4304.420048570707, 4269.801114878428, 4117.81162640921, 4163.790139377241, 4265.196555373793, 4334.319048856213, 4323.146821318124, 4237.547382211273, 4325.504306542619, 4267.873419517202, 4299.417771123096, 4080.098474629841, 4259.901398137286, 4499.798679516811, 4264.686404333338, 4210.678845837629, 4343.337868883156, 4112.663100489229, 4144.450835749518, 4232.022239770306, 4192.167232106165, 4142.504751607554, 4185.59295241558, 4174.306391021442, 4297.45030527644, 4195.636061462058]\n"
          ],
          "name": "stdout"
        }
      ]
    },
    {
      "cell_type": "code",
      "metadata": {
        "id": "MN6lNag1I1uv",
        "colab_type": "code",
        "colab": {
          "base_uri": "https://localhost:8080/",
          "height": 316
        },
        "outputId": "b32ca8cc-defe-42fc-c876-6acd7012fa60"
      },
      "source": [
        "import pandas as pd\n",
        "pd.DataFrame(betacoefs).hist()"
      ],
      "execution_count": null,
      "outputs": [
        {
          "output_type": "execute_result",
          "data": {
            "text/plain": [
              "array([[<matplotlib.axes._subplots.AxesSubplot object at 0x7f87f5100048>]],\n",
              "      dtype=object)"
            ]
          },
          "metadata": {
            "tags": []
          },
          "execution_count": 55
        },
        {
          "output_type": "display_data",
          "data": {
            "image/png": "[encoded data removed]",
            "text/plain": [
              "<Figure size 432x288 with 1 Axes>"
            ]
          },
          "metadata": {
            "tags": [],
            "needs_background": "light"
          }
        }
      ]
    },
    {
      "cell_type": "code",
      "metadata": {
        "id": "LZcQ70HqJTIu",
        "colab_type": "code",
        "colab": {
          "base_uri": "https://localhost:8080/",
          "height": 353
        },
        "outputId": "50e9ac8a-c8e7-451c-9a12-7bda39e4bfc5"
      },
      "source": [
        "import matplotlib.pyplot as plt\n",
        "plt.hist(betacoefs)"
      ],
      "execution_count": null,
      "outputs": [
        {
          "output_type": "execute_result",
          "data": {
            "text/plain": [
              "(array([ 4.,  3., 19., 26., 52., 41., 33., 11.,  8.,  3.]),\n",
              " array([3930.36537949, 3993.32009244, 4056.27480539, 4119.22951834,\n",
              "        4182.18423129, 4245.13894423, 4308.09365718, 4371.04837013,\n",
              "        4434.00308308, 4496.95779603, 4559.91250898]),\n",
              " <a list of 10 Patch objects>)"
            ]
          },
          "metadata": {
            "tags": []
          },
          "execution_count": 58
        },
        {
          "output_type": "display_data",
          "data": {
            "image/png": "[encoded data removed]",
            "text/plain": [
              "<Figure size 432x288 with 1 Axes>"
            ]
          },
          "metadata": {
            "tags": [],
            "needs_background": "light"
          }
        }
      ]
    },
    {
      "cell_type": "markdown",
      "metadata": {
        "id": "l8MelTxsLrzq",
        "colab_type": "text"
      },
      "source": [
        "# Cómo son los residuos (errores estimados) en mis datos?\n"
      ]
    },
    {
      "cell_type": "code",
      "metadata": {
        "id": "n4sZ7Av3LnnM",
        "colab_type": "code",
        "colab": {
          "base_uri": "https://localhost:8080/",
          "height": 282
        },
        "outputId": "b9ba45a9-69a2-4d3f-cd6b-b2332eee958f"
      },
      "source": [
        "residuos.hist()"
      ],
      "execution_count": null,
      "outputs": [
        {
          "output_type": "execute_result",
          "data": {
            "text/plain": [
              "<matplotlib.axes._subplots.AxesSubplot at 0x7f87f502c2e8>"
            ]
          },
          "metadata": {
            "tags": []
          },
          "execution_count": 60
        },
        {
          "output_type": "display_data",
          "data": {
            "image/png": "[encoded data removed]",
            "text/plain": [
              "<Figure size 432x288 with 1 Axes>"
            ]
          },
          "metadata": {
            "tags": [],
            "needs_background": "light"
          }
        }
      ]
    }
  ]
}