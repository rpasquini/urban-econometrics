{
  "nbformat": 4,
  "nbformat_minor": 0,
  "metadata": {
    "colab": {
      "name": "Correlacion espacial y Regresión espacial intro.ipynb",
      "provenance": [],
      "authorship_tag": "ABX9TyMX0YTDkxGu+DsPVbPt0K1C",
      "include_colab_link": true
    },
    "kernelspec": {
      "name": "python3",
      "display_name": "Python 3"
    },
    "language_info": {
      "name": "python"
    }
  },
  "cells": [
    {
      "cell_type": "markdown",
      "metadata": {
        "id": "view-in-github",
        "colab_type": "text"
      },
      "source": [
        "<a href=\"https://colab.research.google.com/github/rpasquini/urban-econometrics/blob/master/Correlacion_espacial_y_Regresi%C3%B3n_espacial_intro.ipynb\" target=\"_parent\"><img src=\"https://colab.research.google.com/assets/colab-badge.svg\" alt=\"Open In Colab\"/></a>"
      ]
    },
    {
      "cell_type": "markdown",
      "metadata": {
        "id": "HDr_c3Kqqp2r"
      },
      "source": [
        "_author: Ricardo Pasquini (rpasquini@gmail.com)"
      ]
    },
    {
      "cell_type": "code",
      "metadata": {
        "colab": {
          "base_uri": "https://localhost:8080/"
        },
        "id": "HGWY5UNhq5Ob",
        "outputId": "b88a7cfb-2b9b-4bad-f32d-52af4ec80557"
      },
      "source": [
        "!pip install geopandas"
      ],
      "execution_count": 34,
      "outputs": [
        {
          "output_type": "stream",
          "text": [
            "Requirement already satisfied: geopandas in /usr/local/lib/python3.7/dist-packages (0.9.0)\n",
            "Requirement already satisfied: shapely>=1.6 in /usr/local/lib/python3.7/dist-packages (from geopandas) (1.7.1)\n",
            "Requirement already satisfied: pandas>=0.24.0 in /usr/local/lib/python3.7/dist-packages (from geopandas) (1.1.5)\n",
            "Requirement already satisfied: fiona>=1.8 in /usr/local/lib/python3.7/dist-packages (from geopandas) (1.8.20)\n",
            "Requirement already satisfied: pyproj>=2.2.0 in /usr/local/lib/python3.7/dist-packages (from geopandas) (3.1.0)\n",
            "Requirement already satisfied: pytz>=2017.2 in /usr/local/lib/python3.7/dist-packages (from pandas>=0.24.0->geopandas) (2018.9)\n",
            "Requirement already satisfied: numpy>=1.15.4 in /usr/local/lib/python3.7/dist-packages (from pandas>=0.24.0->geopandas) (1.19.5)\n",
            "Requirement already satisfied: python-dateutil>=2.7.3 in /usr/local/lib/python3.7/dist-packages (from pandas>=0.24.0->geopandas) (2.8.1)\n",
            "Requirement already satisfied: attrs>=17 in /usr/local/lib/python3.7/dist-packages (from fiona>=1.8->geopandas) (21.2.0)\n",
            "Requirement already satisfied: certifi in /usr/local/lib/python3.7/dist-packages (from fiona>=1.8->geopandas) (2020.12.5)\n",
            "Requirement already satisfied: click>=4.0 in /usr/local/lib/python3.7/dist-packages (from fiona>=1.8->geopandas) (7.1.2)\n",
            "Requirement already satisfied: cligj>=0.5 in /usr/local/lib/python3.7/dist-packages (from fiona>=1.8->geopandas) (0.7.2)\n",
            "Requirement already satisfied: click-plugins>=1.0 in /usr/local/lib/python3.7/dist-packages (from fiona>=1.8->geopandas) (1.1.1)\n",
            "Requirement already satisfied: six>=1.7 in /usr/local/lib/python3.7/dist-packages (from fiona>=1.8->geopandas) (1.15.0)\n",
            "Requirement already satisfied: setuptools in /usr/local/lib/python3.7/dist-packages (from fiona>=1.8->geopandas) (57.0.0)\n",
            "Requirement already satisfied: munch in /usr/local/lib/python3.7/dist-packages (from fiona>=1.8->geopandas) (2.5.0)\n"
          ],
          "name": "stdout"
        }
      ]
    },
    {
      "cell_type": "code",
      "metadata": {
        "colab": {
          "base_uri": "https://localhost:8080/"
        },
        "id": "aGztqWQ2qpYj",
        "outputId": "b020864c-615f-4195-f832-928361a4c413"
      },
      "source": [
        "!pip install libpysal "
      ],
      "execution_count": 35,
      "outputs": [
        {
          "output_type": "stream",
          "text": [
            "Requirement already satisfied: libpysal in /usr/local/lib/python3.7/dist-packages (4.4.0)\n",
            "Requirement already satisfied: pandas in /usr/local/lib/python3.7/dist-packages (from libpysal) (1.1.5)\n",
            "Requirement already satisfied: requests in /usr/local/lib/python3.7/dist-packages (from libpysal) (2.23.0)\n",
            "Requirement already satisfied: beautifulsoup4 in /usr/local/lib/python3.7/dist-packages (from libpysal) (4.6.3)\n",
            "Requirement already satisfied: scipy>=0.11 in /usr/local/lib/python3.7/dist-packages (from libpysal) (1.4.1)\n",
            "Requirement already satisfied: numpy>=1.3 in /usr/local/lib/python3.7/dist-packages (from libpysal) (1.19.5)\n",
            "Requirement already satisfied: jinja2 in /usr/local/lib/python3.7/dist-packages (from libpysal) (2.11.3)\n",
            "Requirement already satisfied: python-dateutil>=2.7.3 in /usr/local/lib/python3.7/dist-packages (from pandas->libpysal) (2.8.1)\n",
            "Requirement already satisfied: pytz>=2017.2 in /usr/local/lib/python3.7/dist-packages (from pandas->libpysal) (2018.9)\n",
            "Requirement already satisfied: certifi>=2017.4.17 in /usr/local/lib/python3.7/dist-packages (from requests->libpysal) (2020.12.5)\n",
            "Requirement already satisfied: chardet<4,>=3.0.2 in /usr/local/lib/python3.7/dist-packages (from requests->libpysal) (3.0.4)\n",
            "Requirement already satisfied: idna<3,>=2.5 in /usr/local/lib/python3.7/dist-packages (from requests->libpysal) (2.10)\n",
            "Requirement already satisfied: urllib3!=1.25.0,!=1.25.1,<1.26,>=1.21.1 in /usr/local/lib/python3.7/dist-packages (from requests->libpysal) (1.24.3)\n",
            "Requirement already satisfied: MarkupSafe>=0.23 in /usr/local/lib/python3.7/dist-packages (from jinja2->libpysal) (2.0.1)\n",
            "Requirement already satisfied: six>=1.5 in /usr/local/lib/python3.7/dist-packages (from python-dateutil>=2.7.3->pandas->libpysal) (1.15.0)\n"
          ],
          "name": "stdout"
        }
      ]
    },
    {
      "cell_type": "code",
      "metadata": {
        "colab": {
          "base_uri": "https://localhost:8080/"
        },
        "id": "ZqSDn7jaYi9_",
        "outputId": "5a2b35ba-df43-42e9-bc15-48fb834a8544"
      },
      "source": [
        "!pip install splot\n"
      ],
      "execution_count": 36,
      "outputs": [
        {
          "output_type": "stream",
          "text": [
            "Requirement already satisfied: splot in /usr/local/lib/python3.7/dist-packages (1.1.3)\n",
            "Requirement already satisfied: seaborn in /usr/local/lib/python3.7/dist-packages (from splot) (0.11.1)\n",
            "Requirement already satisfied: numpy in /usr/local/lib/python3.7/dist-packages (from splot) (1.19.5)\n",
            "Requirement already satisfied: mapclassify in /usr/local/lib/python3.7/dist-packages (from splot) (2.4.2)\n",
            "Requirement already satisfied: spreg in /usr/local/lib/python3.7/dist-packages (from splot) (1.2.2)\n",
            "Requirement already satisfied: descartes in /usr/local/lib/python3.7/dist-packages (from splot) (1.1.0)\n",
            "Requirement already satisfied: matplotlib in /usr/local/lib/python3.7/dist-packages (from splot) (3.2.2)\n",
            "Requirement already satisfied: esda in /usr/local/lib/python3.7/dist-packages (from splot) (2.3.6)\n",
            "Requirement already satisfied: geopandas>=0.4.0 in /usr/local/lib/python3.7/dist-packages (from splot) (0.9.0)\n",
            "Requirement already satisfied: libpysal in /usr/local/lib/python3.7/dist-packages (from splot) (4.4.0)\n",
            "Requirement already satisfied: giddy in /usr/local/lib/python3.7/dist-packages (from splot) (2.3.3)\n",
            "Requirement already satisfied: scipy>=1.0 in /usr/local/lib/python3.7/dist-packages (from seaborn->splot) (1.4.1)\n",
            "Requirement already satisfied: pandas>=0.23 in /usr/local/lib/python3.7/dist-packages (from seaborn->splot) (1.1.5)\n",
            "Requirement already satisfied: scikit-learn in /usr/local/lib/python3.7/dist-packages (from mapclassify->splot) (0.22.2.post1)\n",
            "Requirement already satisfied: networkx in /usr/local/lib/python3.7/dist-packages (from mapclassify->splot) (2.5.1)\n",
            "Requirement already satisfied: kiwisolver>=1.0.1 in /usr/local/lib/python3.7/dist-packages (from matplotlib->splot) (1.3.1)\n",
            "Requirement already satisfied: pyparsing!=2.0.4,!=2.1.2,!=2.1.6,>=2.0.1 in /usr/local/lib/python3.7/dist-packages (from matplotlib->splot) (2.4.7)\n",
            "Requirement already satisfied: cycler>=0.10 in /usr/local/lib/python3.7/dist-packages (from matplotlib->splot) (0.10.0)\n",
            "Requirement already satisfied: python-dateutil>=2.1 in /usr/local/lib/python3.7/dist-packages (from matplotlib->splot) (2.8.1)\n",
            "Requirement already satisfied: fiona>=1.8 in /usr/local/lib/python3.7/dist-packages (from geopandas>=0.4.0->splot) (1.8.20)\n",
            "Requirement already satisfied: pyproj>=2.2.0 in /usr/local/lib/python3.7/dist-packages (from geopandas>=0.4.0->splot) (3.1.0)\n",
            "Requirement already satisfied: shapely>=1.6 in /usr/local/lib/python3.7/dist-packages (from geopandas>=0.4.0->splot) (1.7.1)\n",
            "Requirement already satisfied: beautifulsoup4 in /usr/local/lib/python3.7/dist-packages (from libpysal->splot) (4.6.3)\n",
            "Requirement already satisfied: requests in /usr/local/lib/python3.7/dist-packages (from libpysal->splot) (2.23.0)\n",
            "Requirement already satisfied: jinja2 in /usr/local/lib/python3.7/dist-packages (from libpysal->splot) (2.11.3)\n",
            "Requirement already satisfied: quantecon>=0.4.7 in /usr/local/lib/python3.7/dist-packages (from giddy->splot) (0.5.0)\n",
            "Requirement already satisfied: pytz>=2017.2 in /usr/local/lib/python3.7/dist-packages (from pandas>=0.23->seaborn->splot) (2018.9)\n",
            "Requirement already satisfied: joblib>=0.11 in /usr/local/lib/python3.7/dist-packages (from scikit-learn->mapclassify->splot) (1.0.1)\n",
            "Requirement already satisfied: decorator<5,>=4.3 in /usr/local/lib/python3.7/dist-packages (from networkx->mapclassify->splot) (4.4.2)\n",
            "Requirement already satisfied: six in /usr/local/lib/python3.7/dist-packages (from cycler>=0.10->matplotlib->splot) (1.15.0)\n",
            "Requirement already satisfied: certifi in /usr/local/lib/python3.7/dist-packages (from fiona>=1.8->geopandas>=0.4.0->splot) (2020.12.5)\n",
            "Requirement already satisfied: click-plugins>=1.0 in /usr/local/lib/python3.7/dist-packages (from fiona>=1.8->geopandas>=0.4.0->splot) (1.1.1)\n",
            "Requirement already satisfied: cligj>=0.5 in /usr/local/lib/python3.7/dist-packages (from fiona>=1.8->geopandas>=0.4.0->splot) (0.7.2)\n",
            "Requirement already satisfied: click>=4.0 in /usr/local/lib/python3.7/dist-packages (from fiona>=1.8->geopandas>=0.4.0->splot) (7.1.2)\n",
            "Requirement already satisfied: munch in /usr/local/lib/python3.7/dist-packages (from fiona>=1.8->geopandas>=0.4.0->splot) (2.5.0)\n",
            "Requirement already satisfied: attrs>=17 in /usr/local/lib/python3.7/dist-packages (from fiona>=1.8->geopandas>=0.4.0->splot) (21.2.0)\n",
            "Requirement already satisfied: setuptools in /usr/local/lib/python3.7/dist-packages (from fiona>=1.8->geopandas>=0.4.0->splot) (57.0.0)\n",
            "Requirement already satisfied: chardet<4,>=3.0.2 in /usr/local/lib/python3.7/dist-packages (from requests->libpysal->splot) (3.0.4)\n",
            "Requirement already satisfied: urllib3!=1.25.0,!=1.25.1,<1.26,>=1.21.1 in /usr/local/lib/python3.7/dist-packages (from requests->libpysal->splot) (1.24.3)\n",
            "Requirement already satisfied: idna<3,>=2.5 in /usr/local/lib/python3.7/dist-packages (from requests->libpysal->splot) (2.10)\n",
            "Requirement already satisfied: MarkupSafe>=0.23 in /usr/local/lib/python3.7/dist-packages (from jinja2->libpysal->splot) (2.0.1)\n",
            "Requirement already satisfied: sympy in /usr/local/lib/python3.7/dist-packages (from quantecon>=0.4.7->giddy->splot) (1.7.1)\n",
            "Requirement already satisfied: numba>=0.38 in /usr/local/lib/python3.7/dist-packages (from quantecon>=0.4.7->giddy->splot) (0.51.2)\n",
            "Requirement already satisfied: mpmath>=0.19 in /usr/local/lib/python3.7/dist-packages (from sympy->quantecon>=0.4.7->giddy->splot) (1.2.1)\n",
            "Requirement already satisfied: llvmlite<0.35,>=0.34.0.dev0 in /usr/local/lib/python3.7/dist-packages (from numba>=0.38->quantecon>=0.4.7->giddy->splot) (0.34.0)\n"
          ],
          "name": "stdout"
        }
      ]
    },
    {
      "cell_type": "code",
      "metadata": {
        "colab": {
          "base_uri": "https://localhost:8080/"
        },
        "id": "afig-8CRwH_d",
        "outputId": "1b7bcbea-9c12-4700-ec61-8fa6aff64fc6"
      },
      "source": [
        "!pip install esda\n",
        "import esda"
      ],
      "execution_count": 37,
      "outputs": [
        {
          "output_type": "stream",
          "text": [
            "Requirement already satisfied: esda in /usr/local/lib/python3.7/dist-packages (2.3.6)\n",
            "Requirement already satisfied: scipy>=0.11 in /usr/local/lib/python3.7/dist-packages (from esda) (1.4.1)\n",
            "Requirement already satisfied: libpysal in /usr/local/lib/python3.7/dist-packages (from esda) (4.4.0)\n",
            "Requirement already satisfied: scikit-learn in /usr/local/lib/python3.7/dist-packages (from esda) (0.22.2.post1)\n",
            "Requirement already satisfied: pandas in /usr/local/lib/python3.7/dist-packages (from esda) (1.1.5)\n",
            "Requirement already satisfied: numpy>=1.13.3 in /usr/local/lib/python3.7/dist-packages (from scipy>=0.11->esda) (1.19.5)\n",
            "Requirement already satisfied: beautifulsoup4 in /usr/local/lib/python3.7/dist-packages (from libpysal->esda) (4.6.3)\n",
            "Requirement already satisfied: requests in /usr/local/lib/python3.7/dist-packages (from libpysal->esda) (2.23.0)\n",
            "Requirement already satisfied: jinja2 in /usr/local/lib/python3.7/dist-packages (from libpysal->esda) (2.11.3)\n",
            "Requirement already satisfied: joblib>=0.11 in /usr/local/lib/python3.7/dist-packages (from scikit-learn->esda) (1.0.1)\n",
            "Requirement already satisfied: python-dateutil>=2.7.3 in /usr/local/lib/python3.7/dist-packages (from pandas->esda) (2.8.1)\n",
            "Requirement already satisfied: pytz>=2017.2 in /usr/local/lib/python3.7/dist-packages (from pandas->esda) (2018.9)\n",
            "Requirement already satisfied: certifi>=2017.4.17 in /usr/local/lib/python3.7/dist-packages (from requests->libpysal->esda) (2020.12.5)\n",
            "Requirement already satisfied: idna<3,>=2.5 in /usr/local/lib/python3.7/dist-packages (from requests->libpysal->esda) (2.10)\n",
            "Requirement already satisfied: urllib3!=1.25.0,!=1.25.1,<1.26,>=1.21.1 in /usr/local/lib/python3.7/dist-packages (from requests->libpysal->esda) (1.24.3)\n",
            "Requirement already satisfied: chardet<4,>=3.0.2 in /usr/local/lib/python3.7/dist-packages (from requests->libpysal->esda) (3.0.4)\n",
            "Requirement already satisfied: MarkupSafe>=0.23 in /usr/local/lib/python3.7/dist-packages (from jinja2->libpysal->esda) (2.0.1)\n",
            "Requirement already satisfied: six>=1.5 in /usr/local/lib/python3.7/dist-packages (from python-dateutil>=2.7.3->pandas->esda) (1.15.0)\n"
          ],
          "name": "stdout"
        }
      ]
    },
    {
      "cell_type": "code",
      "metadata": {
        "colab": {
          "base_uri": "https://localhost:8080/"
        },
        "id": "Te2MX2KXGnIC",
        "outputId": "338a7930-cbab-4f8a-b567-97c5cb7a166c"
      },
      "source": [
        "!pip install spreg"
      ],
      "execution_count": 57,
      "outputs": [
        {
          "output_type": "stream",
          "text": [
            "Requirement already satisfied: spreg in /usr/local/lib/python3.7/dist-packages (1.2.2)\n",
            "Requirement already satisfied: numpy>=1.3 in /usr/local/lib/python3.7/dist-packages (from spreg) (1.19.5)\n",
            "Requirement already satisfied: libpysal>=4.0.0 in /usr/local/lib/python3.7/dist-packages (from spreg) (4.4.0)\n",
            "Requirement already satisfied: scipy>=0.11 in /usr/local/lib/python3.7/dist-packages (from spreg) (1.4.1)\n",
            "Requirement already satisfied: pandas in /usr/local/lib/python3.7/dist-packages (from spreg) (1.1.5)\n",
            "Requirement already satisfied: jinja2 in /usr/local/lib/python3.7/dist-packages (from libpysal>=4.0.0->spreg) (2.11.3)\n",
            "Requirement already satisfied: beautifulsoup4 in /usr/local/lib/python3.7/dist-packages (from libpysal>=4.0.0->spreg) (4.6.3)\n",
            "Requirement already satisfied: requests in /usr/local/lib/python3.7/dist-packages (from libpysal>=4.0.0->spreg) (2.23.0)\n",
            "Requirement already satisfied: pytz>=2017.2 in /usr/local/lib/python3.7/dist-packages (from pandas->spreg) (2018.9)\n",
            "Requirement already satisfied: python-dateutil>=2.7.3 in /usr/local/lib/python3.7/dist-packages (from pandas->spreg) (2.8.1)\n",
            "Requirement already satisfied: MarkupSafe>=0.23 in /usr/local/lib/python3.7/dist-packages (from jinja2->libpysal>=4.0.0->spreg) (2.0.1)\n",
            "Requirement already satisfied: chardet<4,>=3.0.2 in /usr/local/lib/python3.7/dist-packages (from requests->libpysal>=4.0.0->spreg) (3.0.4)\n",
            "Requirement already satisfied: urllib3!=1.25.0,!=1.25.1,<1.26,>=1.21.1 in /usr/local/lib/python3.7/dist-packages (from requests->libpysal>=4.0.0->spreg) (1.24.3)\n",
            "Requirement already satisfied: idna<3,>=2.5 in /usr/local/lib/python3.7/dist-packages (from requests->libpysal>=4.0.0->spreg) (2.10)\n",
            "Requirement already satisfied: certifi>=2017.4.17 in /usr/local/lib/python3.7/dist-packages (from requests->libpysal>=4.0.0->spreg) (2020.12.5)\n",
            "Requirement already satisfied: six>=1.5 in /usr/local/lib/python3.7/dist-packages (from python-dateutil>=2.7.3->pandas->spreg) (1.15.0)\n"
          ],
          "name": "stdout"
        }
      ]
    },
    {
      "cell_type": "code",
      "metadata": {
        "id": "CtNIy8-JskDN"
      },
      "source": [
        "import geopandas as gpd"
      ],
      "execution_count": 38,
      "outputs": []
    },
    {
      "cell_type": "code",
      "metadata": {
        "id": "DeoUt738sgoV"
      },
      "source": [
        "from libpysal.weights import Queen, Rook, KNN, Kernel, DistanceBand"
      ],
      "execution_count": 39,
      "outputs": []
    },
    {
      "cell_type": "code",
      "metadata": {
        "id": "k-8Go6d2YpWa"
      },
      "source": [
        "from splot.libpysal import plot_spatial_weights"
      ],
      "execution_count": 40,
      "outputs": []
    },
    {
      "cell_type": "code",
      "metadata": {
        "id": "HBlHtTfYZOyz"
      },
      "source": [
        "import matplotlib.pyplot as plt\n"
      ],
      "execution_count": 41,
      "outputs": []
    },
    {
      "cell_type": "code",
      "metadata": {
        "id": "Y3KAC5JZZT9K"
      },
      "source": [
        "from splot.esda import plot_moran"
      ],
      "execution_count": 42,
      "outputs": []
    },
    {
      "cell_type": "code",
      "metadata": {
        "id": "HAqJGanVTTkB"
      },
      "source": [
        "import pandas as pd"
      ],
      "execution_count": 83,
      "outputs": []
    },
    {
      "cell_type": "code",
      "metadata": {
        "id": "_vKJ5NaQE4B4"
      },
      "source": [
        "#import libpysal"
      ],
      "execution_count": 133,
      "outputs": []
    },
    {
      "cell_type": "markdown",
      "metadata": {
        "id": "ti3614NNCU4M"
      },
      "source": [
        "# Preparamos los datos\n",
        "Por una limitación de la versión de Colab con la que trabajamos aquí (cantidad de RAM), no podremos correr las medidas espaciales en toda la base de datos, asi que vamos a trabajar con una muestra de datos para CABA. "
      ]
    },
    {
      "cell_type": "code",
      "metadata": {
        "id": "arTGn5DrqvH7"
      },
      "source": [
        "departamentos=gpd.GeoDataFrame.from_file(\"https://github.com/rpasquini/urban-econometrics/blob/master/data/departamentos2019amba.zip?raw=true\")"
      ],
      "execution_count": 43,
      "outputs": []
    },
    {
      "cell_type": "code",
      "metadata": {
        "id": "NMk5g3wYtbw7"
      },
      "source": [
        "departamentosCABA=departamentos.loc[departamentos.l2=='Capital Federal']"
      ],
      "execution_count": 44,
      "outputs": []
    },
    {
      "cell_type": "code",
      "metadata": {
        "colab": {
          "base_uri": "https://localhost:8080/",
          "height": 282
        },
        "id": "f1_EMy38trVo",
        "outputId": "96ae7927-1e28-4922-812b-0ee38abb4a7c"
      },
      "source": [
        "departamentosCABA.plot()"
      ],
      "execution_count": 45,
      "outputs": [
        {
          "output_type": "execute_result",
          "data": {
            "text/plain": [
              "<matplotlib.axes._subplots.AxesSubplot at 0x7f893a0474d0>"
            ]
          },
          "metadata": {
            "tags": []
          },
          "execution_count": 45
        },
        {
          "output_type": "display_data",
          "data": {
            "image/png": "[encoded data removed]",
            "text/plain": [
              "<Figure size 432x288 with 1 Axes>"
            ]
          },
          "metadata": {
            "tags": [],
            "needs_background": "light"
          }
        }
      ]
    },
    {
      "cell_type": "code",
      "metadata": {
        "colab": {
          "base_uri": "https://localhost:8080/",
          "height": 265
        },
        "id": "RXJgUSa7uQ1Z",
        "outputId": "70a85130-e840-4f73-adfc-94bce5197c98"
      },
      "source": [
        "departamentosCABA.iloc[0:500].plot(column='price')\n",
        "#primeros 500 datos\n",
        "departamentosCABA2=departamentosCABA.iloc[0:500]\n",
        "#elimino outliers para este ejemplo\n",
        "departamentosCABA2=departamentosCABA2.loc[departamentosCABA2.price<80000]\n",
        "departamentosCABA2=departamentosCABA2[['price','bedrooms','geometry']].dropna()"
      ],
      "execution_count": 46,
      "outputs": [
        {
          "output_type": "display_data",
          "data": {
            "image/png": "[encoded data removed]",
            "text/plain": [
              "<Figure size 432x288 with 1 Axes>"
            ]
          },
          "metadata": {
            "tags": [],
            "needs_background": "light"
          }
        }
      ]
    },
    {
      "cell_type": "code",
      "metadata": {
        "colab": {
          "base_uri": "https://localhost:8080/",
          "height": 282
        },
        "id": "cneZflVSZpwp",
        "outputId": "c6073ce0-fb3c-46cf-d357-af128347c55c"
      },
      "source": [
        "departamentosCABA2.price.hist()"
      ],
      "execution_count": 47,
      "outputs": [
        {
          "output_type": "execute_result",
          "data": {
            "text/plain": [
              "<matplotlib.axes._subplots.AxesSubplot at 0x7f893a0580d0>"
            ]
          },
          "metadata": {
            "tags": []
          },
          "execution_count": 47
        },
        {
          "output_type": "display_data",
          "data": {
            "image/png": "[encoded data removed]",
            "text/plain": [
              "<Figure size 432x288 with 1 Axes>"
            ]
          },
          "metadata": {
            "tags": [],
            "needs_background": "light"
          }
        }
      ]
    },
    {
      "cell_type": "markdown",
      "metadata": {
        "id": "r7INWBxtC1yu"
      },
      "source": [
        "# Matriz de pesos espaciales"
      ]
    },
    {
      "cell_type": "markdown",
      "metadata": {
        "id": "5mEenRbSP-8T"
      },
      "source": [
        "La matriz de pesos es el objeto en donde representamos las relaciones entre las observaciones. El contenido de la matriz depende de la forma que establezcamos para medir la dependencia espacial. \n",
        "\n",
        "Cuando trabajamos con poligonos (por ejemplo partidos o  radios censales) es natural definir relaciones basadas en la contiguidad. \n",
        "\n",
        "En este caso, en cambio, como  trabajamos con puntos, lo razonable es que la medida se base en distancias relativas.\n",
        "\n",
        "Pysal tiene varias funcionalidades para implementar pesos. Los pesos por distancia  (DistanceBand) van a considerar la cantidad de vecinos para una distancia determinada.\n",
        "\n",
        "Tener en cuenta también que el threshold esta definido de acuerdo a la proyección en la que estén los datos.\n"
      ]
    },
    {
      "cell_type": "code",
      "metadata": {
        "colab": {
          "base_uri": "https://localhost:8080/"
        },
        "id": "X4xuQ8UURRK1",
        "outputId": "5da357c4-86d4-42d1-b5b2-bbed67678d32"
      },
      "source": [
        "# Con el medodo from_dataframe puedo generar directamente los weights usando un threshold (distancia maxima) determinada\n",
        "wdistance=DistanceBand.from_dataframe(departamentosCABA2, threshold=1000)"
      ],
      "execution_count": 157,
      "outputs": [
        {
          "output_type": "stream",
          "text": [
            "/usr/local/lib/python3.7/dist-packages/libpysal/weights/weights.py:172: UserWarning: The weights matrix is not fully connected: \n",
            " There are 20 disconnected components.\n",
            " There are 14 islands with ids: 79, 193, 226, 247, 263, 357, 439, 468, 469, 540, 558, 567, 594, 727.\n",
            "  warnings.warn(message)\n"
          ],
          "name": "stderr"
        }
      ]
    },
    {
      "cell_type": "code",
      "metadata": {
        "colab": {
          "base_uri": "https://localhost:8080/"
        },
        "id": "X9bkJGhWUTqp",
        "outputId": "fb5eac5e-fb5a-4335-9bd7-eaedca48972a"
      },
      "source": [
        "wdistance"
      ],
      "execution_count": 158,
      "outputs": [
        {
          "output_type": "execute_result",
          "data": {
            "text/plain": [
              "<libpysal.weights.distance.DistanceBand at 0x7f89348b0bd0>"
            ]
          },
          "metadata": {
            "tags": []
          },
          "execution_count": 158
        }
      ]
    },
    {
      "cell_type": "code",
      "metadata": {
        "colab": {
          "base_uri": "https://localhost:8080/"
        },
        "id": "wZfN3GXwTYxd",
        "outputId": "f51ec09f-5254-48f2-ac93-16c57d8b751d"
      },
      "source": [
        "# cardinalities define el número de vecinos\n",
        "len(wdistance.cardinalities)"
      ],
      "execution_count": 104,
      "outputs": [
        {
          "output_type": "execute_result",
          "data": {
            "text/plain": [
              "232"
            ]
          },
          "metadata": {
            "tags": []
          },
          "execution_count": 104
        }
      ]
    },
    {
      "cell_type": "code",
      "metadata": {
        "colab": {
          "base_uri": "https://localhost:8080/"
        },
        "id": "MOTWpmTsUYll",
        "outputId": "76e4d221-5d16-42e8-e59e-e4c7fb5362be"
      },
      "source": [
        "wdistance.cardinalities"
      ],
      "execution_count": 105,
      "outputs": [
        {
          "output_type": "execute_result",
          "data": {
            "text/plain": [
              "{0: 76,\n",
              " 2: 53,\n",
              " 4: 44,\n",
              " 54: 74,\n",
              " 56: 53,\n",
              " 57: 62,\n",
              " 58: 76,\n",
              " 64: 102,\n",
              " 67: 114,\n",
              " 68: 115,\n",
              " 69: 113,\n",
              " 70: 112,\n",
              " 71: 92,\n",
              " 75: 61,\n",
              " 77: 62,\n",
              " 78: 57,\n",
              " 79: 12,\n",
              " 81: 84,\n",
              " 85: 75,\n",
              " 112: 98,\n",
              " 117: 59,\n",
              " 119: 98,\n",
              " 120: 62,\n",
              " 121: 62,\n",
              " 124: 18,\n",
              " 126: 32,\n",
              " 134: 13,\n",
              " 137: 40,\n",
              " 138: 14,\n",
              " 164: 48,\n",
              " 165: 55,\n",
              " 176: 96,\n",
              " 177: 114,\n",
              " 180: 115,\n",
              " 184: 104,\n",
              " 186: 80,\n",
              " 189: 90,\n",
              " 190: 93,\n",
              " 191: 62,\n",
              " 192: 26,\n",
              " 193: 6,\n",
              " 194: 68,\n",
              " 195: 67,\n",
              " 196: 60,\n",
              " 197: 68,\n",
              " 198: 56,\n",
              " 203: 77,\n",
              " 206: 24,\n",
              " 207: 25,\n",
              " 208: 98,\n",
              " 209: 102,\n",
              " 210: 90,\n",
              " 215: 84,\n",
              " 226: 68,\n",
              " 228: 27,\n",
              " 238: 104,\n",
              " 239: 109,\n",
              " 245: 74,\n",
              " 247: 2,\n",
              " 248: 63,\n",
              " 249: 33,\n",
              " 250: 38,\n",
              " 252: 23,\n",
              " 253: 46,\n",
              " 255: 36,\n",
              " 256: 33,\n",
              " 263: 8,\n",
              " 264: 14,\n",
              " 296: 95,\n",
              " 300: 14,\n",
              " 306: 25,\n",
              " 309: 18,\n",
              " 310: 45,\n",
              " 311: 29,\n",
              " 314: 55,\n",
              " 316: 65,\n",
              " 317: 87,\n",
              " 318: 99,\n",
              " 319: 68,\n",
              " 325: 109,\n",
              " 326: 101,\n",
              " 327: 91,\n",
              " 328: 115,\n",
              " 329: 99,\n",
              " 330: 84,\n",
              " 331: 92,\n",
              " 333: 114,\n",
              " 334: 98,\n",
              " 335: 92,\n",
              " 336: 94,\n",
              " 337: 98,\n",
              " 338: 97,\n",
              " 339: 103,\n",
              " 340: 98,\n",
              " 341: 84,\n",
              " 342: 89,\n",
              " 343: 87,\n",
              " 344: 88,\n",
              " 346: 109,\n",
              " 348: 95,\n",
              " 349: 97,\n",
              " 350: 102,\n",
              " 351: 101,\n",
              " 352: 94,\n",
              " 354: 82,\n",
              " 357: 11,\n",
              " 358: 63,\n",
              " 360: 50,\n",
              " 361: 64,\n",
              " 362: 64,\n",
              " 364: 67,\n",
              " 366: 81,\n",
              " 370: 26,\n",
              " 371: 93,\n",
              " 372: 84,\n",
              " 373: 77,\n",
              " 375: 91,\n",
              " 376: 109,\n",
              " 377: 85,\n",
              " 378: 83,\n",
              " 379: 66,\n",
              " 383: 81,\n",
              " 386: 52,\n",
              " 388: 42,\n",
              " 389: 35,\n",
              " 391: 7,\n",
              " 394: 71,\n",
              " 416: 9,\n",
              " 419: 100,\n",
              " 420: 101,\n",
              " 421: 107,\n",
              " 422: 93,\n",
              " 425: 98,\n",
              " 426: 93,\n",
              " 427: 104,\n",
              " 428: 100,\n",
              " 431: 72,\n",
              " 434: 65,\n",
              " 435: 55,\n",
              " 437: 70,\n",
              " 439: 5,\n",
              " 440: 31,\n",
              " 441: 27,\n",
              " 442: 25,\n",
              " 443: 35,\n",
              " 447: 31,\n",
              " 463: 13,\n",
              " 467: 72,\n",
              " 468: 18,\n",
              " 469: 18,\n",
              " 477: 13,\n",
              " 487: 37,\n",
              " 492: 56,\n",
              " 493: 60,\n",
              " 495: 45,\n",
              " 496: 105,\n",
              " 501: 103,\n",
              " 502: 101,\n",
              " 503: 113,\n",
              " 504: 111,\n",
              " 505: 65,\n",
              " 506: 110,\n",
              " 512: 77,\n",
              " 516: 80,\n",
              " 519: 114,\n",
              " 520: 96,\n",
              " 522: 62,\n",
              " 523: 62,\n",
              " 524: 65,\n",
              " 526: 64,\n",
              " 528: 70,\n",
              " 529: 42,\n",
              " 532: 51,\n",
              " 533: 50,\n",
              " 534: 56,\n",
              " 535: 42,\n",
              " 536: 42,\n",
              " 538: 84,\n",
              " 539: 11,\n",
              " 540: 10,\n",
              " 541: 100,\n",
              " 542: 93,\n",
              " 543: 89,\n",
              " 545: 102,\n",
              " 547: 77,\n",
              " 550: 106,\n",
              " 551: 114,\n",
              " 552: 91,\n",
              " 555: 70,\n",
              " 558: 41,\n",
              " 559: 79,\n",
              " 560: 36,\n",
              " 564: 14,\n",
              " 565: 41,\n",
              " 567: 3,\n",
              " 568: 51,\n",
              " 571: 51,\n",
              " 573: 26,\n",
              " 574: 29,\n",
              " 575: 64,\n",
              " 588: 107,\n",
              " 590: 102,\n",
              " 591: 102,\n",
              " 594: 8,\n",
              " 596: 51,\n",
              " 598: 56,\n",
              " 599: 83,\n",
              " 600: 31,\n",
              " 601: 28,\n",
              " 602: 23,\n",
              " 603: 24,\n",
              " 604: 31,\n",
              " 606: 42,\n",
              " 607: 62,\n",
              " 608: 28,\n",
              " 609: 28,\n",
              " 610: 29,\n",
              " 651: 100,\n",
              " 657: 53,\n",
              " 658: 67,\n",
              " 666: 34,\n",
              " 697: 63,\n",
              " 698: 105,\n",
              " 707: 10,\n",
              " 709: 14,\n",
              " 711: 9,\n",
              " 719: 42,\n",
              " 721: 45,\n",
              " 724: 29,\n",
              " 725: 73,\n",
              " 727: 3,\n",
              " 730: 112}"
            ]
          },
          "metadata": {
            "tags": []
          },
          "execution_count": 105
        }
      ]
    },
    {
      "cell_type": "code",
      "metadata": {
        "colab": {
          "base_uri": "https://localhost:8080/",
          "height": 282
        },
        "id": "nRS3XFHjSqPZ",
        "outputId": "a8f668af-50b1-4fa7-f594-3fb05391e0a6"
      },
      "source": [
        "#distanceband.histogram\n",
        "pd.Series(wdistance.cardinalities).plot.hist(bins=9)"
      ],
      "execution_count": 160,
      "outputs": [
        {
          "output_type": "execute_result",
          "data": {
            "text/plain": [
              "<matplotlib.axes._subplots.AxesSubplot at 0x7f8932da9c50>"
            ]
          },
          "metadata": {
            "tags": []
          },
          "execution_count": 160
        },
        {
          "output_type": "display_data",
          "data": {
            "image/png": "[encoded data removed]",
            "text/plain": [
              "<Figure size 432x288 with 1 Axes>"
            ]
          },
          "metadata": {
            "tags": [],
            "needs_background": "light"
          }
        }
      ]
    },
    {
      "cell_type": "markdown",
      "metadata": {
        "id": "qRfSlS7neKMN"
      },
      "source": [
        "Representacion espacial uniendo al número de vecinos"
      ]
    },
    {
      "cell_type": "code",
      "metadata": {
        "colab": {
          "base_uri": "https://localhost:8080/",
          "height": 626
        },
        "id": "0BNPvfzbd0fE",
        "outputId": "d41ee838-1b41-42ec-aba0-f0fa2c82b436"
      },
      "source": [
        "# el método plot permite una representacion grafica\n",
        "fig, ax = plt.subplots(figsize=(10, 10))\n",
        "wdistance.plot(departamentosCABA2, ax=ax)"
      ],
      "execution_count": 159,
      "outputs": [
        {
          "output_type": "execute_result",
          "data": {
            "text/plain": [
              "(<Figure size 720x720 with 1 Axes>,\n",
              " <matplotlib.axes._subplots.AxesSubplot at 0x7f8933440e10>)"
            ]
          },
          "metadata": {
            "tags": []
          },
          "execution_count": 159
        },
        {
          "output_type": "display_data",
          "data": {
            "image/png": "[encoded data removed]",
            "text/plain": [
              "<Figure size 720x720 with 1 Axes>"
            ]
          },
          "metadata": {
            "tags": [],
            "needs_background": "light"
          }
        }
      ]
    },
    {
      "cell_type": "code",
      "metadata": {
        "colab": {
          "base_uri": "https://localhost:8080/"
        },
        "id": "apuJ3siYdgo5",
        "outputId": "61128711-6c01-44b8-cde9-fa2b26f16769"
      },
      "source": [
        "kernelWa = Kernel.from_dataframe(departamentosCABA2, k=10, fixed=False, function='gaussian', diagonal=True)\n",
        "kernelWa"
      ],
      "execution_count": 70,
      "outputs": [
        {
          "output_type": "execute_result",
          "data": {
            "text/plain": [
              "<libpysal.weights.distance.Kernel at 0x7f893a024390>"
            ]
          },
          "metadata": {
            "tags": []
          },
          "execution_count": 70
        }
      ]
    },
    {
      "cell_type": "markdown",
      "metadata": {
        "id": "TorS14J9C6J4"
      },
      "source": [
        "# Moran"
      ]
    },
    {
      "cell_type": "markdown",
      "metadata": {
        "id": "TkE404N8uto_"
      },
      "source": [
        "Concepto de rezago espacial\n",
        "$y^{lag}_{i}=\\sum w_iy_i$"
      ]
    },
    {
      "cell_type": "markdown",
      "metadata": {
        "id": "msmqSR60t3pK"
      },
      "source": [
        "El scatterplot de Moran muestra a la variable $y_i$ (eje x) contra su rezago espacial $y^{lag}_i$ (eje y). \n",
        "El estadistico de Moran es equivalente al coeficiente de la pendiente lineal de esta relación.\n",
        "Su intuición es simple: si hay una relación positiva entre la variable y sus rezagos espaciales es porque hay correlación espacial. "
      ]
    },
    {
      "cell_type": "code",
      "metadata": {
        "colab": {
          "base_uri": "https://localhost:8080/",
          "height": 374
        },
        "id": "s8oPG8mVY1p6",
        "outputId": "352db0e8-d6b8-4b16-fc98-c1989f52ef0f"
      },
      "source": [
        "plot_moran(mi, zstandard=True, figsize=(10,4))\n",
        "#plt.show()"
      ],
      "execution_count": 155,
      "outputs": [
        {
          "output_type": "execute_result",
          "data": {
            "text/plain": [
              "(<Figure size 720x288 with 2 Axes>,\n",
              " array([<matplotlib.axes._subplots.AxesSubplot object at 0x7f89357b0810>,\n",
              "        <matplotlib.axes._subplots.AxesSubplot object at 0x7f89357744d0>],\n",
              "       dtype=object))"
            ]
          },
          "metadata": {
            "tags": []
          },
          "execution_count": 155
        },
        {
          "output_type": "display_data",
          "data": {
            "image/png": "[encoded data removed]",
            "text/plain": [
              "<Figure size 720x288 with 2 Axes>"
            ]
          },
          "metadata": {
            "tags": [],
            "needs_background": "light"
          }
        }
      ]
    },
    {
      "cell_type": "markdown",
      "metadata": {
        "id": "F8peB66Vv5XN"
      },
      "source": [
        "El estadístico I de Moran es la pendiente de la regresión.\n"
      ]
    },
    {
      "cell_type": "code",
      "metadata": {
        "colab": {
          "base_uri": "https://localhost:8080/"
        },
        "id": "Gz-iDjjIBWeE",
        "outputId": "b2332f0c-d319-4fa6-bb2a-65d4ac257f6e"
      },
      "source": [
        "mi = esda.moran.Moran(departamentosCABA2.price, kernelWa)\n",
        "mi.I"
      ],
      "execution_count": 49,
      "outputs": [
        {
          "output_type": "execute_result",
          "data": {
            "text/plain": [
              "0.10754371168157624"
            ]
          },
          "metadata": {
            "tags": []
          },
          "execution_count": 49
        }
      ]
    },
    {
      "cell_type": "markdown",
      "metadata": {
        "id": "qKOBmUJ4iXzc"
      },
      "source": [
        "# Spatial Regression\n"
      ]
    },
    {
      "cell_type": "code",
      "metadata": {
        "id": "XTQiByY9GuY0"
      },
      "source": [
        "import spreg"
      ],
      "execution_count": 58,
      "outputs": []
    },
    {
      "cell_type": "code",
      "metadata": {
        "id": "h8ITCXn-JGhI"
      },
      "source": [
        "wdistance.transform = 'r'"
      ],
      "execution_count": 128,
      "outputs": []
    },
    {
      "cell_type": "markdown",
      "metadata": {
        "id": "hVhhECLYkcPz"
      },
      "source": [
        "el [método OLS de spreg](http://www.pysal.org/spreg/generated/spreg.OLS.html#spreg.OLS) permite correr una regresión OLS pero además correr algunos tests de Moran sobre los residuos\n"
      ]
    },
    {
      "cell_type": "code",
      "metadata": {
        "id": "XSzuUVAREhEY"
      },
      "source": [
        "name_y=\"price\"\n",
        "name_x=[\"bedrooms\"]\n",
        "results=spreg.OLS(departamentosCABA2.price.values[:, None], departamentosCABA2.bedrooms.values[:, None], w=wdistance, spat_diag=True, moran=True, name_y=name_y, name_x=name_x)"
      ],
      "execution_count": 152,
      "outputs": []
    },
    {
      "cell_type": "code",
      "metadata": {
        "colab": {
          "base_uri": "https://localhost:8080/"
        },
        "id": "U-bZgamRKTbY",
        "outputId": "3cea714a-dd50-4a25-c6a0-e72cb8af180f"
      },
      "source": [
        "print(results.summary)"
      ],
      "execution_count": 153,
      "outputs": [
        {
          "output_type": "stream",
          "text": [
            "REGRESSION\n",
            "----------\n",
            "SUMMARY OF OUTPUT: ORDINARY LEAST SQUARES\n",
            "-----------------------------------------\n",
            "Data set            :     unknown\n",
            "Weights matrix      :     unknown\n",
            "Dependent Variable  :       price                Number of Observations:         232\n",
            "Mean dependent var  :  17318.0172                Number of Variables   :           2\n",
            "S.D. dependent var  :   9950.5996                Degrees of Freedom    :         230\n",
            "R-squared           :      0.0012\n",
            "Adjusted R-squared  :     -0.0032\n",
            "Sum squared residual:22845554783.214                F-statistic           :      0.2696\n",
            "Sigma-square        :99328499.057                Prob(F-statistic)     :      0.6041\n",
            "S.E. of regression  :    9966.368                Log likelihood        :   -2464.207\n",
            "Sigma-square ML     :98472218.893                Akaike info criterion :    4932.414\n",
            "S.E of regression ML:   9923.3169                Schwarz criterion     :    4939.307\n",
            "\n",
            "------------------------------------------------------------------------------------\n",
            "            Variable     Coefficient       Std.Error     t-Statistic     Probability\n",
            "------------------------------------------------------------------------------------\n",
            "            CONSTANT    16640.3572939    1459.9547225      11.3978585       0.0000000\n",
            "            bedrooms     405.1987315     780.3786245       0.5192335       0.6040972\n",
            "------------------------------------------------------------------------------------\n",
            "\n",
            "REGRESSION DIAGNOSTICS\n",
            "MULTICOLLINEARITY CONDITION NUMBER            4.226\n",
            "\n",
            "TEST ON NORMALITY OF ERRORS\n",
            "TEST                             DF        VALUE           PROB\n",
            "Jarque-Bera                       2          32.299           0.0000\n",
            "\n",
            "DIAGNOSTICS FOR HETEROSKEDASTICITY\n",
            "RANDOM COEFFICIENTS\n",
            "TEST                             DF        VALUE           PROB\n",
            "Breusch-Pagan test                1          30.519           0.0000\n",
            "Koenker-Bassett test              1          18.265           0.0000\n",
            "\n",
            "DIAGNOSTICS FOR SPATIAL DEPENDENCE\n",
            "TEST                           MI/DF       VALUE           PROB\n",
            "Moran's I (error)             -0.0206         1.143           0.2531\n",
            "Lagrange Multiplier (lag)         1           1.829           0.1762\n",
            "Robust LM (lag)                   1           0.254           0.6141\n",
            "Lagrange Multiplier (error)       1           1.786           0.1815\n",
            "Robust LM (error)                 1           0.211           0.6463\n",
            "Lagrange Multiplier (SARMA)       2           2.040           0.3606\n",
            "\n",
            "================================ END OF REPORT =====================================\n"
          ],
          "name": "stdout"
        }
      ]
    },
    {
      "cell_type": "code",
      "metadata": {
        "colab": {
          "base_uri": "https://localhost:8080/"
        },
        "id": "gOjTcVakjt-t",
        "outputId": "c35b7bb3-a3d4-4395-d79e-933d261cca7b"
      },
      "source": [
        "print( 'moran', results.moran_res[0])\n",
        "print( 'standarized value', results.moran_res[1])\n",
        "print( 'pvalue', results.moran_res[2])"
      ],
      "execution_count": 138,
      "outputs": [
        {
          "output_type": "stream",
          "text": [
            "moran -0.020602028117054784\n",
            "standarized value 1.1428656053789916\n",
            "pvalue 0.2530943948247649\n"
          ],
          "name": "stdout"
        }
      ]
    },
    {
      "cell_type": "code",
      "metadata": {
        "colab": {
          "base_uri": "https://localhost:8080/"
        },
        "id": "BDntcggvl7HL",
        "outputId": "be7a612b-e696-46cc-9054-f4d4dfed00d9"
      },
      "source": [
        "import statsmodels.api as sm\n",
        "Y=departamentosCABA2.price\n",
        "X=departamentosCABA2.bedrooms\n",
        "X=sm.add_constant(X)\n",
        "modelo=sm.OLS(Y,X)\n",
        "resultados=modelo.fit()\n",
        "print (resultados.summary())"
      ],
      "execution_count": 145,
      "outputs": [
        {
          "output_type": "stream",
          "text": [
            "                            OLS Regression Results                            \n",
            "==============================================================================\n",
            "Dep. Variable:                  price   R-squared:                       0.001\n",
            "Model:                            OLS   Adj. R-squared:                 -0.003\n",
            "Method:                 Least Squares   F-statistic:                    0.2696\n",
            "Date:                Wed, 09 Jun 2021   Prob (F-statistic):              0.604\n",
            "Time:                        16:27:24   Log-Likelihood:                -2464.2\n",
            "No. Observations:                 232   AIC:                             4932.\n",
            "Df Residuals:                     230   BIC:                             4939.\n",
            "Df Model:                           1                                         \n",
            "Covariance Type:            nonrobust                                         \n",
            "==============================================================================\n",
            "                 coef    std err          t      P>|t|      [0.025      0.975]\n",
            "------------------------------------------------------------------------------\n",
            "const       1.664e+04   1459.955     11.398      0.000    1.38e+04    1.95e+04\n",
            "bedrooms     405.1987    780.379      0.519      0.604   -1132.406    1942.804\n",
            "==============================================================================\n",
            "Omnibus:                       22.580   Durbin-Watson:                   1.739\n",
            "Prob(Omnibus):                  0.000   Jarque-Bera (JB):               32.299\n",
            "Skew:                           0.621   Prob(JB):                     9.69e-08\n",
            "Kurtosis:                       4.342   Cond. No.                         5.17\n",
            "==============================================================================\n",
            "\n",
            "Warnings:\n",
            "[1] Standard Errors assume that the covariance matrix of the errors is correctly specified.\n"
          ],
          "name": "stdout"
        }
      ]
    },
    {
      "cell_type": "markdown",
      "metadata": {
        "id": "hbvuxeePoTEY"
      },
      "source": [
        "# Regresión básica con un lag espacial (2SLS)\n",
        "$y=\\rho Wy+\\beta X+\\epsilon$ \\\\\n",
        "donde el primer termino representa al rezago espacial. \\\\\n",
        "$\\rho$ es el coeficiente del rezago \\\\\n",
        "W es la matriz de pesos espaciales \\\\\n",
        "X es la matriz de variables explicativas exógenas.\n",
        "\n",
        "Documentation(https://pysal.org/spreg/notebooks/GM_Lag_example.html)"
      ]
    },
    {
      "cell_type": "code",
      "metadata": {
        "colab": {
          "base_uri": "https://localhost:8080/"
        },
        "id": "yorOT758oFKv",
        "outputId": "871c6b9b-f9af-412a-9c75-dabad70550ac"
      },
      "source": [
        "name_y=\"price\"\n",
        "name_x=[\"bedrooms\"]\n",
        "model = spreg.GM_Lag(departamentosCABA2.price.values[:, None], departamentosCABA2.bedrooms.values[:, None], w=wdistance, name_y=name_y, name_x=name_x)\n",
        "print(model.summary)\n"
      ],
      "execution_count": 151,
      "outputs": [
        {
          "output_type": "stream",
          "text": [
            "REGRESSION\n",
            "----------\n",
            "SUMMARY OF OUTPUT: SPATIAL TWO STAGE LEAST SQUARES\n",
            "--------------------------------------------------\n",
            "Data set            :     unknown\n",
            "Weights matrix      :     unknown\n",
            "Dependent Variable  :       price                Number of Observations:         232\n",
            "Mean dependent var  :  17318.0172                Number of Variables   :           3\n",
            "S.D. dependent var  :   9950.5996                Degrees of Freedom    :         229\n",
            "Pseudo R-squared    :      0.0389\n",
            "Spatial Pseudo R-squared: omitted due to rho outside the boundary (-1, 1).\n",
            "------------------------------------------------------------------------------------\n",
            "            Variable     Coefficient       Std.Error     z-Statistic     Probability\n",
            "------------------------------------------------------------------------------------\n",
            "            CONSTANT    76374.0067304    117919.3243224       0.6476802       0.5171918\n",
            "            bedrooms     121.9855789     954.3142391       0.1278254       0.8982872\n",
            "             W_price      -3.4134717       6.7379772      -0.5066018       0.6124342\n",
            "------------------------------------------------------------------------------------\n",
            "Instrumented: W_price\n",
            "Instruments: W_bedrooms\n",
            "Warning: *** WARNING: Estimate for spatial lag coefficient is outside the boundary (-1, 1). ***\n",
            "================================ END OF REPORT =====================================\n"
          ],
          "name": "stdout"
        }
      ]
    }
  ]
}