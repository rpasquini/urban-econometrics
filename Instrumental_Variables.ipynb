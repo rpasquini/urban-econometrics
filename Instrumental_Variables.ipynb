{
  "nbformat": 4,
  "nbformat_minor": 0,
  "metadata": {
    "colab": {
      "name": "Instrumental Variables.ipynb",
      "provenance": [],
      "authorship_tag": "ABX9TyNCteJclQ611KeLBMhThRqs",
      "include_colab_link": true
    },
    "kernelspec": {
      "name": "python3",
      "display_name": "Python 3"
    }
  },
  "cells": [
    {
      "cell_type": "markdown",
      "metadata": {
        "id": "view-in-github",
        "colab_type": "text"
      },
      "source": [
        "<a href=\"https://colab.research.google.com/github/rpasquini/urban-econometrics/blob/master/Instrumental_Variables.ipynb\" target=\"_parent\"><img src=\"https://colab.research.google.com/assets/colab-badge.svg\" alt=\"Open In Colab\"/></a>"
      ]
    },
    {
      "cell_type": "code",
      "metadata": {
        "id": "hY9bRHWjU1Yx",
        "colab_type": "code",
        "colab": {
          "base_uri": "https://localhost:8080/",
          "height": 228
        },
        "outputId": "84b847e9-e339-4d43-e5ef-f3c2a67c4649"
      },
      "source": [
        "!pip install linearmodels\n",
        "import pandas as pd\n",
        "#import statsmodels.api as sm  \n",
        "#from scipy import stats  \n",
        "import numpy as np\n",
        "#from sklearn.neighbors import KNeighborsRegressor\n",
        "from linearmodels.iv import IV2SLS"
      ],
      "execution_count": 49,
      "outputs": [
        {
          "output_type": "stream",
          "text": [
            "Requirement already satisfied: linearmodels in /usr/local/lib/python3.6/dist-packages (4.17)\n",
            "Requirement already satisfied: scipy>=1 in /usr/local/lib/python3.6/dist-packages (from linearmodels) (1.4.1)\n",
            "Requirement already satisfied: pandas>=0.23 in /usr/local/lib/python3.6/dist-packages (from linearmodels) (1.0.5)\n",
            "Requirement already satisfied: patsy in /usr/local/lib/python3.6/dist-packages (from linearmodels) (0.5.1)\n",
            "Requirement already satisfied: Cython>=0.29.14 in /usr/local/lib/python3.6/dist-packages (from linearmodels) (0.29.21)\n",
            "Requirement already satisfied: mypy-extensions>=0.4 in /usr/local/lib/python3.6/dist-packages (from linearmodels) (0.4.3)\n",
            "Requirement already satisfied: property-cached>=1.6.3 in /usr/local/lib/python3.6/dist-packages (from linearmodels) (1.6.4)\n",
            "Requirement already satisfied: statsmodels>=0.9 in /usr/local/lib/python3.6/dist-packages (from linearmodels) (0.10.2)\n",
            "Requirement already satisfied: numpy>=1.15 in /usr/local/lib/python3.6/dist-packages (from linearmodels) (1.18.5)\n",
            "Requirement already satisfied: python-dateutil>=2.6.1 in /usr/local/lib/python3.6/dist-packages (from pandas>=0.23->linearmodels) (2.8.1)\n",
            "Requirement already satisfied: pytz>=2017.2 in /usr/local/lib/python3.6/dist-packages (from pandas>=0.23->linearmodels) (2018.9)\n",
            "Requirement already satisfied: six in /usr/local/lib/python3.6/dist-packages (from patsy->linearmodels) (1.15.0)\n"
          ],
          "name": "stdout"
        }
      ]
    },
    {
      "cell_type": "code",
      "metadata": {
        "id": "guJvuD6JURJk",
        "colab_type": "code",
        "colab": {}
      },
      "source": [
        "df=pd.read_csv('https://raw.githubusercontent.com/rpasquini/econometrics_and_causality/master/happiness_on_tap_extract.csv')"
      ],
      "execution_count": 50,
      "outputs": []
    },
    {
      "cell_type": "markdown",
      "metadata": {
        "id": "v7jqLY3hUX6j",
        "colab_type": "text"
      },
      "source": [
        "Extracto de datos de:\n",
        "\n",
        "[Devoto, F., Duflo, E., Dupas, P., Parienté, W., & Pons, V. (2012). Happiness on tap: piped water adoption in urban Morocco. American Economic Journal: Economic Policy, 4(4), 68-99.](https://web.stanford.edu/~pdupas/MoroccoWaterConnections.pdf)\n",
        "\n",
        "Las variables fueron modificadas para el proposito de este ejercicio.\n",
        "\n",
        "Descripción de variables\n",
        "\n",
        "motivacion: Dummy = 1 si el hogar recibió motivación para conexión \\\n",
        "conectado: Dummy = 1 si el hogar se conectó a la red de agua \\\n",
        "sexojefe:  1 Masculino, 2 Femenino \\\n",
        "edadjefe: Edad Jefe de Hogar \\\n",
        "jefesabeleer: Dummy=1 Jefe sabe leer \\\n",
        "jefesabeescribir: Dummy=1 Jefe sabe escribir \\\n",
        "pdiasfueaescuela: Porcentaje dias hijos fueron a la escuela."
      ]
    },
    {
      "cell_type": "code",
      "metadata": {
        "id": "O9RT3PdDUSAm",
        "colab_type": "code",
        "colab": {
          "base_uri": "https://localhost:8080/",
          "height": 175
        },
        "outputId": "2ff69c37-702f-43dc-eed6-5a228bea7919"
      },
      "source": [
        "from graphviz import Digraph\n",
        "\n",
        "dag = Digraph(engine='neato')\n",
        "dag.node('T', 'Conectado', pos='0,0!')\n",
        "dag.node('C', 'Confounder', pos='1,1!')\n",
        "dag.node('Y', 'Resultado', pos='2,0!')\n",
        "dag.node('Z', 'Motivacion',pos='-2,0!')\n",
        "\n",
        "dag.edges(['CT', 'CY','ZT', 'TY'])\n",
        "dag"
      ],
      "execution_count": 45,
      "outputs": [
        {
          "output_type": "execute_result",
          "data": {
            "text/plain": [
              "<graphviz.dot.Digraph at 0x7f0a1362ee80>"
            ],
            "image/svg+xml": "<?xml version=\"1.0\" encoding=\"UTF-8\" standalone=\"no\"?>\n<!DOCTYPE svg PUBLIC \"-//W3C//DTD SVG 1.1//EN\"\n \"http://www.w3.org/Graphics/SVG/1.1/DTD/svg11.dtd\">\n<!-- Generated by graphviz version 2.40.1 (20161225.0304)\n -->\n<!-- Title: %3 Pages: 1 -->\n<svg width=\"398pt\" height=\"116pt\"\n viewBox=\"0.00 0.00 398.04 116.00\" xmlns=\"http://www.w3.org/2000/svg\" xmlns:xlink=\"http://www.w3.org/1999/xlink\">\n<g id=\"graph0\" class=\"graph\" transform=\"scale(1 1) rotate(0) translate(4 112)\">\n<title>%3</title>\n<polygon fill=\"#ffffff\" stroke=\"transparent\" points=\"-4,4 -4,-112 394.0409,-112 394.0409,4 -4,4\"/>\n<!-- T -->\n<g id=\"node1\" class=\"node\">\n<title>T</title>\n<ellipse fill=\"none\" stroke=\"#000000\" cx=\"197.9452\" cy=\"-18\" rx=\"50.8918\" ry=\"18\"/>\n<text text-anchor=\"middle\" x=\"197.9452\" y=\"-14.3\" font-family=\"Times,serif\" font-size=\"14.00\" fill=\"#000000\">Conectado</text>\n</g>\n<!-- Y -->\n<g id=\"node3\" class=\"node\">\n<title>Y</title>\n<ellipse fill=\"none\" stroke=\"#000000\" cx=\"341.9452\" cy=\"-18\" rx=\"48.1917\" ry=\"18\"/>\n<text text-anchor=\"middle\" x=\"341.9452\" y=\"-14.3\" font-family=\"Times,serif\" font-size=\"14.00\" fill=\"#000000\">Resultado</text>\n</g>\n<!-- T&#45;&gt;Y -->\n<g id=\"edge4\" class=\"edge\">\n<title>T&#45;&gt;Y</title>\n<path fill=\"none\" stroke=\"#000000\" d=\"M248.7142,-18C259.8734,-18 271.7798,-18 283.2227,-18\"/>\n<polygon fill=\"#000000\" stroke=\"#000000\" points=\"283.5665,-21.5001 293.5665,-18 283.5665,-14.5001 283.5665,-21.5001\"/>\n</g>\n<!-- C -->\n<g id=\"node2\" class=\"node\">\n<title>C</title>\n<ellipse fill=\"none\" stroke=\"#000000\" cx=\"269.9452\" cy=\"-90\" rx=\"55.7903\" ry=\"18\"/>\n<text text-anchor=\"middle\" x=\"269.9452\" y=\"-86.3\" font-family=\"Times,serif\" font-size=\"14.00\" fill=\"#000000\">Confounder</text>\n</g>\n<!-- C&#45;&gt;T -->\n<g id=\"edge1\" class=\"edge\">\n<title>C&#45;&gt;T</title>\n<path fill=\"none\" stroke=\"#000000\" d=\"M252.516,-72.5708C243.4952,-63.55 232.3322,-52.387 222.4573,-42.5121\"/>\n<polygon fill=\"#000000\" stroke=\"#000000\" points=\"224.7599,-39.8649 215.2139,-35.2687 219.8101,-44.8147 224.7599,-39.8649\"/>\n</g>\n<!-- C&#45;&gt;Y -->\n<g id=\"edge2\" class=\"edge\">\n<title>C&#45;&gt;Y</title>\n<path fill=\"none\" stroke=\"#000000\" d=\"M287.3744,-72.5708C296.3952,-63.55 307.5582,-52.387 317.4331,-42.5121\"/>\n<polygon fill=\"#000000\" stroke=\"#000000\" points=\"320.0803,-44.8147 324.6765,-35.2687 315.1305,-39.8649 320.0803,-44.8147\"/>\n</g>\n<!-- Z -->\n<g id=\"node4\" class=\"node\">\n<title>Z</title>\n<ellipse fill=\"none\" stroke=\"#000000\" cx=\"53.9452\" cy=\"-18\" rx=\"53.8905\" ry=\"18\"/>\n<text text-anchor=\"middle\" x=\"53.9452\" y=\"-14.3\" font-family=\"Times,serif\" font-size=\"14.00\" fill=\"#000000\">Motivacion</text>\n</g>\n<!-- Z&#45;&gt;T -->\n<g id=\"edge3\" class=\"edge\">\n<title>Z&#45;&gt;T</title>\n<path fill=\"none\" stroke=\"#000000\" d=\"M107.9752,-18C117.3524,-18 127.164,-18 136.7168,-18\"/>\n<polygon fill=\"#000000\" stroke=\"#000000\" points=\"136.9482,-21.5001 146.9482,-18 136.9482,-14.5001 136.9482,-21.5001\"/>\n</g>\n</g>\n</svg>\n"
          },
          "metadata": {
            "tags": []
          },
          "execution_count": 45
        }
      ]
    },
    {
      "cell_type": "markdown",
      "metadata": {
        "id": "AElbtzOQUh63",
        "colab_type": "text"
      },
      "source": [
        "Vamos a computar primero el LATE a mano y luego utilizar una librería específica, que tiene la ventaja de reportar los errores estándares correctos.  [linear models](https://bashtage.github.io/linearmodels/)\n"
      ]
    },
    {
      "cell_type": "markdown",
      "metadata": {
        "id": "I5Ll8JvapjOL",
        "colab_type": "text"
      },
      "source": [
        "# LATE a mano\n"
      ]
    },
    {
      "cell_type": "markdown",
      "metadata": {
        "id": "F7SyAWhhrT4Q",
        "colab_type": "text"
      },
      "source": [
        "## First stage\n",
        "¿ Qué efectividad tuvo la motivación en la conexión?"
      ]
    },
    {
      "cell_type": "code",
      "metadata": {
        "id": "YQUIlvQppinn",
        "colab_type": "code",
        "colab": {
          "base_uri": "https://localhost:8080/",
          "height": 35
        },
        "outputId": "2ffefa02-73e9-4c7e-95ea-503d06d2ddc0"
      },
      "source": [
        "first_stage=df.loc[df.motivacion==1].conectado.mean()-df.loc[df.motivacion==0].conectado.mean()\n",
        "first_stage"
      ],
      "execution_count": 52,
      "outputs": [
        {
          "output_type": "execute_result",
          "data": {
            "text/plain": [
              "0.5972816511452304"
            ]
          },
          "metadata": {
            "tags": []
          },
          "execution_count": 52
        }
      ]
    },
    {
      "cell_type": "markdown",
      "metadata": {
        "id": "9Zz13FqYsCtA",
        "colab_type": "text"
      },
      "source": [
        "## Forma Reducida\n",
        "\n",
        "Qué efecto tiene la motivación en el resultado?"
      ]
    },
    {
      "cell_type": "code",
      "metadata": {
        "id": "BZoI3O4LsOJz",
        "colab_type": "code",
        "colab": {
          "base_uri": "https://localhost:8080/",
          "height": 35
        },
        "outputId": "9e698576-0424-4f96-a86c-f46e149c68f1"
      },
      "source": [
        "reduced_form=df.loc[df.motivacion==1].pdiasfueaescuela.mean()-df.loc[df.motivacion==0].pdiasfueaescuela.mean()\n",
        "reduced_form"
      ],
      "execution_count": 53,
      "outputs": [
        {
          "output_type": "execute_result",
          "data": {
            "text/plain": [
              "-4.640567960127363"
            ]
          },
          "metadata": {
            "tags": []
          },
          "execution_count": 53
        }
      ]
    },
    {
      "cell_type": "markdown",
      "metadata": {
        "id": "PZk5ZN5pskjz",
        "colab_type": "text"
      },
      "source": [
        "## LATE\n"
      ]
    },
    {
      "cell_type": "code",
      "metadata": {
        "id": "I0bgaw0FshD-",
        "colab_type": "code",
        "colab": {
          "base_uri": "https://localhost:8080/",
          "height": 35
        },
        "outputId": "a82f5afb-c7a6-491e-dcc4-460083d5aa38"
      },
      "source": [
        "late=reduced_form/first_stage\n",
        "late"
      ],
      "execution_count": 55,
      "outputs": [
        {
          "output_type": "execute_result",
          "data": {
            "text/plain": [
              "-7.769480196201438"
            ]
          },
          "metadata": {
            "tags": []
          },
          "execution_count": 55
        }
      ]
    },
    {
      "cell_type": "markdown",
      "metadata": {
        "id": "T__GLbGrvFap",
        "colab_type": "text"
      },
      "source": [
        "# La sintaxis de IV2SLS de linearmodels\n",
        "\n",
        "\n",
        "class IV2SLS(dependent, exog, endog, instruments, *, weights=None)"
      ]
    },
    {
      "cell_type": "code",
      "metadata": {
        "id": "j8puSswywYIV",
        "colab_type": "code",
        "colab": {}
      },
      "source": [
        "from statsmodels.api import add_constant\n",
        "# Primero voy a agregar una constante\n",
        "df=add_constant(df)"
      ],
      "execution_count": 61,
      "outputs": []
    },
    {
      "cell_type": "code",
      "metadata": {
        "id": "743DYfaIuLxR",
        "colab_type": "code",
        "colab": {
          "base_uri": "https://localhost:8080/",
          "height": 439
        },
        "outputId": "19cfb9b7-5099-4407-cf00-c5b67fcf01d7"
      },
      "source": [
        "res = IV2SLS(df.pdiasfueaescuela, exog=df.const, endog=df.conectado, instruments=df.motivacion).fit(cov_type='unadjusted')\n",
        "print(res)"
      ],
      "execution_count": 65,
      "outputs": [
        {
          "output_type": "stream",
          "text": [
            "                          IV-2SLS Estimation Summary                          \n",
            "==============================================================================\n",
            "Dep. Variable:       pdiasfueaescuela   R-squared:                      0.0024\n",
            "Estimator:                    IV-2SLS   Adj. R-squared:                -0.0008\n",
            "No. Observations:                 320   F-statistic:                    2.6469\n",
            "Date:                Wed, Aug 19 2020   P-value (F-stat)                0.1038\n",
            "Time:                        17:29:43   Distribution:                  chi2(1)\n",
            "Cov. Estimator:                robust                                         \n",
            "                                                                              \n",
            "                             Parameter Estimates                              \n",
            "==============================================================================\n",
            "            Parameter  Std. Err.     T-stat    P-value    Lower CI    Upper CI\n",
            "------------------------------------------------------------------------------\n",
            "const          63.214     2.5188     25.097     0.0000      58.277      68.150\n",
            "conectado     -6.7973     4.1780    -1.6269     0.1038     -14.986      1.3914\n",
            "==============================================================================\n",
            "\n",
            "Endogenous: conectado\n",
            "Instruments: motivacion\n",
            "Robust Covariance (Heteroskedastic)\n",
            "Debiased: False\n"
          ],
          "name": "stdout"
        },
        {
          "output_type": "stream",
          "text": [
            "/usr/local/lib/python3.6/dist-packages/linearmodels/utility.py:549: MissingValueWarning: \n",
            "Inputs contain missing values. Dropping rows with missing observations.\n",
            "  warnings.warn(missing_value_warning_msg, MissingValueWarning)\n"
          ],
          "name": "stderr"
        }
      ]
    },
    {
      "cell_type": "markdown",
      "metadata": {
        "id": "Q5UU1iSrz1BV",
        "colab_type": "text"
      },
      "source": [
        "Sintaxis estilo R"
      ]
    },
    {
      "cell_type": "code",
      "metadata": {
        "id": "Gy0VOsjMzfDB",
        "colab_type": "code",
        "colab": {
          "base_uri": "https://localhost:8080/",
          "height": 439
        },
        "outputId": "3abda508-3f1f-4038-c733-07616a46dd81"
      },
      "source": [
        "formula = 'pdiasfueaescuela ~ 1 +  [conectado ~ motivacion]'\n",
        "iv2sls = IV2SLS.from_formula(formula, df).fit()\n",
        "print(iv2sls)"
      ],
      "execution_count": 68,
      "outputs": [
        {
          "output_type": "stream",
          "text": [
            "                          IV-2SLS Estimation Summary                          \n",
            "==============================================================================\n",
            "Dep. Variable:       pdiasfueaescuela   R-squared:                      0.0024\n",
            "Estimator:                    IV-2SLS   Adj. R-squared:                -0.0008\n",
            "No. Observations:                 320   F-statistic:                    2.6469\n",
            "Date:                Wed, Aug 19 2020   P-value (F-stat)                0.1038\n",
            "Time:                        17:40:41   Distribution:                  chi2(1)\n",
            "Cov. Estimator:                robust                                         \n",
            "                                                                              \n",
            "                             Parameter Estimates                              \n",
            "==============================================================================\n",
            "            Parameter  Std. Err.     T-stat    P-value    Lower CI    Upper CI\n",
            "------------------------------------------------------------------------------\n",
            "Intercept      63.214     2.5188     25.097     0.0000      58.277      68.150\n",
            "conectado     -6.7973     4.1780    -1.6269     0.1038     -14.986      1.3914\n",
            "==============================================================================\n",
            "\n",
            "Endogenous: conectado\n",
            "Instruments: motivacion\n",
            "Robust Covariance (Heteroskedastic)\n",
            "Debiased: False\n"
          ],
          "name": "stdout"
        },
        {
          "output_type": "stream",
          "text": [
            "/usr/local/lib/python3.6/dist-packages/linearmodels/utility.py:549: MissingValueWarning: \n",
            "Inputs contain missing values. Dropping rows with missing observations.\n",
            "  warnings.warn(missing_value_warning_msg, MissingValueWarning)\n"
          ],
          "name": "stderr"
        }
      ]
    }
  ]
}