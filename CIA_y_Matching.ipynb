{
  "nbformat": 4,
  "nbformat_minor": 0,
  "metadata": {
    "colab": {
      "name": "CIA y Matching.ipynb",
      "provenance": [],
      "authorship_tag": "ABX9TyOo4nogOVJj0GQtkogGglY0",
      "include_colab_link": true
    },
    "kernelspec": {
      "name": "python3",
      "display_name": "Python 3"
    }
  },
  "cells": [
    {
      "cell_type": "markdown",
      "metadata": {
        "id": "view-in-github",
        "colab_type": "text"
      },
      "source": [
        "<a href=\"https://colab.research.google.com/github/rpasquini/urban-econometrics/blob/master/CIA_y_Matching.ipynb\" target=\"_parent\"><img src=\"https://colab.research.google.com/assets/colab-badge.svg\" alt=\"Open In Colab\"/></a>"
      ]
    },
    {
      "cell_type": "code",
      "metadata": {
        "id": "3CShQ-M6gGnx",
        "colab_type": "code",
        "colab": {}
      },
      "source": [
        "import pandas as pd\n",
        "import statsmodels.api as sm  \n",
        "from scipy import stats  \n",
        "import numpy as np\n",
        "from sklearn.neighbors import KNeighborsRegressor"
      ],
      "execution_count": 165,
      "outputs": []
    },
    {
      "cell_type": "code",
      "metadata": {
        "id": "LlNTXFb1yOgS",
        "colab_type": "code",
        "colab": {}
      },
      "source": [
        "df=pd.read_csv('https://raw.githubusercontent.com/rpasquini/econometrics_and_causality/master/happiness_on_tap_extract.csv')"
      ],
      "execution_count": 166,
      "outputs": []
    },
    {
      "cell_type": "code",
      "metadata": {
        "id": "AxASTzaeZEup",
        "colab_type": "code",
        "colab": {}
      },
      "source": [
        "df['dsexojefe']=np.where(df['sexojefe']==1,1,0)"
      ],
      "execution_count": 167,
      "outputs": []
    },
    {
      "cell_type": "markdown",
      "metadata": {
        "id": "ZRO_QZ1IaBkt",
        "colab_type": "text"
      },
      "source": [
        "Extracto de datos de:\n",
        "\n",
        "[Devoto, F., Duflo, E., Dupas, P., Parienté, W., & Pons, V. (2012). Happiness on tap: piped water adoption in urban Morocco. American Economic Journal: Economic Policy, 4(4), 68-99.](https://web.stanford.edu/~pdupas/MoroccoWaterConnections.pdf)\n",
        "\n",
        "Las variables fueron modificadas para el proposito de este ejercicio.\n",
        "\n",
        "Descripción de variables\n",
        "\n",
        "motivacion: Dummy = 1 si el hogar recibió motivación para conexión \\\n",
        "conectado: Dummy = 1 si el hogar se conectó a la red de agua \\\n",
        "sexojefe:  1 Masculino, 2 Femenino \\\n",
        "edadjefe: Edad Jefe de Hogar \\\n",
        "jefesabeleer: Dummy=1 Jefe sabe leer \\\n",
        "jefesabeescribir: Dummy=1 Jefe sabe escribir \\\n",
        "pdiasfueaescuela: Porcentaje dias hijos fueron a la escuela."
      ]
    },
    {
      "cell_type": "code",
      "metadata": {
        "id": "o5XP7fAagc0Z",
        "colab_type": "code",
        "colab": {}
      },
      "source": [
        "df=df.dropna()"
      ],
      "execution_count": 168,
      "outputs": []
    },
    {
      "cell_type": "markdown",
      "metadata": {
        "id": "35w6FE8Cgnlt",
        "colab_type": "text"
      },
      "source": [
        "Diferencia entre conectados y no conectados sugiere "
      ]
    },
    {
      "cell_type": "code",
      "metadata": {
        "id": "6NrVr9riaTBK",
        "colab_type": "code",
        "colab": {
          "base_uri": "https://localhost:8080/",
          "height": 35
        },
        "outputId": "c9348401-3bee-4e5b-f2ef-c0a7f6da69bf"
      },
      "source": [
        "df.loc[df.conectado==1].pdiasfueaescuela.mean()-df.loc[df.conectado==0].pdiasfueaescuela.mean()"
      ],
      "execution_count": 169,
      "outputs": [
        {
          "output_type": "execute_result",
          "data": {
            "text/plain": [
              "-3.523604421369349"
            ]
          },
          "metadata": {
            "tags": []
          },
          "execution_count": 169
        }
      ]
    },
    {
      "cell_type": "markdown",
      "metadata": {
        "id": "YUnI65PMBl23",
        "colab_type": "text"
      },
      "source": [
        "Antes de continuar verificamos si hay diferencias en las caracteristicas observables\n"
      ]
    },
    {
      "cell_type": "code",
      "metadata": {
        "id": "ZtnMo51uzGqz",
        "colab_type": "code",
        "colab": {
          "base_uri": "https://localhost:8080/",
          "height": 281
        },
        "outputId": "41722825-5b45-4152-b218-d4c59290ce26"
      },
      "source": [
        "for variable in ['sexojefe','edadjefe','jefesabeleer','jefesabeescribir','pdiasfueaescuela']:\n",
        "  var_tratados=df[variable].loc[(df.conectado==1) ]\n",
        "  var_control=df[variable].loc[(df.conectado==0) ]\n",
        "  print(variable)\n",
        "  print('dif: ',var_tratados.mean()-var_control.mean())\n",
        "  resultadottest=stats.ttest_ind(var_tratados, var_control, equal_var=True)\n",
        "  print('statistic', resultadottest.statistic, 'pvalue', resultadottest.pvalue)\n"
      ],
      "execution_count": 170,
      "outputs": [
        {
          "output_type": "stream",
          "text": [
            "sexojefe\n",
            "dif:  -0.014426908974972008\n",
            "statistic -0.3985894717651943 pvalue 0.6904657650625463\n",
            "edadjefe\n",
            "dif:  -0.7358919177427055\n",
            "statistic -0.6786088936491492 pvalue 0.4978839468444204\n",
            "jefesabeleer\n",
            "dif:  -0.06260959668420218\n",
            "statistic -1.2386725523291628 pvalue 0.21638902860325182\n",
            "jefesabeescribir\n",
            "dif:  -0.05519687549816665\n",
            "statistic -1.0737778188107645 pvalue 0.28374413297112716\n",
            "pdiasfueaescuela\n",
            "dif:  -3.523604421369349\n",
            "statistic -1.224783170253449 pvalue 0.22157203698942263\n"
          ],
          "name": "stdout"
        }
      ]
    },
    {
      "cell_type": "markdown",
      "metadata": {
        "id": "JyKygcbi-ac9",
        "colab_type": "text"
      },
      "source": [
        "# Recuperando el ATT usando la CIA.\n",
        "A los fines de un primer ejemplo, vamos a suponer que es suficiente con el control por el sexo del jefe de hogar para eliminar el posible sesgo de selección. \n",
        "El estimador que propone la teoría es:\n",
        "\n",
        "$$ATT=E[Y_{1i}∣T_{i}=1]-E[Y_{0i}∣T_{i}=1]=\\sum_x\\delta_xP(X_i=x|T_i=1)$$"
      ]
    },
    {
      "cell_type": "code",
      "metadata": {
        "id": "jh6W3T0D1y7V",
        "colab_type": "code",
        "colab": {
          "base_uri": "https://localhost:8080/",
          "height": 52
        },
        "outputId": "93ef2ac3-1b24-498e-eb6a-6225050435bb"
      },
      "source": [
        "# Diferencia para jefes hombres\n",
        "dif_hombres=df.loc[(df.conectado==1)& (df.sexojefe==1)].pdiasfueaescuela.mean() \\\n",
        "-df.loc[(df.conectado==0)&(df.sexojefe==1)].pdiasfueaescuela.mean()\n",
        "print('dif_hombres ',dif_hombres)\n",
        "# Diferencia para jefes mujeres\n",
        "\n",
        "dif_mujeres=df.loc[(df.conectado==1)& (df.sexojefe==2)].pdiasfueaescuela.mean() \\\n",
        "-df.loc[(df.conectado==0)&(df.sexojefe==2)].pdiasfueaescuela.mean()\n",
        "print('dif_mujeres ',dif_mujeres)\n"
      ],
      "execution_count": 171,
      "outputs": [
        {
          "output_type": "stream",
          "text": [
            "dif_hombres  -3.090223847986074\n",
            "dif_mujeres  -6.808688535087732\n"
          ],
          "name": "stdout"
        }
      ]
    },
    {
      "cell_type": "code",
      "metadata": {
        "id": "64dThVBC8UOI",
        "colab_type": "code",
        "colab": {
          "base_uri": "https://localhost:8080/",
          "height": 52
        },
        "outputId": "9c4989f8-9603-4650-856a-3acb0451f343"
      },
      "source": [
        "total_hombres=df.loc[(df.sexojefe==1) ].shape[0]\n",
        "total_mujeres= df.loc[(df.sexojefe==2)].shape[0]\n",
        "print('total hombres  ', total_hombres, ', total mujeres ', total_mujeres)\n",
        "\n",
        "\n",
        "total_hombres_tratados=df.loc[(df.sexojefe==1) & (df.conectado==1)].shape[0]\n",
        "total_mujeres_tratadas= df.loc[(df.sexojefe==2) & (df.conectado==1)].shape[0]\n",
        "print('total hombres tratados ', total_hombres_tratados, ', total mujeres tratadas ', total_mujeres_tratadas)\n",
        "\n"
      ],
      "execution_count": 172,
      "outputs": [
        {
          "output_type": "stream",
          "text": [
            "total hombres   280 , total mujeres  37\n",
            "total hombres tratados  146 , total mujeres tratadas  18\n"
          ],
          "name": "stdout"
        }
      ]
    },
    {
      "cell_type": "code",
      "metadata": {
        "id": "YUB_m7mN8eDv",
        "colab_type": "code",
        "colab": {
          "base_uri": "https://localhost:8080/",
          "height": 35
        },
        "outputId": "55a325c6-026e-44de-f1a6-8920d62fcb94"
      },
      "source": [
        "# ATT\n",
        "(dif_hombres*total_hombres_tratados+dif_mujeres*total_mujeres_tratadas)/(146+18)"
      ],
      "execution_count": 173,
      "outputs": [
        {
          "output_type": "execute_result",
          "data": {
            "text/plain": [
              "-3.4983480209606466"
            ]
          },
          "metadata": {
            "tags": []
          },
          "execution_count": 173
        }
      ]
    },
    {
      "cell_type": "code",
      "metadata": {
        "id": "hyng7-e0BA7e",
        "colab_type": "code",
        "colab": {
          "base_uri": "https://localhost:8080/",
          "height": 35
        },
        "outputId": "b84755b9-727b-4623-edf1-d975918f91de"
      },
      "source": [
        "# ATE\n",
        "(dif_hombres*total_hombres+dif_mujeres*total_mujeres)/(280+37)\n"
      ],
      "execution_count": 174,
      "outputs": [
        {
          "output_type": "execute_result",
          "data": {
            "text/plain": [
              "-3.5242402310231764"
            ]
          },
          "metadata": {
            "tags": []
          },
          "execution_count": 174
        }
      ]
    },
    {
      "cell_type": "code",
      "metadata": {
        "id": "RjwcxE5LTs3f",
        "colab_type": "code",
        "colab": {
          "base_uri": "https://localhost:8080/",
          "height": 35
        },
        "outputId": "1ff6e7f7-709c-496f-8aed-f2ca8f57550a"
      },
      "source": [
        "df.pdiasfueaescuela.mean()"
      ],
      "execution_count": 175,
      "outputs": [
        {
          "output_type": "execute_result",
          "data": {
            "text/plain": [
              "59.80171416088331"
            ]
          },
          "metadata": {
            "tags": []
          },
          "execution_count": 175
        }
      ]
    },
    {
      "cell_type": "markdown",
      "metadata": {
        "id": "_MCgAgfsMC9V",
        "colab_type": "text"
      },
      "source": [
        "# Algoritmo de Matching\n",
        "\n",
        "Para el ATT, la idea es asignarle a cada tratado una pareja en el control, basandome en todas las caracteristicas observables.\n",
        "Vamos a usar una función de la libreria sklearn, que busca a partir de un conjunto de caracteristicas, la observación más similar, y devuelve el resultado de esa observación.\n",
        "El metodo de Kneighbors se utiliza para hacer predicciones en general y esta es una adaptacion a nuestro caso de interes.\n"
      ]
    },
    {
      "cell_type": "code",
      "metadata": {
        "id": "_hsQTzQ-NGDA",
        "colab_type": "code",
        "colab": {}
      },
      "source": [
        "# Llamemos X a la lista de variables que vamos a considerar para el matching\n",
        "X=['dsexojefe', 'edadjefe', 'jefesabeleer', 'jefesabeescribir']\n"
      ],
      "execution_count": 176,
      "outputs": []
    },
    {
      "cell_type": "code",
      "metadata": {
        "id": "YmkR2iwfIrlp",
        "colab_type": "code",
        "colab": {
          "base_uri": "https://localhost:8080/",
          "height": 417
        },
        "outputId": "13c277a0-9e7b-4f44-d02a-3206d93ad727"
      },
      "source": [
        "# Separo las observaciones de conectados y no conectados\n",
        "conectados = df.loc[(df.conectado==1)]\n",
        "noconectados = df.loc[(df.conectado==0)]\n",
        "\n",
        "# KNeighborsRegressor necesita que 'entrene' un modelo, que va a aprender a buscar el resultado de un 'no conectado' cuando le pida que 'prediga' uno.\n",
        "# El 'entrenamiento' es equivalente al 'ajuste' de nuestro modelo de regresion.\n",
        "\n",
        "modelo_no_conectados = KNeighborsRegressor(n_neighbors=1).fit(noconectados[X], noconectados.pdiasfueaescuela)\n",
        "\n",
        "# le pido al modelo que obtenga la pareja de no conectado (predecir el no conectado correspondiente)\n",
        "\n",
        "df_matcheado=conectados.assign(matchnoconectado=modelo_no_conectados.predict(conectados[X]))\n",
        "df_matcheado"
      ],
      "execution_count": 177,
      "outputs": [
        {
          "output_type": "execute_result",
          "data": {
            "text/html": [
              "<div>\n",
              "<style scoped>\n",
              "    .dataframe tbody tr th:only-of-type {\n",
              "        vertical-align: middle;\n",
              "    }\n",
              "\n",
              "    .dataframe tbody tr th {\n",
              "        vertical-align: top;\n",
              "    }\n",
              "\n",
              "    .dataframe thead th {\n",
              "        text-align: right;\n",
              "    }\n",
              "</style>\n",
              "<table border=\"1\" class=\"dataframe\">\n",
              "  <thead>\n",
              "    <tr style=\"text-align: right;\">\n",
              "      <th></th>\n",
              "      <th>random_id</th>\n",
              "      <th>motivacion</th>\n",
              "      <th>conectado</th>\n",
              "      <th>sexojefe</th>\n",
              "      <th>edadjefe</th>\n",
              "      <th>jefesabeleer</th>\n",
              "      <th>jefesabeescribir</th>\n",
              "      <th>pdiasfueaescuela</th>\n",
              "      <th>dsexojefe</th>\n",
              "      <th>matchnoconectado</th>\n",
              "    </tr>\n",
              "  </thead>\n",
              "  <tbody>\n",
              "    <tr>\n",
              "      <th>1</th>\n",
              "      <td>3</td>\n",
              "      <td>1</td>\n",
              "      <td>1</td>\n",
              "      <td>1</td>\n",
              "      <td>45.0</td>\n",
              "      <td>0.0</td>\n",
              "      <td>0.0</td>\n",
              "      <td>57.142860</td>\n",
              "      <td>1</td>\n",
              "      <td>14.285715</td>\n",
              "    </tr>\n",
              "    <tr>\n",
              "      <th>3</th>\n",
              "      <td>7</td>\n",
              "      <td>1</td>\n",
              "      <td>1</td>\n",
              "      <td>1</td>\n",
              "      <td>54.0</td>\n",
              "      <td>1.0</td>\n",
              "      <td>1.0</td>\n",
              "      <td>85.714287</td>\n",
              "      <td>1</td>\n",
              "      <td>85.714287</td>\n",
              "    </tr>\n",
              "    <tr>\n",
              "      <th>7</th>\n",
              "      <td>11</td>\n",
              "      <td>0</td>\n",
              "      <td>1</td>\n",
              "      <td>1</td>\n",
              "      <td>52.0</td>\n",
              "      <td>1.0</td>\n",
              "      <td>1.0</td>\n",
              "      <td>71.428574</td>\n",
              "      <td>1</td>\n",
              "      <td>71.428574</td>\n",
              "    </tr>\n",
              "    <tr>\n",
              "      <th>13</th>\n",
              "      <td>21</td>\n",
              "      <td>1</td>\n",
              "      <td>1</td>\n",
              "      <td>1</td>\n",
              "      <td>51.0</td>\n",
              "      <td>1.0</td>\n",
              "      <td>1.0</td>\n",
              "      <td>71.428574</td>\n",
              "      <td>1</td>\n",
              "      <td>71.428574</td>\n",
              "    </tr>\n",
              "    <tr>\n",
              "      <th>18</th>\n",
              "      <td>26</td>\n",
              "      <td>1</td>\n",
              "      <td>1</td>\n",
              "      <td>1</td>\n",
              "      <td>45.0</td>\n",
              "      <td>1.0</td>\n",
              "      <td>1.0</td>\n",
              "      <td>57.142860</td>\n",
              "      <td>1</td>\n",
              "      <td>28.571430</td>\n",
              "    </tr>\n",
              "    <tr>\n",
              "      <th>...</th>\n",
              "      <td>...</td>\n",
              "      <td>...</td>\n",
              "      <td>...</td>\n",
              "      <td>...</td>\n",
              "      <td>...</td>\n",
              "      <td>...</td>\n",
              "      <td>...</td>\n",
              "      <td>...</td>\n",
              "      <td>...</td>\n",
              "      <td>...</td>\n",
              "    </tr>\n",
              "    <tr>\n",
              "      <th>766</th>\n",
              "      <td>1012</td>\n",
              "      <td>1</td>\n",
              "      <td>1</td>\n",
              "      <td>2</td>\n",
              "      <td>41.0</td>\n",
              "      <td>0.0</td>\n",
              "      <td>0.0</td>\n",
              "      <td>42.857143</td>\n",
              "      <td>0</td>\n",
              "      <td>71.428574</td>\n",
              "    </tr>\n",
              "    <tr>\n",
              "      <th>768</th>\n",
              "      <td>1014</td>\n",
              "      <td>0</td>\n",
              "      <td>1</td>\n",
              "      <td>1</td>\n",
              "      <td>36.0</td>\n",
              "      <td>1.0</td>\n",
              "      <td>1.0</td>\n",
              "      <td>14.285715</td>\n",
              "      <td>1</td>\n",
              "      <td>71.428574</td>\n",
              "    </tr>\n",
              "    <tr>\n",
              "      <th>772</th>\n",
              "      <td>1018</td>\n",
              "      <td>1</td>\n",
              "      <td>1</td>\n",
              "      <td>1</td>\n",
              "      <td>51.0</td>\n",
              "      <td>1.0</td>\n",
              "      <td>1.0</td>\n",
              "      <td>85.714287</td>\n",
              "      <td>1</td>\n",
              "      <td>71.428574</td>\n",
              "    </tr>\n",
              "    <tr>\n",
              "      <th>778</th>\n",
              "      <td>1025</td>\n",
              "      <td>0</td>\n",
              "      <td>1</td>\n",
              "      <td>1</td>\n",
              "      <td>39.0</td>\n",
              "      <td>0.0</td>\n",
              "      <td>0.0</td>\n",
              "      <td>14.285715</td>\n",
              "      <td>1</td>\n",
              "      <td>71.428574</td>\n",
              "    </tr>\n",
              "    <tr>\n",
              "      <th>784</th>\n",
              "      <td>1031</td>\n",
              "      <td>1</td>\n",
              "      <td>1</td>\n",
              "      <td>1</td>\n",
              "      <td>37.0</td>\n",
              "      <td>1.0</td>\n",
              "      <td>1.0</td>\n",
              "      <td>14.285715</td>\n",
              "      <td>1</td>\n",
              "      <td>71.428574</td>\n",
              "    </tr>\n",
              "  </tbody>\n",
              "</table>\n",
              "<p>164 rows × 10 columns</p>\n",
              "</div>"
            ],
            "text/plain": [
              "     random_id  motivacion  ...  dsexojefe  matchnoconectado\n",
              "1            3           1  ...          1         14.285715\n",
              "3            7           1  ...          1         85.714287\n",
              "7           11           0  ...          1         71.428574\n",
              "13          21           1  ...          1         71.428574\n",
              "18          26           1  ...          1         28.571430\n",
              "..         ...         ...  ...        ...               ...\n",
              "766       1012           1  ...          0         71.428574\n",
              "768       1014           0  ...          1         71.428574\n",
              "772       1018           1  ...          1         71.428574\n",
              "778       1025           0  ...          1         71.428574\n",
              "784       1031           1  ...          1         71.428574\n",
              "\n",
              "[164 rows x 10 columns]"
            ]
          },
          "metadata": {
            "tags": []
          },
          "execution_count": 177
        }
      ]
    },
    {
      "cell_type": "code",
      "metadata": {
        "id": "rLTS76y0Qn_B",
        "colab_type": "code",
        "colab": {
          "base_uri": "https://localhost:8080/",
          "height": 35
        },
        "outputId": "62fbf230-a2bf-482d-877d-ccc4c3a9cc68"
      },
      "source": [
        "np.mean(df_matcheado.pdiasfueaescuela-df_matcheado.matchnoconectado)"
      ],
      "execution_count": 178,
      "outputs": [
        {
          "output_type": "execute_result",
          "data": {
            "text/plain": [
              "-5.313588926829269"
            ]
          },
          "metadata": {
            "tags": []
          },
          "execution_count": 178
        }
      ]
    },
    {
      "cell_type": "markdown",
      "metadata": {
        "id": "hPlfWxUBYRtf",
        "colab_type": "text"
      },
      "source": [
        "# Propensity Score Matching \n",
        "\n",
        "Mostramos la idea del propensity score utilizando el mismo procedimiento que para el matching, pero en este caso vamos a matchear sobre la probabilidad"
      ]
    },
    {
      "cell_type": "code",
      "metadata": {
        "id": "lkIAgI1hYP4F",
        "colab_type": "code",
        "colab": {}
      },
      "source": [
        "def logit(lista, data):\n",
        "  \"\"\" \n",
        "  Funcion que realiza la regresion Logit\n",
        "  La primera variable de la lista es la dependiente, el resto son las explicativas\n",
        "  data es la base de datos\n",
        "  \"\"\"\n",
        "  datos=data[lista]\n",
        "  # el metodo dropna() me permite eliminar las filas que tienen algun valor missing\n",
        "  datos=datos.dropna()\n",
        "  Y=datos[lista[0]]\n",
        "  X=datos[lista[1:]]\n",
        "  X=sm.add_constant(X)\n",
        "  modelo=sm.Logit(Y,X)\n",
        "  modeloajustado=modelo.fit()\n",
        "  print(modeloajustado.summary())\n",
        "  return modeloajustado"
      ],
      "execution_count": 179,
      "outputs": []
    },
    {
      "cell_type": "code",
      "metadata": {
        "id": "x3hS8B6WYWLq",
        "colab_type": "code",
        "colab": {
          "base_uri": "https://localhost:8080/",
          "height": 387
        },
        "outputId": "25fa65cd-7d1d-4d8f-b894-57aaae4d4084"
      },
      "source": [
        "modelo=logit(['conectado','dsexojefe', 'edadjefe', 'jefesabeleer', 'jefesabeescribir'], data=df)\n",
        "df['probabilidades']=modelo.predict()"
      ],
      "execution_count": 180,
      "outputs": [
        {
          "output_type": "stream",
          "text": [
            "Optimization terminated successfully.\n",
            "         Current function value: 0.687622\n",
            "         Iterations 4\n",
            "                           Logit Regression Results                           \n",
            "==============================================================================\n",
            "Dep. Variable:              conectado   No. Observations:                  317\n",
            "Model:                          Logit   Df Residuals:                      312\n",
            "Method:                           MLE   Df Model:                            4\n",
            "Date:                Fri, 07 Aug 2020   Pseudo R-squ.:                0.007109\n",
            "Time:                        00:38:24   Log-Likelihood:                -217.98\n",
            "converged:                       True   LL-Null:                       -219.54\n",
            "Covariance Type:            nonrobust   LLR p-value:                    0.5377\n",
            "====================================================================================\n",
            "                       coef    std err          z      P>|z|      [0.025      0.975]\n",
            "------------------------------------------------------------------------------------\n",
            "const                0.5142      0.678      0.758      0.448      -0.815       1.843\n",
            "dsexojefe            0.3258      0.376      0.867      0.386      -0.410       1.062\n",
            "edadjefe            -0.0092      0.012     -0.774      0.439      -0.032       0.014\n",
            "jefesabeleer        -0.7785      0.946     -0.823      0.410      -2.632       1.075\n",
            "jefesabeescribir     0.3716      0.925      0.402      0.688      -1.441       2.185\n",
            "====================================================================================\n"
          ],
          "name": "stdout"
        }
      ]
    },
    {
      "cell_type": "code",
      "metadata": {
        "id": "FxgmH18TZZX-",
        "colab_type": "code",
        "colab": {
          "base_uri": "https://localhost:8080/",
          "height": 203
        },
        "outputId": "e3abedcb-6330-4a83-d366-3cea9dfe89c3"
      },
      "source": [
        "df.head()"
      ],
      "execution_count": 189,
      "outputs": [
        {
          "output_type": "execute_result",
          "data": {
            "text/html": [
              "<div>\n",
              "<style scoped>\n",
              "    .dataframe tbody tr th:only-of-type {\n",
              "        vertical-align: middle;\n",
              "    }\n",
              "\n",
              "    .dataframe tbody tr th {\n",
              "        vertical-align: top;\n",
              "    }\n",
              "\n",
              "    .dataframe thead th {\n",
              "        text-align: right;\n",
              "    }\n",
              "</style>\n",
              "<table border=\"1\" class=\"dataframe\">\n",
              "  <thead>\n",
              "    <tr style=\"text-align: right;\">\n",
              "      <th></th>\n",
              "      <th>random_id</th>\n",
              "      <th>motivacion</th>\n",
              "      <th>conectado</th>\n",
              "      <th>sexojefe</th>\n",
              "      <th>edadjefe</th>\n",
              "      <th>jefesabeleer</th>\n",
              "      <th>jefesabeescribir</th>\n",
              "      <th>pdiasfueaescuela</th>\n",
              "      <th>dsexojefe</th>\n",
              "      <th>probabilidades</th>\n",
              "    </tr>\n",
              "  </thead>\n",
              "  <tbody>\n",
              "    <tr>\n",
              "      <th>1</th>\n",
              "      <td>3</td>\n",
              "      <td>1</td>\n",
              "      <td>1</td>\n",
              "      <td>1</td>\n",
              "      <td>45.0</td>\n",
              "      <td>0.0</td>\n",
              "      <td>0.0</td>\n",
              "      <td>57.142860</td>\n",
              "      <td>1</td>\n",
              "      <td>0.605246</td>\n",
              "    </tr>\n",
              "    <tr>\n",
              "      <th>2</th>\n",
              "      <td>5</td>\n",
              "      <td>0</td>\n",
              "      <td>0</td>\n",
              "      <td>1</td>\n",
              "      <td>50.0</td>\n",
              "      <td>1.0</td>\n",
              "      <td>1.0</td>\n",
              "      <td>85.714287</td>\n",
              "      <td>1</td>\n",
              "      <td>0.493662</td>\n",
              "    </tr>\n",
              "    <tr>\n",
              "      <th>3</th>\n",
              "      <td>7</td>\n",
              "      <td>1</td>\n",
              "      <td>1</td>\n",
              "      <td>1</td>\n",
              "      <td>54.0</td>\n",
              "      <td>1.0</td>\n",
              "      <td>1.0</td>\n",
              "      <td>85.714287</td>\n",
              "      <td>1</td>\n",
              "      <td>0.484496</td>\n",
              "    </tr>\n",
              "    <tr>\n",
              "      <th>7</th>\n",
              "      <td>11</td>\n",
              "      <td>0</td>\n",
              "      <td>1</td>\n",
              "      <td>1</td>\n",
              "      <td>52.0</td>\n",
              "      <td>1.0</td>\n",
              "      <td>1.0</td>\n",
              "      <td>71.428574</td>\n",
              "      <td>1</td>\n",
              "      <td>0.489078</td>\n",
              "    </tr>\n",
              "    <tr>\n",
              "      <th>9</th>\n",
              "      <td>14</td>\n",
              "      <td>0</td>\n",
              "      <td>0</td>\n",
              "      <td>1</td>\n",
              "      <td>42.0</td>\n",
              "      <td>1.0</td>\n",
              "      <td>1.0</td>\n",
              "      <td>42.857143</td>\n",
              "      <td>1</td>\n",
              "      <td>0.511999</td>\n",
              "    </tr>\n",
              "  </tbody>\n",
              "</table>\n",
              "</div>"
            ],
            "text/plain": [
              "   random_id  motivacion  ...  dsexojefe  probabilidades\n",
              "1          3           1  ...          1        0.605246\n",
              "2          5           0  ...          1        0.493662\n",
              "3          7           1  ...          1        0.484496\n",
              "7         11           0  ...          1        0.489078\n",
              "9         14           0  ...          1        0.511999\n",
              "\n",
              "[5 rows x 10 columns]"
            ]
          },
          "metadata": {
            "tags": []
          },
          "execution_count": 189
        }
      ]
    },
    {
      "cell_type": "code",
      "metadata": {
        "id": "lcjWpqoRZ7N-",
        "colab_type": "code",
        "colab": {
          "base_uri": "https://localhost:8080/",
          "height": 283
        },
        "outputId": "babb9e4c-62bc-40a3-a6e7-fc8ea51f5fa3"
      },
      "source": [
        "# Vemos que haya un soporte comun en las distribuciones\n",
        "df.loc[df.conectado==1]['probabilidades'].hist( alpha=0.5)\n",
        "df.loc[df.conectado==0]['probabilidades'].hist(alpha=0.5)"
      ],
      "execution_count": 181,
      "outputs": [
        {
          "output_type": "execute_result",
          "data": {
            "text/plain": [
              "<matplotlib.axes._subplots.AxesSubplot at 0x7fa738c87c88>"
            ]
          },
          "metadata": {
            "tags": []
          },
          "execution_count": 181
        },
        {
          "output_type": "display_data",
          "data": {
            "image/png": "[encoded data removed]",
            "text/plain": [
              "<Figure size 432x288 with 1 Axes>"
            ]
          },
          "metadata": {
            "tags": [],
            "needs_background": "light"
          }
        }
      ]
    },
    {
      "cell_type": "code",
      "metadata": {
        "id": "0T2UPwa8aAp9",
        "colab_type": "code",
        "colab": {
          "base_uri": "https://localhost:8080/",
          "height": 417
        },
        "outputId": "735007cf-7a09-4b20-ad2c-e3aa0c2b44cd"
      },
      "source": [
        "# KNeighborsRegressor para buscar parejas\n",
        "# Separo las observaciones de conectados y no conectados\n",
        "conectados = df.loc[(df.conectado==1)]\n",
        "noconectados = df.loc[(df.conectado==0)]\n",
        "\n",
        "\n",
        "modelo_no_conectados = KNeighborsRegressor(n_neighbors=1).fit(noconectados['probabilidades'].values.reshape(-1, 1), noconectados.pdiasfueaescuela)\n",
        "\n",
        "# le pido al modelo que obtenga la pareja de no conectado (predecir el no conectado correspondiente)\n",
        "\n",
        "df_matcheado=conectados.assign(matchnoconectado=modelo_no_conectados.predict(conectados['probabilidades'].values.reshape(-1, 1)))\n",
        "\n",
        "df_matcheado"
      ],
      "execution_count": 182,
      "outputs": [
        {
          "output_type": "execute_result",
          "data": {
            "text/html": [
              "<div>\n",
              "<style scoped>\n",
              "    .dataframe tbody tr th:only-of-type {\n",
              "        vertical-align: middle;\n",
              "    }\n",
              "\n",
              "    .dataframe tbody tr th {\n",
              "        vertical-align: top;\n",
              "    }\n",
              "\n",
              "    .dataframe thead th {\n",
              "        text-align: right;\n",
              "    }\n",
              "</style>\n",
              "<table border=\"1\" class=\"dataframe\">\n",
              "  <thead>\n",
              "    <tr style=\"text-align: right;\">\n",
              "      <th></th>\n",
              "      <th>random_id</th>\n",
              "      <th>motivacion</th>\n",
              "      <th>conectado</th>\n",
              "      <th>sexojefe</th>\n",
              "      <th>edadjefe</th>\n",
              "      <th>jefesabeleer</th>\n",
              "      <th>jefesabeescribir</th>\n",
              "      <th>pdiasfueaescuela</th>\n",
              "      <th>dsexojefe</th>\n",
              "      <th>probabilidades</th>\n",
              "      <th>matchnoconectado</th>\n",
              "    </tr>\n",
              "  </thead>\n",
              "  <tbody>\n",
              "    <tr>\n",
              "      <th>1</th>\n",
              "      <td>3</td>\n",
              "      <td>1</td>\n",
              "      <td>1</td>\n",
              "      <td>1</td>\n",
              "      <td>45.0</td>\n",
              "      <td>0.0</td>\n",
              "      <td>0.0</td>\n",
              "      <td>57.142860</td>\n",
              "      <td>1</td>\n",
              "      <td>0.605246</td>\n",
              "      <td>14.285715</td>\n",
              "    </tr>\n",
              "    <tr>\n",
              "      <th>3</th>\n",
              "      <td>7</td>\n",
              "      <td>1</td>\n",
              "      <td>1</td>\n",
              "      <td>1</td>\n",
              "      <td>54.0</td>\n",
              "      <td>1.0</td>\n",
              "      <td>1.0</td>\n",
              "      <td>85.714287</td>\n",
              "      <td>1</td>\n",
              "      <td>0.484496</td>\n",
              "      <td>85.714287</td>\n",
              "    </tr>\n",
              "    <tr>\n",
              "      <th>7</th>\n",
              "      <td>11</td>\n",
              "      <td>0</td>\n",
              "      <td>1</td>\n",
              "      <td>1</td>\n",
              "      <td>52.0</td>\n",
              "      <td>1.0</td>\n",
              "      <td>1.0</td>\n",
              "      <td>71.428574</td>\n",
              "      <td>1</td>\n",
              "      <td>0.489078</td>\n",
              "      <td>85.714287</td>\n",
              "    </tr>\n",
              "    <tr>\n",
              "      <th>13</th>\n",
              "      <td>21</td>\n",
              "      <td>1</td>\n",
              "      <td>1</td>\n",
              "      <td>1</td>\n",
              "      <td>51.0</td>\n",
              "      <td>1.0</td>\n",
              "      <td>1.0</td>\n",
              "      <td>71.428574</td>\n",
              "      <td>1</td>\n",
              "      <td>0.491370</td>\n",
              "      <td>85.714287</td>\n",
              "    </tr>\n",
              "    <tr>\n",
              "      <th>18</th>\n",
              "      <td>26</td>\n",
              "      <td>1</td>\n",
              "      <td>1</td>\n",
              "      <td>1</td>\n",
              "      <td>45.0</td>\n",
              "      <td>1.0</td>\n",
              "      <td>1.0</td>\n",
              "      <td>57.142860</td>\n",
              "      <td>1</td>\n",
              "      <td>0.505124</td>\n",
              "      <td>42.857143</td>\n",
              "    </tr>\n",
              "    <tr>\n",
              "      <th>...</th>\n",
              "      <td>...</td>\n",
              "      <td>...</td>\n",
              "      <td>...</td>\n",
              "      <td>...</td>\n",
              "      <td>...</td>\n",
              "      <td>...</td>\n",
              "      <td>...</td>\n",
              "      <td>...</td>\n",
              "      <td>...</td>\n",
              "      <td>...</td>\n",
              "      <td>...</td>\n",
              "    </tr>\n",
              "    <tr>\n",
              "      <th>766</th>\n",
              "      <td>1012</td>\n",
              "      <td>1</td>\n",
              "      <td>1</td>\n",
              "      <td>2</td>\n",
              "      <td>41.0</td>\n",
              "      <td>0.0</td>\n",
              "      <td>0.0</td>\n",
              "      <td>42.857143</td>\n",
              "      <td>0</td>\n",
              "      <td>0.534512</td>\n",
              "      <td>42.857143</td>\n",
              "    </tr>\n",
              "    <tr>\n",
              "      <th>768</th>\n",
              "      <td>1014</td>\n",
              "      <td>0</td>\n",
              "      <td>1</td>\n",
              "      <td>1</td>\n",
              "      <td>36.0</td>\n",
              "      <td>1.0</td>\n",
              "      <td>1.0</td>\n",
              "      <td>14.285715</td>\n",
              "      <td>1</td>\n",
              "      <td>0.525734</td>\n",
              "      <td>71.428574</td>\n",
              "    </tr>\n",
              "    <tr>\n",
              "      <th>772</th>\n",
              "      <td>1018</td>\n",
              "      <td>1</td>\n",
              "      <td>1</td>\n",
              "      <td>1</td>\n",
              "      <td>51.0</td>\n",
              "      <td>1.0</td>\n",
              "      <td>1.0</td>\n",
              "      <td>85.714287</td>\n",
              "      <td>1</td>\n",
              "      <td>0.491370</td>\n",
              "      <td>85.714287</td>\n",
              "    </tr>\n",
              "    <tr>\n",
              "      <th>778</th>\n",
              "      <td>1025</td>\n",
              "      <td>0</td>\n",
              "      <td>1</td>\n",
              "      <td>1</td>\n",
              "      <td>39.0</td>\n",
              "      <td>0.0</td>\n",
              "      <td>0.0</td>\n",
              "      <td>14.285715</td>\n",
              "      <td>1</td>\n",
              "      <td>0.618313</td>\n",
              "      <td>71.428574</td>\n",
              "    </tr>\n",
              "    <tr>\n",
              "      <th>784</th>\n",
              "      <td>1031</td>\n",
              "      <td>1</td>\n",
              "      <td>1</td>\n",
              "      <td>1</td>\n",
              "      <td>37.0</td>\n",
              "      <td>1.0</td>\n",
              "      <td>1.0</td>\n",
              "      <td>14.285715</td>\n",
              "      <td>1</td>\n",
              "      <td>0.523447</td>\n",
              "      <td>71.428574</td>\n",
              "    </tr>\n",
              "  </tbody>\n",
              "</table>\n",
              "<p>164 rows × 11 columns</p>\n",
              "</div>"
            ],
            "text/plain": [
              "     random_id  motivacion  ...  probabilidades  matchnoconectado\n",
              "1            3           1  ...        0.605246         14.285715\n",
              "3            7           1  ...        0.484496         85.714287\n",
              "7           11           0  ...        0.489078         85.714287\n",
              "13          21           1  ...        0.491370         85.714287\n",
              "18          26           1  ...        0.505124         42.857143\n",
              "..         ...         ...  ...             ...               ...\n",
              "766       1012           1  ...        0.534512         42.857143\n",
              "768       1014           0  ...        0.525734         71.428574\n",
              "772       1018           1  ...        0.491370         85.714287\n",
              "778       1025           0  ...        0.618313         71.428574\n",
              "784       1031           1  ...        0.523447         71.428574\n",
              "\n",
              "[164 rows x 11 columns]"
            ]
          },
          "metadata": {
            "tags": []
          },
          "execution_count": 182
        }
      ]
    },
    {
      "cell_type": "code",
      "metadata": {
        "id": "txOKd9qWaaw1",
        "colab_type": "code",
        "colab": {
          "base_uri": "https://localhost:8080/",
          "height": 35
        },
        "outputId": "418a668a-2eb0-4e5b-f270-154e735ad687"
      },
      "source": [
        "np.mean(df_matcheado.pdiasfueaescuela-df_matcheado.matchnoconectado)"
      ],
      "execution_count": 183,
      "outputs": [
        {
          "output_type": "execute_result",
          "data": {
            "text/plain": [
              "-2.613240280487805"
            ]
          },
          "metadata": {
            "tags": []
          },
          "execution_count": 183
        }
      ]
    },
    {
      "cell_type": "markdown",
      "metadata": {
        "id": "zaC3ljDBdThX",
        "colab_type": "text"
      },
      "source": [
        "# Utilizando la libreria Causal Inference\n"
      ]
    },
    {
      "cell_type": "code",
      "metadata": {
        "id": "lOdUEtLdSQp_",
        "colab_type": "code",
        "colab": {
          "base_uri": "https://localhost:8080/",
          "height": 35
        },
        "outputId": "300f950e-0562-4f7c-8f24-9da065da3511"
      },
      "source": [
        "!pip install causalinference"
      ],
      "execution_count": 184,
      "outputs": [
        {
          "output_type": "stream",
          "text": [
            "Requirement already satisfied: causalinference in /usr/local/lib/python3.6/dist-packages (0.1.3)\n"
          ],
          "name": "stdout"
        }
      ]
    },
    {
      "cell_type": "code",
      "metadata": {
        "id": "Y04F5l9uSKv_",
        "colab_type": "code",
        "colab": {}
      },
      "source": [
        "from causalinference import CausalModel"
      ],
      "execution_count": 185,
      "outputs": []
    },
    {
      "cell_type": "code",
      "metadata": {
        "id": "FqfiPgEfZl5a",
        "colab_type": "code",
        "colab": {}
      },
      "source": [
        "X=['dsexojefe', 'edadjefe', 'jefesabeleer', 'jefesabeescribir']"
      ],
      "execution_count": 186,
      "outputs": []
    },
    {
      "cell_type": "code",
      "metadata": {
        "id": "T4A0WJT6SOPI",
        "colab_type": "code",
        "colab": {
          "base_uri": "https://localhost:8080/",
          "height": 248
        },
        "outputId": "03df6979-a115-4d07-fc38-081d9e689b70"
      },
      "source": [
        "cm = CausalModel( Y=df[\"pdiasfueaescuela\"].values,  D=df[\"conectado\"].values,  X=df[X].values )\n",
        "\n",
        "cm.est_via_matching(matches=1, bias_adj=True)\n",
        "\n",
        "print(cm.estimates)\n",
        "cm.reset()"
      ],
      "execution_count": 187,
      "outputs": [
        {
          "output_type": "stream",
          "text": [
            "\n",
            "Treatment Effect Estimates: Matching\n",
            "\n",
            "                     Est.       S.e.          z      P>|z|      [95% Conf. int.]\n",
            "--------------------------------------------------------------------------------\n",
            "           ATE     -0.709      3.913     -0.181      0.856     -8.378      6.959\n",
            "           ATC      0.221      4.235      0.052      0.958     -8.080      8.522\n",
            "           ATT     -1.577      4.224     -0.373      0.709     -9.856      6.701\n",
            "\n"
          ],
          "name": "stdout"
        },
        {
          "output_type": "stream",
          "text": [
            "/usr/local/lib/python3.6/dist-packages/causalinference/estimators/matching.py:100: FutureWarning: `rcond` parameter will change to the default of machine precision times ``max(M, N)`` where M and N are the input matrix dimensions.\n",
            "To use the future default and silence this warning we advise to pass `rcond=None`, to keep using the old, explicitly pass `rcond=-1`.\n",
            "  return np.linalg.lstsq(X, Y)[0][1:]  # don't need intercept coef\n"
          ],
          "name": "stderr"
        }
      ]
    },
    {
      "cell_type": "markdown",
      "metadata": {
        "id": "WumzvmDXV6K4",
        "colab_type": "text"
      },
      "source": [
        "# Propensity Score using Causal Model"
      ]
    },
    {
      "cell_type": "code",
      "metadata": {
        "id": "aq45We3sTqTE",
        "colab_type": "code",
        "colab": {
          "base_uri": "https://localhost:8080/",
          "height": 299
        },
        "outputId": "8a791c52-50cc-4da4-dd6f-22b9f153ed01"
      },
      "source": [
        "causal = CausalModel(\n",
        "    Y=df[\"pdiasfueaescuela\"].values, \n",
        "    D=df[\"conectado\"].values, \n",
        "    X=df[X].values\n",
        ")\n",
        "causal.est_propensity_s()\n",
        "print(causal.propensity)\n",
        "causal.stratify_s()\n",
        "print(causal.strata)\n"
      ],
      "execution_count": 188,
      "outputs": [
        {
          "output_type": "stream",
          "text": [
            "\n",
            "Estimated Parameters of Propensity Score\n",
            "\n",
            "                    Coef.       S.e.          z      P>|z|      [95% Conf. int.]\n",
            "--------------------------------------------------------------------------------\n",
            "     Intercept      0.294      0.214      1.373      0.170     -0.126      0.714\n",
            "            X2     -0.312      0.252     -1.238      0.216     -0.806      0.182\n",
            "\n",
            "\n",
            "Stratification Summary\n",
            "\n",
            "              Propensity Score         Sample Size     Ave. Propensity   Outcome\n",
            "   Stratum      Min.      Max.  Controls   Treated  Controls   Treated  Raw-diff\n",
            "--------------------------------------------------------------------------------\n",
            "         1     0.496     0.573       153       164     0.515     0.520    -3.524\n",
            "\n"
          ],
          "name": "stdout"
        }
      ]
    }
  ]
}