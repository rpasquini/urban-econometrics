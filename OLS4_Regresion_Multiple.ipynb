{
  "nbformat": 4,
  "nbformat_minor": 0,
  "metadata": {
    "colab": {
      "name": "OLS4 Regresion Multiple.ipynb",
      "provenance": [],
      "toc_visible": true,
      "authorship_tag": "ABX9TyPmlciO4I2tgtO0LgsgSAbO",
      "include_colab_link": true
    },
    "kernelspec": {
      "name": "python3",
      "display_name": "Python 3"
    }
  },
  "cells": [
    {
      "cell_type": "markdown",
      "metadata": {
        "id": "view-in-github",
        "colab_type": "text"
      },
      "source": [
        "<a href=\"https://colab.research.google.com/github/rpasquini/urban-econometrics/blob/master/OLS4_Regresion_Multiple.ipynb\" target=\"_parent\"><img src=\"https://colab.research.google.com/assets/colab-badge.svg\" alt=\"Open In Colab\"/></a>"
      ]
    },
    {
      "cell_type": "code",
      "metadata": {
        "id": "_zCex4wbRiaY",
        "colab_type": "code",
        "colab": {
          "base_uri": "https://localhost:8080/",
          "height": 512
        },
        "outputId": "eb435312-dd97-4b6a-abab-8f4a8ed84813"
      },
      "source": [
        "!pip install geopandas\n",
        "import geopandas as gpd\n",
        "import pandas as pd\n",
        "import statsmodels.api as sm\n",
        "import matplotlib.pyplot as plt\n",
        "import numpy as np"
      ],
      "execution_count": 1,
      "outputs": [
        {
          "output_type": "stream",
          "text": [
            "Collecting geopandas\n",
            "\u001b[?25l  Downloading https://files.pythonhosted.org/packages/f8/dd/c0a6429cc7692efd5c99420c9df525c40f472b50705871a770449027e244/geopandas-0.8.0-py2.py3-none-any.whl (962kB)\n",
            "\u001b[K     |████████████████████████████████| 962kB 2.7MB/s \n",
            "\u001b[?25hRequirement already satisfied: pandas>=0.23.0 in /usr/local/lib/python3.6/dist-packages (from geopandas) (1.0.5)\n",
            "Collecting pyproj>=2.2.0\n",
            "\u001b[?25l  Downloading https://files.pythonhosted.org/packages/e5/c3/071e080230ac4b6c64f1a2e2f9161c9737a2bc7b683d2c90b024825000c0/pyproj-2.6.1.post1-cp36-cp36m-manylinux2010_x86_64.whl (10.9MB)\n",
            "\u001b[K     |████████████████████████████████| 10.9MB 7.5MB/s \n",
            "\u001b[?25hRequirement already satisfied: shapely in /usr/local/lib/python3.6/dist-packages (from geopandas) (1.7.0)\n",
            "Collecting fiona\n",
            "\u001b[?25l  Downloading https://files.pythonhosted.org/packages/ec/20/4e63bc5c6e62df889297b382c3ccd4a7a488b00946aaaf81a118158c6f09/Fiona-1.8.13.post1-cp36-cp36m-manylinux1_x86_64.whl (14.7MB)\n",
            "\u001b[K     |████████████████████████████████| 14.7MB 305kB/s \n",
            "\u001b[?25hRequirement already satisfied: numpy>=1.13.3 in /usr/local/lib/python3.6/dist-packages (from pandas>=0.23.0->geopandas) (1.18.5)\n",
            "Requirement already satisfied: pytz>=2017.2 in /usr/local/lib/python3.6/dist-packages (from pandas>=0.23.0->geopandas) (2018.9)\n",
            "Requirement already satisfied: python-dateutil>=2.6.1 in /usr/local/lib/python3.6/dist-packages (from pandas>=0.23.0->geopandas) (2.8.1)\n",
            "Requirement already satisfied: six>=1.7 in /usr/local/lib/python3.6/dist-packages (from fiona->geopandas) (1.12.0)\n",
            "Collecting click-plugins>=1.0\n",
            "  Downloading https://files.pythonhosted.org/packages/e9/da/824b92d9942f4e472702488857914bdd50f73021efea15b4cad9aca8ecef/click_plugins-1.1.1-py2.py3-none-any.whl\n",
            "Collecting cligj>=0.5\n",
            "  Downloading https://files.pythonhosted.org/packages/e4/be/30a58b4b0733850280d01f8bd132591b4668ed5c7046761098d665ac2174/cligj-0.5.0-py3-none-any.whl\n",
            "Requirement already satisfied: attrs>=17 in /usr/local/lib/python3.6/dist-packages (from fiona->geopandas) (19.3.0)\n",
            "Requirement already satisfied: click<8,>=4.0 in /usr/local/lib/python3.6/dist-packages (from fiona->geopandas) (7.1.2)\n",
            "Collecting munch\n",
            "  Downloading https://files.pythonhosted.org/packages/cc/ab/85d8da5c9a45e072301beb37ad7f833cd344e04c817d97e0cc75681d248f/munch-2.5.0-py2.py3-none-any.whl\n",
            "Installing collected packages: pyproj, click-plugins, cligj, munch, fiona, geopandas\n",
            "Successfully installed click-plugins-1.1.1 cligj-0.5.0 fiona-1.8.13.post1 geopandas-0.8.0 munch-2.5.0 pyproj-2.6.1.post1\n"
          ],
          "name": "stdout"
        },
        {
          "output_type": "stream",
          "text": [
            "/usr/local/lib/python3.6/dist-packages/statsmodels/tools/_testing.py:19: FutureWarning: pandas.util.testing is deprecated. Use the functions in the public API at pandas.testing instead.\n",
            "  import pandas.util.testing as tm\n"
          ],
          "name": "stderr"
        }
      ]
    },
    {
      "cell_type": "code",
      "metadata": {
        "id": "uP68Bf9se7bx",
        "colab_type": "code",
        "colab": {}
      },
      "source": [
        "departamentos=gpd.GeoDataFrame.from_file(\"https://github.com/rpasquini/urban-econometrics/blob/master/data/departamentos2019amba.zip?raw=true\")"
      ],
      "execution_count": 2,
      "outputs": []
    },
    {
      "cell_type": "code",
      "metadata": {
        "id": "e2zHgGodfEGo",
        "colab_type": "code",
        "colab": {
          "base_uri": "https://localhost:8080/",
          "height": 481
        },
        "outputId": "2e0088b5-5576-4809-c5cf-69aa8faa61ac"
      },
      "source": [
        "departamentos.head()"
      ],
      "execution_count": 3,
      "outputs": [
        {
          "output_type": "execute_result",
          "data": {
            "text/html": [
              "<div>\n",
              "<style scoped>\n",
              "    .dataframe tbody tr th:only-of-type {\n",
              "        vertical-align: middle;\n",
              "    }\n",
              "\n",
              "    .dataframe tbody tr th {\n",
              "        vertical-align: top;\n",
              "    }\n",
              "\n",
              "    .dataframe thead th {\n",
              "        text-align: right;\n",
              "    }\n",
              "</style>\n",
              "<table border=\"1\" class=\"dataframe\">\n",
              "  <thead>\n",
              "    <tr style=\"text-align: right;\">\n",
              "      <th></th>\n",
              "      <th>bathrooms</th>\n",
              "      <th>bedrooms</th>\n",
              "      <th>country</th>\n",
              "      <th>created_on</th>\n",
              "      <th>currency</th>\n",
              "      <th>descriptio</th>\n",
              "      <th>developmen</th>\n",
              "      <th>end_date</th>\n",
              "      <th>index</th>\n",
              "      <th>l1</th>\n",
              "      <th>l2</th>\n",
              "      <th>l3</th>\n",
              "      <th>l4</th>\n",
              "      <th>l5</th>\n",
              "      <th>l6</th>\n",
              "      <th>lat</th>\n",
              "      <th>lon</th>\n",
              "      <th>operation</th>\n",
              "      <th>operation_</th>\n",
              "      <th>price</th>\n",
              "      <th>price_peri</th>\n",
              "      <th>rooms</th>\n",
              "      <th>start_date</th>\n",
              "      <th>surface_co</th>\n",
              "      <th>surface_to</th>\n",
              "      <th>title</th>\n",
              "      <th>type</th>\n",
              "      <th>type_i18n</th>\n",
              "      <th>geometry</th>\n",
              "    </tr>\n",
              "  </thead>\n",
              "  <tbody>\n",
              "    <tr>\n",
              "      <th>0</th>\n",
              "      <td>1.0</td>\n",
              "      <td>1.0</td>\n",
              "      <td>Argentina</td>\n",
              "      <td>2019-09-26</td>\n",
              "      <td>ARS</td>\n",
              "      <td>b'CODIGO: 1819-CRI180 ubicado en: Av. Callao 1...</td>\n",
              "      <td>None</td>\n",
              "      <td>2019-10-10</td>\n",
              "      <td>0</td>\n",
              "      <td>Argentina</td>\n",
              "      <td>Capital Federal</td>\n",
              "      <td>Recoleta</td>\n",
              "      <td>None</td>\n",
              "      <td>None</td>\n",
              "      <td>None</td>\n",
              "      <td>-34.588601</td>\n",
              "      <td>-58.388285</td>\n",
              "      <td>Alquiler</td>\n",
              "      <td>Alquiler</td>\n",
              "      <td>18000</td>\n",
              "      <td>Mensual</td>\n",
              "      <td>NaN</td>\n",
              "      <td>2019-09-26</td>\n",
              "      <td>52</td>\n",
              "      <td>58</td>\n",
              "      <td>b'Recoleta. Av. Callao y Av. Alvear. Piso alto...</td>\n",
              "      <td>Departamento</td>\n",
              "      <td>Departamento</td>\n",
              "      <td>POINT (106827.294 104558.628)</td>\n",
              "    </tr>\n",
              "    <tr>\n",
              "      <th>1</th>\n",
              "      <td>3.0</td>\n",
              "      <td>NaN</td>\n",
              "      <td>Argentina</td>\n",
              "      <td>2019-09-26</td>\n",
              "      <td>ARS</td>\n",
              "      <td>b'Residencia de estudiantes y viajeros. Son do...</td>\n",
              "      <td>None</td>\n",
              "      <td>2019-11-04</td>\n",
              "      <td>1</td>\n",
              "      <td>Argentina</td>\n",
              "      <td>Capital Federal</td>\n",
              "      <td>Balvanera</td>\n",
              "      <td>None</td>\n",
              "      <td>None</td>\n",
              "      <td>None</td>\n",
              "      <td>-34.606939</td>\n",
              "      <td>-58.393496</td>\n",
              "      <td>Alquiler</td>\n",
              "      <td>Alquiler</td>\n",
              "      <td>45000</td>\n",
              "      <td>Mensual</td>\n",
              "      <td>NaN</td>\n",
              "      <td>2019-09-26</td>\n",
              "      <td>219</td>\n",
              "      <td>219</td>\n",
              "      <td>Departamento - Balvanera</td>\n",
              "      <td>Departamento</td>\n",
              "      <td>Departamento</td>\n",
              "      <td>POINT (106347.880 102524.692)</td>\n",
              "    </tr>\n",
              "    <tr>\n",
              "      <th>2</th>\n",
              "      <td>1.0</td>\n",
              "      <td>2.0</td>\n",
              "      <td>Argentina</td>\n",
              "      <td>2019-09-26</td>\n",
              "      <td>ARS</td>\n",
              "      <td>b'CODIGO: 1348-AF021227 ubicado en: Tacuari 26...</td>\n",
              "      <td>None</td>\n",
              "      <td>2019-09-28</td>\n",
              "      <td>2</td>\n",
              "      <td>Argentina</td>\n",
              "      <td>Capital Federal</td>\n",
              "      <td>Monserrat</td>\n",
              "      <td>None</td>\n",
              "      <td>None</td>\n",
              "      <td>None</td>\n",
              "      <td>-34.611352</td>\n",
              "      <td>-58.379205</td>\n",
              "      <td>Alquiler</td>\n",
              "      <td>Alquiler</td>\n",
              "      <td>18500</td>\n",
              "      <td>Mensual</td>\n",
              "      <td>NaN</td>\n",
              "      <td>2019-09-26</td>\n",
              "      <td>61</td>\n",
              "      <td>67</td>\n",
              "      <td>3 ambientes con patio 61 m2 propios bajas expe...</td>\n",
              "      <td>Departamento</td>\n",
              "      <td>Departamento</td>\n",
              "      <td>POINT (107658.254 102034.095)</td>\n",
              "    </tr>\n",
              "    <tr>\n",
              "      <th>3</th>\n",
              "      <td>NaN</td>\n",
              "      <td>NaN</td>\n",
              "      <td>Argentina</td>\n",
              "      <td>2019-09-26</td>\n",
              "      <td>ARS</td>\n",
              "      <td>b'Departamento de dos ambientes a 200 metros d...</td>\n",
              "      <td>None</td>\n",
              "      <td>2020-02-12</td>\n",
              "      <td>4</td>\n",
              "      <td>Argentina</td>\n",
              "      <td>Bs.As. G.B.A. Zona Oeste</td>\n",
              "      <td>La Matanza</td>\n",
              "      <td>San Justo</td>\n",
              "      <td>None</td>\n",
              "      <td>None</td>\n",
              "      <td>-34.680777</td>\n",
              "      <td>-58.553166</td>\n",
              "      <td>Alquiler</td>\n",
              "      <td>Alquiler</td>\n",
              "      <td>11000</td>\n",
              "      <td>Mensual</td>\n",
              "      <td>NaN</td>\n",
              "      <td>2019-09-26</td>\n",
              "      <td>38</td>\n",
              "      <td>38</td>\n",
              "      <td>Departamento - San Justo</td>\n",
              "      <td>Departamento</td>\n",
              "      <td>Departamento</td>\n",
              "      <td>POINT (91709.240 94331.755)</td>\n",
              "    </tr>\n",
              "    <tr>\n",
              "      <th>4</th>\n",
              "      <td>1.0</td>\n",
              "      <td>1.0</td>\n",
              "      <td>Argentina</td>\n",
              "      <td>2019-09-26</td>\n",
              "      <td>ARS</td>\n",
              "      <td>b'CODIGO: 733-1600MARIANOA ubicado en: MARIANO...</td>\n",
              "      <td>None</td>\n",
              "      <td>2019-11-10</td>\n",
              "      <td>5</td>\n",
              "      <td>Argentina</td>\n",
              "      <td>Capital Federal</td>\n",
              "      <td>Villa Urquiza</td>\n",
              "      <td>None</td>\n",
              "      <td>None</td>\n",
              "      <td>None</td>\n",
              "      <td>-34.577983</td>\n",
              "      <td>-58.472185</td>\n",
              "      <td>Alquiler</td>\n",
              "      <td>Alquiler</td>\n",
              "      <td>18500</td>\n",
              "      <td>Mensual</td>\n",
              "      <td>NaN</td>\n",
              "      <td>2019-09-26</td>\n",
              "      <td>39</td>\n",
              "      <td>49</td>\n",
              "      <td>EXCELENTE DEPARTAMENTO 2 AMB CON PATIO 49 MTS ...</td>\n",
              "      <td>Departamento</td>\n",
              "      <td>Departamento</td>\n",
              "      <td>POINT (99129.692 105739.092)</td>\n",
              "    </tr>\n",
              "  </tbody>\n",
              "</table>\n",
              "</div>"
            ],
            "text/plain": [
              "   bathrooms  bedrooms  ...     type_i18n                       geometry\n",
              "0        1.0       1.0  ...  Departamento  POINT (106827.294 104558.628)\n",
              "1        3.0       NaN  ...  Departamento  POINT (106347.880 102524.692)\n",
              "2        1.0       2.0  ...  Departamento  POINT (107658.254 102034.095)\n",
              "3        NaN       NaN  ...  Departamento    POINT (91709.240 94331.755)\n",
              "4        1.0       1.0  ...  Departamento   POINT (99129.692 105739.092)\n",
              "\n",
              "[5 rows x 29 columns]"
            ]
          },
          "metadata": {
            "tags": []
          },
          "execution_count": 3
        }
      ]
    },
    {
      "cell_type": "code",
      "metadata": {
        "id": "J8mm_3-z9NP1",
        "colab_type": "code",
        "colab": {}
      },
      "source": [
        "def regress(lista, data):\n",
        "  \"\"\" \n",
        "  Funcion que realiza la regresion OLS\n",
        "  La primera variable de la lista es la dependiente, el resto son las explicativas\n",
        "  data es la base de datos\n",
        "  \"\"\"\n",
        "  datos=data[lista]\n",
        "  # el metodo dropna() me permite eliminar las filas que tienen algun valor missing\n",
        "  datos=datos.dropna()\n",
        "  Y=datos[lista[0]]\n",
        "  X=datos[lista[1:]]\n",
        "  X=sm.add_constant(X)\n",
        "  modelo=sm.OLS(Y,X)\n",
        "  resultados=modelo.fit()\n",
        "  print(resultados.summary())\n"
      ],
      "execution_count": 24,
      "outputs": []
    },
    {
      "cell_type": "code",
      "metadata": {
        "id": "xK4sgYB8fEyO",
        "colab_type": "code",
        "colab": {
          "base_uri": "https://localhost:8080/",
          "height": 457
        },
        "outputId": "7ead22e2-bb9f-432c-900a-26f05abfad4d"
      },
      "source": [
        "regress(['price', 'bedrooms'], departamentos)"
      ],
      "execution_count": 34,
      "outputs": [
        {
          "output_type": "stream",
          "text": [
            "                            OLS Regression Results                            \n",
            "==============================================================================\n",
            "Dep. Variable:                  price   R-squared:                       0.049\n",
            "Model:                            OLS   Adj. R-squared:                  0.049\n",
            "Method:                 Least Squares   F-statistic:                     1443.\n",
            "Date:                Thu, 02 Jul 2020   Prob (F-statistic):          7.68e-308\n",
            "Time:                        20:30:22   Log-Likelihood:            -3.0876e+05\n",
            "No. Observations:               27879   AIC:                         6.175e+05\n",
            "Df Residuals:                   27877   BIC:                         6.175e+05\n",
            "Df Model:                           1                                         \n",
            "Covariance Type:            nonrobust                                         \n",
            "==============================================================================\n",
            "                 coef    std err          t      P>|t|      [0.025      0.975]\n",
            "------------------------------------------------------------------------------\n",
            "const       1.151e+04    205.145     56.088      0.000    1.11e+04    1.19e+04\n",
            "bedrooms    4253.5067    111.984     37.983      0.000    4034.013    4473.000\n",
            "==============================================================================\n",
            "Omnibus:                    39834.368   Durbin-Watson:                   1.851\n",
            "Prob(Omnibus):                  0.000   Jarque-Bera (JB):         59814269.062\n",
            "Skew:                           7.918   Prob(JB):                         0.00\n",
            "Kurtosis:                     229.365   Cond. No.                         5.02\n",
            "==============================================================================\n",
            "\n",
            "Warnings:\n",
            "[1] Standard Errors assume that the covariance matrix of the errors is correctly specified.\n"
          ],
          "name": "stdout"
        }
      ]
    },
    {
      "cell_type": "markdown",
      "metadata": {
        "id": "p7w8Z5g2faBg",
        "colab_type": "text"
      },
      "source": [
        "#Estimacion del Modelo Multivariado\n",
        "\n",
        "Modelo propuesto:\n",
        "\n",
        "$price_i=\\beta_0+\\beta_1*bedrooms_i+\\beta_2*surface+\\epsilon_i$"
      ]
    },
    {
      "cell_type": "code",
      "metadata": {
        "id": "maS-rnPZAOpp",
        "colab_type": "code",
        "colab": {
          "base_uri": "https://localhost:8080/",
          "height": 475
        },
        "outputId": "d99936ea-9bde-4d53-9613-0e82f53a6d2c"
      },
      "source": [
        "regress(['price', 'bedrooms','surface_to'], departamentos)"
      ],
      "execution_count": 25,
      "outputs": [
        {
          "output_type": "stream",
          "text": [
            "                            OLS Regression Results                            \n",
            "==============================================================================\n",
            "Dep. Variable:                  price   R-squared:                       0.049\n",
            "Model:                            OLS   Adj. R-squared:                  0.049\n",
            "Method:                 Least Squares   F-statistic:                     721.3\n",
            "Date:                Thu, 02 Jul 2020   Prob (F-statistic):          3.65e-306\n",
            "Time:                        19:29:20   Log-Likelihood:            -3.0876e+05\n",
            "No. Observations:               27879   AIC:                         6.175e+05\n",
            "Df Residuals:                   27876   BIC:                         6.176e+05\n",
            "Df Model:                           2                                         \n",
            "Covariance Type:            nonrobust                                         \n",
            "==============================================================================\n",
            "                 coef    std err          t      P>|t|      [0.025      0.975]\n",
            "------------------------------------------------------------------------------\n",
            "const       1.151e+04    205.151     56.087      0.000    1.11e+04    1.19e+04\n",
            "bedrooms    4254.6586    113.955     37.336      0.000    4031.301    4478.017\n",
            "surface_to    -0.0225      0.412     -0.055      0.956      -0.829       0.784\n",
            "==============================================================================\n",
            "Omnibus:                    39834.681   Durbin-Watson:                   1.851\n",
            "Prob(Omnibus):                  0.000   Jarque-Bera (JB):         59815237.742\n",
            "Skew:                           7.918   Prob(JB):                         0.00\n",
            "Kurtosis:                     229.367   Cond. No.                         605.\n",
            "==============================================================================\n",
            "\n",
            "Warnings:\n",
            "[1] Standard Errors assume that the covariance matrix of the errors is correctly specified.\n"
          ],
          "name": "stdout"
        }
      ]
    },
    {
      "cell_type": "code",
      "metadata": {
        "id": "NWZY9lr0pDY7",
        "colab_type": "code",
        "colab": {
          "base_uri": "https://localhost:8080/",
          "height": 457
        },
        "outputId": "446470a2-be1c-4dfe-beed-3018e9e4e831"
      },
      "source": [
        "regress(['price', 'surface_to'], departamentos)"
      ],
      "execution_count": 26,
      "outputs": [
        {
          "output_type": "stream",
          "text": [
            "                            OLS Regression Results                            \n",
            "==============================================================================\n",
            "Dep. Variable:                  price   R-squared:                       0.004\n",
            "Model:                            OLS   Adj. R-squared:                  0.004\n",
            "Method:                 Least Squares   F-statistic:                     210.4\n",
            "Date:                Thu, 02 Jul 2020   Prob (F-statistic):           1.37e-47\n",
            "Time:                        19:29:50   Log-Likelihood:            -5.6558e+05\n",
            "No. Observations:               50653   AIC:                         1.131e+06\n",
            "Df Residuals:                   50651   BIC:                         1.131e+06\n",
            "Df Model:                           1                                         \n",
            "Covariance Type:            nonrobust                                         \n",
            "==============================================================================\n",
            "                 coef    std err          t      P>|t|      [0.025      0.975]\n",
            "------------------------------------------------------------------------------\n",
            "const       1.735e+04     82.221    210.981      0.000    1.72e+04    1.75e+04\n",
            "surface_to     6.0797      0.419     14.507      0.000       5.258       6.901\n",
            "==============================================================================\n",
            "Omnibus:                   122577.427   Durbin-Watson:                   1.860\n",
            "Prob(Omnibus):                  0.000   Jarque-Bera (JB):       6193213175.294\n",
            "Skew:                          24.639   Prob(JB):                         0.00\n",
            "Kurtosis:                    1715.306   Cond. No.                         212.\n",
            "==============================================================================\n",
            "\n",
            "Warnings:\n",
            "[1] Standard Errors assume that the covariance matrix of the errors is correctly specified.\n"
          ],
          "name": "stdout"
        }
      ]
    },
    {
      "cell_type": "markdown",
      "metadata": {
        "id": "4HbYqws-Xjm_",
        "colab_type": "text"
      },
      "source": [
        "# Ejemplo OVB\n"
      ]
    },
    {
      "cell_type": "code",
      "metadata": {
        "id": "9yt1pkXzR-yG",
        "colab_type": "code",
        "colab": {}
      },
      "source": [
        "datosedu=pd.read_csv('https://raw.githubusercontent.com/rpasquini/urban-econometrics/master/data/estadistica-educativa.csv')"
      ],
      "execution_count": 56,
      "outputs": []
    },
    {
      "cell_type": "code",
      "metadata": {
        "id": "vO0cacNYYR8n",
        "colab_type": "code",
        "colab": {}
      },
      "source": [
        "dummiesgestion=pd.get_dummies(datosedu.tipo_gestion)"
      ],
      "execution_count": 57,
      "outputs": []
    },
    {
      "cell_type": "code",
      "metadata": {
        "id": "FiLl_MM7XplM",
        "colab_type": "code",
        "colab": {}
      },
      "source": [
        "datosedu=pd.concat([ datosedu, dummiesgestion],axis=1)"
      ],
      "execution_count": 58,
      "outputs": []
    },
    {
      "cell_type": "code",
      "metadata": {
        "id": "-QX5Q3grYaEi",
        "colab_type": "code",
        "colab": {
          "base_uri": "https://localhost:8080/",
          "height": 457
        },
        "outputId": "a9760e5b-9385-476b-bd78-80dd7fc1ea40"
      },
      "source": [
        "regress(['iecep', 'Privada'], datosedu)"
      ],
      "execution_count": 59,
      "outputs": [
        {
          "output_type": "stream",
          "text": [
            "                            OLS Regression Results                            \n",
            "==============================================================================\n",
            "Dep. Variable:                  iecep   R-squared:                       0.203\n",
            "Model:                            OLS   Adj. R-squared:                  0.200\n",
            "Method:                 Least Squares   F-statistic:                     77.79\n",
            "Date:                Thu, 02 Jul 2020   Prob (F-statistic):           8.89e-17\n",
            "Time:                        21:15:48   Log-Likelihood:                -487.24\n",
            "No. Observations:                 308   AIC:                             978.5\n",
            "Df Residuals:                     306   BIC:                             985.9\n",
            "Df Model:                           1                                         \n",
            "Covariance Type:            nonrobust                                         \n",
            "==============================================================================\n",
            "                 coef    std err          t      P>|t|      [0.025      0.975]\n",
            "------------------------------------------------------------------------------\n",
            "const          5.2251      0.110     47.656      0.000       5.009       5.441\n",
            "Privada        1.2248      0.139      8.820      0.000       0.952       1.498\n",
            "==============================================================================\n",
            "Omnibus:                       40.664   Durbin-Watson:                   1.866\n",
            "Prob(Omnibus):                  0.000   Jarque-Bera (JB):               53.439\n",
            "Skew:                          -0.924   Prob(JB):                     2.49e-12\n",
            "Kurtosis:                       3.864   Cond. No.                         3.02\n",
            "==============================================================================\n",
            "\n",
            "Warnings:\n",
            "[1] Standard Errors assume that the covariance matrix of the errors is correctly specified.\n"
          ],
          "name": "stdout"
        }
      ]
    },
    {
      "cell_type": "code",
      "metadata": {
        "id": "PurPS-QTYvFo",
        "colab_type": "code",
        "colab": {}
      },
      "source": [
        ""
      ],
      "execution_count": null,
      "outputs": []
    },
    {
      "cell_type": "markdown",
      "metadata": {
        "id": "PSVVqNSrStmm",
        "colab_type": "text"
      },
      "source": [
        "# Ejemplos Colinealidad\n"
      ]
    },
    {
      "cell_type": "code",
      "metadata": {
        "id": "oCRRO-RuOehL",
        "colab_type": "code",
        "colab": {}
      },
      "source": [
        "departamentos['bedrooms2']=departamentos.bedrooms**2"
      ],
      "execution_count": 40,
      "outputs": []
    },
    {
      "cell_type": "code",
      "metadata": {
        "id": "OS7b9nr9OxoJ",
        "colab_type": "code",
        "colab": {
          "base_uri": "https://localhost:8080/",
          "height": 475
        },
        "outputId": "412062db-940c-4fe9-b97b-d665448b882f"
      },
      "source": [
        "regress(['price', 'bedrooms', 'bedrooms2'], departamentos)"
      ],
      "execution_count": 41,
      "outputs": [
        {
          "output_type": "stream",
          "text": [
            "                            OLS Regression Results                            \n",
            "==============================================================================\n",
            "Dep. Variable:                  price   R-squared:                       0.056\n",
            "Model:                            OLS   Adj. R-squared:                  0.056\n",
            "Method:                 Least Squares   F-statistic:                     825.3\n",
            "Date:                Thu, 02 Jul 2020   Prob (F-statistic):               0.00\n",
            "Time:                        20:36:14   Log-Likelihood:            -3.0866e+05\n",
            "No. Observations:               27879   AIC:                         6.173e+05\n",
            "Df Residuals:                   27876   BIC:                         6.174e+05\n",
            "Df Model:                           2                                         \n",
            "Covariance Type:            nonrobust                                         \n",
            "==============================================================================\n",
            "                 coef    std err          t      P>|t|      [0.025      0.975]\n",
            "------------------------------------------------------------------------------\n",
            "const       8430.1194    299.447     28.152      0.000    7843.189    9017.050\n",
            "bedrooms    7880.3003    281.087     28.035      0.000    7329.356    8431.245\n",
            "bedrooms2   -845.3877     60.136    -14.058      0.000    -963.256    -727.519\n",
            "==============================================================================\n",
            "Omnibus:                    40006.125   Durbin-Watson:                   1.853\n",
            "Prob(Omnibus):                  0.000   Jarque-Bera (JB):         61153936.503\n",
            "Skew:                           7.983   Prob(JB):                         0.00\n",
            "Kurtosis:                     231.889   Cond. No.                         23.7\n",
            "==============================================================================\n",
            "\n",
            "Warnings:\n",
            "[1] Standard Errors assume that the covariance matrix of the errors is correctly specified.\n"
          ],
          "name": "stdout"
        }
      ]
    },
    {
      "cell_type": "code",
      "metadata": {
        "id": "V5HhKlmpSGAt",
        "colab_type": "code",
        "colab": {
          "base_uri": "https://localhost:8080/",
          "height": 457
        },
        "outputId": "b378fe88-8524-49c5-91ba-5e3119bd7093"
      },
      "source": [
        "regress(['tasa_repeticion_2012', 'one_alto_mat'], datosedu)"
      ],
      "execution_count": 44,
      "outputs": [
        {
          "output_type": "stream",
          "text": [
            "                             OLS Regression Results                             \n",
            "================================================================================\n",
            "Dep. Variable:     tasa_repeticion_2012   R-squared:                       0.179\n",
            "Model:                              OLS   Adj. R-squared:                  0.177\n",
            "Method:                   Least Squares   F-statistic:                     66.84\n",
            "Date:                  Thu, 02 Jul 2020   Prob (F-statistic):           7.90e-15\n",
            "Time:                          20:47:44   Log-Likelihood:                -1119.3\n",
            "No. Observations:                   308   AIC:                             2243.\n",
            "Df Residuals:                       306   BIC:                             2250.\n",
            "Df Model:                             1                                         \n",
            "Covariance Type:              nonrobust                                         \n",
            "================================================================================\n",
            "                   coef    std err          t      P>|t|      [0.025      0.975]\n",
            "--------------------------------------------------------------------------------\n",
            "const           15.2180      0.901     16.886      0.000      13.445      16.991\n",
            "one_alto_mat   -23.5385      2.879     -8.176      0.000     -29.204     -17.873\n",
            "==============================================================================\n",
            "Omnibus:                       59.030   Durbin-Watson:                   1.930\n",
            "Prob(Omnibus):                  0.000   Jarque-Bera (JB):               91.831\n",
            "Skew:                           1.147   Prob(JB):                     1.15e-20\n",
            "Kurtosis:                       4.378   Cond. No.                         5.87\n",
            "==============================================================================\n",
            "\n",
            "Warnings:\n",
            "[1] Standard Errors assume that the covariance matrix of the errors is correctly specified.\n"
          ],
          "name": "stdout"
        }
      ]
    },
    {
      "cell_type": "code",
      "metadata": {
        "id": "jqyC3a_KSR-n",
        "colab_type": "code",
        "colab": {
          "base_uri": "https://localhost:8080/",
          "height": 457
        },
        "outputId": "7b5d367d-8dc9-4d96-cd54-883a66f37eab"
      },
      "source": [
        "regress(['tasa_repeticion_2012', 'one_alto_cs_nat'], datosedu)"
      ],
      "execution_count": 45,
      "outputs": [
        {
          "output_type": "stream",
          "text": [
            "                             OLS Regression Results                             \n",
            "================================================================================\n",
            "Dep. Variable:     tasa_repeticion_2012   R-squared:                       0.179\n",
            "Model:                              OLS   Adj. R-squared:                  0.177\n",
            "Method:                   Least Squares   F-statistic:                     66.93\n",
            "Date:                  Thu, 02 Jul 2020   Prob (F-statistic):           7.61e-15\n",
            "Time:                          20:48:03   Log-Likelihood:                -1119.2\n",
            "No. Observations:                   308   AIC:                             2242.\n",
            "Df Residuals:                       306   BIC:                             2250.\n",
            "Df Model:                             1                                         \n",
            "Covariance Type:              nonrobust                                         \n",
            "===================================================================================\n",
            "                      coef    std err          t      P>|t|      [0.025      0.975]\n",
            "-----------------------------------------------------------------------------------\n",
            "const              15.3143      0.910     16.822      0.000      13.523      17.106\n",
            "one_alto_cs_nat   -30.1352      3.683     -8.181      0.000     -37.383     -22.887\n",
            "==============================================================================\n",
            "Omnibus:                       55.703   Durbin-Watson:                   1.985\n",
            "Prob(Omnibus):                  0.000   Jarque-Bera (JB):               84.013\n",
            "Skew:                           1.108   Prob(JB):                     5.71e-19\n",
            "Kurtosis:                       4.281   Cond. No.                         7.33\n",
            "==============================================================================\n",
            "\n",
            "Warnings:\n",
            "[1] Standard Errors assume that the covariance matrix of the errors is correctly specified.\n"
          ],
          "name": "stdout"
        }
      ]
    },
    {
      "cell_type": "code",
      "metadata": {
        "id": "kL8II8X9SWR7",
        "colab_type": "code",
        "colab": {
          "base_uri": "https://localhost:8080/",
          "height": 457
        },
        "outputId": "6d8762d9-99c4-4655-92b6-97d40142bfc2"
      },
      "source": [
        "regress(['tasa_repeticion_2012', 'one_alto_cs_soc'], datosedu)"
      ],
      "execution_count": 46,
      "outputs": [
        {
          "output_type": "stream",
          "text": [
            "                             OLS Regression Results                             \n",
            "================================================================================\n",
            "Dep. Variable:     tasa_repeticion_2012   R-squared:                       0.190\n",
            "Model:                              OLS   Adj. R-squared:                  0.188\n",
            "Method:                   Least Squares   F-statistic:                     71.94\n",
            "Date:                  Thu, 02 Jul 2020   Prob (F-statistic):           9.62e-16\n",
            "Time:                          20:48:21   Log-Likelihood:                -1117.2\n",
            "No. Observations:                   308   AIC:                             2238.\n",
            "Df Residuals:                       306   BIC:                             2246.\n",
            "Df Model:                             1                                         \n",
            "Covariance Type:              nonrobust                                         \n",
            "===================================================================================\n",
            "                      coef    std err          t      P>|t|      [0.025      0.975]\n",
            "-----------------------------------------------------------------------------------\n",
            "const              16.9993      1.054     16.125      0.000      14.925      19.074\n",
            "one_alto_cs_soc   -26.9200      3.174     -8.482      0.000     -33.165     -20.674\n",
            "==============================================================================\n",
            "Omnibus:                       58.859   Durbin-Watson:                   1.989\n",
            "Prob(Omnibus):                  0.000   Jarque-Bera (JB):               92.739\n",
            "Skew:                           1.131   Prob(JB):                     7.28e-21\n",
            "Kurtosis:                       4.453   Cond. No.                         6.62\n",
            "==============================================================================\n",
            "\n",
            "Warnings:\n",
            "[1] Standard Errors assume that the covariance matrix of the errors is correctly specified.\n"
          ],
          "name": "stdout"
        }
      ]
    },
    {
      "cell_type": "code",
      "metadata": {
        "id": "zRH5THsOSaoa",
        "colab_type": "code",
        "colab": {
          "base_uri": "https://localhost:8080/",
          "height": 492
        },
        "outputId": "905d9e6e-816f-4a11-811f-aee37d9cd0f6"
      },
      "source": [
        "regress(['tasa_repeticion_2012',  'one_alto_mat', 'one_alto_cs_nat', 'one_alto_cs_soc'], datosedu)"
      ],
      "execution_count": 47,
      "outputs": [
        {
          "output_type": "stream",
          "text": [
            "                             OLS Regression Results                             \n",
            "================================================================================\n",
            "Dep. Variable:     tasa_repeticion_2012   R-squared:                       0.228\n",
            "Model:                              OLS   Adj. R-squared:                  0.220\n",
            "Method:                   Least Squares   F-statistic:                     29.89\n",
            "Date:                  Thu, 02 Jul 2020   Prob (F-statistic):           5.80e-17\n",
            "Time:                          20:49:03   Log-Likelihood:                -1109.9\n",
            "No. Observations:                   308   AIC:                             2228.\n",
            "Df Residuals:                       304   BIC:                             2243.\n",
            "Df Model:                             3                                         \n",
            "Covariance Type:              nonrobust                                         \n",
            "===================================================================================\n",
            "                      coef    std err          t      P>|t|      [0.025      0.975]\n",
            "-----------------------------------------------------------------------------------\n",
            "const              17.5814      1.044     16.839      0.000      15.527      19.636\n",
            "one_alto_mat       -9.4725      4.373     -2.166      0.031     -18.078      -0.867\n",
            "one_alto_cs_nat   -10.0345      5.878     -1.707      0.089     -21.601       1.531\n",
            "one_alto_cs_soc   -13.5609      4.698     -2.886      0.004     -22.806      -4.316\n",
            "==============================================================================\n",
            "Omnibus:                       53.961   Durbin-Watson:                   1.978\n",
            "Prob(Omnibus):                  0.000   Jarque-Bera (JB):               81.254\n",
            "Skew:                           1.072   Prob(JB):                     2.27e-18\n",
            "Kurtosis:                       4.316   Cond. No.                         14.3\n",
            "==============================================================================\n",
            "\n",
            "Warnings:\n",
            "[1] Standard Errors assume that the covariance matrix of the errors is correctly specified.\n"
          ],
          "name": "stdout"
        }
      ]
    },
    {
      "cell_type": "markdown",
      "metadata": {
        "id": "jEmFwfki1Ahd",
        "colab_type": "text"
      },
      "source": [
        "# Investigando el premio por formalidad \n",
        "### Extracto de Datos de Goytia, Heikkila, Pasquini (2020)"
      ]
    },
    {
      "cell_type": "code",
      "metadata": {
        "id": "zUHI75r9x3x9",
        "colab_type": "code",
        "colab": {}
      },
      "source": [
        "datosghp=pd.read_csv('https://raw.githubusercontent.com/rpasquini/urban-econometrics/master/data/formal%20premia%20data%20extract.csv')"
      ],
      "execution_count": 19,
      "outputs": []
    },
    {
      "cell_type": "code",
      "metadata": {
        "id": "aJ133XwA4hVM",
        "colab_type": "code",
        "colab": {
          "base_uri": "https://localhost:8080/",
          "height": 175
        },
        "outputId": "f03a1071-9bd2-4e71-dc64-71b73b742a9d"
      },
      "source": [
        "datosghp.columns"
      ],
      "execution_count": 20,
      "outputs": [
        {
          "output_type": "execute_result",
          "data": {
            "text/plain": [
              "Index(['hora_c', 'hora_f', 'bformal', 'dconurb1', 'dconurb2', 'dconurb3',\n",
              "       'dmore2000', 'dprop_soloviv', 'dprop_ocupant', 'dinquilinos',\n",
              "       'npersonashogar', 'dedu_secincomp', 'dedu_seccomp', 'dedu_ter_o_mas',\n",
              "       'ddondevivia2', 'ddondevivia3', 'ddondevivia4', 'ddondevivia5',\n",
              "       'ddondevivia6', 'ddondevivia7', 'dmigrantefuerabarrio',\n",
              "       'antigenvivienda', 'nambientes', 'm2', 'dconexionagua1',\n",
              "       'dconexionagua2', 'dconexionagua3', 'dpagaelagua', 'dcloaca',\n",
              "       'delectricidad_med', 'dconexiongas', 'alquiler2', 'ingresohogar2'],\n",
              "      dtype='object')"
            ]
          },
          "metadata": {
            "tags": []
          },
          "execution_count": 20
        }
      ]
    },
    {
      "cell_type": "code",
      "metadata": {
        "id": "Lir7snQ93x2U",
        "colab_type": "code",
        "colab": {
          "base_uri": "https://localhost:8080/",
          "height": 510
        },
        "outputId": "98060227-b35b-4bbe-b0b3-2b0890cd1c9e"
      },
      "source": [
        "regress(['alquiler2', 'bformal','dconurb1','dconurb2','dconurb3'], datosghp)\n"
      ],
      "execution_count": 29,
      "outputs": [
        {
          "output_type": "stream",
          "text": [
            "                            OLS Regression Results                            \n",
            "==============================================================================\n",
            "Dep. Variable:              alquiler2   R-squared:                       0.134\n",
            "Model:                            OLS   Adj. R-squared:                  0.124\n",
            "Method:                 Least Squares   F-statistic:                     14.11\n",
            "Date:                Thu, 02 Jul 2020   Prob (F-statistic):           1.02e-10\n",
            "Time:                        20:11:37   Log-Likelihood:                -3293.9\n",
            "No. Observations:                 371   AIC:                             6598.\n",
            "Df Residuals:                     366   BIC:                             6617.\n",
            "Df Model:                           4                                         \n",
            "Covariance Type:            nonrobust                                         \n",
            "==============================================================================\n",
            "                 coef    std err          t      P>|t|      [0.025      0.975]\n",
            "------------------------------------------------------------------------------\n",
            "const       2999.6642    200.285     14.977      0.000    2605.810    3393.519\n",
            "bformal     1302.1825    199.160      6.538      0.000     910.540    1693.825\n",
            "dconurb1    -533.6485    305.959     -1.744      0.082   -1135.307      68.010\n",
            "dconurb2     100.0643    267.362      0.374      0.708    -425.695     625.823\n",
            "dconurb3    -253.6081    274.256     -0.925      0.356    -792.924     285.708\n",
            "==============================================================================\n",
            "Omnibus:                      158.656   Durbin-Watson:                   1.837\n",
            "Prob(Omnibus):                  0.000   Jarque-Bera (JB):              726.610\n",
            "Skew:                           1.821   Prob(JB):                    1.65e-158\n",
            "Kurtosis:                       8.809   Cond. No.                         6.02\n",
            "==============================================================================\n",
            "\n",
            "Warnings:\n",
            "[1] Standard Errors assume that the covariance matrix of the errors is correctly specified.\n"
          ],
          "name": "stdout"
        }
      ]
    },
    {
      "cell_type": "code",
      "metadata": {
        "id": "9xh8yvBy4cgs",
        "colab_type": "code",
        "colab": {
          "base_uri": "https://localhost:8080/",
          "height": 563
        },
        "outputId": "3db94f7d-650b-4e65-a390-7010b5ff6edb"
      },
      "source": [
        "regress(['alquiler2', 'bformal','dconurb1','dconurb2','dconurb3','dconexionagua1', 'delectricidad_med', 'dconexiongas'], datosghp)\n"
      ],
      "execution_count": 30,
      "outputs": [
        {
          "output_type": "stream",
          "text": [
            "                            OLS Regression Results                            \n",
            "==============================================================================\n",
            "Dep. Variable:              alquiler2   R-squared:                       0.240\n",
            "Model:                            OLS   Adj. R-squared:                  0.225\n",
            "Method:                 Least Squares   F-statistic:                     16.36\n",
            "Date:                Thu, 02 Jul 2020   Prob (F-statistic):           9.86e-19\n",
            "Time:                        20:12:03   Log-Likelihood:                -3269.6\n",
            "No. Observations:                 371   AIC:                             6555.\n",
            "Df Residuals:                     363   BIC:                             6587.\n",
            "Df Model:                           7                                         \n",
            "Covariance Type:            nonrobust                                         \n",
            "=====================================================================================\n",
            "                        coef    std err          t      P>|t|      [0.025      0.975]\n",
            "-------------------------------------------------------------------------------------\n",
            "const              2624.9510    203.062     12.927      0.000    2225.625    3024.277\n",
            "bformal             208.8836    243.253      0.859      0.391    -269.478     687.246\n",
            "dconurb1           -964.1986    315.410     -3.057      0.002   -1584.459    -343.938\n",
            "dconurb2           -469.7099    272.652     -1.723      0.086   -1005.886      66.466\n",
            "dconurb3           -250.0882    284.833     -0.878      0.381    -810.219     310.042\n",
            "dconexionagua1      620.8848    250.444      2.479      0.014     128.381    1113.389\n",
            "delectricidad_med   796.8776    247.309      3.222      0.001     310.539    1283.217\n",
            "dconexiongas       1071.5590    240.969      4.447      0.000     597.688    1545.430\n",
            "==============================================================================\n",
            "Omnibus:                      167.456   Durbin-Watson:                   1.911\n",
            "Prob(Omnibus):                  0.000   Jarque-Bera (JB):              845.796\n",
            "Skew:                           1.898   Prob(JB):                    2.18e-184\n",
            "Kurtosis:                       9.349   Cond. No.                         8.11\n",
            "==============================================================================\n",
            "\n",
            "Warnings:\n",
            "[1] Standard Errors assume that the covariance matrix of the errors is correctly specified.\n"
          ],
          "name": "stdout"
        }
      ]
    },
    {
      "cell_type": "markdown",
      "metadata": {
        "id": "sR6k-CLyNaOQ",
        "colab_type": "text"
      },
      "source": [
        "### Agrego variable irrelevante\n"
      ]
    },
    {
      "cell_type": "code",
      "metadata": {
        "id": "JnFvcJpSNDLp",
        "colab_type": "code",
        "colab": {
          "base_uri": "https://localhost:8080/",
          "height": 580
        },
        "outputId": "8aed0149-e774-4520-c776-2f8d380ac13a"
      },
      "source": [
        "regress(['alquiler2', 'bformal','dconurb1','dconurb2','dconurb3','dconexionagua1', 'delectricidad_med', 'dconexiongas','hora_c'], datosghp)\n"
      ],
      "execution_count": 33,
      "outputs": [
        {
          "output_type": "stream",
          "text": [
            "                            OLS Regression Results                            \n",
            "==============================================================================\n",
            "Dep. Variable:              alquiler2   R-squared:                       0.240\n",
            "Model:                            OLS   Adj. R-squared:                  0.224\n",
            "Method:                 Least Squares   F-statistic:                     14.32\n",
            "Date:                Thu, 02 Jul 2020   Prob (F-statistic):           3.68e-18\n",
            "Time:                        20:25:38   Log-Likelihood:                -3269.5\n",
            "No. Observations:                 371   AIC:                             6557.\n",
            "Df Residuals:                     362   BIC:                             6592.\n",
            "Df Model:                           8                                         \n",
            "Covariance Type:            nonrobust                                         \n",
            "=====================================================================================\n",
            "                        coef    std err          t      P>|t|      [0.025      0.975]\n",
            "-------------------------------------------------------------------------------------\n",
            "const              2361.1986    550.483      4.289      0.000    1278.651    3443.746\n",
            "bformal             190.0535    246.223      0.772      0.441    -294.154     674.261\n",
            "dconurb1           -979.8016    317.177     -3.089      0.002   -1603.542    -356.061\n",
            "dconurb2           -489.4651    275.605     -1.776      0.077   -1031.453      52.523\n",
            "dconurb3           -266.9556    286.993     -0.930      0.353    -831.338     297.427\n",
            "dconexionagua1      622.8630    250.727      2.484      0.013     129.798    1115.928\n",
            "delectricidad_med   806.3666    248.243      3.248      0.001     318.187    1294.546\n",
            "dconexiongas       1079.7745    241.739      4.467      0.000     604.385    1555.164\n",
            "hora_c               21.8102     42.304      0.516      0.606     -61.381     105.002\n",
            "==============================================================================\n",
            "Omnibus:                      167.318   Durbin-Watson:                   1.919\n",
            "Prob(Omnibus):                  0.000   Jarque-Bera (JB):              845.171\n",
            "Skew:                           1.896   Prob(JB):                    2.97e-184\n",
            "Kurtosis:                       9.348   Cond. No.                         84.5\n",
            "==============================================================================\n",
            "\n",
            "Warnings:\n",
            "[1] Standard Errors assume that the covariance matrix of the errors is correctly specified.\n"
          ],
          "name": "stdout"
        }
      ]
    },
    {
      "cell_type": "code",
      "metadata": {
        "id": "6834ghfTOHSN",
        "colab_type": "code",
        "colab": {}
      },
      "source": [
        ""
      ],
      "execution_count": null,
      "outputs": []
    }
  ]
}