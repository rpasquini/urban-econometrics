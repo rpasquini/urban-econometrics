{
 "cells": [
  {
   "cell_type": "markdown",
   "metadata": {},
   "source": [
    "# Este notebook muestra como hacer una consulta de datos a Properati Data en Google Big Query\n",
    "\n",
    "Para ello tienen que tener previamente una credencial de google big query, en la forma de un archivo json, en el directorio del projecto.\n",
    "Para más información sobre la fuente de datos ver el sitio de [Properati Data](https://www.properati.com.ar/data/)\n"
   ]
  },
  {
   "cell_type": "code",
   "execution_count": 100,
   "metadata": {},
   "outputs": [],
   "source": [
    "#Autor Ricardo Pasquini\n",
    "import os, inspect\n",
    "from google.cloud import bigquery\n",
    "from google.oauth2 import service_account"
   ]
  },
  {
   "cell_type": "code",
   "execution_count": 116,
   "metadata": {},
   "outputs": [],
   "source": [
    "import pandas as pd\n",
    "from pandas.io.json import json_normalize"
   ]
  },
  {
   "cell_type": "code",
   "execution_count": 3,
   "metadata": {},
   "outputs": [],
   "source": [
    "currentdir = os.path.dirname(os.path.abspath(inspect.getfile(inspect.currentframe())))"
   ]
  },
  {
   "cell_type": "code",
   "execution_count": 4,
   "metadata": {},
   "outputs": [
    {
     "data": {
      "text/plain": [
       "'C:\\\\Users\\\\Richard\\\\Drive\\\\projects\\\\geotests'"
      ]
     },
     "execution_count": 4,
     "metadata": {},
     "output_type": "execute_result"
    }
   ],
   "source": [
    "currentdir"
   ]
  },
  {
   "cell_type": "markdown",
   "metadata": {},
   "source": [
    "## Generar una clave\n",
    "Para generar su propia clave y descargarla en formato json sigan las siguientes instrucciones: \n",
    "https://cloud.google.com/docs/authentication/getting-started"
   ]
  },
  {
   "cell_type": "markdown",
   "metadata": {},
   "source": [
    "Cargo mi credencial"
   ]
  },
  {
   "cell_type": "code",
   "execution_count": 5,
   "metadata": {},
   "outputs": [],
   "source": [
    "credentials = service_account.Credentials.from_service_account_file(\n",
    "    currentdir+'\\credentialsbigquery\\NOMBREDELALLAVE.json')"
   ]
  },
  {
   "cell_type": "code",
   "execution_count": 61,
   "metadata": {},
   "outputs": [],
   "source": [
    "project_id = 'dataproperati2019'\n",
    "client = bigquery.Client(credentials= credentials,project=project_id)\n",
    "\n",
    "\n",
    "# Aqui se define el pedido en formato SQL.\n",
    "QUERY = (\n",
    "'SELECT * FROM `properati-dw.public.ads` WHERE start_date >= \"2019-05-01\" AND start_date <= \"2020-05-15\" AND type = \"Propiedad\" AND country = \"Argentina\" '\n",
    "'AND place.l1 = \"Argentina\" '\n",
    "#'AND property.type = \"Departamento\" '\n",
    "'AND property.operation = \"Alquiler\" '\n",
    "'AND property.surface_total > 0 '\n",
    "'AND property.surface_covered > 0 '\n",
    "'AND property.price > 0 '\n",
    "'AND (place.l2=\"Capital Federal\" or place.l2=\"Buenos Aires Interior\" or place.l2=\"Bs.As. G.B.A. Zona Sur\" or place.l2=\"Bs.As. G.B.A. Zona Norte\" or place.l2=\"Bs.As. G.B.A. Zona Oeste\") '\n",
    ")\n",
    "\n",
    "query_job = client.query(QUERY)  # API request\n",
    "rows = query_job.result()  # Waits for query to finish\n",
    "\n",
    "#for row in rows:\n",
    "#    print(row.start_date, row.country)\n",
    "    "
   ]
  },
  {
   "cell_type": "markdown",
   "metadata": {},
   "source": [
    "Realizando el query y guardando en un dataframe"
   ]
  },
  {
   "cell_type": "code",
   "execution_count": 62,
   "metadata": {},
   "outputs": [],
   "source": [
    "df=client.query(QUERY).to_dataframe()"
   ]
  },
  {
   "cell_type": "markdown",
   "metadata": {},
   "source": [
    "Esta celda lleva el campo property a columnas y las combina con el resto columnas "
   ]
  },
  {
   "cell_type": "code",
   "execution_count": 112,
   "metadata": {},
   "outputs": [],
   "source": [
    "df2=pd.concat([df[['type', 'type_i18n', 'country', 'id', 'start_date', 'end_date',\n",
    "       'created_on', 'place', 'development']], json_normalize(df.property), json_normalize(df.place)], axis=1)"
   ]
  },
  {
   "cell_type": "code",
   "execution_count": 97,
   "metadata": {},
   "outputs": [
    {
     "data": {
      "text/plain": [
       "'¡ MONOAMBIENTE DIVISIBLE ! ¡ SIN EXPENSAS ! <br>#Alquiler | #Departamento | #Boedo | #1AMB | #PH | #Balcón<br>Avenida San Juan y Avenida Boedo - Ciudad Autónoma de Bs As <br><br>#Características: <br>~ PH Sin Expensas<br>~ Acceso Primer Piso por Escalera.<br>~ Ambiente Dividido Bien Distribuido.<br>~ Cocina Integrada con Mobiliario a Estrenar.<br>~ Espacioso Comedor..<br>~ Dormitorio con Balcón al Frente. <br>~ Baño Completo con Bañera..<br>~ Reciclado a Nuevo.<br>~ Aire Acondicionado Split marca LG a Estrenar.<br>~ Calefón a Gas a Estrenar .<br>~ Cocina a Gas a Estrenar.<br>~ Lavarropas  a Estrenar.<br>~ Pisos de: Cerámico. <br>~Totalmente Pintada. <br>~ Excelente Ubicación sobre Avenida San Juan en Pleno Centro del Barrio de Boedo. <br>~ No Apto Mascotas. <br><br>#MásInfo sobre este aviso en el siguiente link: <br>http:// El edificio no cuenta con accesibilidad para personas con movilidad reducida  <br>#Consultas a <br>#Oficina en Avenida San Juan 3511 - CABA <br><br>Desde 1921 - #OportunidadesGrandesComoUnaCasa<br><br>\"Para los casos de alquiler de vivienda, el monto máximo de comisión que se le puede requerir a los propietarios será el equivalente al cuatro con quince centésimos por ciento (4,15%) del valor total del respectivo contrato. Se encuentra prohibido cobrar a los inquilinos que sean personas físicas comisiones inmobiliarias y gastos de gestoría de informes\".'"
      ]
     },
     "execution_count": 97,
     "metadata": {},
     "output_type": "execute_result"
    }
   ],
   "source": [
    "df2.description[0]"
   ]
  },
  {
   "cell_type": "code",
   "execution_count": 114,
   "metadata": {},
   "outputs": [
    {
     "data": {
      "text/plain": [
       "Index(['type', 'type_i18n', 'country', 'id', 'start_date', 'end_date',\n",
       "       'created_on', 'place', 'development', 'operation', 'operation_i18n',\n",
       "       'type', 'type_i18n', 'rooms', 'bedrooms', 'bathrooms', 'surface_total',\n",
       "       'surface_covered', 'price', 'currency', 'price_period', 'title',\n",
       "       'description', 'lat', 'lon', 'l1', 'l2', 'l3', 'l4', 'l5', 'l6'],\n",
       "      dtype='object')"
      ]
     },
     "execution_count": 114,
     "metadata": {},
     "output_type": "execute_result"
    }
   ],
   "source": [
    "df2.columns"
   ]
  },
  {
   "cell_type": "markdown",
   "metadata": {},
   "source": [
    "# Descargar a un CSV"
   ]
  },
  {
   "cell_type": "code",
   "execution_count": 115,
   "metadata": {},
   "outputs": [],
   "source": [
    "df2.to_csv('data\\\\descargatest2020\\\\test1.csv')"
   ]
  },
  {
   "cell_type": "markdown",
   "metadata": {},
   "source": [
    "# Preparar geodataframe"
   ]
  },
  {
   "cell_type": "code",
   "execution_count": null,
   "metadata": {},
   "outputs": [],
   "source": [
    "!pip install geopandas\n",
    "import geopandas as gpd\n",
    "crs = {'init' :'epsg:4326'}\n",
    "from shapely.geometry import Point\n",
    "geometry = [Point(xy) for xy in zip(df.lon, df.lat)]\n",
    "gdf = gpd.GeoDataFrame(df, crs=crs, geometry=geometry)"
   ]
  },
  {
   "cell_type": "markdown",
   "metadata": {},
   "source": [
    "# Exportar a un shapefile"
   ]
  },
  {
   "cell_type": "code",
   "execution_count": null,
   "metadata": {},
   "outputs": [],
   "source": [
    "gdf.to_file(\"data\\\\descargatest2020\\\\test1.shp\")"
   ]
  },
  {
   "cell_type": "markdown",
   "metadata": {},
   "source": [
    "# Ejemplo insertar a un MongoDB  local"
   ]
  },
  {
   "cell_type": "code",
   "execution_count": null,
   "metadata": {},
   "outputs": [],
   "source": [
    "import pymongo\n",
    "\n",
    "client = pymongo.MongoClient('localhost', 27017)\n",
    "db = client[\"properati\"]  #vivienda is the name of the db"
   ]
  },
  {
   "cell_type": "code",
   "execution_count": 9,
   "metadata": {},
   "outputs": [],
   "source": [
    "df2=df.copy()\n",
    "df2.start_date=pd.to_datetime(df.start_date)\n",
    "df2.end_date=pd.to_datetime(df.end_date, errors = 'coerce') # convierto a nulos los que no se corresponden con fecha verdadera\n",
    "df2.created_on=pd.to_datetime(df.created_on)\n",
    "df2=df2[~pd.isnull(df2.end_date)]"
   ]
  },
  {
   "cell_type": "code",
   "execution_count": 10,
   "metadata": {},
   "outputs": [],
   "source": [
    "dfdictionary=df2.to_dict('records')"
   ]
  },
  {
   "cell_type": "code",
   "execution_count": 11,
   "metadata": {},
   "outputs": [
    {
     "data": {
      "text/plain": [
       "<pymongo.results.InsertManyResult at 0x258dc1c3f88>"
      ]
     },
     "execution_count": 11,
     "metadata": {},
     "output_type": "execute_result"
    }
   ],
   "source": [
    "db.raw.insert_many(dfdictionary)"
   ]
  }
 ],
 "metadata": {
  "kernelspec": {
   "display_name": "Python 36 (bigquery)",
   "language": "python",
   "name": "bigquery"
  },
  "language_info": {
   "codemirror_mode": {
    "name": "ipython",
    "version": 3
   },
   "file_extension": ".py",
   "mimetype": "text/x-python",
   "name": "python",
   "nbconvert_exporter": "python",
   "pygments_lexer": "ipython3",
   "version": "3.6.7"
  }
 },
 "nbformat": 4,
 "nbformat_minor": 2
}
