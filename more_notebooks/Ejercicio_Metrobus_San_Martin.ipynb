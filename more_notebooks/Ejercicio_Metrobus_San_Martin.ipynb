{
  "nbformat": 4,
  "nbformat_minor": 0,
  "metadata": {
    "colab": {
      "name": "Ejercicio Metrobus San Martin.ipynb",
      "provenance": [],
      "authorship_tag": "ABX9TyNTFLfXofH/8JZGxZvlksNs",
      "include_colab_link": true
    },
    "kernelspec": {
      "name": "python3",
      "display_name": "Python 3"
    }
  },
  "cells": [
    {
      "cell_type": "markdown",
      "metadata": {
        "id": "view-in-github",
        "colab_type": "text"
      },
      "source": [
        "<a href=\"https://colab.research.google.com/github/rpasquini/urban-econometrics/blob/master/more_notebooks/Ejercicio_Metrobus_San_Martin.ipynb\" target=\"_parent\"><img src=\"https://colab.research.google.com/assets/colab-badge.svg\" alt=\"Open In Colab\"/></a>"
      ]
    },
    {
      "cell_type": "markdown",
      "metadata": {
        "id": "WGolvEgsJWJ2",
        "colab_type": "text"
      },
      "source": [
        "\n",
        "# Trabajo Final Evaluación de Impacto 2020. Ejercicio 10\n"
      ]
    },
    {
      "cell_type": "markdown",
      "metadata": {
        "id": "5q51tCcvJQAg",
        "colab_type": "text"
      },
      "source": [
        "# Consigna\n",
        "\n",
        "Desarrolle un análisis de los efectos del Metrobús San Martin en los precios de alquiler de las propiedades cercanas. La hipótesis principal a testear es que las propiedades cercanas a la arteria afectada por el Metrobús San Martín experimentaron un incremento en sus precios. El objetivo es \n",
        "evaluar si se cumple la hipótesis y cuantificar el efecto. \n",
        "\n",
        "Para el análisis utilizarán los datos que proveo más abajo.\n",
        "En particular, como parte de la consigna, les pido que desarrollen los siguientes puntos:\n",
        "\n",
        "1. Elija una estrategia de identificación de causalidad (entre las que se presentaron en el curso). Describa brevemente su estrategia y los supuestos.\n",
        "2. Estime el modelo y explique sus resultados\n"
      ]
    },
    {
      "cell_type": "markdown",
      "metadata": {
        "id": "0lMj-WvKG4cr",
        "colab_type": "text"
      },
      "source": [
        "#Algunas características del Metrobús San Martín\n",
        "\n",
        "El proyecto se anuncio en 2013 por primera vez.\n",
        "http://www.buenosaires.gob.ar/noticias/macri-anuncio-cuatro-nuevas-lineas-de-metrobus\n",
        "La obra fue terminada 28/04 de 2016.\n"
      ]
    },
    {
      "cell_type": "markdown",
      "metadata": {
        "id": "Ylbb915RHnCX",
        "colab_type": "text"
      },
      "source": [
        "* Los datos se corresponden con anuncios de propiedades bajo alquiler que fueron colectados del\n",
        "sitio [Properati](www.properati.com/data). El período cubre anuncios que fueron creados en la web desde 2012 en adelante,\n",
        "y se corresponde con los datos que Properati tiene publicados en archivos mensuales desde\n",
        "2014 en adelante. \\\\\n",
        "\n",
        "* Los datos se corresponden con todas las ofertas que cayeron en un buffer de 500 metros de las trazas del Metrobus San Martín durante el período de publicaciones 2014-2018.\n",
        "\n",
        " Se incluye una variable **distancia**, que mide la distancia al metrobus respectivo en **metros**. Ver el detalle más abajo\n",
        "\n",
        "* Así también, incluyo en la base de datos otros datos que podrían servirle para generar su estrategia de identificación. A saber: la base incluye ofertas de alquiler de propiedades que cayeron en un buffer de 500 metros de la traza del Metrobus Juan B Justo durante el mismo período. El metrobus de Avenida Juan B Justo se inauguró en Mayo 2011, es decir, que [la obra ya estaba completada](\n",
        "https://www.clarin.com/capital_federal/Arranco-Metrobus-avenida-Juan-\n",
        "Justo_0_SJZb6oWTDXe.html)\n",
        "Aclaración: Usted puede decidir si usar estos datos o no. Utilice los datos que considere conveniente."
      ]
    },
    {
      "cell_type": "code",
      "metadata": {
        "id": "oNNYHQcIEi0E",
        "colab_type": "code",
        "colab": {
          "base_uri": "https://localhost:8080/",
          "height": 477
        },
        "outputId": "e9e30729-0134-43c4-b300-da47d7938f49"
      },
      "source": [
        "!pip install geopandas\n",
        "import geopandas as gpd\n",
        "import pandas as pd\n",
        "import numpy as np\n",
        "import datetime"
      ],
      "execution_count": 1,
      "outputs": [
        {
          "output_type": "stream",
          "text": [
            "Collecting geopandas\n",
            "\u001b[?25l  Downloading https://files.pythonhosted.org/packages/f7/a4/e66aafbefcbb717813bf3a355c8c4fc3ed04ea1dd7feb2920f2f4f868921/geopandas-0.8.1-py2.py3-none-any.whl (962kB)\n",
            "\u001b[K     |████████████████████████████████| 972kB 4.4MB/s \n",
            "\u001b[?25hRequirement already satisfied: shapely in /usr/local/lib/python3.6/dist-packages (from geopandas) (1.7.1)\n",
            "Collecting pyproj>=2.2.0\n",
            "\u001b[?25l  Downloading https://files.pythonhosted.org/packages/e5/c3/071e080230ac4b6c64f1a2e2f9161c9737a2bc7b683d2c90b024825000c0/pyproj-2.6.1.post1-cp36-cp36m-manylinux2010_x86_64.whl (10.9MB)\n",
            "\u001b[K     |████████████████████████████████| 10.9MB 22.5MB/s \n",
            "\u001b[?25hCollecting fiona\n",
            "\u001b[?25l  Downloading https://files.pythonhosted.org/packages/36/8b/e8b2c11bed5373c8e98edb85ce891b09aa1f4210fd451d0fb3696b7695a2/Fiona-1.8.17-cp36-cp36m-manylinux1_x86_64.whl (14.8MB)\n",
            "\u001b[K     |████████████████████████████████| 14.8MB 240kB/s \n",
            "\u001b[?25hRequirement already satisfied: pandas>=0.23.0 in /usr/local/lib/python3.6/dist-packages (from geopandas) (1.0.5)\n",
            "Collecting click-plugins>=1.0\n",
            "  Downloading https://files.pythonhosted.org/packages/e9/da/824b92d9942f4e472702488857914bdd50f73021efea15b4cad9aca8ecef/click_plugins-1.1.1-py2.py3-none-any.whl\n",
            "Requirement already satisfied: attrs>=17 in /usr/local/lib/python3.6/dist-packages (from fiona->geopandas) (20.2.0)\n",
            "Collecting munch\n",
            "  Downloading https://files.pythonhosted.org/packages/cc/ab/85d8da5c9a45e072301beb37ad7f833cd344e04c817d97e0cc75681d248f/munch-2.5.0-py2.py3-none-any.whl\n",
            "Requirement already satisfied: six>=1.7 in /usr/local/lib/python3.6/dist-packages (from fiona->geopandas) (1.15.0)\n",
            "Collecting cligj>=0.5\n",
            "  Downloading https://files.pythonhosted.org/packages/e4/be/30a58b4b0733850280d01f8bd132591b4668ed5c7046761098d665ac2174/cligj-0.5.0-py3-none-any.whl\n",
            "Requirement already satisfied: click<8,>=4.0 in /usr/local/lib/python3.6/dist-packages (from fiona->geopandas) (7.1.2)\n",
            "Requirement already satisfied: numpy>=1.13.3 in /usr/local/lib/python3.6/dist-packages (from pandas>=0.23.0->geopandas) (1.18.5)\n",
            "Requirement already satisfied: pytz>=2017.2 in /usr/local/lib/python3.6/dist-packages (from pandas>=0.23.0->geopandas) (2018.9)\n",
            "Requirement already satisfied: python-dateutil>=2.6.1 in /usr/local/lib/python3.6/dist-packages (from pandas>=0.23.0->geopandas) (2.8.1)\n",
            "Installing collected packages: pyproj, click-plugins, munch, cligj, fiona, geopandas\n",
            "Successfully installed click-plugins-1.1.1 cligj-0.5.0 fiona-1.8.17 geopandas-0.8.1 munch-2.5.0 pyproj-2.6.1.post1\n"
          ],
          "name": "stdout"
        }
      ]
    },
    {
      "cell_type": "code",
      "metadata": {
        "id": "ufPOYcFKFDJr",
        "colab_type": "code",
        "colab": {
          "base_uri": "https://localhost:8080/",
          "height": 52
        },
        "outputId": "ff89d804-e8c5-46bb-dc3f-ad3458d9f4b3"
      },
      "source": [
        "# Correr esta celda para cargar los datos y prepararlos para el analisis\n",
        "data=pd.read_csv(\"https://github.com/rpasquini/urban-econometrics/blob/master/data/puntosmetrobus.csv?raw=true\")\n",
        "data['year']=pd.to_datetime(data.created_on, infer_datetime_format=True).dt.year\n",
        "data['datetime']=pd.to_datetime(data.created_on, infer_datetime_format=True)\n",
        "data['distancia']=data['min_dist_to_lines']\n",
        "data=data[['price_usd_per_m2','METROBUS','property_type', 'rooms', 'state_name', 'surface_covered_in_m2',\n",
        "       'surface_in_m2', 'surface_total_in_m2','distancia','place_name','datetime']]\n",
        "data['d_san_martin']=np.where(data.METROBUS=='Metrobus Av San Martín',1,0)\n",
        "data['d_juan_b_justo']=np.where(data.METROBUS=='Metrobus Juan B. Justo',1,0)\n",
        "data['distance250']=np.where(data.distancia<=250,1,0)\n",
        "data['post042016']=np.where(data.datetime>datetime.datetime(2016,4,28),1,0)\n",
        "data['logprice']=np.log(data['price_usd_per_m2'])"
      ],
      "execution_count": 35,
      "outputs": [
        {
          "output_type": "stream",
          "text": [
            "/usr/local/lib/python3.6/dist-packages/IPython/core/interactiveshell.py:2718: DtypeWarning: Columns (44) have mixed types.Specify dtype option on import or set low_memory=False.\n",
            "  interactivity=interactivity, compiler=compiler, result=result)\n"
          ],
          "name": "stderr"
        }
      ]
    },
    {
      "cell_type": "markdown",
      "metadata": {
        "id": "65sS61U7DKaX",
        "colab_type": "text"
      },
      "source": [
        "# Lista de variables disponibles\n",
        "**price_usd_per_m2** Alquiler en USD por metro cuadrado tomado en Logaritmo \\\\\n",
        "**logprice**: Alquiler en USD por metro cuadrado tomado en Logaritmo \\\\\n",
        "**d_san_martin**:  Dummy si esta a menos de 500 metros de San Martin \\\\\n",
        "**d_juan_b_justo**:  Dummy si esta a menos de 500 metros de San Martin \\\\\n",
        "**distance250**: Dummy si la distancia al metrobus es menor a 250 metros \\\\\n",
        "**post042016**: Dummy si la fecha es posterior a la inauguracion del metrobus San Martin \\\\\n",
        "**property_type**: Tipo de propiedad. Puede tomar los valores:  ('apartment', 'house', 'PH', 'store') \\\\\n",
        "**rooms**: Numero de habitaciones \\\\\n",
        "**year**: Año \\\\\n",
        "**place_name**: Barrio \\\\"
      ]
    },
    {
      "cell_type": "markdown",
      "metadata": {
        "id": "KT6aghysPb3y",
        "colab_type": "text"
      },
      "source": [
        "# Mapa de los datos\n",
        "![picture](https://github.com/rpasquini/urban-econometrics/blob/master/data/metrobuses.PNG?raw=true)\n",
        "\n",
        "\n",
        "\n",
        "\n"
      ]
    }
  ]
}