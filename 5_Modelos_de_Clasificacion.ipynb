{
  "nbformat": 4,
  "nbformat_minor": 0,
  "metadata": {
    "colab": {
      "name": "5 Modelos de Clasificacion.ipynb",
      "provenance": [],
      "authorship_tag": "ABX9TyMHRvf0UrIdmAmicRqFTKIs",
      "include_colab_link": true
    },
    "kernelspec": {
      "name": "python3",
      "display_name": "Python 3"
    }
  },
  "cells": [
    {
      "cell_type": "markdown",
      "metadata": {
        "id": "view-in-github",
        "colab_type": "text"
      },
      "source": [
        "<a href=\"https://colab.research.google.com/github/rpasquini/urban-econometrics/blob/master/5_Modelos_de_Clasificacion.ipynb\" target=\"_parent\"><img src=\"https://colab.research.google.com/assets/colab-badge.svg\" alt=\"Open In Colab\"/></a>"
      ]
    },
    {
      "cell_type": "code",
      "metadata": {
        "id": "35RIk2hM17u2",
        "colab": {
          "base_uri": "https://localhost:8080/"
        },
        "outputId": "d06f0b9d-63cf-478b-82ba-2f8d3e57c83b"
      },
      "source": [
        "!pip install geopandas\n",
        "\n",
        "import geopandas as gpd\n",
        "import pandas as pd\n",
        "import statsmodels.api as sm\n",
        "import matplotlib.pyplot as plt\n",
        "import numpy as np"
      ],
      "execution_count": 1,
      "outputs": [
        {
          "output_type": "stream",
          "name": "stdout",
          "text": [
            "Requirement already satisfied: geopandas in /usr/local/lib/python3.10/dist-packages (0.8.1)\n",
            "Requirement already satisfied: pandas>=0.23.0 in /usr/local/lib/python3.10/dist-packages (from geopandas) (1.5.3)\n",
            "Requirement already satisfied: shapely in /usr/local/lib/python3.10/dist-packages (from geopandas) (1.7.1)\n",
            "Requirement already satisfied: fiona in /usr/local/lib/python3.10/dist-packages (from geopandas) (1.9.4.post1)\n",
            "Requirement already satisfied: pyproj>=2.2.0 in /usr/local/lib/python3.10/dist-packages (from geopandas) (3.6.0)\n",
            "Requirement already satisfied: python-dateutil>=2.8.1 in /usr/local/lib/python3.10/dist-packages (from pandas>=0.23.0->geopandas) (2.8.2)\n",
            "Requirement already satisfied: pytz>=2020.1 in /usr/local/lib/python3.10/dist-packages (from pandas>=0.23.0->geopandas) (2022.7.1)\n",
            "Requirement already satisfied: numpy>=1.21.0 in /usr/local/lib/python3.10/dist-packages (from pandas>=0.23.0->geopandas) (1.22.4)\n",
            "Requirement already satisfied: certifi in /usr/local/lib/python3.10/dist-packages (from pyproj>=2.2.0->geopandas) (2023.5.7)\n",
            "Requirement already satisfied: attrs>=19.2.0 in /usr/local/lib/python3.10/dist-packages (from fiona->geopandas) (23.1.0)\n",
            "Requirement already satisfied: click~=8.0 in /usr/local/lib/python3.10/dist-packages (from fiona->geopandas) (8.1.4)\n",
            "Requirement already satisfied: click-plugins>=1.0 in /usr/local/lib/python3.10/dist-packages (from fiona->geopandas) (1.1.1)\n",
            "Requirement already satisfied: cligj>=0.5 in /usr/local/lib/python3.10/dist-packages (from fiona->geopandas) (0.7.2)\n",
            "Requirement already satisfied: six in /usr/local/lib/python3.10/dist-packages (from fiona->geopandas) (1.16.0)\n"
          ]
        }
      ]
    },
    {
      "cell_type": "markdown",
      "metadata": {
        "id": "-gmLupim_U2m"
      },
      "source": [
        "## Estimación de un Modelo de Elección de \"Ubicación Residencial\" adaptado a una situación de vivir en la formalidad vs. la informalidad.\n",
        "\n",
        "A modo de ejemplo, vamos a intentar explicar predecir la localización de los hogares en las áreas de la \"ciudad formal\" o en los \"asentamientos informales\". Vamos a utilizar un extracto de los datos de la investigación de Goytia, Heikkila, Pasquini (2020).\n",
        "   "
      ]
    },
    {
      "cell_type": "markdown",
      "source": [
        "## Descripción de variables\n",
        "* bformal es una dummy que señala con 1 a las areas \"formales\" y 0 a las areas \"informales\". Este es un criterio de delimitación espacial.  \"Informal\" se utiliza para el área que constituye un barrio popular  \n",
        "* dconurb1, dconurb2, dconurb3 son dummies que señalan a los agrupamientos de partidos del AMBA \"Conurbano 1\", \"Conurbano 2\" y \"Conurbano 3\" respectivamente, según la categorización del INDEC.  Vease https://www.indec.gob.ar/dbindec/folleto_gba.pdf\n",
        "* dprop_soloviv', 'dprop_ocupant', 'dinquilinos' son dummies que señalan a los que son propietarios solo de la vivienda, ocupantes e inquilinos respectivamente.\n",
        "* dedu_secincomp', 'dedu_seccomp', 'dedu_ter_o_mas' son dummies que señalan la educación del jefe de hogar\n",
        "* 'dconexionagua1', 'delectricidad_med', 'dconexiongas'  son dummies que señalan la presencia de conexión al agua de red, la presencia de un medidor de electricidad y la conexión al gas de red respectivamente."
      ],
      "metadata": {
        "id": "EFDdODVeW44D"
      }
    },
    {
      "cell_type": "markdown",
      "metadata": {
        "id": "VL1q9uPd8zK7"
      },
      "source": [
        "El modelo que propondremos consistirá en explicar la condición de vivir en el \"área formal\" a partir de un conjunto de atributos del hogar, incluyendo el ingreso, el tamaño, y un conjunto de variabes indicadores del nivel educativo del jefe de hogar.\n",
        "\n",
        "Proponemos un Modelo Logit. Recordemos que este modelo puede pensar como el modelo de regresión lineal que es transformado mediante la función logística:\n",
        "\n",
        "$$P(F=1)_i=\\frac{1}{1+e^{-Z_i}} $$\n",
        "\n",
        "donde\n",
        "\n",
        "$$Z_i=\\beta_0+\\beta_1IngresoHogar_i+\\beta_1TamañoHogar_i+\\beta_2DSecundarioCompleto_i+\\beta_2DTerciarioCompleto_i+\\epsilon_i$$\n",
        "\n",
        "\n",
        "**Observación:** Una propiedad de este modelo que puede ser útil más adelante es notar que este modelo cumple que el *ratio de las chances* de vivir en el sector formal (definido en este caso como la probabilidad de F=1 sobre la probabilidad de F=0) tomado en logaritmo se asume de forma lineal:\n",
        "\n",
        "\n",
        "$$\\log(\\frac{P(F=1)}{P(F=0)})=\\beta_0+\\beta_1IngresoHogar_i+\\beta_1TamañoHogar_i+\\beta_2DSecundarioCompleto_i+\\beta_2DTerciarioCompleto_i+\\epsilon_i$$\n",
        "\n",
        "Esta última expresión es útil pues, al aparecer P(F=0) explicita que la probabilidad de pertenecer a una categoria se define siempre en relación a otra categoría. Esto será útil para la interpretación del modelo multi-categoría."
      ]
    },
    {
      "cell_type": "code",
      "metadata": {
        "id": "MqpJ8QDJ2EPu"
      },
      "source": [
        "# Levantamos los datos\n",
        "datosghp=pd.read_csv('https://raw.githubusercontent.com/rpasquini/urban-econometrics/master/data/formal%20premia%20data%20extract.csv')"
      ],
      "execution_count": 2,
      "outputs": []
    },
    {
      "cell_type": "code",
      "metadata": {
        "id": "sswLtG3B2ucg",
        "colab": {
          "base_uri": "https://localhost:8080/",
          "height": 487
        },
        "outputId": "e2b68067-1067-49f5-af7c-06c23dfcef4f"
      },
      "source": [
        "# Cada observación es un hogar\n",
        "datosghp"
      ],
      "execution_count": 3,
      "outputs": [
        {
          "output_type": "execute_result",
          "data": {
            "text/plain": [
              "     hora_c  hora_f  bformal  dconurb1  dconurb2  dconurb3  dmore2000  \\\n",
              "0     14.30   14.55        0         0         0         0          1   \n",
              "1     13.30   13.55        0         0         0         0          1   \n",
              "2     14.25   14.50        0         0         0         0          1   \n",
              "3     11.05   11.30        0         0         0         0          1   \n",
              "4      9.35   10.00        0         0         0         0          1   \n",
              "..      ...     ...      ...       ...       ...       ...        ...   \n",
              "545   10.10   10.50        1         0         0         1          0   \n",
              "546   11.40   12.10        1         0         0         1          0   \n",
              "547   12.10   12.35        1         0         0         1          0   \n",
              "548   11.00   11.30        1         0         0         1          0   \n",
              "549    9.30   10.00        1         0         0         1          0   \n",
              "\n",
              "     dprop_soloviv  dprop_ocupant  dinquilinos  ...  m2  dconexionagua1  \\\n",
              "0                1              0            0  ...   2               0   \n",
              "1                0              0            1  ...   2               0   \n",
              "2                1              0            0  ...   2               0   \n",
              "3                1              0            0  ...   2               0   \n",
              "4                1              0            0  ...   1               0   \n",
              "..             ...            ...          ...  ...  ..             ...   \n",
              "545              0              0            0  ...   1               0   \n",
              "546              0              0            1  ...   1               0   \n",
              "547              0              0            0  ...   2               0   \n",
              "548              0              0            0  ...   2               0   \n",
              "549              0              1            0  ...   2               0   \n",
              "\n",
              "     dconexionagua2  dconexionagua3  dpagaelagua  dcloaca  delectricidad_med  \\\n",
              "0                 0               1          0.0        1                  1   \n",
              "1                 0               1          0.0        1                  1   \n",
              "2                 0               1          0.0        0                  0   \n",
              "3                 0               1          NaN        0                  0   \n",
              "4                 0               1          0.0        0                  0   \n",
              "..              ...             ...          ...      ...                ...   \n",
              "545               1               0          0.0        0                  1   \n",
              "546               1               0          0.0        0                  1   \n",
              "547               1               0          0.0        0                  1   \n",
              "548               1               0          0.0        0                  1   \n",
              "549               1               0          0.0        0                  1   \n",
              "\n",
              "     dconexiongas  alquiler2  ingresohogar2  \n",
              "0               0    12000.0        16500.0  \n",
              "1               0     2000.0        12000.0  \n",
              "2               0     3000.0        15000.0  \n",
              "3               0     6000.0         8000.0  \n",
              "4               0        NaN         6800.0  \n",
              "..            ...        ...            ...  \n",
              "545             0     7000.0        25000.0  \n",
              "546             1     5000.0        10000.0  \n",
              "547             1     5000.0        10000.0  \n",
              "548             1        NaN        14000.0  \n",
              "549             0     2000.0        10000.0  \n",
              "\n",
              "[550 rows x 33 columns]"
            ],
            "text/html": [
              "\n",
              "\n",
              "  <div id=\"df-90e89f55-ce6a-4c75-b70c-b1a825228676\">\n",
              "    <div class=\"colab-df-container\">\n",
              "      <div>\n",
              "<style scoped>\n",
              "    .dataframe tbody tr th:only-of-type {\n",
              "        vertical-align: middle;\n",
              "    }\n",
              "\n",
              "    .dataframe tbody tr th {\n",
              "        vertical-align: top;\n",
              "    }\n",
              "\n",
              "    .dataframe thead th {\n",
              "        text-align: right;\n",
              "    }\n",
              "</style>\n",
              "<table border=\"1\" class=\"dataframe\">\n",
              "  <thead>\n",
              "    <tr style=\"text-align: right;\">\n",
              "      <th></th>\n",
              "      <th>hora_c</th>\n",
              "      <th>hora_f</th>\n",
              "      <th>bformal</th>\n",
              "      <th>dconurb1</th>\n",
              "      <th>dconurb2</th>\n",
              "      <th>dconurb3</th>\n",
              "      <th>dmore2000</th>\n",
              "      <th>dprop_soloviv</th>\n",
              "      <th>dprop_ocupant</th>\n",
              "      <th>dinquilinos</th>\n",
              "      <th>...</th>\n",
              "      <th>m2</th>\n",
              "      <th>dconexionagua1</th>\n",
              "      <th>dconexionagua2</th>\n",
              "      <th>dconexionagua3</th>\n",
              "      <th>dpagaelagua</th>\n",
              "      <th>dcloaca</th>\n",
              "      <th>delectricidad_med</th>\n",
              "      <th>dconexiongas</th>\n",
              "      <th>alquiler2</th>\n",
              "      <th>ingresohogar2</th>\n",
              "    </tr>\n",
              "  </thead>\n",
              "  <tbody>\n",
              "    <tr>\n",
              "      <th>0</th>\n",
              "      <td>14.30</td>\n",
              "      <td>14.55</td>\n",
              "      <td>0</td>\n",
              "      <td>0</td>\n",
              "      <td>0</td>\n",
              "      <td>0</td>\n",
              "      <td>1</td>\n",
              "      <td>1</td>\n",
              "      <td>0</td>\n",
              "      <td>0</td>\n",
              "      <td>...</td>\n",
              "      <td>2</td>\n",
              "      <td>0</td>\n",
              "      <td>0</td>\n",
              "      <td>1</td>\n",
              "      <td>0.0</td>\n",
              "      <td>1</td>\n",
              "      <td>1</td>\n",
              "      <td>0</td>\n",
              "      <td>12000.0</td>\n",
              "      <td>16500.0</td>\n",
              "    </tr>\n",
              "    <tr>\n",
              "      <th>1</th>\n",
              "      <td>13.30</td>\n",
              "      <td>13.55</td>\n",
              "      <td>0</td>\n",
              "      <td>0</td>\n",
              "      <td>0</td>\n",
              "      <td>0</td>\n",
              "      <td>1</td>\n",
              "      <td>0</td>\n",
              "      <td>0</td>\n",
              "      <td>1</td>\n",
              "      <td>...</td>\n",
              "      <td>2</td>\n",
              "      <td>0</td>\n",
              "      <td>0</td>\n",
              "      <td>1</td>\n",
              "      <td>0.0</td>\n",
              "      <td>1</td>\n",
              "      <td>1</td>\n",
              "      <td>0</td>\n",
              "      <td>2000.0</td>\n",
              "      <td>12000.0</td>\n",
              "    </tr>\n",
              "    <tr>\n",
              "      <th>2</th>\n",
              "      <td>14.25</td>\n",
              "      <td>14.50</td>\n",
              "      <td>0</td>\n",
              "      <td>0</td>\n",
              "      <td>0</td>\n",
              "      <td>0</td>\n",
              "      <td>1</td>\n",
              "      <td>1</td>\n",
              "      <td>0</td>\n",
              "      <td>0</td>\n",
              "      <td>...</td>\n",
              "      <td>2</td>\n",
              "      <td>0</td>\n",
              "      <td>0</td>\n",
              "      <td>1</td>\n",
              "      <td>0.0</td>\n",
              "      <td>0</td>\n",
              "      <td>0</td>\n",
              "      <td>0</td>\n",
              "      <td>3000.0</td>\n",
              "      <td>15000.0</td>\n",
              "    </tr>\n",
              "    <tr>\n",
              "      <th>3</th>\n",
              "      <td>11.05</td>\n",
              "      <td>11.30</td>\n",
              "      <td>0</td>\n",
              "      <td>0</td>\n",
              "      <td>0</td>\n",
              "      <td>0</td>\n",
              "      <td>1</td>\n",
              "      <td>1</td>\n",
              "      <td>0</td>\n",
              "      <td>0</td>\n",
              "      <td>...</td>\n",
              "      <td>2</td>\n",
              "      <td>0</td>\n",
              "      <td>0</td>\n",
              "      <td>1</td>\n",
              "      <td>NaN</td>\n",
              "      <td>0</td>\n",
              "      <td>0</td>\n",
              "      <td>0</td>\n",
              "      <td>6000.0</td>\n",
              "      <td>8000.0</td>\n",
              "    </tr>\n",
              "    <tr>\n",
              "      <th>4</th>\n",
              "      <td>9.35</td>\n",
              "      <td>10.00</td>\n",
              "      <td>0</td>\n",
              "      <td>0</td>\n",
              "      <td>0</td>\n",
              "      <td>0</td>\n",
              "      <td>1</td>\n",
              "      <td>1</td>\n",
              "      <td>0</td>\n",
              "      <td>0</td>\n",
              "      <td>...</td>\n",
              "      <td>1</td>\n",
              "      <td>0</td>\n",
              "      <td>0</td>\n",
              "      <td>1</td>\n",
              "      <td>0.0</td>\n",
              "      <td>0</td>\n",
              "      <td>0</td>\n",
              "      <td>0</td>\n",
              "      <td>NaN</td>\n",
              "      <td>6800.0</td>\n",
              "    </tr>\n",
              "    <tr>\n",
              "      <th>...</th>\n",
              "      <td>...</td>\n",
              "      <td>...</td>\n",
              "      <td>...</td>\n",
              "      <td>...</td>\n",
              "      <td>...</td>\n",
              "      <td>...</td>\n",
              "      <td>...</td>\n",
              "      <td>...</td>\n",
              "      <td>...</td>\n",
              "      <td>...</td>\n",
              "      <td>...</td>\n",
              "      <td>...</td>\n",
              "      <td>...</td>\n",
              "      <td>...</td>\n",
              "      <td>...</td>\n",
              "      <td>...</td>\n",
              "      <td>...</td>\n",
              "      <td>...</td>\n",
              "      <td>...</td>\n",
              "      <td>...</td>\n",
              "      <td>...</td>\n",
              "    </tr>\n",
              "    <tr>\n",
              "      <th>545</th>\n",
              "      <td>10.10</td>\n",
              "      <td>10.50</td>\n",
              "      <td>1</td>\n",
              "      <td>0</td>\n",
              "      <td>0</td>\n",
              "      <td>1</td>\n",
              "      <td>0</td>\n",
              "      <td>0</td>\n",
              "      <td>0</td>\n",
              "      <td>0</td>\n",
              "      <td>...</td>\n",
              "      <td>1</td>\n",
              "      <td>0</td>\n",
              "      <td>1</td>\n",
              "      <td>0</td>\n",
              "      <td>0.0</td>\n",
              "      <td>0</td>\n",
              "      <td>1</td>\n",
              "      <td>0</td>\n",
              "      <td>7000.0</td>\n",
              "      <td>25000.0</td>\n",
              "    </tr>\n",
              "    <tr>\n",
              "      <th>546</th>\n",
              "      <td>11.40</td>\n",
              "      <td>12.10</td>\n",
              "      <td>1</td>\n",
              "      <td>0</td>\n",
              "      <td>0</td>\n",
              "      <td>1</td>\n",
              "      <td>0</td>\n",
              "      <td>0</td>\n",
              "      <td>0</td>\n",
              "      <td>1</td>\n",
              "      <td>...</td>\n",
              "      <td>1</td>\n",
              "      <td>0</td>\n",
              "      <td>1</td>\n",
              "      <td>0</td>\n",
              "      <td>0.0</td>\n",
              "      <td>0</td>\n",
              "      <td>1</td>\n",
              "      <td>1</td>\n",
              "      <td>5000.0</td>\n",
              "      <td>10000.0</td>\n",
              "    </tr>\n",
              "    <tr>\n",
              "      <th>547</th>\n",
              "      <td>12.10</td>\n",
              "      <td>12.35</td>\n",
              "      <td>1</td>\n",
              "      <td>0</td>\n",
              "      <td>0</td>\n",
              "      <td>1</td>\n",
              "      <td>0</td>\n",
              "      <td>0</td>\n",
              "      <td>0</td>\n",
              "      <td>0</td>\n",
              "      <td>...</td>\n",
              "      <td>2</td>\n",
              "      <td>0</td>\n",
              "      <td>1</td>\n",
              "      <td>0</td>\n",
              "      <td>0.0</td>\n",
              "      <td>0</td>\n",
              "      <td>1</td>\n",
              "      <td>1</td>\n",
              "      <td>5000.0</td>\n",
              "      <td>10000.0</td>\n",
              "    </tr>\n",
              "    <tr>\n",
              "      <th>548</th>\n",
              "      <td>11.00</td>\n",
              "      <td>11.30</td>\n",
              "      <td>1</td>\n",
              "      <td>0</td>\n",
              "      <td>0</td>\n",
              "      <td>1</td>\n",
              "      <td>0</td>\n",
              "      <td>0</td>\n",
              "      <td>0</td>\n",
              "      <td>0</td>\n",
              "      <td>...</td>\n",
              "      <td>2</td>\n",
              "      <td>0</td>\n",
              "      <td>1</td>\n",
              "      <td>0</td>\n",
              "      <td>0.0</td>\n",
              "      <td>0</td>\n",
              "      <td>1</td>\n",
              "      <td>1</td>\n",
              "      <td>NaN</td>\n",
              "      <td>14000.0</td>\n",
              "    </tr>\n",
              "    <tr>\n",
              "      <th>549</th>\n",
              "      <td>9.30</td>\n",
              "      <td>10.00</td>\n",
              "      <td>1</td>\n",
              "      <td>0</td>\n",
              "      <td>0</td>\n",
              "      <td>1</td>\n",
              "      <td>0</td>\n",
              "      <td>0</td>\n",
              "      <td>1</td>\n",
              "      <td>0</td>\n",
              "      <td>...</td>\n",
              "      <td>2</td>\n",
              "      <td>0</td>\n",
              "      <td>1</td>\n",
              "      <td>0</td>\n",
              "      <td>0.0</td>\n",
              "      <td>0</td>\n",
              "      <td>1</td>\n",
              "      <td>0</td>\n",
              "      <td>2000.0</td>\n",
              "      <td>10000.0</td>\n",
              "    </tr>\n",
              "  </tbody>\n",
              "</table>\n",
              "<p>550 rows × 33 columns</p>\n",
              "</div>\n",
              "      <button class=\"colab-df-convert\" onclick=\"convertToInteractive('df-90e89f55-ce6a-4c75-b70c-b1a825228676')\"\n",
              "              title=\"Convert this dataframe to an interactive table.\"\n",
              "              style=\"display:none;\">\n",
              "\n",
              "  <svg xmlns=\"http://www.w3.org/2000/svg\" height=\"24px\"viewBox=\"0 0 24 24\"\n",
              "       width=\"24px\">\n",
              "    <path d=\"M0 0h24v24H0V0z\" fill=\"none\"/>\n",
              "    <path d=\"M18.56 5.44l.94 2.06.94-2.06 2.06-.94-2.06-.94-.94-2.06-.94 2.06-2.06.94zm-11 1L8.5 8.5l.94-2.06 2.06-.94-2.06-.94L8.5 2.5l-.94 2.06-2.06.94zm10 10l.94 2.06.94-2.06 2.06-.94-2.06-.94-.94-2.06-.94 2.06-2.06.94z\"/><path d=\"M17.41 7.96l-1.37-1.37c-.4-.4-.92-.59-1.43-.59-.52 0-1.04.2-1.43.59L10.3 9.45l-7.72 7.72c-.78.78-.78 2.05 0 2.83L4 21.41c.39.39.9.59 1.41.59.51 0 1.02-.2 1.41-.59l7.78-7.78 2.81-2.81c.8-.78.8-2.07 0-2.86zM5.41 20L4 18.59l7.72-7.72 1.47 1.35L5.41 20z\"/>\n",
              "  </svg>\n",
              "      </button>\n",
              "\n",
              "\n",
              "\n",
              "    <div id=\"df-790abbc9-df8f-447e-a94c-63c60697370e\">\n",
              "      <button class=\"colab-df-quickchart\" onclick=\"quickchart('df-790abbc9-df8f-447e-a94c-63c60697370e')\"\n",
              "              title=\"Suggest charts.\"\n",
              "              style=\"display:none;\">\n",
              "\n",
              "<svg xmlns=\"http://www.w3.org/2000/svg\" height=\"24px\"viewBox=\"0 0 24 24\"\n",
              "     width=\"24px\">\n",
              "    <g>\n",
              "        <path d=\"M19 3H5c-1.1 0-2 .9-2 2v14c0 1.1.9 2 2 2h14c1.1 0 2-.9 2-2V5c0-1.1-.9-2-2-2zM9 17H7v-7h2v7zm4 0h-2V7h2v10zm4 0h-2v-4h2v4z\"/>\n",
              "    </g>\n",
              "</svg>\n",
              "      </button>\n",
              "    </div>\n",
              "\n",
              "<style>\n",
              "  .colab-df-quickchart {\n",
              "    background-color: #E8F0FE;\n",
              "    border: none;\n",
              "    border-radius: 50%;\n",
              "    cursor: pointer;\n",
              "    display: none;\n",
              "    fill: #1967D2;\n",
              "    height: 32px;\n",
              "    padding: 0 0 0 0;\n",
              "    width: 32px;\n",
              "  }\n",
              "\n",
              "  .colab-df-quickchart:hover {\n",
              "    background-color: #E2EBFA;\n",
              "    box-shadow: 0px 1px 2px rgba(60, 64, 67, 0.3), 0px 1px 3px 1px rgba(60, 64, 67, 0.15);\n",
              "    fill: #174EA6;\n",
              "  }\n",
              "\n",
              "  [theme=dark] .colab-df-quickchart {\n",
              "    background-color: #3B4455;\n",
              "    fill: #D2E3FC;\n",
              "  }\n",
              "\n",
              "  [theme=dark] .colab-df-quickchart:hover {\n",
              "    background-color: #434B5C;\n",
              "    box-shadow: 0px 1px 3px 1px rgba(0, 0, 0, 0.15);\n",
              "    filter: drop-shadow(0px 1px 2px rgba(0, 0, 0, 0.3));\n",
              "    fill: #FFFFFF;\n",
              "  }\n",
              "</style>\n",
              "\n",
              "    <script>\n",
              "      async function quickchart(key) {\n",
              "        const containerElement = document.querySelector('#' + key);\n",
              "        const charts = await google.colab.kernel.invokeFunction(\n",
              "            'suggestCharts', [key], {});\n",
              "      }\n",
              "    </script>\n",
              "\n",
              "      <script>\n",
              "\n",
              "function displayQuickchartButton(domScope) {\n",
              "  let quickchartButtonEl =\n",
              "    domScope.querySelector('#df-790abbc9-df8f-447e-a94c-63c60697370e button.colab-df-quickchart');\n",
              "  quickchartButtonEl.style.display =\n",
              "    google.colab.kernel.accessAllowed ? 'block' : 'none';\n",
              "}\n",
              "\n",
              "        displayQuickchartButton(document);\n",
              "      </script>\n",
              "      <style>\n",
              "    .colab-df-container {\n",
              "      display:flex;\n",
              "      flex-wrap:wrap;\n",
              "      gap: 12px;\n",
              "    }\n",
              "\n",
              "    .colab-df-convert {\n",
              "      background-color: #E8F0FE;\n",
              "      border: none;\n",
              "      border-radius: 50%;\n",
              "      cursor: pointer;\n",
              "      display: none;\n",
              "      fill: #1967D2;\n",
              "      height: 32px;\n",
              "      padding: 0 0 0 0;\n",
              "      width: 32px;\n",
              "    }\n",
              "\n",
              "    .colab-df-convert:hover {\n",
              "      background-color: #E2EBFA;\n",
              "      box-shadow: 0px 1px 2px rgba(60, 64, 67, 0.3), 0px 1px 3px 1px rgba(60, 64, 67, 0.15);\n",
              "      fill: #174EA6;\n",
              "    }\n",
              "\n",
              "    [theme=dark] .colab-df-convert {\n",
              "      background-color: #3B4455;\n",
              "      fill: #D2E3FC;\n",
              "    }\n",
              "\n",
              "    [theme=dark] .colab-df-convert:hover {\n",
              "      background-color: #434B5C;\n",
              "      box-shadow: 0px 1px 3px 1px rgba(0, 0, 0, 0.15);\n",
              "      filter: drop-shadow(0px 1px 2px rgba(0, 0, 0, 0.3));\n",
              "      fill: #FFFFFF;\n",
              "    }\n",
              "  </style>\n",
              "\n",
              "      <script>\n",
              "        const buttonEl =\n",
              "          document.querySelector('#df-90e89f55-ce6a-4c75-b70c-b1a825228676 button.colab-df-convert');\n",
              "        buttonEl.style.display =\n",
              "          google.colab.kernel.accessAllowed ? 'block' : 'none';\n",
              "\n",
              "        async function convertToInteractive(key) {\n",
              "          const element = document.querySelector('#df-90e89f55-ce6a-4c75-b70c-b1a825228676');\n",
              "          const dataTable =\n",
              "            await google.colab.kernel.invokeFunction('convertToInteractive',\n",
              "                                                     [key], {});\n",
              "          if (!dataTable) return;\n",
              "\n",
              "          const docLinkHtml = 'Like what you see? Visit the ' +\n",
              "            '<a target=\"_blank\" href=https://colab.research.google.com/notebooks/data_table.ipynb>data table notebook</a>'\n",
              "            + ' to learn more about interactive tables.';\n",
              "          element.innerHTML = '';\n",
              "          dataTable['output_type'] = 'display_data';\n",
              "          await google.colab.output.renderOutput(dataTable, element);\n",
              "          const docLink = document.createElement('div');\n",
              "          docLink.innerHTML = docLinkHtml;\n",
              "          element.appendChild(docLink);\n",
              "        }\n",
              "      </script>\n",
              "    </div>\n",
              "  </div>\n"
            ]
          },
          "metadata": {},
          "execution_count": 3
        }
      ]
    },
    {
      "cell_type": "code",
      "metadata": {
        "id": "fEtbHUPg8HHm"
      },
      "source": [
        "def logit(lista, data):\n",
        "  \"\"\"\n",
        "  Funcion que realiza la regresion Logit\n",
        "  La primera variable de la lista es la dependiente, el resto son las explicativas\n",
        "  data es la base de datos\n",
        "  \"\"\"\n",
        "  datos=data[lista]\n",
        "  # el metodo dropna() me permite eliminar las filas que tienen algun valor missing\n",
        "  datos=datos.dropna()\n",
        "  Y=datos[lista[0]]\n",
        "  X=datos[lista[1:]]\n",
        "  X=sm.add_constant(X)\n",
        "  modelo=sm.Logit(Y,X) # Aqui llamamos al método Logit de StatsModels\n",
        "  modeloajustado=modelo.fit()\n",
        "  print(modeloajustado.summary())\n",
        "  return modeloajustado"
      ],
      "execution_count": 4,
      "outputs": []
    },
    {
      "cell_type": "code",
      "metadata": {
        "id": "rGBYmgxJ8j5G",
        "colab": {
          "base_uri": "https://localhost:8080/"
        },
        "outputId": "708b9a93-8211-4028-d112-e461278e3815"
      },
      "source": [
        "modeloajustado=logit(['bformal', 'ingresohogar2', 'npersonashogar','dedu_seccomp',\t'dedu_ter_o_mas'], datosghp)"
      ],
      "execution_count": 5,
      "outputs": [
        {
          "output_type": "stream",
          "name": "stdout",
          "text": [
            "Optimization terminated successfully.\n",
            "         Current function value: 0.665327\n",
            "         Iterations 4\n",
            "                           Logit Regression Results                           \n",
            "==============================================================================\n",
            "Dep. Variable:                bformal   No. Observations:                  501\n",
            "Model:                          Logit   Df Residuals:                      496\n",
            "Method:                           MLE   Df Model:                            4\n",
            "Date:                Fri, 14 Jul 2023   Pseudo R-squ.:                 0.03451\n",
            "Time:                        00:44:25   Log-Likelihood:                -333.33\n",
            "converged:                       True   LL-Null:                       -345.24\n",
            "Covariance Type:            nonrobust   LLR p-value:                 8.645e-05\n",
            "==================================================================================\n",
            "                     coef    std err          z      P>|z|      [0.025      0.975]\n",
            "----------------------------------------------------------------------------------\n",
            "const             -0.8477      0.267     -3.176      0.001      -1.371      -0.324\n",
            "ingresohogar2   3.727e-05   1.37e-05      2.713      0.007    1.03e-05    6.42e-05\n",
            "npersonashogar    -0.0141      0.047     -0.299      0.765      -0.106       0.078\n",
            "dedu_seccomp       0.6655      0.211      3.158      0.002       0.252       1.078\n",
            "dedu_ter_o_mas     0.6764      0.371      1.822      0.068      -0.051       1.404\n",
            "==================================================================================\n"
          ]
        }
      ]
    },
    {
      "cell_type": "markdown",
      "metadata": {
        "id": "MwztcxOnAHkh"
      },
      "source": [
        "¿Cuál es la probabilidad de que una familia de que una familia con cuatro integrantes, ingreso del hogar de $14000, y jefe con secundario incompleto viva en la formalidad? \\\n",
        "A mano:\n"
      ]
    },
    {
      "cell_type": "code",
      "metadata": {
        "id": "iXUlo8sgAczz",
        "colab": {
          "base_uri": "https://localhost:8080/",
          "height": 34
        },
        "outputId": "f8d2e8df-cfae-4910-ae0e-7610412bc435"
      },
      "source": [
        "import numpy as np\n",
        "\n",
        "z0=-0.8477+0.00003727*14000-0.0141*4+0*0.6655+0*0.67\n",
        "f0=1/(1+np.exp(-z0))\n",
        "f0"
      ],
      "execution_count": null,
      "outputs": [
        {
          "output_type": "execute_result",
          "data": {
            "text/plain": [
              "0.4055674633633202"
            ]
          },
          "metadata": {
            "tags": []
          },
          "execution_count": 38
        }
      ]
    },
    {
      "cell_type": "markdown",
      "metadata": {
        "id": "nxeefQkrCAPv"
      },
      "source": [
        "Usando el metodo predict\n"
      ]
    },
    {
      "cell_type": "code",
      "metadata": {
        "id": "5r-yv44dBRlY",
        "colab": {
          "base_uri": "https://localhost:8080/",
          "height": 34
        },
        "outputId": "e43a1cab-eae8-43c4-ff0b-e7caaaab576d"
      },
      "source": [
        "modeloajustado.predict([1,14000,4,0,0])\n"
      ],
      "execution_count": null,
      "outputs": [
        {
          "output_type": "execute_result",
          "data": {
            "text/plain": [
              "array([0.4056167])"
            ]
          },
          "metadata": {
            "tags": []
          },
          "execution_count": 46
        }
      ]
    },
    {
      "cell_type": "markdown",
      "metadata": {
        "id": "kXDCCtmo-6j4"
      },
      "source": [
        "##  Computando los efectos marginales:\n"
      ]
    },
    {
      "cell_type": "code",
      "metadata": {
        "id": "StTEGuW-8rFg",
        "colab": {
          "base_uri": "https://localhost:8080/",
          "height": 255
        },
        "outputId": "31610f7c-ed4a-4b21-9436-d6a455cf3dea"
      },
      "source": [
        "# average of the marginal effects in the data (default)\n",
        "probit_margeff = modeloajustado.get_margeff()\n",
        "print('Marginal effects: ')\n",
        "print(probit_margeff.summary())"
      ],
      "execution_count": null,
      "outputs": [
        {
          "output_type": "stream",
          "text": [
            "Marginal effects: \n",
            "        Logit Marginal Effects       \n",
            "=====================================\n",
            "Dep. Variable:                bformal\n",
            "Method:                          dydx\n",
            "At:                           overall\n",
            "==================================================================================\n",
            "                    dy/dx    std err          z      P>|z|      [0.025      0.975]\n",
            "----------------------------------------------------------------------------------\n",
            "ingresohogar2   8.809e-06   3.16e-06      2.792      0.005    2.62e-06     1.5e-05\n",
            "npersonashogar    -0.0033      0.011     -0.299      0.765      -0.025       0.018\n",
            "dedu_seccomp       0.1573      0.048      3.289      0.001       0.064       0.251\n",
            "dedu_ter_o_mas     0.1599      0.087      1.846      0.065      -0.010       0.330\n",
            "==================================================================================\n"
          ],
          "name": "stdout"
        }
      ]
    },
    {
      "cell_type": "code",
      "metadata": {
        "id": "EGwd0rYiERbu",
        "colab": {
          "base_uri": "https://localhost:8080/",
          "height": 255
        },
        "outputId": "72f7607d-597a-4593-e2f4-2f03f63debcf"
      },
      "source": [
        "# average of the marginal effects in the data (default)\n",
        "probit_margeff = modeloajustado.get_margeff(at='mean')\n",
        "print('Marginal effects: ')\n",
        "print(probit_margeff.summary())"
      ],
      "execution_count": null,
      "outputs": [
        {
          "output_type": "stream",
          "text": [
            "Marginal effects: \n",
            "        Logit Marginal Effects       \n",
            "=====================================\n",
            "Dep. Variable:                bformal\n",
            "Method:                          dydx\n",
            "At:                              mean\n",
            "==================================================================================\n",
            "                    dy/dx    std err          z      P>|z|      [0.025      0.975]\n",
            "----------------------------------------------------------------------------------\n",
            "ingresohogar2   9.241e-06   3.41e-06      2.712      0.007    2.56e-06    1.59e-05\n",
            "npersonashogar    -0.0035      0.012     -0.299      0.765      -0.026       0.019\n",
            "dedu_seccomp       0.1650      0.052      3.158      0.002       0.063       0.267\n",
            "dedu_ter_o_mas     0.1677      0.092      1.822      0.068      -0.013       0.348\n",
            "==================================================================================\n"
          ],
          "name": "stdout"
        }
      ]
    },
    {
      "cell_type": "code",
      "metadata": {
        "id": "uQRTWlvXC6I2",
        "colab": {
          "base_uri": "https://localhost:8080/",
          "height": 255
        },
        "outputId": "f795fde5-13ec-47ff-b6e2-134178fd3411"
      },
      "source": [
        "probit_margeff = modeloajustado.get_margeff(atexog={1:14000, 2:4, 3:0, 4:0})\n",
        "print('Marginal effects: ')\n",
        "print(probit_margeff.summary())"
      ],
      "execution_count": null,
      "outputs": [
        {
          "output_type": "stream",
          "text": [
            "Marginal effects: \n",
            "        Logit Marginal Effects       \n",
            "=====================================\n",
            "Dep. Variable:                bformal\n",
            "Method:                          dydx\n",
            "At:                           overall\n",
            "==================================================================================\n",
            "                    dy/dx    std err          z      P>|z|      [0.025      0.975]\n",
            "----------------------------------------------------------------------------------\n",
            "ingresohogar2   8.987e-06   3.35e-06      2.680      0.007    2.41e-06    1.56e-05\n",
            "npersonashogar    -0.0034      0.011     -0.299      0.765      -0.026       0.019\n",
            "dedu_seccomp       0.1604      0.049      3.275      0.001       0.064       0.256\n",
            "dedu_ter_o_mas     0.1631      0.088      1.846      0.065      -0.010       0.336\n",
            "==================================================================================\n"
          ],
          "name": "stdout"
        }
      ]
    },
    {
      "cell_type": "markdown",
      "metadata": {
        "id": "bLKrhp18_GUg"
      },
      "source": [
        "# Versión Probit\n",
        "El modelo Probit representa una alternativa al modelo Logit. La función que realiza la transformación en este caso es la [función acumulativa](https://en.wikipedia.org/wiki/Cumulative_distribution_function) de la [Distribución Normal Estandar](https://en.wikipedia.org/wiki/Normal_distribution), que es típicamente denotada $\\Phi$. Es decir:\n",
        "\n",
        "$$P(F=1)=\\Phi(\\beta_0+\\beta_1IngresoHogar_i+\\beta_1TamañoHogar_i+\\beta_2DSecundarioCompleto_i+\\beta_2DTerciarioCompleto_i+\\epsilon_i)$$"
      ]
    },
    {
      "cell_type": "code",
      "metadata": {
        "id": "HIplSbtr3MSp"
      },
      "source": [
        "def probit(lista, data):\n",
        "  \"\"\"\n",
        "  Funcion que realiza la regresion probit\n",
        "  La primera variable de la lista es la dependiente, el resto son las explicativas\n",
        "  data es la base de datos\n",
        "  \"\"\"\n",
        "  datos=data[lista]\n",
        "  # el metodo dropna() me permite eliminar las filas que tienen algun valor missing\n",
        "  datos=datos.dropna()\n",
        "  Y=datos[lista[0]]\n",
        "  X=datos[lista[1:]]\n",
        "  X=sm.add_constant(X)\n",
        "  modelo=sm.Probit(Y,X)\n",
        "  modeloajustado=modelo.fit()\n",
        "  print(modeloajustado.summary())\n",
        "  return modeloajustado"
      ],
      "execution_count": null,
      "outputs": []
    },
    {
      "cell_type": "code",
      "metadata": {
        "id": "t7VCI9113m4k",
        "colab": {
          "base_uri": "https://localhost:8080/",
          "height": 374
        },
        "outputId": "ad74cb6a-e897-46c4-b7cc-3517bc1a3221"
      },
      "source": [
        "modeloajustado=probit(['bformal', 'ingresohogar2', 'npersonashogar','dedu_seccomp',\t'dedu_ter_o_mas'], datosghp)"
      ],
      "execution_count": null,
      "outputs": [
        {
          "output_type": "stream",
          "text": [
            "Optimization terminated successfully.\n",
            "         Current function value: 0.665310\n",
            "         Iterations 4\n",
            "                          Probit Regression Results                           \n",
            "==============================================================================\n",
            "Dep. Variable:                bformal   No. Observations:                  501\n",
            "Model:                         Probit   Df Residuals:                      496\n",
            "Method:                           MLE   Df Model:                            4\n",
            "Date:                Thu, 23 Jul 2020   Pseudo R-squ.:                 0.03453\n",
            "Time:                        18:28:14   Log-Likelihood:                -333.32\n",
            "converged:                       True   LL-Null:                       -345.24\n",
            "Covariance Type:            nonrobust   LLR p-value:                 8.578e-05\n",
            "==================================================================================\n",
            "                     coef    std err          z      P>|z|      [0.025      0.975]\n",
            "----------------------------------------------------------------------------------\n",
            "const             -0.5269      0.164     -3.208      0.001      -0.849      -0.205\n",
            "ingresohogar2   2.306e-05   8.38e-06      2.752      0.006    6.63e-06    3.95e-05\n",
            "npersonashogar    -0.0086      0.029     -0.295      0.768      -0.066       0.048\n",
            "dedu_seccomp       0.4152      0.131      3.166      0.002       0.158       0.672\n",
            "dedu_ter_o_mas     0.4262      0.231      1.849      0.065      -0.026       0.878\n",
            "==================================================================================\n"
          ],
          "name": "stdout"
        }
      ]
    },
    {
      "cell_type": "code",
      "metadata": {
        "id": "Fycg4Rrj7VJL",
        "colab": {
          "base_uri": "https://localhost:8080/",
          "height": 255
        },
        "outputId": "885d98b2-935b-4c56-f41c-0ae9057ca788"
      },
      "source": [
        "probit_margeff = modeloajustado.get_margeff()\n",
        "print('Marginal effects: ')\n",
        "print(probit_margeff.summary())"
      ],
      "execution_count": null,
      "outputs": [
        {
          "output_type": "stream",
          "text": [
            "Marginal effects: \n",
            "       Probit Marginal Effects       \n",
            "=====================================\n",
            "Dep. Variable:                bformal\n",
            "Method:                          dydx\n",
            "At:                           overall\n",
            "==================================================================================\n",
            "                    dy/dx    std err          z      P>|z|      [0.025      0.975]\n",
            "----------------------------------------------------------------------------------\n",
            "ingresohogar2   8.799e-06   3.12e-06      2.817      0.005    2.68e-06    1.49e-05\n",
            "npersonashogar    -0.0033      0.011     -0.295      0.768      -0.025       0.018\n",
            "dedu_seccomp       0.1584      0.048      3.269      0.001       0.063       0.253\n",
            "dedu_ter_o_mas     0.1626      0.087      1.869      0.062      -0.008       0.333\n",
            "==================================================================================\n"
          ],
          "name": "stdout"
        }
      ]
    },
    {
      "cell_type": "markdown",
      "metadata": {
        "id": "G5PREOazjmUr"
      },
      "source": [
        "# Estimando un Modelo de Localización Residencial en la Ciudad. Aplicación del modelo de múltiples categorías.\n",
        "\n"
      ]
    },
    {
      "cell_type": "code",
      "metadata": {
        "id": "KA0mbqQr6z-q"
      },
      "source": [
        "comunas=gpd.GeoDataFrame.from_file(\"https://github.com/rpasquini/econometrics_and_causality/blob/master/comunas.zip?raw=true\")"
      ],
      "execution_count": 2,
      "outputs": []
    },
    {
      "cell_type": "code",
      "source": [
        "comunas"
      ],
      "metadata": {
        "colab": {
          "base_uri": "https://localhost:8080/",
          "height": 520
        },
        "id": "FLNvuWhXejrK",
        "outputId": "3c5fa654-8394-47c3-809a-00495b6a6afc"
      },
      "execution_count": 3,
      "outputs": [
        {
          "output_type": "execute_result",
          "data": {
            "text/plain": [
              "                                              BARRIOS     PERIMETRO  \\\n",
              "0                                            RECOLETA  21452.838648   \n",
              "1                                     ALMAGRO - BOEDO  12323.432479   \n",
              "2                                           CABALLITO  10990.964471   \n",
              "3                           FLORES - PARQUE CHACABUCO  17972.257870   \n",
              "4             LINIERS - MATADEROS - PARQUE AVELLANEDA  21411.738344   \n",
              "5   FLORESTA - MONTE CASTRO - VELEZ SARSFIELD - VE...  18332.037457   \n",
              "6   VILLA DEL PARQUE - VILLA  DEVOTO - VILLA GRAL....  19987.696155   \n",
              "7   COGHLAN - SAAVEDRA - VILLA PUEYRREDON - VILLA ...  17232.189372   \n",
              "8                                             PALERMO  22126.531858   \n",
              "9                           BALVANERA - SAN CRISTOBAL  10486.260809   \n",
              "10  AGRONOMIA - CHACARITA -  PARQUE CHAS -  PATERN...  17832.585580   \n",
              "11     VILLA LUGANO - VILLA RIACHUELO - VILLA SOLDATI  20935.012513   \n",
              "12  BARRACAS - BOCA - NUEVA POMPEYA - PARQUE PATRI...  35423.282799   \n",
              "13  CONSTITUCION - MONSERRAT - PUERTO MADERO -  RE...  36102.201573   \n",
              "14                      BELGRANO - COLEGIALES - NUÑEZ  26198.826953   \n",
              "\n",
              "            AREA  COMUNAS  ID          OBJETO  \\\n",
              "0   6.317265e+06      2.0   1  LIMITE COMUNAL   \n",
              "1   6.660603e+06      5.0   2  LIMITE COMUNAL   \n",
              "2   6.851029e+06      6.0   3  LIMITE COMUNAL   \n",
              "3   1.242290e+07      7.0   4  LIMITE COMUNAL   \n",
              "4   1.650531e+07      9.0   5  LIMITE COMUNAL   \n",
              "5   1.265656e+07     10.0   6  LIMITE COMUNAL   \n",
              "6   1.412004e+07     11.0   7  LIMITE COMUNAL   \n",
              "7   1.557093e+07     12.0   8  LIMITE COMUNAL   \n",
              "8   1.584587e+07     14.0   9  LIMITE COMUNAL   \n",
              "9   6.385991e+06      3.0  10  LIMITE COMUNAL   \n",
              "10  1.432290e+07     15.0  11  LIMITE COMUNAL   \n",
              "11  2.221690e+07      8.0  12  LIMITE COMUNAL   \n",
              "12  2.168464e+07      4.0  13  LIMITE COMUNAL   \n",
              "13  1.779457e+07      1.0  14  LIMITE COMUNAL   \n",
              "14  1.471321e+07     13.0  15  LIMITE COMUNAL   \n",
              "\n",
              "                                             geometry  \n",
              "0   POLYGON ((107643.458 106569.299, 107641.492 10...  \n",
              "1   POLYGON ((104625.143 101679.935, 104629.994 10...  \n",
              "2   POLYGON ((102998.760 102464.802, 103002.947 10...  \n",
              "3   POLYGON ((101036.604 99947.208, 101075.002 998...  \n",
              "4   POLYGON ((94869.346 99583.645, 94885.072 99583...  \n",
              "5   POLYGON ((97703.854 101010.270, 97716.104 1009...  \n",
              "6   POLYGON ((96781.486 103649.395, 96892.479 1035...  \n",
              "7   POLYGON ((96329.447 103927.833, 96314.729 1039...  \n",
              "8   POLYGON ((103353.744 108568.622, 103353.843 10...  \n",
              "9   POLYGON ((104713.283 103467.380, 104862.315 10...  \n",
              "10  POLYGON ((103419.432 103622.028, 103527.760 10...  \n",
              "11  POLYGON ((101298.828 97570.934, 101326.690 975...  \n",
              "12  POLYGON ((105886.881 96487.377, 105876.277 964...  \n",
              "13  MULTIPOLYGON (((108694.994 106166.075, 108697....  \n",
              "14  POLYGON ((102108.376 109877.874, 102109.554 10...  "
            ],
            "text/html": [
              "\n",
              "\n",
              "  <div id=\"df-5625070a-9b9a-4c17-ae61-512ceb1cc56f\">\n",
              "    <div class=\"colab-df-container\">\n",
              "      <div>\n",
              "<style scoped>\n",
              "    .dataframe tbody tr th:only-of-type {\n",
              "        vertical-align: middle;\n",
              "    }\n",
              "\n",
              "    .dataframe tbody tr th {\n",
              "        vertical-align: top;\n",
              "    }\n",
              "\n",
              "    .dataframe thead th {\n",
              "        text-align: right;\n",
              "    }\n",
              "</style>\n",
              "<table border=\"1\" class=\"dataframe\">\n",
              "  <thead>\n",
              "    <tr style=\"text-align: right;\">\n",
              "      <th></th>\n",
              "      <th>BARRIOS</th>\n",
              "      <th>PERIMETRO</th>\n",
              "      <th>AREA</th>\n",
              "      <th>COMUNAS</th>\n",
              "      <th>ID</th>\n",
              "      <th>OBJETO</th>\n",
              "      <th>geometry</th>\n",
              "    </tr>\n",
              "  </thead>\n",
              "  <tbody>\n",
              "    <tr>\n",
              "      <th>0</th>\n",
              "      <td>RECOLETA</td>\n",
              "      <td>21452.838648</td>\n",
              "      <td>6.317265e+06</td>\n",
              "      <td>2.0</td>\n",
              "      <td>1</td>\n",
              "      <td>LIMITE COMUNAL</td>\n",
              "      <td>POLYGON ((107643.458 106569.299, 107641.492 10...</td>\n",
              "    </tr>\n",
              "    <tr>\n",
              "      <th>1</th>\n",
              "      <td>ALMAGRO - BOEDO</td>\n",
              "      <td>12323.432479</td>\n",
              "      <td>6.660603e+06</td>\n",
              "      <td>5.0</td>\n",
              "      <td>2</td>\n",
              "      <td>LIMITE COMUNAL</td>\n",
              "      <td>POLYGON ((104625.143 101679.935, 104629.994 10...</td>\n",
              "    </tr>\n",
              "    <tr>\n",
              "      <th>2</th>\n",
              "      <td>CABALLITO</td>\n",
              "      <td>10990.964471</td>\n",
              "      <td>6.851029e+06</td>\n",
              "      <td>6.0</td>\n",
              "      <td>3</td>\n",
              "      <td>LIMITE COMUNAL</td>\n",
              "      <td>POLYGON ((102998.760 102464.802, 103002.947 10...</td>\n",
              "    </tr>\n",
              "    <tr>\n",
              "      <th>3</th>\n",
              "      <td>FLORES - PARQUE CHACABUCO</td>\n",
              "      <td>17972.257870</td>\n",
              "      <td>1.242290e+07</td>\n",
              "      <td>7.0</td>\n",
              "      <td>4</td>\n",
              "      <td>LIMITE COMUNAL</td>\n",
              "      <td>POLYGON ((101036.604 99947.208, 101075.002 998...</td>\n",
              "    </tr>\n",
              "    <tr>\n",
              "      <th>4</th>\n",
              "      <td>LINIERS - MATADEROS - PARQUE AVELLANEDA</td>\n",
              "      <td>21411.738344</td>\n",
              "      <td>1.650531e+07</td>\n",
              "      <td>9.0</td>\n",
              "      <td>5</td>\n",
              "      <td>LIMITE COMUNAL</td>\n",
              "      <td>POLYGON ((94869.346 99583.645, 94885.072 99583...</td>\n",
              "    </tr>\n",
              "    <tr>\n",
              "      <th>5</th>\n",
              "      <td>FLORESTA - MONTE CASTRO - VELEZ SARSFIELD - VE...</td>\n",
              "      <td>18332.037457</td>\n",
              "      <td>1.265656e+07</td>\n",
              "      <td>10.0</td>\n",
              "      <td>6</td>\n",
              "      <td>LIMITE COMUNAL</td>\n",
              "      <td>POLYGON ((97703.854 101010.270, 97716.104 1009...</td>\n",
              "    </tr>\n",
              "    <tr>\n",
              "      <th>6</th>\n",
              "      <td>VILLA DEL PARQUE - VILLA  DEVOTO - VILLA GRAL....</td>\n",
              "      <td>19987.696155</td>\n",
              "      <td>1.412004e+07</td>\n",
              "      <td>11.0</td>\n",
              "      <td>7</td>\n",
              "      <td>LIMITE COMUNAL</td>\n",
              "      <td>POLYGON ((96781.486 103649.395, 96892.479 1035...</td>\n",
              "    </tr>\n",
              "    <tr>\n",
              "      <th>7</th>\n",
              "      <td>COGHLAN - SAAVEDRA - VILLA PUEYRREDON - VILLA ...</td>\n",
              "      <td>17232.189372</td>\n",
              "      <td>1.557093e+07</td>\n",
              "      <td>12.0</td>\n",
              "      <td>8</td>\n",
              "      <td>LIMITE COMUNAL</td>\n",
              "      <td>POLYGON ((96329.447 103927.833, 96314.729 1039...</td>\n",
              "    </tr>\n",
              "    <tr>\n",
              "      <th>8</th>\n",
              "      <td>PALERMO</td>\n",
              "      <td>22126.531858</td>\n",
              "      <td>1.584587e+07</td>\n",
              "      <td>14.0</td>\n",
              "      <td>9</td>\n",
              "      <td>LIMITE COMUNAL</td>\n",
              "      <td>POLYGON ((103353.744 108568.622, 103353.843 10...</td>\n",
              "    </tr>\n",
              "    <tr>\n",
              "      <th>9</th>\n",
              "      <td>BALVANERA - SAN CRISTOBAL</td>\n",
              "      <td>10486.260809</td>\n",
              "      <td>6.385991e+06</td>\n",
              "      <td>3.0</td>\n",
              "      <td>10</td>\n",
              "      <td>LIMITE COMUNAL</td>\n",
              "      <td>POLYGON ((104713.283 103467.380, 104862.315 10...</td>\n",
              "    </tr>\n",
              "    <tr>\n",
              "      <th>10</th>\n",
              "      <td>AGRONOMIA - CHACARITA -  PARQUE CHAS -  PATERN...</td>\n",
              "      <td>17832.585580</td>\n",
              "      <td>1.432290e+07</td>\n",
              "      <td>15.0</td>\n",
              "      <td>11</td>\n",
              "      <td>LIMITE COMUNAL</td>\n",
              "      <td>POLYGON ((103419.432 103622.028, 103527.760 10...</td>\n",
              "    </tr>\n",
              "    <tr>\n",
              "      <th>11</th>\n",
              "      <td>VILLA LUGANO - VILLA RIACHUELO - VILLA SOLDATI</td>\n",
              "      <td>20935.012513</td>\n",
              "      <td>2.221690e+07</td>\n",
              "      <td>8.0</td>\n",
              "      <td>12</td>\n",
              "      <td>LIMITE COMUNAL</td>\n",
              "      <td>POLYGON ((101298.828 97570.934, 101326.690 975...</td>\n",
              "    </tr>\n",
              "    <tr>\n",
              "      <th>12</th>\n",
              "      <td>BARRACAS - BOCA - NUEVA POMPEYA - PARQUE PATRI...</td>\n",
              "      <td>35423.282799</td>\n",
              "      <td>2.168464e+07</td>\n",
              "      <td>4.0</td>\n",
              "      <td>13</td>\n",
              "      <td>LIMITE COMUNAL</td>\n",
              "      <td>POLYGON ((105886.881 96487.377, 105876.277 964...</td>\n",
              "    </tr>\n",
              "    <tr>\n",
              "      <th>13</th>\n",
              "      <td>CONSTITUCION - MONSERRAT - PUERTO MADERO -  RE...</td>\n",
              "      <td>36102.201573</td>\n",
              "      <td>1.779457e+07</td>\n",
              "      <td>1.0</td>\n",
              "      <td>14</td>\n",
              "      <td>LIMITE COMUNAL</td>\n",
              "      <td>MULTIPOLYGON (((108694.994 106166.075, 108697....</td>\n",
              "    </tr>\n",
              "    <tr>\n",
              "      <th>14</th>\n",
              "      <td>BELGRANO - COLEGIALES - NUÑEZ</td>\n",
              "      <td>26198.826953</td>\n",
              "      <td>1.471321e+07</td>\n",
              "      <td>13.0</td>\n",
              "      <td>15</td>\n",
              "      <td>LIMITE COMUNAL</td>\n",
              "      <td>POLYGON ((102108.376 109877.874, 102109.554 10...</td>\n",
              "    </tr>\n",
              "  </tbody>\n",
              "</table>\n",
              "</div>\n",
              "      <button class=\"colab-df-convert\" onclick=\"convertToInteractive('df-5625070a-9b9a-4c17-ae61-512ceb1cc56f')\"\n",
              "              title=\"Convert this dataframe to an interactive table.\"\n",
              "              style=\"display:none;\">\n",
              "\n",
              "  <svg xmlns=\"http://www.w3.org/2000/svg\" height=\"24px\"viewBox=\"0 0 24 24\"\n",
              "       width=\"24px\">\n",
              "    <path d=\"M0 0h24v24H0V0z\" fill=\"none\"/>\n",
              "    <path d=\"M18.56 5.44l.94 2.06.94-2.06 2.06-.94-2.06-.94-.94-2.06-.94 2.06-2.06.94zm-11 1L8.5 8.5l.94-2.06 2.06-.94-2.06-.94L8.5 2.5l-.94 2.06-2.06.94zm10 10l.94 2.06.94-2.06 2.06-.94-2.06-.94-.94-2.06-.94 2.06-2.06.94z\"/><path d=\"M17.41 7.96l-1.37-1.37c-.4-.4-.92-.59-1.43-.59-.52 0-1.04.2-1.43.59L10.3 9.45l-7.72 7.72c-.78.78-.78 2.05 0 2.83L4 21.41c.39.39.9.59 1.41.59.51 0 1.02-.2 1.41-.59l7.78-7.78 2.81-2.81c.8-.78.8-2.07 0-2.86zM5.41 20L4 18.59l7.72-7.72 1.47 1.35L5.41 20z\"/>\n",
              "  </svg>\n",
              "      </button>\n",
              "\n",
              "\n",
              "\n",
              "    <div id=\"df-9c348eab-eab6-41c3-895a-4d78813ca742\">\n",
              "      <button class=\"colab-df-quickchart\" onclick=\"quickchart('df-9c348eab-eab6-41c3-895a-4d78813ca742')\"\n",
              "              title=\"Suggest charts.\"\n",
              "              style=\"display:none;\">\n",
              "\n",
              "<svg xmlns=\"http://www.w3.org/2000/svg\" height=\"24px\"viewBox=\"0 0 24 24\"\n",
              "     width=\"24px\">\n",
              "    <g>\n",
              "        <path d=\"M19 3H5c-1.1 0-2 .9-2 2v14c0 1.1.9 2 2 2h14c1.1 0 2-.9 2-2V5c0-1.1-.9-2-2-2zM9 17H7v-7h2v7zm4 0h-2V7h2v10zm4 0h-2v-4h2v4z\"/>\n",
              "    </g>\n",
              "</svg>\n",
              "      </button>\n",
              "    </div>\n",
              "\n",
              "<style>\n",
              "  .colab-df-quickchart {\n",
              "    background-color: #E8F0FE;\n",
              "    border: none;\n",
              "    border-radius: 50%;\n",
              "    cursor: pointer;\n",
              "    display: none;\n",
              "    fill: #1967D2;\n",
              "    height: 32px;\n",
              "    padding: 0 0 0 0;\n",
              "    width: 32px;\n",
              "  }\n",
              "\n",
              "  .colab-df-quickchart:hover {\n",
              "    background-color: #E2EBFA;\n",
              "    box-shadow: 0px 1px 2px rgba(60, 64, 67, 0.3), 0px 1px 3px 1px rgba(60, 64, 67, 0.15);\n",
              "    fill: #174EA6;\n",
              "  }\n",
              "\n",
              "  [theme=dark] .colab-df-quickchart {\n",
              "    background-color: #3B4455;\n",
              "    fill: #D2E3FC;\n",
              "  }\n",
              "\n",
              "  [theme=dark] .colab-df-quickchart:hover {\n",
              "    background-color: #434B5C;\n",
              "    box-shadow: 0px 1px 3px 1px rgba(0, 0, 0, 0.15);\n",
              "    filter: drop-shadow(0px 1px 2px rgba(0, 0, 0, 0.3));\n",
              "    fill: #FFFFFF;\n",
              "  }\n",
              "</style>\n",
              "\n",
              "    <script>\n",
              "      async function quickchart(key) {\n",
              "        const containerElement = document.querySelector('#' + key);\n",
              "        const charts = await google.colab.kernel.invokeFunction(\n",
              "            'suggestCharts', [key], {});\n",
              "      }\n",
              "    </script>\n",
              "\n",
              "      <script>\n",
              "\n",
              "function displayQuickchartButton(domScope) {\n",
              "  let quickchartButtonEl =\n",
              "    domScope.querySelector('#df-9c348eab-eab6-41c3-895a-4d78813ca742 button.colab-df-quickchart');\n",
              "  quickchartButtonEl.style.display =\n",
              "    google.colab.kernel.accessAllowed ? 'block' : 'none';\n",
              "}\n",
              "\n",
              "        displayQuickchartButton(document);\n",
              "      </script>\n",
              "      <style>\n",
              "    .colab-df-container {\n",
              "      display:flex;\n",
              "      flex-wrap:wrap;\n",
              "      gap: 12px;\n",
              "    }\n",
              "\n",
              "    .colab-df-convert {\n",
              "      background-color: #E8F0FE;\n",
              "      border: none;\n",
              "      border-radius: 50%;\n",
              "      cursor: pointer;\n",
              "      display: none;\n",
              "      fill: #1967D2;\n",
              "      height: 32px;\n",
              "      padding: 0 0 0 0;\n",
              "      width: 32px;\n",
              "    }\n",
              "\n",
              "    .colab-df-convert:hover {\n",
              "      background-color: #E2EBFA;\n",
              "      box-shadow: 0px 1px 2px rgba(60, 64, 67, 0.3), 0px 1px 3px 1px rgba(60, 64, 67, 0.15);\n",
              "      fill: #174EA6;\n",
              "    }\n",
              "\n",
              "    [theme=dark] .colab-df-convert {\n",
              "      background-color: #3B4455;\n",
              "      fill: #D2E3FC;\n",
              "    }\n",
              "\n",
              "    [theme=dark] .colab-df-convert:hover {\n",
              "      background-color: #434B5C;\n",
              "      box-shadow: 0px 1px 3px 1px rgba(0, 0, 0, 0.15);\n",
              "      filter: drop-shadow(0px 1px 2px rgba(0, 0, 0, 0.3));\n",
              "      fill: #FFFFFF;\n",
              "    }\n",
              "  </style>\n",
              "\n",
              "      <script>\n",
              "        const buttonEl =\n",
              "          document.querySelector('#df-5625070a-9b9a-4c17-ae61-512ceb1cc56f button.colab-df-convert');\n",
              "        buttonEl.style.display =\n",
              "          google.colab.kernel.accessAllowed ? 'block' : 'none';\n",
              "\n",
              "        async function convertToInteractive(key) {\n",
              "          const element = document.querySelector('#df-5625070a-9b9a-4c17-ae61-512ceb1cc56f');\n",
              "          const dataTable =\n",
              "            await google.colab.kernel.invokeFunction('convertToInteractive',\n",
              "                                                     [key], {});\n",
              "          if (!dataTable) return;\n",
              "\n",
              "          const docLinkHtml = 'Like what you see? Visit the ' +\n",
              "            '<a target=\"_blank\" href=https://colab.research.google.com/notebooks/data_table.ipynb>data table notebook</a>'\n",
              "            + ' to learn more about interactive tables.';\n",
              "          element.innerHTML = '';\n",
              "          dataTable['output_type'] = 'display_data';\n",
              "          await google.colab.output.renderOutput(dataTable, element);\n",
              "          const docLink = document.createElement('div');\n",
              "          docLink.innerHTML = docLinkHtml;\n",
              "          element.appendChild(docLink);\n",
              "        }\n",
              "      </script>\n",
              "    </div>\n",
              "  </div>\n"
            ]
          },
          "metadata": {},
          "execution_count": 3
        }
      ]
    },
    {
      "cell_type": "code",
      "source": [
        "comunas.plot('COMUNAS', legend=True, categorical=True, figsize=(8, 8), cmap='tab20')\n"
      ],
      "metadata": {
        "colab": {
          "base_uri": "https://localhost:8080/",
          "height": 694
        },
        "id": "ua0OPPEfeTf1",
        "outputId": "f9daffcc-013e-4463-f79f-4691871e087b"
      },
      "execution_count": 17,
      "outputs": [
        {
          "output_type": "execute_result",
          "data": {
            "text/plain": [
              "<Axes: >"
            ]
          },
          "metadata": {},
          "execution_count": 17
        },
        {
          "output_type": "display_data",
          "data": {
            "text/plain": [
              "<Figure size 800x800 with 1 Axes>"
            ],
            "image/png": "[encoded data removed]"
          },
          "metadata": {}
        }
      ]
    },
    {
      "cell_type": "markdown",
      "source": [
        "Estimaremos un modelo de localicalización usando la Encuesta Anual de Hogares de la Dirección General de Estadística y Censos de la Ciudad de Buenos Aires (EAH\n",
        "Véase https://www.estadisticaciudad.gob.ar/eyc/?cat=93)"
      ],
      "metadata": {
        "id": "qAg6Yc3wgre7"
      }
    },
    {
      "cell_type": "markdown",
      "source": [
        "Lo que buscamos es poder explicar/predecir la elección de la comuna donde un hogar vivirá a partir de un conjunto de características explicativas. En este ejemplo,  para simplificar, vamos a trabajar con la encuesta a las personas, y estimaremos el modelo utilizando los datos del jefe del hogar."
      ],
      "metadata": {
        "id": "kuA3IEaqnL6-"
      }
    },
    {
      "cell_type": "code",
      "metadata": {
        "id": "UI-PPXBEiyO5"
      },
      "source": [
        "dataeah=pd.read_csv(\"https://github.com/rpasquini/econometrics_and_causality/blob/master/eah2016.csv?raw=true\")\n"
      ],
      "execution_count": 28,
      "outputs": []
    },
    {
      "cell_type": "code",
      "metadata": {
        "id": "AJYnY01qjQ8m",
        "colab": {
          "base_uri": "https://localhost:8080/"
        },
        "outputId": "1a93d93a-793d-45a8-e790-b96fb8d7a9a4"
      },
      "source": [
        "dataeah.columns"
      ],
      "execution_count": 29,
      "outputs": [
        {
          "output_type": "execute_result",
          "data": {
            "text/plain": [
              "Index(['id', 'nhogar', 'miembro', 'comuna', 'dominio', 'edad', 'sexo',\n",
              "       'parentes_2', 'p5_2', 'p6_a', 'p6_b', 'estado', 'categori', 't13',\n",
              "       't14', 't18', 't28', 't29', 't29a', 't30', 'sem_hs', 't33', 't34',\n",
              "       't35', 't37_cod_2', 't37_coda_2', 't38', 't39', 't40', 't41_cod_2',\n",
              "       't47', 't48', 't51_bis', 'i1', 'i4', 'i6_3', 'i10', 'i11', 'codioph',\n",
              "       'ioph_2', 'codioph_neto', 'ioph_neto_2', 'codios', 'ios_2', 'codioa',\n",
              "       'ioa_2', 'codlab', 'inglab_2', 'codi3_1x', 'i3_1x_2', 'codi3_2x',\n",
              "       'i3_2x_2', 'codi3_8x', 'i3_8x_2', 'codi3_est', 'i3_est_2', 'codi3_otr',\n",
              "       'i3_otr_2', 'codnolab', 'ingnolab_2', 'coding', 'ingtot_2', 'codi_tot',\n",
              "       'itfb_2', 'ipcfb_2', 'e2', 'e4', 'e6', 'e8', 'e12', 'e13', 'e14',\n",
              "       'edad_30', 'nivel', 'aesc', 'm1', 'm1_2', 'm2_anio', 'm3_anio',\n",
              "       'tipcob2_2', 'sn1_1', 'sn1_7', 'sn1_2', 'sn1_3', 'sn1_4', 'sn1_5', 's8',\n",
              "       'sn14', 'sn16', 's28', 's29', 'fexp', 'sexotexto'],\n",
              "      dtype='object')"
            ]
          },
          "metadata": {},
          "execution_count": 29
        }
      ]
    },
    {
      "cell_type": "code",
      "source": [
        "# Para el ejemplo nos quedaremos con las caracteristicas del jefe de hogar, codificado como 1 en la variable parentes_2\n",
        "dataeah=dataeah[dataeah['parentes_2']==1]"
      ],
      "metadata": {
        "id": "ux1IlItFoHM3"
      },
      "execution_count": 30,
      "outputs": []
    },
    {
      "cell_type": "markdown",
      "source": [
        "Como variables explicativas tomaremos la edad y el monto del ingreso total individual (variable ingtot_2)"
      ],
      "metadata": {
        "id": "H982uvqoo4K4"
      }
    },
    {
      "cell_type": "code",
      "metadata": {
        "id": "nQvI22MSll2I",
        "colab": {
          "base_uri": "https://localhost:8080/",
          "height": 448
        },
        "outputId": "1cd5d2ff-2a25-48dd-82ad-ce71c6f29673"
      },
      "source": [
        "dataeah[\"ingtot_2\"].hist()"
      ],
      "execution_count": 32,
      "outputs": [
        {
          "output_type": "execute_result",
          "data": {
            "text/plain": [
              "<Axes: >"
            ]
          },
          "metadata": {},
          "execution_count": 32
        },
        {
          "output_type": "display_data",
          "data": {
            "text/plain": [
              "<Figure size 640x480 with 1 Axes>"
            ],
            "image/png": "[encoded data removed]"
          },
          "metadata": {}
        }
      ]
    },
    {
      "cell_type": "markdown",
      "source": [
        "El modelo a estar sera un Multinomial Logit. Este modelo se puede pensar como una generalización del modelo Logit para una cantidad de K categorías. Podemos pensar a este modelo como la modelización de K-1 ecuaciones tomando como base a una categoría de referencia (la K-esima).  \n",
        "\n",
        "Al igual que el Logit, este modelo tiene la propiedad de que el logaritmo del ratio de las chances entre las categorías se modela de manera lineal. En este caso, el logaritmo del ratio de las chances de una categroria k-esima en relación a la categoría K (la última), se puede escribir como:\n",
        "\n",
        "$$ \\ln(\\frac{\\Pr(Y=k)}{\\Pr(Y=K)})=\\beta_{0,k}+\\beta_{1,k}X_i+\\epsilon_i$$\n",
        "\n",
        "El modelo tiene similares implicancias al Logit de dos categorías: Los efectos del modelo en las probabilidades serán no-lineales (i.e., dependerán de los valores de las variables explicativas) y será necesario estimar los *efectos marginales*.\n",
        "\n"
      ],
      "metadata": {
        "id": "vB6w0iy8pshb"
      }
    },
    {
      "cell_type": "code",
      "metadata": {
        "id": "Yaow9-oWjtxc"
      },
      "source": [
        "def mnlogit(lista, data):\n",
        "  \"\"\"\n",
        "  Funcion que realiza la regresion Multinomial Logit\n",
        "  La primera variable de la lista es la dependiente, el resto son las explicativas\n",
        "  data es la base de datos\n",
        "  \"\"\"\n",
        "  datos=data[lista]\n",
        "  # el metodo dropna() me permite eliminar las filas que tienen algun valor missing\n",
        "  datos=datos.dropna()\n",
        "  Y=datos[lista[0]]\n",
        "  X=datos[lista[1:]]\n",
        "  X=sm.add_constant(X)\n",
        "  modelo=sm.MNLogit(Y,X)\n",
        "  modeloajustado=modelo.fit()\n",
        "  print(modeloajustado.summary())\n",
        "  return modeloajustado"
      ],
      "execution_count": 33,
      "outputs": []
    },
    {
      "cell_type": "code",
      "metadata": {
        "id": "6DbfWUZdj8xJ",
        "colab": {
          "base_uri": "https://localhost:8080/"
        },
        "outputId": "467b532f-759f-41e5-88ce-5fcc758407d4"
      },
      "source": [
        "modeloajustado=mnlogit(['comuna', 'ingtot_2', 'edad'], dataeah)"
      ],
      "execution_count": 34,
      "outputs": [
        {
          "output_type": "stream",
          "name": "stdout",
          "text": [
            "Optimization terminated successfully.\n",
            "         Current function value: 2.623895\n",
            "         Iterations 6\n",
            "                          MNLogit Regression Results                          \n",
            "==============================================================================\n",
            "Dep. Variable:                 comuna   No. Observations:                 6000\n",
            "Model:                        MNLogit   Df Residuals:                     5958\n",
            "Method:                           MLE   Df Model:                           28\n",
            "Date:                Mon, 17 Jul 2023   Pseudo R-squ.:                 0.01531\n",
            "Time:                        21:22:51   Log-Likelihood:                -15743.\n",
            "converged:                       True   LL-Null:                       -15988.\n",
            "Covariance Type:            nonrobust   LLR p-value:                 9.079e-86\n",
            "==============================================================================\n",
            "  comuna=2       coef    std err          z      P>|z|      [0.025      0.975]\n",
            "------------------------------------------------------------------------------\n",
            "const         -0.8967      0.198     -4.529      0.000      -1.285      -0.509\n",
            "ingtot_2    3.483e-05   4.51e-06      7.723      0.000     2.6e-05    4.37e-05\n",
            "edad          -0.0014      0.004     -0.402      0.688      -0.008       0.006\n",
            "------------------------------------------------------------------------------\n",
            "  comuna=3       coef    std err          z      P>|z|      [0.025      0.975]\n",
            "------------------------------------------------------------------------------\n",
            "const         -0.7908      0.196     -4.037      0.000      -1.175      -0.407\n",
            "ingtot_2    7.056e-06   5.25e-06      1.344      0.179   -3.23e-06    1.73e-05\n",
            "edad           0.0084      0.003      2.540      0.011       0.002       0.015\n",
            "------------------------------------------------------------------------------\n",
            "  comuna=4       coef    std err          z      P>|z|      [0.025      0.975]\n",
            "------------------------------------------------------------------------------\n",
            "const         -0.4191      0.194     -2.155      0.031      -0.800      -0.038\n",
            "ingtot_2    -1.86e-05   5.99e-06     -3.105      0.002   -3.03e-05   -6.86e-06\n",
            "edad           0.0087      0.003      2.689      0.007       0.002       0.015\n",
            "------------------------------------------------------------------------------\n",
            "  comuna=5       coef    std err          z      P>|z|      [0.025      0.975]\n",
            "------------------------------------------------------------------------------\n",
            "const         -1.3331      0.213     -6.268      0.000      -1.750      -0.916\n",
            "ingtot_2    2.454e-05   4.99e-06      4.922      0.000    1.48e-05    3.43e-05\n",
            "edad           0.0079      0.004      2.153      0.031       0.001       0.015\n",
            "------------------------------------------------------------------------------\n",
            "  comuna=6       coef    std err          z      P>|z|      [0.025      0.975]\n",
            "------------------------------------------------------------------------------\n",
            "const         -1.6095      0.214     -7.525      0.000      -2.029      -1.190\n",
            "ingtot_2    2.513e-05   4.91e-06      5.116      0.000    1.55e-05    3.48e-05\n",
            "edad           0.0136      0.004      3.783      0.000       0.007       0.021\n",
            "------------------------------------------------------------------------------\n",
            "  comuna=7       coef    std err          z      P>|z|      [0.025      0.975]\n",
            "------------------------------------------------------------------------------\n",
            "const         -1.2901      0.211     -6.107      0.000      -1.704      -0.876\n",
            "ingtot_2    6.088e-06   5.56e-06      1.096      0.273    -4.8e-06     1.7e-05\n",
            "edad           0.0146      0.003      4.175      0.000       0.008       0.021\n",
            "------------------------------------------------------------------------------\n",
            "  comuna=8       coef    std err          z      P>|z|      [0.025      0.975]\n",
            "------------------------------------------------------------------------------\n",
            "const          0.0859      0.195      0.441      0.659      -0.296       0.468\n",
            "ingtot_2   -4.074e-05   6.75e-06     -6.034      0.000    -5.4e-05   -2.75e-05\n",
            "edad           0.0028      0.003      0.864      0.387      -0.004       0.009\n",
            "------------------------------------------------------------------------------\n",
            "  comuna=9       coef    std err          z      P>|z|      [0.025      0.975]\n",
            "------------------------------------------------------------------------------\n",
            "const         -1.3729      0.244     -5.638      0.000      -1.850      -0.896\n",
            "ingtot_2   -2.155e-05   7.59e-06     -2.839      0.005   -3.64e-05   -6.67e-06\n",
            "edad           0.0156      0.004      3.986      0.000       0.008       0.023\n",
            "------------------------------------------------------------------------------\n",
            " comuna=10       coef    std err          z      P>|z|      [0.025      0.975]\n",
            "------------------------------------------------------------------------------\n",
            "const         -2.0275      0.257     -7.876      0.000      -2.532      -1.523\n",
            "ingtot_2    5.732e-06   6.58e-06      0.871      0.384   -7.16e-06    1.86e-05\n",
            "edad           0.0186      0.004      4.477      0.000       0.010       0.027\n",
            "------------------------------------------------------------------------------\n",
            " comuna=11       coef    std err          z      P>|z|      [0.025      0.975]\n",
            "------------------------------------------------------------------------------\n",
            "const         -2.4954      0.294     -8.489      0.000      -3.072      -1.919\n",
            "ingtot_2    1.422e-05   6.88e-06      2.069      0.039    7.47e-07    2.77e-05\n",
            "edad           0.0184      0.005      3.866      0.000       0.009       0.028\n",
            "------------------------------------------------------------------------------\n",
            " comuna=12       coef    std err          z      P>|z|      [0.025      0.975]\n",
            "------------------------------------------------------------------------------\n",
            "const         -1.3886      0.221     -6.292      0.000      -1.821      -0.956\n",
            "ingtot_2    1.829e-05   5.37e-06      3.408      0.001    7.77e-06    2.88e-05\n",
            "edad           0.0091      0.004      2.435      0.015       0.002       0.016\n",
            "------------------------------------------------------------------------------\n",
            " comuna=13       coef    std err          z      P>|z|      [0.025      0.975]\n",
            "------------------------------------------------------------------------------\n",
            "const         -1.8786      0.217     -8.664      0.000      -2.304      -1.454\n",
            "ingtot_2    3.474e-05   4.59e-06      7.565      0.000    2.57e-05    4.37e-05\n",
            "edad           0.0145      0.004      3.961      0.000       0.007       0.022\n",
            "------------------------------------------------------------------------------\n",
            " comuna=14       coef    std err          z      P>|z|      [0.025      0.975]\n",
            "------------------------------------------------------------------------------\n",
            "const         -1.5506      0.211     -7.353      0.000      -1.964      -1.137\n",
            "ingtot_2    4.143e-05   4.43e-06      9.350      0.000    3.27e-05    5.01e-05\n",
            "edad           0.0060      0.004      1.612      0.107      -0.001       0.013\n",
            "------------------------------------------------------------------------------\n",
            " comuna=15       coef    std err          z      P>|z|      [0.025      0.975]\n",
            "------------------------------------------------------------------------------\n",
            "const         -1.5228      0.225     -6.766      0.000      -1.964      -1.082\n",
            "ingtot_2    1.733e-05   5.46e-06      3.174      0.002    6.63e-06     2.8e-05\n",
            "edad           0.0112      0.004      2.975      0.003       0.004       0.019\n",
            "==============================================================================\n"
          ]
        }
      ]
    },
    {
      "cell_type": "code",
      "source": [
        "probit_margeff = modeloajustado.get_margeff(atexog={1:50000, 2:30})\n",
        "print('Marginal effects: ')\n",
        "print(probit_margeff.summary())"
      ],
      "metadata": {
        "colab": {
          "base_uri": "https://localhost:8080/"
        },
        "id": "8x1-odrzvACi",
        "outputId": "1fe41cf1-701b-4dd9-ea3c-7d62c2364cd6"
      },
      "execution_count": 35,
      "outputs": [
        {
          "output_type": "stream",
          "name": "stdout",
          "text": [
            "Marginal effects: \n",
            "       MNLogit Marginal Effects      \n",
            "=====================================\n",
            "Dep. Variable:                 comuna\n",
            "Method:                          dydx\n",
            "At:                           overall\n",
            "==============================================================================\n",
            "  comuna=1      dy/dx    std err          z      P>|z|      [0.025      0.975]\n",
            "------------------------------------------------------------------------------\n",
            "ingtot_2   -1.723e-06   1.28e-07    -13.476      0.000   -1.97e-06   -1.47e-06\n",
            "edad          -0.0006      0.000     -2.842      0.004      -0.001      -0.000\n",
            "------------------------------------------------------------------------------\n",
            "  comuna=2      dy/dx    std err          z      P>|z|      [0.025      0.975]\n",
            "------------------------------------------------------------------------------\n",
            "ingtot_2    2.149e-06    5.1e-07      4.217      0.000    1.15e-06    3.15e-06\n",
            "edad          -0.0016      0.000     -3.200      0.001      -0.003      -0.001\n",
            "------------------------------------------------------------------------------\n",
            "  comuna=3      dy/dx    std err          z      P>|z|      [0.025      0.975]\n",
            "------------------------------------------------------------------------------\n",
            "ingtot_2   -9.791e-07   1.44e-07     -6.808      0.000   -1.26e-06   -6.97e-07\n",
            "edad        4.839e-05      0.000      0.306      0.760      -0.000       0.000\n",
            "------------------------------------------------------------------------------\n",
            "  comuna=4      dy/dx    std err          z      P>|z|      [0.025      0.975]\n",
            "------------------------------------------------------------------------------\n",
            "ingtot_2   -1.065e-06   9.43e-08    -11.297      0.000   -1.25e-06    -8.8e-07\n",
            "edad        2.787e-05   6.47e-05      0.431      0.667   -9.89e-05       0.000\n",
            "------------------------------------------------------------------------------\n",
            "  comuna=5      dy/dx    std err          z      P>|z|      [0.025      0.975]\n",
            "------------------------------------------------------------------------------\n",
            "ingtot_2    1.936e-07   3.03e-07      0.639      0.523      -4e-07    7.87e-07\n",
            "edad        1.742e-05      0.000      0.071      0.943      -0.000       0.000\n",
            "------------------------------------------------------------------------------\n",
            "  comuna=6      dy/dx    std err          z      P>|z|      [0.025      0.975]\n",
            "------------------------------------------------------------------------------\n",
            "ingtot_2    2.278e-07   2.78e-07      0.818      0.413   -3.18e-07    7.73e-07\n",
            "edad           0.0005      0.000      2.383      0.017     8.6e-05       0.001\n",
            "------------------------------------------------------------------------------\n",
            "  comuna=7      dy/dx    std err          z      P>|z|      [0.025      0.975]\n",
            "------------------------------------------------------------------------------\n",
            "ingtot_2    -7.24e-07   1.08e-07     -6.724      0.000   -9.35e-07   -5.13e-07\n",
            "edad           0.0003      0.000      2.680      0.007    8.26e-05       0.001\n",
            "------------------------------------------------------------------------------\n",
            "  comuna=8      dy/dx    std err          z      P>|z|      [0.025      0.975]\n",
            "------------------------------------------------------------------------------\n",
            "ingtot_2   -7.535e-07    1.1e-07     -6.845      0.000   -9.69e-07   -5.38e-07\n",
            "edad       -5.745e-05   3.62e-05     -1.585      0.113      -0.000    1.36e-05\n",
            "------------------------------------------------------------------------------\n",
            "  comuna=9      dy/dx    std err          z      P>|z|      [0.025      0.975]\n",
            "------------------------------------------------------------------------------\n",
            "ingtot_2   -4.666e-07   6.38e-08     -7.312      0.000   -5.92e-07   -3.42e-07\n",
            "edad        8.465e-05   3.74e-05      2.265      0.024    1.14e-05       0.000\n",
            "------------------------------------------------------------------------------\n",
            " comuna=10      dy/dx    std err          z      P>|z|      [0.025      0.975]\n",
            "------------------------------------------------------------------------------\n",
            "ingtot_2    -3.92e-07   7.28e-08     -5.385      0.000   -5.35e-07   -2.49e-07\n",
            "edad           0.0003   8.21e-05      3.137      0.002    9.66e-05       0.000\n",
            "------------------------------------------------------------------------------\n",
            " comuna=11      dy/dx    std err          z      P>|z|      [0.025      0.975]\n",
            "------------------------------------------------------------------------------\n",
            "ingtot_2   -1.822e-07   9.99e-08     -1.825      0.068   -3.78e-07    1.35e-08\n",
            "edad           0.0002   8.75e-05      2.748      0.006     6.9e-05       0.000\n",
            "------------------------------------------------------------------------------\n",
            " comuna=12      dy/dx    std err          z      P>|z|      [0.025      0.975]\n",
            "------------------------------------------------------------------------------\n",
            "ingtot_2   -2.553e-07   2.15e-07     -1.185      0.236   -6.78e-07    1.67e-07\n",
            "edad        9.198e-05      0.000      0.502      0.616      -0.000       0.000\n",
            "------------------------------------------------------------------------------\n",
            " comuna=13      dy/dx    std err          z      P>|z|      [0.025      0.975]\n",
            "------------------------------------------------------------------------------\n",
            "ingtot_2    1.284e-06   3.57e-07      3.595      0.000    5.84e-07    1.98e-06\n",
            "edad           0.0007      0.000      2.826      0.005       0.000       0.001\n",
            "------------------------------------------------------------------------------\n",
            " comuna=14      dy/dx    std err          z      P>|z|      [0.025      0.975]\n",
            "------------------------------------------------------------------------------\n",
            "ingtot_2    2.966e-06   5.02e-07      5.905      0.000    1.98e-06    3.95e-06\n",
            "edad          -0.0003      0.000     -0.624      0.532      -0.001       0.001\n",
            "------------------------------------------------------------------------------\n",
            " comuna=15      dy/dx    std err          z      P>|z|      [0.025      0.975]\n",
            "------------------------------------------------------------------------------\n",
            "ingtot_2   -2.807e-07   1.92e-07     -1.459      0.145   -6.58e-07    9.65e-08\n",
            "edad           0.0002      0.000      1.254      0.210      -0.000       0.001\n",
            "==============================================================================\n"
          ]
        }
      ]
    },
    {
      "cell_type": "code",
      "metadata": {
        "id": "_xDvr4GYkZwC",
        "colab": {
          "base_uri": "https://localhost:8080/",
          "height": 68
        },
        "outputId": "5dfe8c5e-8b42-4db9-8741-9e17bcaa5cc5"
      },
      "source": [
        "modeloajustado.predict([1,20000,60])"
      ],
      "execution_count": null,
      "outputs": [
        {
          "output_type": "execute_result",
          "data": {
            "text/plain": [
              "array([[0.09499062, 0.07188986, 0.08289212, 0.07545277, 0.06886398,\n",
              "        0.07374537, 0.07111894, 0.06279312, 0.04695586, 0.04613311,\n",
              "        0.03362737, 0.0639365 , 0.07455247, 0.07169329, 0.06135463]])"
            ]
          },
          "metadata": {
            "tags": []
          },
          "execution_count": 92
        }
      ]
    }
  ]
}