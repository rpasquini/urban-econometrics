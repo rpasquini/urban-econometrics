{
  "nbformat": 4,
  "nbformat_minor": 0,
  "metadata": {
    "colab": {
      "name": "Diferencias en Diferencias.ipynb",
      "provenance": [],
      "authorship_tag": "ABX9TyOX72pERywgaNs2lejKhN2A",
      "include_colab_link": true
    },
    "kernelspec": {
      "name": "python3",
      "display_name": "Python 3"
    }
  },
  "cells": [
    {
      "cell_type": "markdown",
      "metadata": {
        "id": "view-in-github",
        "colab_type": "text"
      },
      "source": [
        "<a href=\"https://colab.research.google.com/github/rpasquini/urban-econometrics/blob/master/Diferencias_en_Diferencias.ipynb\" target=\"_parent\"><img src=\"https://colab.research.google.com/assets/colab-badge.svg\" alt=\"Open In Colab\"/></a>"
      ]
    },
    {
      "cell_type": "code",
      "metadata": {
        "id": "TqV_-YRrQ__N",
        "colab_type": "code",
        "colab": {
          "base_uri": "https://localhost:8080/",
          "height": 477
        },
        "outputId": "3c59f4e8-6c15-4800-b85a-a0ea9efba596"
      },
      "source": [
        "!pip install geopandas"
      ],
      "execution_count": 1,
      "outputs": [
        {
          "output_type": "stream",
          "text": [
            "Collecting geopandas\n",
            "\u001b[?25l  Downloading https://files.pythonhosted.org/packages/f7/a4/e66aafbefcbb717813bf3a355c8c4fc3ed04ea1dd7feb2920f2f4f868921/geopandas-0.8.1-py2.py3-none-any.whl (962kB)\n",
            "\u001b[K     |████████████████████████████████| 972kB 3.5MB/s \n",
            "\u001b[?25hRequirement already satisfied: pandas>=0.23.0 in /usr/local/lib/python3.6/dist-packages (from geopandas) (1.0.5)\n",
            "Collecting fiona\n",
            "\u001b[?25l  Downloading https://files.pythonhosted.org/packages/ec/20/4e63bc5c6e62df889297b382c3ccd4a7a488b00946aaaf81a118158c6f09/Fiona-1.8.13.post1-cp36-cp36m-manylinux1_x86_64.whl (14.7MB)\n",
            "\u001b[K     |████████████████████████████████| 14.7MB 304kB/s \n",
            "\u001b[?25hRequirement already satisfied: shapely in /usr/local/lib/python3.6/dist-packages (from geopandas) (1.7.0)\n",
            "Collecting pyproj>=2.2.0\n",
            "\u001b[?25l  Downloading https://files.pythonhosted.org/packages/e5/c3/071e080230ac4b6c64f1a2e2f9161c9737a2bc7b683d2c90b024825000c0/pyproj-2.6.1.post1-cp36-cp36m-manylinux2010_x86_64.whl (10.9MB)\n",
            "\u001b[K     |████████████████████████████████| 10.9MB 40.9MB/s \n",
            "\u001b[?25hRequirement already satisfied: pytz>=2017.2 in /usr/local/lib/python3.6/dist-packages (from pandas>=0.23.0->geopandas) (2018.9)\n",
            "Requirement already satisfied: python-dateutil>=2.6.1 in /usr/local/lib/python3.6/dist-packages (from pandas>=0.23.0->geopandas) (2.8.1)\n",
            "Requirement already satisfied: numpy>=1.13.3 in /usr/local/lib/python3.6/dist-packages (from pandas>=0.23.0->geopandas) (1.18.5)\n",
            "Requirement already satisfied: attrs>=17 in /usr/local/lib/python3.6/dist-packages (from fiona->geopandas) (19.3.0)\n",
            "Requirement already satisfied: click<8,>=4.0 in /usr/local/lib/python3.6/dist-packages (from fiona->geopandas) (7.1.2)\n",
            "Collecting munch\n",
            "  Downloading https://files.pythonhosted.org/packages/cc/ab/85d8da5c9a45e072301beb37ad7f833cd344e04c817d97e0cc75681d248f/munch-2.5.0-py2.py3-none-any.whl\n",
            "Requirement already satisfied: six>=1.7 in /usr/local/lib/python3.6/dist-packages (from fiona->geopandas) (1.15.0)\n",
            "Collecting click-plugins>=1.0\n",
            "  Downloading https://files.pythonhosted.org/packages/e9/da/824b92d9942f4e472702488857914bdd50f73021efea15b4cad9aca8ecef/click_plugins-1.1.1-py2.py3-none-any.whl\n",
            "Collecting cligj>=0.5\n",
            "  Downloading https://files.pythonhosted.org/packages/e4/be/30a58b4b0733850280d01f8bd132591b4668ed5c7046761098d665ac2174/cligj-0.5.0-py3-none-any.whl\n",
            "Installing collected packages: munch, click-plugins, cligj, fiona, pyproj, geopandas\n",
            "Successfully installed click-plugins-1.1.1 cligj-0.5.0 fiona-1.8.13.post1 geopandas-0.8.1 munch-2.5.0 pyproj-2.6.1.post1\n"
          ],
          "name": "stdout"
        }
      ]
    },
    {
      "cell_type": "markdown",
      "metadata": {
        "id": "xmYfGqZpdQBb",
        "colab_type": "text"
      },
      "source": [
        "# Investigando efectos del COVID en alquileres usando Diferencias en Diferencias\n"
      ]
    },
    {
      "cell_type": "code",
      "metadata": {
        "id": "pO2zmpgUQ4WH",
        "colab_type": "code",
        "colab": {}
      },
      "source": [
        "import geopandas as gpd\n",
        "import numpy as np\n",
        "data=gpd.GeoDataFrame.from_file(\"https://github.com/rpasquini/urban-econometrics/blob/master/data/deptos_amba_0519_0520.zip?raw=true\")\n",
        "df=data.loc[data.l2=='Capital Federal'] # vamos a trabajar con la Capital Federal"
      ],
      "execution_count": 2,
      "outputs": []
    },
    {
      "cell_type": "code",
      "metadata": {
        "id": "CP4vO2XJWmNV",
        "colab_type": "code",
        "colab": {
          "base_uri": "https://localhost:8080/",
          "height": 123
        },
        "outputId": "ca7e6f27-33b2-4e0f-b1b9-b763e18d1f89"
      },
      "source": [
        "df['airelibre']=np.where((df.patio=='1')| (df.terraza=='1'),1,0)"
      ],
      "execution_count": 3,
      "outputs": [
        {
          "output_type": "stream",
          "text": [
            "/usr/local/lib/python3.6/dist-packages/geopandas/geodataframe.py:853: SettingWithCopyWarning: \n",
            "A value is trying to be set on a copy of a slice from a DataFrame.\n",
            "Try using .loc[row_indexer,col_indexer] = value instead\n",
            "\n",
            "See the caveats in the documentation: https://pandas.pydata.org/pandas-docs/stable/user_guide/indexing.html#returning-a-view-versus-a-copy\n",
            "  super(GeoDataFrame, self).__setitem__(key, value)\n"
          ],
          "name": "stderr"
        }
      ]
    },
    {
      "cell_type": "markdown",
      "metadata": {
        "id": "LAutci77gvsl",
        "colab_type": "text"
      },
      "source": [
        "¿Cuánto fue el alquiler promedio de un departamento tomando el año completo?\n"
      ]
    },
    {
      "cell_type": "code",
      "metadata": {
        "id": "BbygBdRhgqnQ",
        "colab_type": "code",
        "colab": {
          "base_uri": "https://localhost:8080/",
          "height": 35
        },
        "outputId": "6bd90f40-1a8f-45f9-9233-bcb178e1aab7"
      },
      "source": [
        "df.price.mean()"
      ],
      "execution_count": 4,
      "outputs": [
        {
          "output_type": "execute_result",
          "data": {
            "text/plain": [
              "25351.83177693887"
            ]
          },
          "metadata": {
            "tags": []
          },
          "execution_count": 4
        }
      ]
    },
    {
      "cell_type": "markdown",
      "metadata": {
        "id": "rpsnXP2_dcly",
        "colab_type": "text"
      },
      "source": [
        "Exploramos la diferencia en diferencia \\\n",
        "\n",
        "$E[y|t=aire,Post]-E[y|t=aire,Pre]=\\lambda_{POST}+\\beta-\\lambda_{PRE}$\n",
        "$E[y|t=sinaire,Post]-E[y|t=sinaire,Pre]=\\lambda_{POST}-\\lambda_{PRE}$\n"
      ]
    },
    {
      "cell_type": "code",
      "metadata": {
        "id": "vh7zXzmxdAMT",
        "colab_type": "code",
        "colab": {
          "base_uri": "https://localhost:8080/",
          "height": 35
        },
        "outputId": "ef7855ea-a3e2-4154-e15a-dd5a7af7b4b1"
      },
      "source": [
        "dif_airelibre=df.loc[(df.postcovid==1)&(df.airelibre==1)].price.mean()-df.loc[(df.postcovid==0)&(df.airelibre==1)].price.mean()\n",
        "dif_airelibre"
      ],
      "execution_count": 5,
      "outputs": [
        {
          "output_type": "execute_result",
          "data": {
            "text/plain": [
              "11670.161339485458"
            ]
          },
          "metadata": {
            "tags": []
          },
          "execution_count": 5
        }
      ]
    },
    {
      "cell_type": "code",
      "metadata": {
        "id": "aHWeVX31a7qh",
        "colab_type": "code",
        "colab": {
          "base_uri": "https://localhost:8080/",
          "height": 35
        },
        "outputId": "e9cdc7bb-0abb-45a3-89ad-8ecc50b57e78"
      },
      "source": [
        "dif_sin_airelibre=df.loc[(df.postcovid==1)&(df.airelibre==0)].price.mean()-df.loc[(df.postcovid==0)&(df.airelibre==0)].price.mean()\n",
        "dif_sin_airelibre"
      ],
      "execution_count": 6,
      "outputs": [
        {
          "output_type": "execute_result",
          "data": {
            "text/plain": [
              "8571.756202733664"
            ]
          },
          "metadata": {
            "tags": []
          },
          "execution_count": 6
        }
      ]
    },
    {
      "cell_type": "code",
      "metadata": {
        "id": "_m4oUE1QdKOs",
        "colab_type": "code",
        "colab": {
          "base_uri": "https://localhost:8080/",
          "height": 35
        },
        "outputId": "e3149dd4-56fc-4593-b895-2c2f60174558"
      },
      "source": [
        "dif_airelibre-dif_sin_airelibre"
      ],
      "execution_count": 7,
      "outputs": [
        {
          "output_type": "execute_result",
          "data": {
            "text/plain": [
              "3098.405136751793"
            ]
          },
          "metadata": {
            "tags": []
          },
          "execution_count": 7
        }
      ]
    },
    {
      "cell_type": "markdown",
      "metadata": {
        "id": "CbqeUGhDfX-d",
        "colab_type": "text"
      },
      "source": [
        "Misma cuenta en logs"
      ]
    },
    {
      "cell_type": "code",
      "metadata": {
        "id": "MEB01AYhfc3G",
        "colab_type": "code",
        "colab": {
          "base_uri": "https://localhost:8080/",
          "height": 123
        },
        "outputId": "635416a2-4c1c-4783-f9a5-2663ae96b7a3"
      },
      "source": [
        "df['logprice']=np.log(df.price)\n",
        "df['logpricem2']=np.log(df.price/df.surface_to)"
      ],
      "execution_count": 8,
      "outputs": [
        {
          "output_type": "stream",
          "text": [
            "/usr/local/lib/python3.6/dist-packages/geopandas/geodataframe.py:853: SettingWithCopyWarning: \n",
            "A value is trying to be set on a copy of a slice from a DataFrame.\n",
            "Try using .loc[row_indexer,col_indexer] = value instead\n",
            "\n",
            "See the caveats in the documentation: https://pandas.pydata.org/pandas-docs/stable/user_guide/indexing.html#returning-a-view-versus-a-copy\n",
            "  super(GeoDataFrame, self).__setitem__(key, value)\n"
          ],
          "name": "stderr"
        }
      ]
    },
    {
      "cell_type": "code",
      "metadata": {
        "id": "EMIUtWRogKIm",
        "colab_type": "code",
        "colab": {
          "base_uri": "https://localhost:8080/",
          "height": 35
        },
        "outputId": "6b99dce5-dbce-4578-f2bc-5983beb25da6"
      },
      "source": [
        "dif_airelibre=df.loc[(df.postcovid==1)&(df.airelibre==1)].logprice.mean()-df.loc[(df.postcovid==0)&(df.airelibre==1)].logprice.mean()\n",
        "dif_sin_airelibre=df.loc[(df.postcovid==1)&(df.airelibre==0)].logprice.mean()-df.loc[(df.postcovid==0)&(df.airelibre==0)].logprice.mean()\n",
        "dif_airelibre-dif_sin_airelibre"
      ],
      "execution_count": 9,
      "outputs": [
        {
          "output_type": "execute_result",
          "data": {
            "text/plain": [
              "0.017190559076601275"
            ]
          },
          "metadata": {
            "tags": []
          },
          "execution_count": 9
        }
      ]
    },
    {
      "cell_type": "markdown",
      "metadata": {
        "id": "Wfm3nFcfhKlc",
        "colab_type": "text"
      },
      "source": [
        "# Utilizando Regresión\n"
      ]
    },
    {
      "cell_type": "code",
      "metadata": {
        "id": "T6fX9nnuhkvI",
        "colab_type": "code",
        "colab": {
          "base_uri": "https://localhost:8080/",
          "height": 123
        },
        "outputId": "4358f0b5-5145-4ff8-f681-c2bb8c244de1"
      },
      "source": [
        "df['DD']=df.postcovid*df.airelibre"
      ],
      "execution_count": 10,
      "outputs": [
        {
          "output_type": "stream",
          "text": [
            "/usr/local/lib/python3.6/dist-packages/geopandas/geodataframe.py:853: SettingWithCopyWarning: \n",
            "A value is trying to be set on a copy of a slice from a DataFrame.\n",
            "Try using .loc[row_indexer,col_indexer] = value instead\n",
            "\n",
            "See the caveats in the documentation: https://pandas.pydata.org/pandas-docs/stable/user_guide/indexing.html#returning-a-view-versus-a-copy\n",
            "  super(GeoDataFrame, self).__setitem__(key, value)\n"
          ],
          "name": "stderr"
        }
      ]
    },
    {
      "cell_type": "code",
      "metadata": {
        "id": "9bRM2eqOhN9p",
        "colab_type": "code",
        "colab": {
          "base_uri": "https://localhost:8080/",
          "height": 72
        },
        "outputId": "e188fbdb-5d8c-4cb6-f430-a06d88d704d4"
      },
      "source": [
        "import statsmodels.api as sm\n",
        "def regress(lista, data):\n",
        "    \"\"\" \n",
        "    Funcion que realiza la regresion OLS\n",
        "    La primera variable de la lista es la dependiente, el resto son las explicativas\n",
        "    data es la base de datos\n",
        "    \"\"\"\n",
        "    datos=data[lista]\n",
        "    # el metodo dropna() me permite eliminar las filas que tienen algun valor missing\n",
        "    datos=datos.dropna()\n",
        "    Y=datos[lista[0]]\n",
        "    X=datos[lista[1:]]\n",
        "    X=sm.add_constant(X)\n",
        "    modelo=sm.OLS(Y,X)\n",
        "    resultados=modelo.fit()\n",
        "    print(resultados.summary())"
      ],
      "execution_count": 11,
      "outputs": [
        {
          "output_type": "stream",
          "text": [
            "/usr/local/lib/python3.6/dist-packages/statsmodels/tools/_testing.py:19: FutureWarning: pandas.util.testing is deprecated. Use the functions in the public API at pandas.testing instead.\n",
            "  import pandas.util.testing as tm\n"
          ],
          "name": "stderr"
        }
      ]
    },
    {
      "cell_type": "code",
      "metadata": {
        "id": "gw-iVvJNhZ8X",
        "colab_type": "code",
        "colab": {
          "base_uri": "https://localhost:8080/",
          "height": 492
        },
        "outputId": "cc0267c0-c93c-416e-8c7f-83ecd04e354a"
      },
      "source": [
        "regress(['logprice','postcovid','airelibre','DD'],data=df)"
      ],
      "execution_count": 12,
      "outputs": [
        {
          "output_type": "stream",
          "text": [
            "                            OLS Regression Results                            \n",
            "==============================================================================\n",
            "Dep. Variable:               logprice   R-squared:                       0.038\n",
            "Model:                            OLS   Adj. R-squared:                  0.037\n",
            "Method:                 Least Squares   F-statistic:                     196.4\n",
            "Date:                Thu, 13 Aug 2020   Prob (F-statistic):          5.75e-125\n",
            "Time:                        18:02:36   Log-Likelihood:                -10897.\n",
            "No. Observations:               15099   AIC:                         2.180e+04\n",
            "Df Residuals:                   15095   BIC:                         2.183e+04\n",
            "Df Model:                           3                                         \n",
            "Covariance Type:            nonrobust                                         \n",
            "==============================================================================\n",
            "                 coef    std err          t      P>|t|      [0.025      0.975]\n",
            "------------------------------------------------------------------------------\n",
            "const          9.9326      0.005   2087.057      0.000       9.923       9.942\n",
            "postcovid      0.2837      0.017     16.257      0.000       0.249       0.318\n",
            "airelibre      0.1436      0.010     13.951      0.000       0.123       0.164\n",
            "DD             0.0172      0.035      0.486      0.627      -0.052       0.086\n",
            "==============================================================================\n",
            "Omnibus:                     2254.328   Durbin-Watson:                   1.527\n",
            "Prob(Omnibus):                  0.000   Jarque-Bera (JB):             3676.706\n",
            "Skew:                           1.018   Prob(JB):                         0.00\n",
            "Kurtosis:                       4.305   Cond. No.                         9.34\n",
            "==============================================================================\n",
            "\n",
            "Warnings:\n",
            "[1] Standard Errors assume that the covariance matrix of the errors is correctly specified.\n"
          ],
          "name": "stdout"
        }
      ]
    },
    {
      "cell_type": "code",
      "metadata": {
        "id": "iq2uTg3ZiGHy",
        "colab_type": "code",
        "colab": {
          "base_uri": "https://localhost:8080/",
          "height": 492
        },
        "outputId": "27b09623-3a5b-48c0-a51a-3584d83e5dd9"
      },
      "source": [
        "regress(['price','postcovid','airelibre','DD'],data=df)"
      ],
      "execution_count": 13,
      "outputs": [
        {
          "output_type": "stream",
          "text": [
            "                            OLS Regression Results                            \n",
            "==============================================================================\n",
            "Dep. Variable:                  price   R-squared:                       0.029\n",
            "Model:                            OLS   Adj. R-squared:                  0.029\n",
            "Method:                 Least Squares   F-statistic:                     151.1\n",
            "Date:                Thu, 13 Aug 2020   Prob (F-statistic):           1.75e-96\n",
            "Time:                        18:02:36   Log-Likelihood:            -1.6955e+05\n",
            "No. Observations:               15099   AIC:                         3.391e+05\n",
            "Df Residuals:                   15095   BIC:                         3.391e+05\n",
            "Df Model:                           3                                         \n",
            "Covariance Type:            nonrobust                                         \n",
            "==============================================================================\n",
            "                 coef    std err          t      P>|t|      [0.025      0.975]\n",
            "------------------------------------------------------------------------------\n",
            "const       2.371e+04    174.158    136.150      0.000    2.34e+04    2.41e+04\n",
            "postcovid   8571.7562    638.577     13.423      0.000    7320.068    9823.444\n",
            "airelibre   4241.3780    376.554     11.264      0.000    3503.287    4979.469\n",
            "DD          3098.4051   1293.275      2.396      0.017     563.430    5633.380\n",
            "==============================================================================\n",
            "Omnibus:                    11414.989   Durbin-Watson:                   1.624\n",
            "Prob(Omnibus):                  0.000   Jarque-Bera (JB):           234514.338\n",
            "Skew:                           3.520   Prob(JB):                         0.00\n",
            "Kurtosis:                      20.978   Cond. No.                         9.34\n",
            "==============================================================================\n",
            "\n",
            "Warnings:\n",
            "[1] Standard Errors assume that the covariance matrix of the errors is correctly specified.\n"
          ],
          "name": "stdout"
        }
      ]
    },
    {
      "cell_type": "code",
      "metadata": {
        "id": "U0gh-cKw_NIA",
        "colab_type": "code",
        "colab": {
          "base_uri": "https://localhost:8080/",
          "height": 35
        },
        "outputId": "23d08dab-9683-4d90-e1df-32e00d9b90bb"
      },
      "source": [
        "df.start_date"
      ],
      "execution_count": 20,
      "outputs": [
        {
          "output_type": "execute_result",
          "data": {
            "application/vnd.google.colaboratory.intrinsic+json": {
              "type": "string"
            },
            "text/plain": [
              "'2019-07-28'"
            ]
          },
          "metadata": {
            "tags": []
          },
          "execution_count": 20
        }
      ]
    },
    {
      "cell_type": "markdown",
      "metadata": {
        "id": "xSAVX3VfEXag",
        "colab_type": "text"
      },
      "source": [
        "# Inspección gráfica del cumplimiento del supuesto de tendencias comunes\n",
        "\n",
        "Vamos a mirar los promedios mensuales y por trimetre. Para eso voy a extraer de la fecha el mes-anio y el trimestre-anio correspondiente.\n"
      ]
    },
    {
      "cell_type": "code",
      "metadata": {
        "id": "kys8h-9I-yir",
        "colab_type": "code",
        "colab": {
          "base_uri": "https://localhost:8080/",
          "height": 123
        },
        "outputId": "f394d5e5-a704-44b8-b5eb-8b3b0bb282a1"
      },
      "source": [
        "import pandas as pd\n",
        "df['monthyear']=pd.to_datetime(df.start_date).dt.to_period('M')"
      ],
      "execution_count": 28,
      "outputs": [
        {
          "output_type": "stream",
          "text": [
            "/usr/local/lib/python3.6/dist-packages/geopandas/geodataframe.py:853: SettingWithCopyWarning: \n",
            "A value is trying to be set on a copy of a slice from a DataFrame.\n",
            "Try using .loc[row_indexer,col_indexer] = value instead\n",
            "\n",
            "See the caveats in the documentation: https://pandas.pydata.org/pandas-docs/stable/user_guide/indexing.html#returning-a-view-versus-a-copy\n",
            "  super(GeoDataFrame, self).__setitem__(key, value)\n"
          ],
          "name": "stderr"
        }
      ]
    },
    {
      "cell_type": "code",
      "metadata": {
        "id": "ceo4uqgWAWLV",
        "colab_type": "code",
        "colab": {
          "base_uri": "https://localhost:8080/",
          "height": 309
        },
        "outputId": "a7f791c3-b6d7-40b6-ec2c-e5fa049e101c"
      },
      "source": [
        "df_months=df.groupby(by=['monthyear','airelibre']).logprice.mean().rename('media').reset_index()\n",
        "ax=df_months.loc[df_months.airelibre==0].plot(x='monthyear',y='media', label='Sin aire libre')\n",
        "df_months.loc[df_months.airelibre==1].plot(x='monthyear',y='media', ax=ax, label='Aire libre')"
      ],
      "execution_count": 46,
      "outputs": [
        {
          "output_type": "execute_result",
          "data": {
            "text/plain": [
              "<matplotlib.axes._subplots.AxesSubplot at 0x7f0e78d2f128>"
            ]
          },
          "metadata": {
            "tags": []
          },
          "execution_count": 46
        },
        {
          "output_type": "display_data",
          "data": {
            "image/png": "[encoded data removed]",
            "text/plain": [
              "<Figure size 432x288 with 1 Axes>"
            ]
          },
          "metadata": {
            "tags": [],
            "needs_background": "light"
          }
        }
      ]
    },
    {
      "cell_type": "code",
      "metadata": {
        "id": "_giZTAc9DmA9",
        "colab_type": "code",
        "colab": {
          "base_uri": "https://localhost:8080/",
          "height": 414
        },
        "outputId": "f6fdc342-f1aa-49a3-9d71-e2f3c6a584a7"
      },
      "source": [
        "df['quarteryear']=pd.to_datetime(df.start_date).dt.to_period('Q')\n",
        "df_quarters=df.groupby(by=['quarteryear','airelibre']).logprice.mean().rename('media').reset_index()\n",
        "ax=df_quarters.loc[df_quarters.airelibre==0].plot(x='quarteryear',y='media', label='Sin aire libre')\n",
        "df_quarters.loc[df_quarters.airelibre==1].plot(x='quarteryear',y='media', ax=ax, label='Aire libre')"
      ],
      "execution_count": 48,
      "outputs": [
        {
          "output_type": "stream",
          "text": [
            "/usr/local/lib/python3.6/dist-packages/geopandas/geodataframe.py:853: SettingWithCopyWarning: \n",
            "A value is trying to be set on a copy of a slice from a DataFrame.\n",
            "Try using .loc[row_indexer,col_indexer] = value instead\n",
            "\n",
            "See the caveats in the documentation: https://pandas.pydata.org/pandas-docs/stable/user_guide/indexing.html#returning-a-view-versus-a-copy\n",
            "  super(GeoDataFrame, self).__setitem__(key, value)\n"
          ],
          "name": "stderr"
        },
        {
          "output_type": "execute_result",
          "data": {
            "text/plain": [
              "<matplotlib.axes._subplots.AxesSubplot at 0x7f0e78e1ebe0>"
            ]
          },
          "metadata": {
            "tags": []
          },
          "execution_count": 48
        },
        {
          "output_type": "display_data",
          "data": {
            "image/png": "[encoded data removed]",
            "text/plain": [
              "<Figure size 432x288 with 1 Axes>"
            ]
          },
          "metadata": {
            "tags": [],
            "needs_background": "light"
          }
        }
      ]
    }
  ]
}