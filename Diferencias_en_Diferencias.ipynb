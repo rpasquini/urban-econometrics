{
  "nbformat": 4,
  "nbformat_minor": 0,
  "metadata": {
    "colab": {
      "name": "Diferencias en Diferencias.ipynb",
      "provenance": [],
      "authorship_tag": "ABX9TyMxdsNFkX1GsaNMYIgbrLXJ",
      "include_colab_link": true
    },
    "kernelspec": {
      "name": "python3",
      "display_name": "Python 3"
    }
  },
  "cells": [
    {
      "cell_type": "markdown",
      "metadata": {
        "id": "view-in-github",
        "colab_type": "text"
      },
      "source": [
        "<a href=\"https://colab.research.google.com/github/rpasquini/urban-econometrics/blob/master/Diferencias_en_Diferencias.ipynb\" target=\"_parent\"><img src=\"https://colab.research.google.com/assets/colab-badge.svg\" alt=\"Open In Colab\"/></a>"
      ]
    },
    {
      "cell_type": "code",
      "metadata": {
        "id": "TqV_-YRrQ__N",
        "colab_type": "code",
        "colab": {
          "base_uri": "https://localhost:8080/",
          "height": 477
        },
        "outputId": "2eeb60ec-7234-4b7f-a375-24bd5f0dbe81"
      },
      "source": [
        "!pip install geopandas"
      ],
      "execution_count": 3,
      "outputs": [
        {
          "output_type": "stream",
          "text": [
            "Collecting geopandas\n",
            "\u001b[?25l  Downloading https://files.pythonhosted.org/packages/f7/a4/e66aafbefcbb717813bf3a355c8c4fc3ed04ea1dd7feb2920f2f4f868921/geopandas-0.8.1-py2.py3-none-any.whl (962kB)\n",
            "\u001b[K     |████████████████████████████████| 972kB 2.4MB/s \n",
            "\u001b[?25hRequirement already satisfied: shapely in /usr/local/lib/python3.6/dist-packages (from geopandas) (1.7.0)\n",
            "Collecting fiona\n",
            "\u001b[?25l  Downloading https://files.pythonhosted.org/packages/ec/20/4e63bc5c6e62df889297b382c3ccd4a7a488b00946aaaf81a118158c6f09/Fiona-1.8.13.post1-cp36-cp36m-manylinux1_x86_64.whl (14.7MB)\n",
            "\u001b[K     |████████████████████████████████| 14.7MB 305kB/s \n",
            "\u001b[?25hRequirement already satisfied: pandas>=0.23.0 in /usr/local/lib/python3.6/dist-packages (from geopandas) (1.0.5)\n",
            "Collecting pyproj>=2.2.0\n",
            "\u001b[?25l  Downloading https://files.pythonhosted.org/packages/e5/c3/071e080230ac4b6c64f1a2e2f9161c9737a2bc7b683d2c90b024825000c0/pyproj-2.6.1.post1-cp36-cp36m-manylinux2010_x86_64.whl (10.9MB)\n",
            "\u001b[K     |████████████████████████████████| 10.9MB 38.1MB/s \n",
            "\u001b[?25hCollecting munch\n",
            "  Downloading https://files.pythonhosted.org/packages/cc/ab/85d8da5c9a45e072301beb37ad7f833cd344e04c817d97e0cc75681d248f/munch-2.5.0-py2.py3-none-any.whl\n",
            "Requirement already satisfied: click<8,>=4.0 in /usr/local/lib/python3.6/dist-packages (from fiona->geopandas) (7.1.2)\n",
            "Collecting cligj>=0.5\n",
            "  Downloading https://files.pythonhosted.org/packages/e4/be/30a58b4b0733850280d01f8bd132591b4668ed5c7046761098d665ac2174/cligj-0.5.0-py3-none-any.whl\n",
            "Requirement already satisfied: six>=1.7 in /usr/local/lib/python3.6/dist-packages (from fiona->geopandas) (1.15.0)\n",
            "Collecting click-plugins>=1.0\n",
            "  Downloading https://files.pythonhosted.org/packages/e9/da/824b92d9942f4e472702488857914bdd50f73021efea15b4cad9aca8ecef/click_plugins-1.1.1-py2.py3-none-any.whl\n",
            "Requirement already satisfied: attrs>=17 in /usr/local/lib/python3.6/dist-packages (from fiona->geopandas) (19.3.0)\n",
            "Requirement already satisfied: python-dateutil>=2.6.1 in /usr/local/lib/python3.6/dist-packages (from pandas>=0.23.0->geopandas) (2.8.1)\n",
            "Requirement already satisfied: pytz>=2017.2 in /usr/local/lib/python3.6/dist-packages (from pandas>=0.23.0->geopandas) (2018.9)\n",
            "Requirement already satisfied: numpy>=1.13.3 in /usr/local/lib/python3.6/dist-packages (from pandas>=0.23.0->geopandas) (1.18.5)\n",
            "Installing collected packages: munch, cligj, click-plugins, fiona, pyproj, geopandas\n",
            "Successfully installed click-plugins-1.1.1 cligj-0.5.0 fiona-1.8.13.post1 geopandas-0.8.1 munch-2.5.0 pyproj-2.6.1.post1\n"
          ],
          "name": "stdout"
        }
      ]
    },
    {
      "cell_type": "markdown",
      "metadata": {
        "id": "xmYfGqZpdQBb",
        "colab_type": "text"
      },
      "source": [
        "# Investigando efectos del COVID en alquileres usando Diferencias en Diferencias\n"
      ]
    },
    {
      "cell_type": "code",
      "metadata": {
        "id": "pO2zmpgUQ4WH",
        "colab_type": "code",
        "colab": {}
      },
      "source": [
        "import geopandas as gpd\n",
        "import numpy as np\n",
        "data=gpd.GeoDataFrame.from_file(\"https://github.com/rpasquini/urban-econometrics/blob/master/data/deptos_amba_0519_0520.zip?raw=true\")\n",
        "df=data.loc[data.l2=='Capital Federal'] # vamos a trabajar con la Capital Federal"
      ],
      "execution_count": 18,
      "outputs": []
    },
    {
      "cell_type": "code",
      "metadata": {
        "id": "CP4vO2XJWmNV",
        "colab_type": "code",
        "colab": {
          "base_uri": "https://localhost:8080/",
          "height": 123
        },
        "outputId": "571ec840-cf7f-43bc-bb38-6e1872f5e9aa"
      },
      "source": [
        "df['airelibre']=np.where((df.patio=='1')| (df.terraza=='1'),1,0)"
      ],
      "execution_count": 19,
      "outputs": [
        {
          "output_type": "stream",
          "text": [
            "/usr/local/lib/python3.6/dist-packages/geopandas/geodataframe.py:853: SettingWithCopyWarning: \n",
            "A value is trying to be set on a copy of a slice from a DataFrame.\n",
            "Try using .loc[row_indexer,col_indexer] = value instead\n",
            "\n",
            "See the caveats in the documentation: https://pandas.pydata.org/pandas-docs/stable/user_guide/indexing.html#returning-a-view-versus-a-copy\n",
            "  super(GeoDataFrame, self).__setitem__(key, value)\n"
          ],
          "name": "stderr"
        }
      ]
    },
    {
      "cell_type": "markdown",
      "metadata": {
        "id": "LAutci77gvsl",
        "colab_type": "text"
      },
      "source": [
        "¿Cuánto fue el alquiler promedio de un departamento tomando el año completo?\n"
      ]
    },
    {
      "cell_type": "code",
      "metadata": {
        "id": "BbygBdRhgqnQ",
        "colab_type": "code",
        "colab": {
          "base_uri": "https://localhost:8080/",
          "height": 35
        },
        "outputId": "eb25fdf2-a177-4a5b-d5be-3e09025646c0"
      },
      "source": [
        "df.price.mean()"
      ],
      "execution_count": 48,
      "outputs": [
        {
          "output_type": "execute_result",
          "data": {
            "text/plain": [
              "25351.83177693887"
            ]
          },
          "metadata": {
            "tags": []
          },
          "execution_count": 48
        }
      ]
    },
    {
      "cell_type": "markdown",
      "metadata": {
        "id": "rpsnXP2_dcly",
        "colab_type": "text"
      },
      "source": [
        "Exploramos la diferencia en diferencia\n",
        "$E[y|t=aire,Post]-E[y|t=aire,Pre]=\\lambda_{POST}+\\beta-\\lambda_{PRE}$\n",
        "$E[y|t=sinaire,Post]-E[y|t=sinaire,Pre]=\\lambda_{POST}-\\lambda_{PRE}$\n"
      ]
    },
    {
      "cell_type": "code",
      "metadata": {
        "id": "vh7zXzmxdAMT",
        "colab_type": "code",
        "colab": {
          "base_uri": "https://localhost:8080/",
          "height": 35
        },
        "outputId": "0d7f6b7c-12a0-4b87-e810-a6152fa23f26"
      },
      "source": [
        "dif_airelibre=df.loc[(df.postcovid==1)&(df.airelibre==1)].price.mean()-df.loc[(df.postcovid==0)&(df.airelibre==1)].price.mean()\n",
        "dif_airelibre"
      ],
      "execution_count": 36,
      "outputs": [
        {
          "output_type": "execute_result",
          "data": {
            "text/plain": [
              "11670.161339485458"
            ]
          },
          "metadata": {
            "tags": []
          },
          "execution_count": 36
        }
      ]
    },
    {
      "cell_type": "code",
      "metadata": {
        "id": "aHWeVX31a7qh",
        "colab_type": "code",
        "colab": {
          "base_uri": "https://localhost:8080/",
          "height": 35
        },
        "outputId": "5d592d14-a71c-4823-d6a8-631ad9889309"
      },
      "source": [
        "dif_sin_airelibre=df.loc[(df.postcovid==1)&(df.airelibre==0)].price.mean()-df.loc[(df.postcovid==0)&(df.airelibre==0)].price.mean()\n",
        "dif_sin_airelibre"
      ],
      "execution_count": 37,
      "outputs": [
        {
          "output_type": "execute_result",
          "data": {
            "text/plain": [
              "8571.756202733664"
            ]
          },
          "metadata": {
            "tags": []
          },
          "execution_count": 37
        }
      ]
    },
    {
      "cell_type": "code",
      "metadata": {
        "id": "_m4oUE1QdKOs",
        "colab_type": "code",
        "colab": {
          "base_uri": "https://localhost:8080/",
          "height": 35
        },
        "outputId": "ec8396f5-cb16-47b0-b6ab-3804021a6b4c"
      },
      "source": [
        "dif_airelibre-dif_sin_airelibre"
      ],
      "execution_count": 38,
      "outputs": [
        {
          "output_type": "execute_result",
          "data": {
            "text/plain": [
              "3098.405136751793"
            ]
          },
          "metadata": {
            "tags": []
          },
          "execution_count": 38
        }
      ]
    },
    {
      "cell_type": "markdown",
      "metadata": {
        "id": "CbqeUGhDfX-d",
        "colab_type": "text"
      },
      "source": [
        "Misma cuenta en logs"
      ]
    },
    {
      "cell_type": "code",
      "metadata": {
        "id": "MEB01AYhfc3G",
        "colab_type": "code",
        "colab": {
          "base_uri": "https://localhost:8080/",
          "height": 123
        },
        "outputId": "afc588c9-2232-497a-d045-2fc232fa91e5"
      },
      "source": [
        "df['logprice']=np.log(df.price)\n",
        "df['logpricem2']=np.log(df.price/df.surface_to)"
      ],
      "execution_count": 45,
      "outputs": [
        {
          "output_type": "stream",
          "text": [
            "/usr/local/lib/python3.6/dist-packages/geopandas/geodataframe.py:853: SettingWithCopyWarning: \n",
            "A value is trying to be set on a copy of a slice from a DataFrame.\n",
            "Try using .loc[row_indexer,col_indexer] = value instead\n",
            "\n",
            "See the caveats in the documentation: https://pandas.pydata.org/pandas-docs/stable/user_guide/indexing.html#returning-a-view-versus-a-copy\n",
            "  super(GeoDataFrame, self).__setitem__(key, value)\n"
          ],
          "name": "stderr"
        }
      ]
    },
    {
      "cell_type": "code",
      "metadata": {
        "id": "EMIUtWRogKIm",
        "colab_type": "code",
        "colab": {
          "base_uri": "https://localhost:8080/",
          "height": 35
        },
        "outputId": "d6b0043e-c100-41c4-a0f4-4b208ada6a99"
      },
      "source": [
        "dif_airelibre=df.loc[(df.postcovid==1)&(df.airelibre==1)].logprice.mean()-df.loc[(df.postcovid==0)&(df.airelibre==1)].logprice.mean()\n",
        "dif_sin_airelibre=df.loc[(df.postcovid==1)&(df.airelibre==0)].logprice.mean()-df.loc[(df.postcovid==0)&(df.airelibre==0)].logprice.mean()\n",
        "dif_airelibre-dif_sin_airelibre"
      ],
      "execution_count": 47,
      "outputs": [
        {
          "output_type": "execute_result",
          "data": {
            "text/plain": [
              "0.017190559076601275"
            ]
          },
          "metadata": {
            "tags": []
          },
          "execution_count": 47
        }
      ]
    },
    {
      "cell_type": "markdown",
      "metadata": {
        "id": "Wfm3nFcfhKlc",
        "colab_type": "text"
      },
      "source": [
        "# Utilizando Regresión\n"
      ]
    },
    {
      "cell_type": "code",
      "metadata": {
        "id": "T6fX9nnuhkvI",
        "colab_type": "code",
        "colab": {
          "base_uri": "https://localhost:8080/",
          "height": 123
        },
        "outputId": "05b0f99d-1980-4cfe-a8c0-447e93cf5c53"
      },
      "source": [
        "df['DD']=df.postcovid*df.airelibre"
      ],
      "execution_count": 50,
      "outputs": [
        {
          "output_type": "stream",
          "text": [
            "/usr/local/lib/python3.6/dist-packages/geopandas/geodataframe.py:853: SettingWithCopyWarning: \n",
            "A value is trying to be set on a copy of a slice from a DataFrame.\n",
            "Try using .loc[row_indexer,col_indexer] = value instead\n",
            "\n",
            "See the caveats in the documentation: https://pandas.pydata.org/pandas-docs/stable/user_guide/indexing.html#returning-a-view-versus-a-copy\n",
            "  super(GeoDataFrame, self).__setitem__(key, value)\n"
          ],
          "name": "stderr"
        }
      ]
    },
    {
      "cell_type": "code",
      "metadata": {
        "id": "9bRM2eqOhN9p",
        "colab_type": "code",
        "colab": {
          "base_uri": "https://localhost:8080/",
          "height": 72
        },
        "outputId": "ec0f51e3-7551-47d3-9844-5f186ef192ef"
      },
      "source": [
        "import statsmodels.api as sm\n",
        "def regress(lista, data):\n",
        "    \"\"\" \n",
        "    Funcion que realiza la regresion OLS\n",
        "    La primera variable de la lista es la dependiente, el resto son las explicativas\n",
        "    data es la base de datos\n",
        "    \"\"\"\n",
        "    datos=data[lista]\n",
        "    # el metodo dropna() me permite eliminar las filas que tienen algun valor missing\n",
        "    datos=datos.dropna()\n",
        "    Y=datos[lista[0]]\n",
        "    X=datos[lista[1:]]\n",
        "    X=sm.add_constant(X)\n",
        "    modelo=sm.OLS(Y,X)\n",
        "    resultados=modelo.fit()\n",
        "    print(resultados.summary())"
      ],
      "execution_count": 55,
      "outputs": [
        {
          "output_type": "stream",
          "text": [
            "/usr/local/lib/python3.6/dist-packages/statsmodels/tools/_testing.py:19: FutureWarning: pandas.util.testing is deprecated. Use the functions in the public API at pandas.testing instead.\n",
            "  import pandas.util.testing as tm\n"
          ],
          "name": "stderr"
        }
      ]
    },
    {
      "cell_type": "code",
      "metadata": {
        "id": "gw-iVvJNhZ8X",
        "colab_type": "code",
        "colab": {
          "base_uri": "https://localhost:8080/",
          "height": 492
        },
        "outputId": "7b73bdf8-f601-404f-a2e4-465d6cf03dee"
      },
      "source": [
        "regress(['logprice','postcovid','airelibre','DD'],data=df)"
      ],
      "execution_count": 56,
      "outputs": [
        {
          "output_type": "stream",
          "text": [
            "                            OLS Regression Results                            \n",
            "==============================================================================\n",
            "Dep. Variable:               logprice   R-squared:                       0.038\n",
            "Model:                            OLS   Adj. R-squared:                  0.037\n",
            "Method:                 Least Squares   F-statistic:                     196.4\n",
            "Date:                Thu, 13 Aug 2020   Prob (F-statistic):          5.75e-125\n",
            "Time:                        01:56:13   Log-Likelihood:                -10897.\n",
            "No. Observations:               15099   AIC:                         2.180e+04\n",
            "Df Residuals:                   15095   BIC:                         2.183e+04\n",
            "Df Model:                           3                                         \n",
            "Covariance Type:            nonrobust                                         \n",
            "==============================================================================\n",
            "                 coef    std err          t      P>|t|      [0.025      0.975]\n",
            "------------------------------------------------------------------------------\n",
            "const          9.9326      0.005   2087.057      0.000       9.923       9.942\n",
            "postcovid      0.2837      0.017     16.257      0.000       0.249       0.318\n",
            "airelibre      0.1436      0.010     13.951      0.000       0.123       0.164\n",
            "DD             0.0172      0.035      0.486      0.627      -0.052       0.086\n",
            "==============================================================================\n",
            "Omnibus:                     2254.328   Durbin-Watson:                   1.527\n",
            "Prob(Omnibus):                  0.000   Jarque-Bera (JB):             3676.706\n",
            "Skew:                           1.018   Prob(JB):                         0.00\n",
            "Kurtosis:                       4.305   Cond. No.                         9.34\n",
            "==============================================================================\n",
            "\n",
            "Warnings:\n",
            "[1] Standard Errors assume that the covariance matrix of the errors is correctly specified.\n"
          ],
          "name": "stdout"
        }
      ]
    },
    {
      "cell_type": "code",
      "metadata": {
        "id": "iq2uTg3ZiGHy",
        "colab_type": "code",
        "colab": {
          "base_uri": "https://localhost:8080/",
          "height": 492
        },
        "outputId": "d025054b-e28e-4f1b-eaad-232cc4849280"
      },
      "source": [
        "regress(['price','postcovid','airelibre','DD'],data=df)"
      ],
      "execution_count": 57,
      "outputs": [
        {
          "output_type": "stream",
          "text": [
            "                            OLS Regression Results                            \n",
            "==============================================================================\n",
            "Dep. Variable:                  price   R-squared:                       0.029\n",
            "Model:                            OLS   Adj. R-squared:                  0.029\n",
            "Method:                 Least Squares   F-statistic:                     151.1\n",
            "Date:                Thu, 13 Aug 2020   Prob (F-statistic):           1.75e-96\n",
            "Time:                        01:56:33   Log-Likelihood:            -1.6955e+05\n",
            "No. Observations:               15099   AIC:                         3.391e+05\n",
            "Df Residuals:                   15095   BIC:                         3.391e+05\n",
            "Df Model:                           3                                         \n",
            "Covariance Type:            nonrobust                                         \n",
            "==============================================================================\n",
            "                 coef    std err          t      P>|t|      [0.025      0.975]\n",
            "------------------------------------------------------------------------------\n",
            "const       2.371e+04    174.158    136.150      0.000    2.34e+04    2.41e+04\n",
            "postcovid   8571.7562    638.577     13.423      0.000    7320.068    9823.444\n",
            "airelibre   4241.3780    376.554     11.264      0.000    3503.287    4979.469\n",
            "DD          3098.4051   1293.275      2.396      0.017     563.430    5633.380\n",
            "==============================================================================\n",
            "Omnibus:                    11414.989   Durbin-Watson:                   1.624\n",
            "Prob(Omnibus):                  0.000   Jarque-Bera (JB):           234514.338\n",
            "Skew:                           3.520   Prob(JB):                         0.00\n",
            "Kurtosis:                      20.978   Cond. No.                         9.34\n",
            "==============================================================================\n",
            "\n",
            "Warnings:\n",
            "[1] Standard Errors assume that the covariance matrix of the errors is correctly specified.\n"
          ],
          "name": "stdout"
        }
      ]
    }
  ]
}