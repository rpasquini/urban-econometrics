{
  "nbformat": 4,
  "nbformat_minor": 0,
  "metadata": {
    "colab": {
      "name": "OLS Departamentos AMBA.ipynb",
      "provenance": [],
      "toc_visible": true,
      "authorship_tag": "ABX9TyPjo5lGa1rgbFs+11S85ywC",
      "include_colab_link": true
    },
    "kernelspec": {
      "name": "python3",
      "display_name": "Python 3"
    }
  },
  "cells": [
    {
      "cell_type": "markdown",
      "metadata": {
        "id": "view-in-github",
        "colab_type": "text"
      },
      "source": [
        "<a href=\"https://colab.research.google.com/github/rpasquini/urban-econometrics/blob/master/OLS_Departamentos_AMBA.ipynb\" target=\"_parent\"><img src=\"https://colab.research.google.com/assets/colab-badge.svg\" alt=\"Open In Colab\"/></a>"
      ]
    },
    {
      "cell_type": "markdown",
      "metadata": {
        "id": "2pjrWWN2Hq6x",
        "colab_type": "text"
      },
      "source": [
        "Autor: Ricardo Pasquini 2020\n",
        "rpasquini@utdt.edu\n"
      ]
    },
    {
      "cell_type": "markdown",
      "metadata": {
        "id": "3dudLE3CrKxs",
        "colab_type": "text"
      },
      "source": [
        "# Estimamos un modelo de regresión simple utilizando datos de alquileres de 2019 "
      ]
    },
    {
      "cell_type": "code",
      "metadata": {
        "id": "gx11uGlqHlXN",
        "colab_type": "code",
        "outputId": "43e07e32-81ac-4156-a1dd-067e1e009412",
        "colab": {
          "base_uri": "https://localhost:8080/",
          "height": 457
        }
      },
      "source": [
        "!pip install geopandas"
      ],
      "execution_count": 1,
      "outputs": [
        {
          "output_type": "stream",
          "text": [
            "Collecting geopandas\n",
            "\u001b[?25l  Downloading https://files.pythonhosted.org/packages/83/c5/3cf9cdc39a6f2552922f79915f36b45a95b71fd343cfc51170a5b6ddb6e8/geopandas-0.7.0-py2.py3-none-any.whl (928kB)\n",
            "\u001b[K     |████████████████████████████████| 931kB 3.4MB/s \n",
            "\u001b[?25hRequirement already satisfied: pandas>=0.23.0 in /usr/local/lib/python3.6/dist-packages (from geopandas) (1.0.4)\n",
            "Requirement already satisfied: shapely in /usr/local/lib/python3.6/dist-packages (from geopandas) (1.7.0)\n",
            "Collecting pyproj>=2.2.0\n",
            "\u001b[?25l  Downloading https://files.pythonhosted.org/packages/e5/c3/071e080230ac4b6c64f1a2e2f9161c9737a2bc7b683d2c90b024825000c0/pyproj-2.6.1.post1-cp36-cp36m-manylinux2010_x86_64.whl (10.9MB)\n",
            "\u001b[K     |████████████████████████████████| 10.9MB 13.2MB/s \n",
            "\u001b[?25hCollecting fiona\n",
            "\u001b[?25l  Downloading https://files.pythonhosted.org/packages/ec/20/4e63bc5c6e62df889297b382c3ccd4a7a488b00946aaaf81a118158c6f09/Fiona-1.8.13.post1-cp36-cp36m-manylinux1_x86_64.whl (14.7MB)\n",
            "\u001b[K     |████████████████████████████████| 14.7MB 247kB/s \n",
            "\u001b[?25hRequirement already satisfied: python-dateutil>=2.6.1 in /usr/local/lib/python3.6/dist-packages (from pandas>=0.23.0->geopandas) (2.8.1)\n",
            "Requirement already satisfied: pytz>=2017.2 in /usr/local/lib/python3.6/dist-packages (from pandas>=0.23.0->geopandas) (2018.9)\n",
            "Requirement already satisfied: numpy>=1.13.3 in /usr/local/lib/python3.6/dist-packages (from pandas>=0.23.0->geopandas) (1.18.5)\n",
            "Requirement already satisfied: attrs>=17 in /usr/local/lib/python3.6/dist-packages (from fiona->geopandas) (19.3.0)\n",
            "Collecting cligj>=0.5\n",
            "  Downloading https://files.pythonhosted.org/packages/e4/be/30a58b4b0733850280d01f8bd132591b4668ed5c7046761098d665ac2174/cligj-0.5.0-py3-none-any.whl\n",
            "Collecting click-plugins>=1.0\n",
            "  Downloading https://files.pythonhosted.org/packages/e9/da/824b92d9942f4e472702488857914bdd50f73021efea15b4cad9aca8ecef/click_plugins-1.1.1-py2.py3-none-any.whl\n",
            "Collecting munch\n",
            "  Downloading https://files.pythonhosted.org/packages/cc/ab/85d8da5c9a45e072301beb37ad7f833cd344e04c817d97e0cc75681d248f/munch-2.5.0-py2.py3-none-any.whl\n",
            "Requirement already satisfied: six>=1.7 in /usr/local/lib/python3.6/dist-packages (from fiona->geopandas) (1.12.0)\n",
            "Requirement already satisfied: click<8,>=4.0 in /usr/local/lib/python3.6/dist-packages (from fiona->geopandas) (7.1.2)\n",
            "Installing collected packages: pyproj, cligj, click-plugins, munch, fiona, geopandas\n",
            "Successfully installed click-plugins-1.1.1 cligj-0.5.0 fiona-1.8.13.post1 geopandas-0.7.0 munch-2.5.0 pyproj-2.6.1.post1\n"
          ],
          "name": "stdout"
        }
      ]
    },
    {
      "cell_type": "code",
      "metadata": {
        "id": "ILipZ9mqH1pQ",
        "colab_type": "code",
        "colab": {}
      },
      "source": [
        "import geopandas as gpd"
      ],
      "execution_count": 0,
      "outputs": []
    },
    {
      "cell_type": "markdown",
      "metadata": {
        "id": "jgAYUIpjHaKu",
        "colab_type": "text"
      },
      "source": [
        "La fuente de los datos es Properati [properati.com.ar/data/\n",
        "](https://properati.com.ar/data/). \n",
        "Fue descargada haciendo un pedido a su base de datos disponible en Google Big Query\n",
        "\n"
      ]
    },
    {
      "cell_type": "code",
      "metadata": {
        "id": "qFmIW55RH73q",
        "colab_type": "code",
        "colab": {}
      },
      "source": [
        "departamentos=gpd.GeoDataFrame.from_file(\"https://github.com/rpasquini/urban-econometrics/blob/master/data/departamentos2019amba.zip?raw=true\")"
      ],
      "execution_count": 0,
      "outputs": []
    },
    {
      "cell_type": "code",
      "metadata": {
        "id": "tZ7qiICQxBPp",
        "colab_type": "code",
        "colab": {
          "base_uri": "https://localhost:8080/",
          "height": 949
        },
        "outputId": "4d478ac7-a22c-49fa-b9af-98ef687900ef"
      },
      "source": [
        "departamentos"
      ],
      "execution_count": 4,
      "outputs": [
        {
          "output_type": "execute_result",
          "data": {
            "text/html": [
              "<div>\n",
              "<style scoped>\n",
              "    .dataframe tbody tr th:only-of-type {\n",
              "        vertical-align: middle;\n",
              "    }\n",
              "\n",
              "    .dataframe tbody tr th {\n",
              "        vertical-align: top;\n",
              "    }\n",
              "\n",
              "    .dataframe thead th {\n",
              "        text-align: right;\n",
              "    }\n",
              "</style>\n",
              "<table border=\"1\" class=\"dataframe\">\n",
              "  <thead>\n",
              "    <tr style=\"text-align: right;\">\n",
              "      <th></th>\n",
              "      <th>bathrooms</th>\n",
              "      <th>bedrooms</th>\n",
              "      <th>country</th>\n",
              "      <th>created_on</th>\n",
              "      <th>currency</th>\n",
              "      <th>descriptio</th>\n",
              "      <th>developmen</th>\n",
              "      <th>end_date</th>\n",
              "      <th>index</th>\n",
              "      <th>l1</th>\n",
              "      <th>l2</th>\n",
              "      <th>l3</th>\n",
              "      <th>l4</th>\n",
              "      <th>l5</th>\n",
              "      <th>l6</th>\n",
              "      <th>lat</th>\n",
              "      <th>lon</th>\n",
              "      <th>operation</th>\n",
              "      <th>operation_</th>\n",
              "      <th>price</th>\n",
              "      <th>price_peri</th>\n",
              "      <th>rooms</th>\n",
              "      <th>start_date</th>\n",
              "      <th>surface_co</th>\n",
              "      <th>surface_to</th>\n",
              "      <th>title</th>\n",
              "      <th>type</th>\n",
              "      <th>type_i18n</th>\n",
              "      <th>geometry</th>\n",
              "    </tr>\n",
              "  </thead>\n",
              "  <tbody>\n",
              "    <tr>\n",
              "      <th>0</th>\n",
              "      <td>1.0</td>\n",
              "      <td>1.0</td>\n",
              "      <td>Argentina</td>\n",
              "      <td>2019-09-26</td>\n",
              "      <td>ARS</td>\n",
              "      <td>b'CODIGO: 1819-CRI180 ubicado en: Av. Callao 1...</td>\n",
              "      <td>None</td>\n",
              "      <td>2019-10-10</td>\n",
              "      <td>0</td>\n",
              "      <td>Argentina</td>\n",
              "      <td>Capital Federal</td>\n",
              "      <td>Recoleta</td>\n",
              "      <td>None</td>\n",
              "      <td>None</td>\n",
              "      <td>None</td>\n",
              "      <td>-34.588601</td>\n",
              "      <td>-58.388285</td>\n",
              "      <td>Alquiler</td>\n",
              "      <td>Alquiler</td>\n",
              "      <td>18000</td>\n",
              "      <td>Mensual</td>\n",
              "      <td>NaN</td>\n",
              "      <td>2019-09-26</td>\n",
              "      <td>52</td>\n",
              "      <td>58</td>\n",
              "      <td>b'Recoleta. Av. Callao y Av. Alvear. Piso alto...</td>\n",
              "      <td>Departamento</td>\n",
              "      <td>Departamento</td>\n",
              "      <td>POINT (106827.294 104558.628)</td>\n",
              "    </tr>\n",
              "    <tr>\n",
              "      <th>1</th>\n",
              "      <td>3.0</td>\n",
              "      <td>NaN</td>\n",
              "      <td>Argentina</td>\n",
              "      <td>2019-09-26</td>\n",
              "      <td>ARS</td>\n",
              "      <td>b'Residencia de estudiantes y viajeros. Son do...</td>\n",
              "      <td>None</td>\n",
              "      <td>2019-11-04</td>\n",
              "      <td>1</td>\n",
              "      <td>Argentina</td>\n",
              "      <td>Capital Federal</td>\n",
              "      <td>Balvanera</td>\n",
              "      <td>None</td>\n",
              "      <td>None</td>\n",
              "      <td>None</td>\n",
              "      <td>-34.606939</td>\n",
              "      <td>-58.393496</td>\n",
              "      <td>Alquiler</td>\n",
              "      <td>Alquiler</td>\n",
              "      <td>45000</td>\n",
              "      <td>Mensual</td>\n",
              "      <td>NaN</td>\n",
              "      <td>2019-09-26</td>\n",
              "      <td>219</td>\n",
              "      <td>219</td>\n",
              "      <td>Departamento - Balvanera</td>\n",
              "      <td>Departamento</td>\n",
              "      <td>Departamento</td>\n",
              "      <td>POINT (106347.880 102524.692)</td>\n",
              "    </tr>\n",
              "    <tr>\n",
              "      <th>2</th>\n",
              "      <td>1.0</td>\n",
              "      <td>2.0</td>\n",
              "      <td>Argentina</td>\n",
              "      <td>2019-09-26</td>\n",
              "      <td>ARS</td>\n",
              "      <td>b'CODIGO: 1348-AF021227 ubicado en: Tacuari 26...</td>\n",
              "      <td>None</td>\n",
              "      <td>2019-09-28</td>\n",
              "      <td>2</td>\n",
              "      <td>Argentina</td>\n",
              "      <td>Capital Federal</td>\n",
              "      <td>Monserrat</td>\n",
              "      <td>None</td>\n",
              "      <td>None</td>\n",
              "      <td>None</td>\n",
              "      <td>-34.611352</td>\n",
              "      <td>-58.379205</td>\n",
              "      <td>Alquiler</td>\n",
              "      <td>Alquiler</td>\n",
              "      <td>18500</td>\n",
              "      <td>Mensual</td>\n",
              "      <td>NaN</td>\n",
              "      <td>2019-09-26</td>\n",
              "      <td>61</td>\n",
              "      <td>67</td>\n",
              "      <td>3 ambientes con patio 61 m2 propios bajas expe...</td>\n",
              "      <td>Departamento</td>\n",
              "      <td>Departamento</td>\n",
              "      <td>POINT (107658.254 102034.095)</td>\n",
              "    </tr>\n",
              "    <tr>\n",
              "      <th>3</th>\n",
              "      <td>NaN</td>\n",
              "      <td>NaN</td>\n",
              "      <td>Argentina</td>\n",
              "      <td>2019-09-26</td>\n",
              "      <td>ARS</td>\n",
              "      <td>b'Departamento de dos ambientes a 200 metros d...</td>\n",
              "      <td>None</td>\n",
              "      <td>2020-02-12</td>\n",
              "      <td>4</td>\n",
              "      <td>Argentina</td>\n",
              "      <td>Bs.As. G.B.A. Zona Oeste</td>\n",
              "      <td>La Matanza</td>\n",
              "      <td>San Justo</td>\n",
              "      <td>None</td>\n",
              "      <td>None</td>\n",
              "      <td>-34.680777</td>\n",
              "      <td>-58.553166</td>\n",
              "      <td>Alquiler</td>\n",
              "      <td>Alquiler</td>\n",
              "      <td>11000</td>\n",
              "      <td>Mensual</td>\n",
              "      <td>NaN</td>\n",
              "      <td>2019-09-26</td>\n",
              "      <td>38</td>\n",
              "      <td>38</td>\n",
              "      <td>Departamento - San Justo</td>\n",
              "      <td>Departamento</td>\n",
              "      <td>Departamento</td>\n",
              "      <td>POINT (91709.240 94331.755)</td>\n",
              "    </tr>\n",
              "    <tr>\n",
              "      <th>4</th>\n",
              "      <td>1.0</td>\n",
              "      <td>1.0</td>\n",
              "      <td>Argentina</td>\n",
              "      <td>2019-09-26</td>\n",
              "      <td>ARS</td>\n",
              "      <td>b'CODIGO: 733-1600MARIANOA ubicado en: MARIANO...</td>\n",
              "      <td>None</td>\n",
              "      <td>2019-11-10</td>\n",
              "      <td>5</td>\n",
              "      <td>Argentina</td>\n",
              "      <td>Capital Federal</td>\n",
              "      <td>Villa Urquiza</td>\n",
              "      <td>None</td>\n",
              "      <td>None</td>\n",
              "      <td>None</td>\n",
              "      <td>-34.577983</td>\n",
              "      <td>-58.472185</td>\n",
              "      <td>Alquiler</td>\n",
              "      <td>Alquiler</td>\n",
              "      <td>18500</td>\n",
              "      <td>Mensual</td>\n",
              "      <td>NaN</td>\n",
              "      <td>2019-09-26</td>\n",
              "      <td>39</td>\n",
              "      <td>49</td>\n",
              "      <td>EXCELENTE DEPARTAMENTO 2 AMB CON PATIO 49 MTS ...</td>\n",
              "      <td>Departamento</td>\n",
              "      <td>Departamento</td>\n",
              "      <td>POINT (99129.692 105739.092)</td>\n",
              "    </tr>\n",
              "    <tr>\n",
              "      <th>...</th>\n",
              "      <td>...</td>\n",
              "      <td>...</td>\n",
              "      <td>...</td>\n",
              "      <td>...</td>\n",
              "      <td>...</td>\n",
              "      <td>...</td>\n",
              "      <td>...</td>\n",
              "      <td>...</td>\n",
              "      <td>...</td>\n",
              "      <td>...</td>\n",
              "      <td>...</td>\n",
              "      <td>...</td>\n",
              "      <td>...</td>\n",
              "      <td>...</td>\n",
              "      <td>...</td>\n",
              "      <td>...</td>\n",
              "      <td>...</td>\n",
              "      <td>...</td>\n",
              "      <td>...</td>\n",
              "      <td>...</td>\n",
              "      <td>...</td>\n",
              "      <td>...</td>\n",
              "      <td>...</td>\n",
              "      <td>...</td>\n",
              "      <td>...</td>\n",
              "      <td>...</td>\n",
              "      <td>...</td>\n",
              "      <td>...</td>\n",
              "      <td>...</td>\n",
              "    </tr>\n",
              "    <tr>\n",
              "      <th>50648</th>\n",
              "      <td>1.0</td>\n",
              "      <td>1.0</td>\n",
              "      <td>Argentina</td>\n",
              "      <td>2019-02-27</td>\n",
              "      <td>ARS</td>\n",
              "      <td>Corredor Responsable: Martin Macagno - CUCICBA...</td>\n",
              "      <td>None</td>\n",
              "      <td>2019-04-24</td>\n",
              "      <td>60856</td>\n",
              "      <td>Argentina</td>\n",
              "      <td>Capital Federal</td>\n",
              "      <td>Parque Chacabuco</td>\n",
              "      <td>None</td>\n",
              "      <td>None</td>\n",
              "      <td>None</td>\n",
              "      <td>-34.629564</td>\n",
              "      <td>-58.441308</td>\n",
              "      <td>Alquiler</td>\n",
              "      <td>Alquiler</td>\n",
              "      <td>17500</td>\n",
              "      <td>Mensual</td>\n",
              "      <td>2.0</td>\n",
              "      <td>2019-02-27</td>\n",
              "      <td>45</td>\n",
              "      <td>45</td>\n",
              "      <td>ALQUILER DEPARTAMENTO 2 AMB A ESTRENAR P CHACA...</td>\n",
              "      <td>Departamento</td>\n",
              "      <td>Departamento</td>\n",
              "      <td>POINT (101961.679 100016.721)</td>\n",
              "    </tr>\n",
              "    <tr>\n",
              "      <th>50649</th>\n",
              "      <td>1.0</td>\n",
              "      <td>NaN</td>\n",
              "      <td>Argentina</td>\n",
              "      <td>2019-02-27</td>\n",
              "      <td>ARS</td>\n",
              "      <td>b'**** ALQUILER DUE\\xd1O DIRECTO DE DEPARTAMEN...</td>\n",
              "      <td>None</td>\n",
              "      <td>2019-03-29</td>\n",
              "      <td>60857</td>\n",
              "      <td>Argentina</td>\n",
              "      <td>Capital Federal</td>\n",
              "      <td>b'Villa Pueyrred\\xf3n'</td>\n",
              "      <td>None</td>\n",
              "      <td>None</td>\n",
              "      <td>None</td>\n",
              "      <td>-34.584267</td>\n",
              "      <td>-58.501282</td>\n",
              "      <td>Alquiler</td>\n",
              "      <td>Alquiler</td>\n",
              "      <td>11000</td>\n",
              "      <td>Mensual</td>\n",
              "      <td>NaN</td>\n",
              "      <td>2019-02-27</td>\n",
              "      <td>43</td>\n",
              "      <td>49</td>\n",
              "      <td>b'Carlos A Lopez  2700 1\\xb0  - $ 11.000 - Dep...</td>\n",
              "      <td>Departamento</td>\n",
              "      <td>Departamento</td>\n",
              "      <td>POINT (96460.074 105041.354)</td>\n",
              "    </tr>\n",
              "    <tr>\n",
              "      <th>50650</th>\n",
              "      <td>2.0</td>\n",
              "      <td>4.0</td>\n",
              "      <td>Argentina</td>\n",
              "      <td>2019-02-27</td>\n",
              "      <td>ARS</td>\n",
              "      <td>b'Corredor Responsable: JAVIER HERNANDEZ - CUC...</td>\n",
              "      <td>None</td>\n",
              "      <td>2019-03-10</td>\n",
              "      <td>60858</td>\n",
              "      <td>Argentina</td>\n",
              "      <td>Capital Federal</td>\n",
              "      <td>b'Villa Pueyrred\\xf3n'</td>\n",
              "      <td>None</td>\n",
              "      <td>None</td>\n",
              "      <td>None</td>\n",
              "      <td>-34.578043</td>\n",
              "      <td>-58.511571</td>\n",
              "      <td>Alquiler</td>\n",
              "      <td>Alquiler</td>\n",
              "      <td>40000</td>\n",
              "      <td>Mensual</td>\n",
              "      <td>5.0</td>\n",
              "      <td>2019-02-27</td>\n",
              "      <td>150</td>\n",
              "      <td>150</td>\n",
              "      <td>Alquiler-Triplex c/ cochera - sin expensas.</td>\n",
              "      <td>Departamento</td>\n",
              "      <td>Departamento</td>\n",
              "      <td>POINT (95515.687 105731.369)</td>\n",
              "    </tr>\n",
              "    <tr>\n",
              "      <th>50651</th>\n",
              "      <td>1.0</td>\n",
              "      <td>1.0</td>\n",
              "      <td>Argentina</td>\n",
              "      <td>2019-02-27</td>\n",
              "      <td>ARS</td>\n",
              "      <td>b'Xintel (DIP-DIP-632) EN ALQUILER DEPARTAMENT...</td>\n",
              "      <td>None</td>\n",
              "      <td>2019-06-25</td>\n",
              "      <td>60859</td>\n",
              "      <td>Argentina</td>\n",
              "      <td>Bs.As. G.B.A. Zona Norte</td>\n",
              "      <td>b'General San Mart\\xedn'</td>\n",
              "      <td>Villa Bonich</td>\n",
              "      <td>None</td>\n",
              "      <td>None</td>\n",
              "      <td>-34.572468</td>\n",
              "      <td>-58.566003</td>\n",
              "      <td>Alquiler</td>\n",
              "      <td>Alquiler</td>\n",
              "      <td>4500</td>\n",
              "      <td>Mensual</td>\n",
              "      <td>2.0</td>\n",
              "      <td>2019-02-27</td>\n",
              "      <td>40</td>\n",
              "      <td>40</td>\n",
              "      <td>DEPARTAMENTO EN ALQUILER</td>\n",
              "      <td>Departamento</td>\n",
              "      <td>Departamento</td>\n",
              "      <td>POINT (90520.492 106346.015)</td>\n",
              "    </tr>\n",
              "    <tr>\n",
              "      <th>50652</th>\n",
              "      <td>1.0</td>\n",
              "      <td>2.0</td>\n",
              "      <td>Argentina</td>\n",
              "      <td>2019-02-27</td>\n",
              "      <td>ARS</td>\n",
              "      <td>b'Xintel (ROC-ROC-1972) &lt;p&gt;Departamento 3 AMBI...</td>\n",
              "      <td>None</td>\n",
              "      <td>2019-06-18</td>\n",
              "      <td>60860</td>\n",
              "      <td>Argentina</td>\n",
              "      <td>Bs.As. G.B.A. Zona Norte</td>\n",
              "      <td>b'General San Mart\\xedn'</td>\n",
              "      <td>Villa Ballester</td>\n",
              "      <td>None</td>\n",
              "      <td>None</td>\n",
              "      <td>-34.551403</td>\n",
              "      <td>-58.548134</td>\n",
              "      <td>Alquiler</td>\n",
              "      <td>Alquiler</td>\n",
              "      <td>13000</td>\n",
              "      <td>Mensual</td>\n",
              "      <td>3.0</td>\n",
              "      <td>2019-02-27</td>\n",
              "      <td>57</td>\n",
              "      <td>57</td>\n",
              "      <td>DEPARTAMENTO EN ALQUILER</td>\n",
              "      <td>Departamento</td>\n",
              "      <td>Departamento</td>\n",
              "      <td>POINT (92158.251 108684.417)</td>\n",
              "    </tr>\n",
              "  </tbody>\n",
              "</table>\n",
              "<p>50653 rows × 29 columns</p>\n",
              "</div>"
            ],
            "text/plain": [
              "       bathrooms  bedrooms  ...     type_i18n                       geometry\n",
              "0            1.0       1.0  ...  Departamento  POINT (106827.294 104558.628)\n",
              "1            3.0       NaN  ...  Departamento  POINT (106347.880 102524.692)\n",
              "2            1.0       2.0  ...  Departamento  POINT (107658.254 102034.095)\n",
              "3            NaN       NaN  ...  Departamento    POINT (91709.240 94331.755)\n",
              "4            1.0       1.0  ...  Departamento   POINT (99129.692 105739.092)\n",
              "...          ...       ...  ...           ...                            ...\n",
              "50648        1.0       1.0  ...  Departamento  POINT (101961.679 100016.721)\n",
              "50649        1.0       NaN  ...  Departamento   POINT (96460.074 105041.354)\n",
              "50650        2.0       4.0  ...  Departamento   POINT (95515.687 105731.369)\n",
              "50651        1.0       1.0  ...  Departamento   POINT (90520.492 106346.015)\n",
              "50652        1.0       2.0  ...  Departamento   POINT (92158.251 108684.417)\n",
              "\n",
              "[50653 rows x 29 columns]"
            ]
          },
          "metadata": {
            "tags": []
          },
          "execution_count": 4
        }
      ]
    },
    {
      "cell_type": "code",
      "metadata": {
        "id": "GSgPw3sDjnUq",
        "colab_type": "code",
        "colab": {}
      },
      "source": [
        "# Si cargan desde el ambiente de Colab:\n",
        "#departamentos=gpd.read_file(\"zip://departamentos.zip!departamentos.shp\")"
      ],
      "execution_count": 0,
      "outputs": []
    },
    {
      "cell_type": "code",
      "metadata": {
        "id": "rUsH8R-OItXn",
        "colab_type": "code",
        "outputId": "a631fd1e-214d-468e-fdc8-a865aa41ff48",
        "colab": {
          "base_uri": "https://localhost:8080/",
          "height": 481
        }
      },
      "source": [
        "departamentos.head()"
      ],
      "execution_count": 0,
      "outputs": [
        {
          "output_type": "execute_result",
          "data": {
            "text/html": [
              "<div>\n",
              "<style scoped>\n",
              "    .dataframe tbody tr th:only-of-type {\n",
              "        vertical-align: middle;\n",
              "    }\n",
              "\n",
              "    .dataframe tbody tr th {\n",
              "        vertical-align: top;\n",
              "    }\n",
              "\n",
              "    .dataframe thead th {\n",
              "        text-align: right;\n",
              "    }\n",
              "</style>\n",
              "<table border=\"1\" class=\"dataframe\">\n",
              "  <thead>\n",
              "    <tr style=\"text-align: right;\">\n",
              "      <th></th>\n",
              "      <th>bathrooms</th>\n",
              "      <th>bedrooms</th>\n",
              "      <th>country</th>\n",
              "      <th>created_on</th>\n",
              "      <th>currency</th>\n",
              "      <th>descriptio</th>\n",
              "      <th>developmen</th>\n",
              "      <th>end_date</th>\n",
              "      <th>index</th>\n",
              "      <th>l1</th>\n",
              "      <th>l2</th>\n",
              "      <th>l3</th>\n",
              "      <th>l4</th>\n",
              "      <th>l5</th>\n",
              "      <th>l6</th>\n",
              "      <th>lat</th>\n",
              "      <th>lon</th>\n",
              "      <th>operation</th>\n",
              "      <th>operation_</th>\n",
              "      <th>price</th>\n",
              "      <th>price_peri</th>\n",
              "      <th>rooms</th>\n",
              "      <th>start_date</th>\n",
              "      <th>surface_co</th>\n",
              "      <th>surface_to</th>\n",
              "      <th>title</th>\n",
              "      <th>type</th>\n",
              "      <th>type_i18n</th>\n",
              "      <th>geometry</th>\n",
              "    </tr>\n",
              "  </thead>\n",
              "  <tbody>\n",
              "    <tr>\n",
              "      <th>0</th>\n",
              "      <td>1.0</td>\n",
              "      <td>1.0</td>\n",
              "      <td>Argentina</td>\n",
              "      <td>2019-09-26</td>\n",
              "      <td>ARS</td>\n",
              "      <td>b'CODIGO: 1819-CRI180 ubicado en: Av. Callao 1...</td>\n",
              "      <td>None</td>\n",
              "      <td>2019-10-10</td>\n",
              "      <td>0</td>\n",
              "      <td>Argentina</td>\n",
              "      <td>Capital Federal</td>\n",
              "      <td>Recoleta</td>\n",
              "      <td>None</td>\n",
              "      <td>None</td>\n",
              "      <td>None</td>\n",
              "      <td>-34.588601</td>\n",
              "      <td>-58.388285</td>\n",
              "      <td>Alquiler</td>\n",
              "      <td>Alquiler</td>\n",
              "      <td>18000</td>\n",
              "      <td>Mensual</td>\n",
              "      <td>NaN</td>\n",
              "      <td>2019-09-26</td>\n",
              "      <td>52</td>\n",
              "      <td>58</td>\n",
              "      <td>b'Recoleta. Av. Callao y Av. Alvear. Piso alto...</td>\n",
              "      <td>Departamento</td>\n",
              "      <td>Departamento</td>\n",
              "      <td>POINT (106827.294 104558.628)</td>\n",
              "    </tr>\n",
              "    <tr>\n",
              "      <th>1</th>\n",
              "      <td>3.0</td>\n",
              "      <td>NaN</td>\n",
              "      <td>Argentina</td>\n",
              "      <td>2019-09-26</td>\n",
              "      <td>ARS</td>\n",
              "      <td>b'Residencia de estudiantes y viajeros. Son do...</td>\n",
              "      <td>None</td>\n",
              "      <td>2019-11-04</td>\n",
              "      <td>1</td>\n",
              "      <td>Argentina</td>\n",
              "      <td>Capital Federal</td>\n",
              "      <td>Balvanera</td>\n",
              "      <td>None</td>\n",
              "      <td>None</td>\n",
              "      <td>None</td>\n",
              "      <td>-34.606939</td>\n",
              "      <td>-58.393496</td>\n",
              "      <td>Alquiler</td>\n",
              "      <td>Alquiler</td>\n",
              "      <td>45000</td>\n",
              "      <td>Mensual</td>\n",
              "      <td>NaN</td>\n",
              "      <td>2019-09-26</td>\n",
              "      <td>219</td>\n",
              "      <td>219</td>\n",
              "      <td>Departamento - Balvanera</td>\n",
              "      <td>Departamento</td>\n",
              "      <td>Departamento</td>\n",
              "      <td>POINT (106347.880 102524.692)</td>\n",
              "    </tr>\n",
              "    <tr>\n",
              "      <th>2</th>\n",
              "      <td>1.0</td>\n",
              "      <td>2.0</td>\n",
              "      <td>Argentina</td>\n",
              "      <td>2019-09-26</td>\n",
              "      <td>ARS</td>\n",
              "      <td>b'CODIGO: 1348-AF021227 ubicado en: Tacuari 26...</td>\n",
              "      <td>None</td>\n",
              "      <td>2019-09-28</td>\n",
              "      <td>2</td>\n",
              "      <td>Argentina</td>\n",
              "      <td>Capital Federal</td>\n",
              "      <td>Monserrat</td>\n",
              "      <td>None</td>\n",
              "      <td>None</td>\n",
              "      <td>None</td>\n",
              "      <td>-34.611352</td>\n",
              "      <td>-58.379205</td>\n",
              "      <td>Alquiler</td>\n",
              "      <td>Alquiler</td>\n",
              "      <td>18500</td>\n",
              "      <td>Mensual</td>\n",
              "      <td>NaN</td>\n",
              "      <td>2019-09-26</td>\n",
              "      <td>61</td>\n",
              "      <td>67</td>\n",
              "      <td>3 ambientes con patio 61 m2 propios bajas expe...</td>\n",
              "      <td>Departamento</td>\n",
              "      <td>Departamento</td>\n",
              "      <td>POINT (107658.254 102034.095)</td>\n",
              "    </tr>\n",
              "    <tr>\n",
              "      <th>3</th>\n",
              "      <td>NaN</td>\n",
              "      <td>NaN</td>\n",
              "      <td>Argentina</td>\n",
              "      <td>2019-09-26</td>\n",
              "      <td>ARS</td>\n",
              "      <td>b'Departamento de dos ambientes a 200 metros d...</td>\n",
              "      <td>None</td>\n",
              "      <td>2020-02-12</td>\n",
              "      <td>4</td>\n",
              "      <td>Argentina</td>\n",
              "      <td>Bs.As. G.B.A. Zona Oeste</td>\n",
              "      <td>La Matanza</td>\n",
              "      <td>San Justo</td>\n",
              "      <td>None</td>\n",
              "      <td>None</td>\n",
              "      <td>-34.680777</td>\n",
              "      <td>-58.553166</td>\n",
              "      <td>Alquiler</td>\n",
              "      <td>Alquiler</td>\n",
              "      <td>11000</td>\n",
              "      <td>Mensual</td>\n",
              "      <td>NaN</td>\n",
              "      <td>2019-09-26</td>\n",
              "      <td>38</td>\n",
              "      <td>38</td>\n",
              "      <td>Departamento - San Justo</td>\n",
              "      <td>Departamento</td>\n",
              "      <td>Departamento</td>\n",
              "      <td>POINT (91709.240 94331.755)</td>\n",
              "    </tr>\n",
              "    <tr>\n",
              "      <th>4</th>\n",
              "      <td>1.0</td>\n",
              "      <td>1.0</td>\n",
              "      <td>Argentina</td>\n",
              "      <td>2019-09-26</td>\n",
              "      <td>ARS</td>\n",
              "      <td>b'CODIGO: 733-1600MARIANOA ubicado en: MARIANO...</td>\n",
              "      <td>None</td>\n",
              "      <td>2019-11-10</td>\n",
              "      <td>5</td>\n",
              "      <td>Argentina</td>\n",
              "      <td>Capital Federal</td>\n",
              "      <td>Villa Urquiza</td>\n",
              "      <td>None</td>\n",
              "      <td>None</td>\n",
              "      <td>None</td>\n",
              "      <td>-34.577983</td>\n",
              "      <td>-58.472185</td>\n",
              "      <td>Alquiler</td>\n",
              "      <td>Alquiler</td>\n",
              "      <td>18500</td>\n",
              "      <td>Mensual</td>\n",
              "      <td>NaN</td>\n",
              "      <td>2019-09-26</td>\n",
              "      <td>39</td>\n",
              "      <td>49</td>\n",
              "      <td>EXCELENTE DEPARTAMENTO 2 AMB CON PATIO 49 MTS ...</td>\n",
              "      <td>Departamento</td>\n",
              "      <td>Departamento</td>\n",
              "      <td>POINT (99129.692 105739.092)</td>\n",
              "    </tr>\n",
              "  </tbody>\n",
              "</table>\n",
              "</div>"
            ],
            "text/plain": [
              "   bathrooms  bedrooms  ...     type_i18n                       geometry\n",
              "0        1.0       1.0  ...  Departamento  POINT (106827.294 104558.628)\n",
              "1        3.0       NaN  ...  Departamento  POINT (106347.880 102524.692)\n",
              "2        1.0       2.0  ...  Departamento  POINT (107658.254 102034.095)\n",
              "3        NaN       NaN  ...  Departamento    POINT (91709.240 94331.755)\n",
              "4        1.0       1.0  ...  Departamento   POINT (99129.692 105739.092)\n",
              "\n",
              "[5 rows x 29 columns]"
            ]
          },
          "metadata": {
            "tags": []
          },
          "execution_count": 6
        }
      ]
    },
    {
      "cell_type": "markdown",
      "metadata": {
        "id": "2ec6lqKxK_Bm",
        "colab_type": "text"
      },
      "source": [
        "## Descripcion rápida de los datos\n"
      ]
    },
    {
      "cell_type": "code",
      "metadata": {
        "id": "xlUxmaSPy2ar",
        "colab_type": "code",
        "outputId": "0bf3a3b1-d389-4a46-ffbe-63d772af4765",
        "colab": {
          "base_uri": "https://localhost:8080/",
          "height": 123
        }
      },
      "source": [
        "departamentos.columns"
      ],
      "execution_count": 0,
      "outputs": [
        {
          "output_type": "execute_result",
          "data": {
            "text/plain": [
              "Index(['bathrooms', 'bedrooms', 'country', 'created_on', 'currency',\n",
              "       'descriptio', 'developmen', 'end_date', 'index', 'l1', 'l2', 'l3', 'l4',\n",
              "       'l5', 'l6', 'lat', 'lon', 'operation', 'operation_', 'price',\n",
              "       'price_peri', 'rooms', 'start_date', 'surface_co', 'surface_to',\n",
              "       'title', 'type', 'type_i18n', 'geometry'],\n",
              "      dtype='object')"
            ]
          },
          "metadata": {
            "tags": []
          },
          "execution_count": 7
        }
      ]
    },
    {
      "cell_type": "code",
      "metadata": {
        "id": "s09R5VxOzLJd",
        "colab_type": "code",
        "outputId": "8c73e1d6-1550-4a63-8993-c1b4116a21e4",
        "colab": {
          "base_uri": "https://localhost:8080/",
          "height": 35
        }
      },
      "source": [
        "departamentos.shape"
      ],
      "execution_count": 0,
      "outputs": [
        {
          "output_type": "execute_result",
          "data": {
            "text/plain": [
              "(50653, 29)"
            ]
          },
          "metadata": {
            "tags": []
          },
          "execution_count": 8
        }
      ]
    },
    {
      "cell_type": "markdown",
      "metadata": {
        "id": "dz2svI6Ul1Lk",
        "colab_type": "text"
      },
      "source": [
        "Puedo llamar a una columna en particular del dataframe si la escribo entre corchetes "
      ]
    },
    {
      "cell_type": "code",
      "metadata": {
        "id": "sTvv8JVw-m1p",
        "colab_type": "code",
        "outputId": "5a4de791-554b-4c72-8271-dece2d08ac1d",
        "colab": {
          "base_uri": "https://localhost:8080/",
          "height": 228
        }
      },
      "source": [
        "departamentos['l2']"
      ],
      "execution_count": 5,
      "outputs": [
        {
          "output_type": "execute_result",
          "data": {
            "text/plain": [
              "0                 Capital Federal\n",
              "1                 Capital Federal\n",
              "2                 Capital Federal\n",
              "3        Bs.As. G.B.A. Zona Oeste\n",
              "4                 Capital Federal\n",
              "                   ...           \n",
              "50648             Capital Federal\n",
              "50649             Capital Federal\n",
              "50650             Capital Federal\n",
              "50651    Bs.As. G.B.A. Zona Norte\n",
              "50652    Bs.As. G.B.A. Zona Norte\n",
              "Name: l2, Length: 50653, dtype: object"
            ]
          },
          "metadata": {
            "tags": []
          },
          "execution_count": 5
        }
      ]
    },
    {
      "cell_type": "markdown",
      "metadata": {
        "id": "rM5MXRBHmdyr",
        "colab_type": "text"
      },
      "source": [
        "En algunos casos funcionará que solo escriba . y el nombre de la columna. (esto no sirve, por ejemplo si las columnas  tienen espacios en el nombre) \n"
      ]
    },
    {
      "cell_type": "code",
      "metadata": {
        "id": "3MKDeQk6mbJu",
        "colab_type": "code",
        "colab": {
          "base_uri": "https://localhost:8080/",
          "height": 228
        },
        "outputId": "f5a54716-d620-4758-e67e-7a01377e5511"
      },
      "source": [
        "departamentos.l2"
      ],
      "execution_count": 7,
      "outputs": [
        {
          "output_type": "execute_result",
          "data": {
            "text/plain": [
              "0                 Capital Federal\n",
              "1                 Capital Federal\n",
              "2                 Capital Federal\n",
              "3        Bs.As. G.B.A. Zona Oeste\n",
              "4                 Capital Federal\n",
              "                   ...           \n",
              "50648             Capital Federal\n",
              "50649             Capital Federal\n",
              "50650             Capital Federal\n",
              "50651    Bs.As. G.B.A. Zona Norte\n",
              "50652    Bs.As. G.B.A. Zona Norte\n",
              "Name: l2, Length: 50653, dtype: object"
            ]
          },
          "metadata": {
            "tags": []
          },
          "execution_count": 7
        }
      ]
    },
    {
      "cell_type": "markdown",
      "metadata": {
        "id": "RCqE-TV8myVO",
        "colab_type": "text"
      },
      "source": [
        "Luego puedo ver cuales son los valores unicos que toma la variable:"
      ]
    },
    {
      "cell_type": "code",
      "metadata": {
        "id": "KvdYZ5gjmEbV",
        "colab_type": "code",
        "colab": {
          "base_uri": "https://localhost:8080/",
          "height": 70
        },
        "outputId": "8aec9187-ef57-4cda-e53a-b8e356e4ddc2"
      },
      "source": [
        "departamentos['l2'].unique()"
      ],
      "execution_count": 6,
      "outputs": [
        {
          "output_type": "execute_result",
          "data": {
            "text/plain": [
              "array(['Capital Federal', 'Bs.As. G.B.A. Zona Oeste',\n",
              "       'Bs.As. G.B.A. Zona Sur', 'Bs.As. G.B.A. Zona Norte',\n",
              "       'Buenos Aires Interior'], dtype=object)"
            ]
          },
          "metadata": {
            "tags": []
          },
          "execution_count": 6
        }
      ]
    },
    {
      "cell_type": "code",
      "metadata": {
        "id": "vn5yGYl_zdAR",
        "colab_type": "code",
        "outputId": "66a9dda2-9b02-4723-b376-43d633e30fd4",
        "colab": {
          "base_uri": "https://localhost:8080/",
          "height": 545
        }
      },
      "source": [
        "departamentos.dtypes"
      ],
      "execution_count": 0,
      "outputs": [
        {
          "output_type": "execute_result",
          "data": {
            "text/plain": [
              "bathrooms      float64\n",
              "bedrooms       float64\n",
              "country         object\n",
              "created_on      object\n",
              "currency        object\n",
              "descriptio      object\n",
              "developmen      object\n",
              "end_date        object\n",
              "index            int64\n",
              "l1              object\n",
              "l2              object\n",
              "l3              object\n",
              "l4              object\n",
              "l5              object\n",
              "l6              object\n",
              "lat            float64\n",
              "lon            float64\n",
              "operation       object\n",
              "operation_      object\n",
              "price            int64\n",
              "price_peri      object\n",
              "rooms          float64\n",
              "start_date      object\n",
              "surface_co       int64\n",
              "surface_to       int64\n",
              "title           object\n",
              "type            object\n",
              "type_i18n       object\n",
              "geometry      geometry\n",
              "dtype: object"
            ]
          },
          "metadata": {
            "tags": []
          },
          "execution_count": 9
        }
      ]
    },
    {
      "cell_type": "code",
      "metadata": {
        "id": "AsY9Zz1Y08E0",
        "colab_type": "code",
        "colab": {
          "base_uri": "https://localhost:8080/",
          "height": 282
        },
        "outputId": "e522591c-c263-4151-aff5-1e2459c2ed56"
      },
      "source": [
        "departamentos.plot()"
      ],
      "execution_count": 10,
      "outputs": [
        {
          "output_type": "execute_result",
          "data": {
            "text/plain": [
              "<matplotlib.axes._subplots.AxesSubplot at 0x7f2d35649940>"
            ]
          },
          "metadata": {
            "tags": []
          },
          "execution_count": 10
        },
        {
          "output_type": "display_data",
          "data": {
            "image/png": "[encoded data removed]",
            "text/plain": [
              "<Figure size 432x288 with 1 Axes>"
            ]
          },
          "metadata": {
            "tags": [],
            "needs_background": "light"
          }
        }
      ]
    },
    {
      "cell_type": "code",
      "metadata": {
        "id": "qmopF4V8KR4A",
        "colab_type": "code",
        "outputId": "b7765c9d-30cc-4548-b967-ee712ce213ee",
        "colab": {
          "base_uri": "https://localhost:8080/",
          "height": 175
        }
      },
      "source": [
        "departamentos.price.describe()"
      ],
      "execution_count": 0,
      "outputs": [
        {
          "output_type": "execute_result",
          "data": {
            "text/plain": [
              "count    5.065300e+04\n",
              "mean     1.780301e+04\n",
              "std      1.713533e+04\n",
              "min      5.000000e+01\n",
              "25%      1.050000e+04\n",
              "50%      1.500000e+04\n",
              "75%      2.100000e+04\n",
              "max      1.500000e+06\n",
              "Name: price, dtype: float64"
            ]
          },
          "metadata": {
            "tags": []
          },
          "execution_count": 41
        }
      ]
    },
    {
      "cell_type": "markdown",
      "metadata": {
        "id": "fx9f6Bta4FPD",
        "colab_type": "text"
      },
      "source": [
        "## Estudiando un subconjunto de datos (filas del dataframe)\n",
        "\n",
        "Para \"filtrar\" el dataframe usamos el método .loc, especificando entre corchetes la condición que filtra nuestros datos\n",
        "\n",
        "Por ejemplo, si queremos departamentos mayores a $100000\n",
        "departamentos.loc[(departamentos.price>100000)]\n",
        "\n",
        "Para escribir una condicion recuerden que pueden utilizar los siguientes lógicos:\n",
        "\n",
        "```==    para chequear la  condicion \"equivale a\" o \"igual a\" va doble igual  ``` \n",
        "\n",
        "```!= distinto a ```\n",
        "\n",
        "```> mayor a  ```\n",
        "\n",
        "```>= mayor o igual a ```\n",
        "\n",
        "```< menor a ```\n",
        "\n",
        "```<= menor o igual a ```\n",
        "\n",
        "En el caso de querer usar dos condiciones o más:\n",
        "\n",
        "```(esta condicion) & (esta condicion) ``` Se cumple esta condicion Y esta otra  \n",
        "\n",
        "```(esta condicion) | (esta condicion) ``` Se cumple esta condicion O esta otra\n",
        "   \n",
        "\n",
        "Recuerden que las condiciones tiene que ir  en parentesis!\n",
        "\n",
        "\n",
        "Vean los siguientes ejemplos:\n",
        "\n",
        "\n"
      ]
    },
    {
      "cell_type": "markdown",
      "metadata": {
        "id": "XFZnxWQllCn8",
        "colab_type": "text"
      },
      "source": [
        "\n",
        "\n",
        "Filtrar los departamentos que estan en Capital Federal\n"
      ]
    },
    {
      "cell_type": "code",
      "metadata": {
        "id": "l5LnPCc_lALA",
        "colab_type": "code",
        "colab": {}
      },
      "source": [
        "departamentos.loc[departamentos['l2']==\"Capital Federal\"]"
      ],
      "execution_count": 0,
      "outputs": []
    },
    {
      "cell_type": "markdown",
      "metadata": {
        "id": "vULG9Ru_kmKd",
        "colab_type": "text"
      },
      "source": [
        "Filtrar los departamentos que valen más de $100000 Y que además estan en capital federal"
      ]
    },
    {
      "cell_type": "code",
      "metadata": {
        "id": "s57f-ms12k2D",
        "colab_type": "code",
        "colab": {
          "base_uri": "https://localhost:8080/",
          "height": 898
        },
        "outputId": "ebb2d482-e560-4746-e1eb-b37720047704"
      },
      "source": [
        "departamentos.loc[(departamentos.price>100000)&(departamentos.l2==\"Capital Federal\")]"
      ],
      "execution_count": 28,
      "outputs": [
        {
          "output_type": "execute_result",
          "data": {
            "text/html": [
              "<div>\n",
              "<style scoped>\n",
              "    .dataframe tbody tr th:only-of-type {\n",
              "        vertical-align: middle;\n",
              "    }\n",
              "\n",
              "    .dataframe tbody tr th {\n",
              "        vertical-align: top;\n",
              "    }\n",
              "\n",
              "    .dataframe thead th {\n",
              "        text-align: right;\n",
              "    }\n",
              "</style>\n",
              "<table border=\"1\" class=\"dataframe\">\n",
              "  <thead>\n",
              "    <tr style=\"text-align: right;\">\n",
              "      <th></th>\n",
              "      <th>bathrooms</th>\n",
              "      <th>bedrooms</th>\n",
              "      <th>country</th>\n",
              "      <th>created_on</th>\n",
              "      <th>currency</th>\n",
              "      <th>descriptio</th>\n",
              "      <th>developmen</th>\n",
              "      <th>end_date</th>\n",
              "      <th>index</th>\n",
              "      <th>l1</th>\n",
              "      <th>l2</th>\n",
              "      <th>l3</th>\n",
              "      <th>l4</th>\n",
              "      <th>l5</th>\n",
              "      <th>l6</th>\n",
              "      <th>lat</th>\n",
              "      <th>lon</th>\n",
              "      <th>operation</th>\n",
              "      <th>operation_</th>\n",
              "      <th>price</th>\n",
              "      <th>price_peri</th>\n",
              "      <th>rooms</th>\n",
              "      <th>start_date</th>\n",
              "      <th>surface_co</th>\n",
              "      <th>surface_to</th>\n",
              "      <th>title</th>\n",
              "      <th>type</th>\n",
              "      <th>type_i18n</th>\n",
              "      <th>geometry</th>\n",
              "    </tr>\n",
              "  </thead>\n",
              "  <tbody>\n",
              "    <tr>\n",
              "      <th>0</th>\n",
              "      <td>1.0</td>\n",
              "      <td>1.0</td>\n",
              "      <td>Argentina</td>\n",
              "      <td>2019-09-26</td>\n",
              "      <td>ARS</td>\n",
              "      <td>b'CODIGO: 1819-CRI180 ubicado en: Av. Callao 1...</td>\n",
              "      <td>None</td>\n",
              "      <td>2019-10-10</td>\n",
              "      <td>0</td>\n",
              "      <td>Argentina</td>\n",
              "      <td>Capital Federal</td>\n",
              "      <td>Recoleta</td>\n",
              "      <td>None</td>\n",
              "      <td>None</td>\n",
              "      <td>None</td>\n",
              "      <td>-34.588601</td>\n",
              "      <td>-58.388285</td>\n",
              "      <td>Alquiler</td>\n",
              "      <td>Alquiler</td>\n",
              "      <td>18000</td>\n",
              "      <td>Mensual</td>\n",
              "      <td>NaN</td>\n",
              "      <td>2019-09-26</td>\n",
              "      <td>52</td>\n",
              "      <td>58</td>\n",
              "      <td>b'Recoleta. Av. Callao y Av. Alvear. Piso alto...</td>\n",
              "      <td>Departamento</td>\n",
              "      <td>Departamento</td>\n",
              "      <td>POINT (106827.294 104558.628)</td>\n",
              "    </tr>\n",
              "    <tr>\n",
              "      <th>1</th>\n",
              "      <td>3.0</td>\n",
              "      <td>NaN</td>\n",
              "      <td>Argentina</td>\n",
              "      <td>2019-09-26</td>\n",
              "      <td>ARS</td>\n",
              "      <td>b'Residencia de estudiantes y viajeros. Son do...</td>\n",
              "      <td>None</td>\n",
              "      <td>2019-11-04</td>\n",
              "      <td>1</td>\n",
              "      <td>Argentina</td>\n",
              "      <td>Capital Federal</td>\n",
              "      <td>Balvanera</td>\n",
              "      <td>None</td>\n",
              "      <td>None</td>\n",
              "      <td>None</td>\n",
              "      <td>-34.606939</td>\n",
              "      <td>-58.393496</td>\n",
              "      <td>Alquiler</td>\n",
              "      <td>Alquiler</td>\n",
              "      <td>45000</td>\n",
              "      <td>Mensual</td>\n",
              "      <td>NaN</td>\n",
              "      <td>2019-09-26</td>\n",
              "      <td>219</td>\n",
              "      <td>219</td>\n",
              "      <td>Departamento - Balvanera</td>\n",
              "      <td>Departamento</td>\n",
              "      <td>Departamento</td>\n",
              "      <td>POINT (106347.880 102524.692)</td>\n",
              "    </tr>\n",
              "    <tr>\n",
              "      <th>2</th>\n",
              "      <td>1.0</td>\n",
              "      <td>2.0</td>\n",
              "      <td>Argentina</td>\n",
              "      <td>2019-09-26</td>\n",
              "      <td>ARS</td>\n",
              "      <td>b'CODIGO: 1348-AF021227 ubicado en: Tacuari 26...</td>\n",
              "      <td>None</td>\n",
              "      <td>2019-09-28</td>\n",
              "      <td>2</td>\n",
              "      <td>Argentina</td>\n",
              "      <td>Capital Federal</td>\n",
              "      <td>Monserrat</td>\n",
              "      <td>None</td>\n",
              "      <td>None</td>\n",
              "      <td>None</td>\n",
              "      <td>-34.611352</td>\n",
              "      <td>-58.379205</td>\n",
              "      <td>Alquiler</td>\n",
              "      <td>Alquiler</td>\n",
              "      <td>18500</td>\n",
              "      <td>Mensual</td>\n",
              "      <td>NaN</td>\n",
              "      <td>2019-09-26</td>\n",
              "      <td>61</td>\n",
              "      <td>67</td>\n",
              "      <td>3 ambientes con patio 61 m2 propios bajas expe...</td>\n",
              "      <td>Departamento</td>\n",
              "      <td>Departamento</td>\n",
              "      <td>POINT (107658.254 102034.095)</td>\n",
              "    </tr>\n",
              "    <tr>\n",
              "      <th>4</th>\n",
              "      <td>1.0</td>\n",
              "      <td>1.0</td>\n",
              "      <td>Argentina</td>\n",
              "      <td>2019-09-26</td>\n",
              "      <td>ARS</td>\n",
              "      <td>b'CODIGO: 733-1600MARIANOA ubicado en: MARIANO...</td>\n",
              "      <td>None</td>\n",
              "      <td>2019-11-10</td>\n",
              "      <td>5</td>\n",
              "      <td>Argentina</td>\n",
              "      <td>Capital Federal</td>\n",
              "      <td>Villa Urquiza</td>\n",
              "      <td>None</td>\n",
              "      <td>None</td>\n",
              "      <td>None</td>\n",
              "      <td>-34.577983</td>\n",
              "      <td>-58.472185</td>\n",
              "      <td>Alquiler</td>\n",
              "      <td>Alquiler</td>\n",
              "      <td>18500</td>\n",
              "      <td>Mensual</td>\n",
              "      <td>NaN</td>\n",
              "      <td>2019-09-26</td>\n",
              "      <td>39</td>\n",
              "      <td>49</td>\n",
              "      <td>EXCELENTE DEPARTAMENTO 2 AMB CON PATIO 49 MTS ...</td>\n",
              "      <td>Departamento</td>\n",
              "      <td>Departamento</td>\n",
              "      <td>POINT (99129.692 105739.092)</td>\n",
              "    </tr>\n",
              "    <tr>\n",
              "      <th>5</th>\n",
              "      <td>NaN</td>\n",
              "      <td>NaN</td>\n",
              "      <td>Argentina</td>\n",
              "      <td>2019-09-26</td>\n",
              "      <td>ARS</td>\n",
              "      <td>b'MONOAMBIENTE EN ALMAGRO&lt;br&gt;AMPLIO Y LUMINOSO...</td>\n",
              "      <td>None</td>\n",
              "      <td>2019-10-02</td>\n",
              "      <td>6</td>\n",
              "      <td>Argentina</td>\n",
              "      <td>Capital Federal</td>\n",
              "      <td>Almagro</td>\n",
              "      <td>None</td>\n",
              "      <td>None</td>\n",
              "      <td>None</td>\n",
              "      <td>-34.611445</td>\n",
              "      <td>-58.420994</td>\n",
              "      <td>Alquiler</td>\n",
              "      <td>Alquiler</td>\n",
              "      <td>9000</td>\n",
              "      <td>Mensual</td>\n",
              "      <td>1.0</td>\n",
              "      <td>2019-09-26</td>\n",
              "      <td>30</td>\n",
              "      <td>30</td>\n",
              "      <td>Departamento - Almagro</td>\n",
              "      <td>Departamento</td>\n",
              "      <td>Departamento</td>\n",
              "      <td>POINT (103825.371 102026.223)</td>\n",
              "    </tr>\n",
              "    <tr>\n",
              "      <th>...</th>\n",
              "      <td>...</td>\n",
              "      <td>...</td>\n",
              "      <td>...</td>\n",
              "      <td>...</td>\n",
              "      <td>...</td>\n",
              "      <td>...</td>\n",
              "      <td>...</td>\n",
              "      <td>...</td>\n",
              "      <td>...</td>\n",
              "      <td>...</td>\n",
              "      <td>...</td>\n",
              "      <td>...</td>\n",
              "      <td>...</td>\n",
              "      <td>...</td>\n",
              "      <td>...</td>\n",
              "      <td>...</td>\n",
              "      <td>...</td>\n",
              "      <td>...</td>\n",
              "      <td>...</td>\n",
              "      <td>...</td>\n",
              "      <td>...</td>\n",
              "      <td>...</td>\n",
              "      <td>...</td>\n",
              "      <td>...</td>\n",
              "      <td>...</td>\n",
              "      <td>...</td>\n",
              "      <td>...</td>\n",
              "      <td>...</td>\n",
              "      <td>...</td>\n",
              "    </tr>\n",
              "    <tr>\n",
              "      <th>50638</th>\n",
              "      <td>1.0</td>\n",
              "      <td>NaN</td>\n",
              "      <td>Argentina</td>\n",
              "      <td>2019-02-27</td>\n",
              "      <td>ARS</td>\n",
              "      <td>b'ALQUILER EXCELENTE MONOAMBIENTE MUY LUMINOSO...</td>\n",
              "      <td>None</td>\n",
              "      <td>2019-03-16</td>\n",
              "      <td>60841</td>\n",
              "      <td>Argentina</td>\n",
              "      <td>Capital Federal</td>\n",
              "      <td>Villa Urquiza</td>\n",
              "      <td>None</td>\n",
              "      <td>None</td>\n",
              "      <td>None</td>\n",
              "      <td>-34.573382</td>\n",
              "      <td>-58.473540</td>\n",
              "      <td>Alquiler</td>\n",
              "      <td>Alquiler</td>\n",
              "      <td>12500</td>\n",
              "      <td>Mensual</td>\n",
              "      <td>1.0</td>\n",
              "      <td>2019-02-27</td>\n",
              "      <td>32</td>\n",
              "      <td>37</td>\n",
              "      <td>ALQUILER EXCELENTE MONOAMBIENTE MUY LUMINOSO A...</td>\n",
              "      <td>Departamento</td>\n",
              "      <td>Departamento</td>\n",
              "      <td>POINT (99005.286 106249.504)</td>\n",
              "    </tr>\n",
              "    <tr>\n",
              "      <th>50639</th>\n",
              "      <td>1.0</td>\n",
              "      <td>1.0</td>\n",
              "      <td>Argentina</td>\n",
              "      <td>2019-02-27</td>\n",
              "      <td>ARS</td>\n",
              "      <td>b'Monoambiente de 35m2 Totales en complejo Gre...</td>\n",
              "      <td>None</td>\n",
              "      <td>2019-07-17</td>\n",
              "      <td>60842</td>\n",
              "      <td>Argentina</td>\n",
              "      <td>Capital Federal</td>\n",
              "      <td>Villa Urquiza</td>\n",
              "      <td>None</td>\n",
              "      <td>None</td>\n",
              "      <td>None</td>\n",
              "      <td>-34.574489</td>\n",
              "      <td>-58.473084</td>\n",
              "      <td>Alquiler</td>\n",
              "      <td>Alquiler</td>\n",
              "      <td>15000</td>\n",
              "      <td>None</td>\n",
              "      <td>1.0</td>\n",
              "      <td>2019-02-27</td>\n",
              "      <td>27</td>\n",
              "      <td>32</td>\n",
              "      <td>Excelente departamento en Alquiler con cochera</td>\n",
              "      <td>Departamento</td>\n",
              "      <td>Departamento</td>\n",
              "      <td>POINT (99047.178 106126.635)</td>\n",
              "    </tr>\n",
              "    <tr>\n",
              "      <th>50648</th>\n",
              "      <td>1.0</td>\n",
              "      <td>1.0</td>\n",
              "      <td>Argentina</td>\n",
              "      <td>2019-02-27</td>\n",
              "      <td>ARS</td>\n",
              "      <td>Corredor Responsable: Martin Macagno - CUCICBA...</td>\n",
              "      <td>None</td>\n",
              "      <td>2019-04-24</td>\n",
              "      <td>60856</td>\n",
              "      <td>Argentina</td>\n",
              "      <td>Capital Federal</td>\n",
              "      <td>Parque Chacabuco</td>\n",
              "      <td>None</td>\n",
              "      <td>None</td>\n",
              "      <td>None</td>\n",
              "      <td>-34.629564</td>\n",
              "      <td>-58.441308</td>\n",
              "      <td>Alquiler</td>\n",
              "      <td>Alquiler</td>\n",
              "      <td>17500</td>\n",
              "      <td>Mensual</td>\n",
              "      <td>2.0</td>\n",
              "      <td>2019-02-27</td>\n",
              "      <td>45</td>\n",
              "      <td>45</td>\n",
              "      <td>ALQUILER DEPARTAMENTO 2 AMB A ESTRENAR P CHACA...</td>\n",
              "      <td>Departamento</td>\n",
              "      <td>Departamento</td>\n",
              "      <td>POINT (101961.679 100016.721)</td>\n",
              "    </tr>\n",
              "    <tr>\n",
              "      <th>50649</th>\n",
              "      <td>1.0</td>\n",
              "      <td>NaN</td>\n",
              "      <td>Argentina</td>\n",
              "      <td>2019-02-27</td>\n",
              "      <td>ARS</td>\n",
              "      <td>b'**** ALQUILER DUE\\xd1O DIRECTO DE DEPARTAMEN...</td>\n",
              "      <td>None</td>\n",
              "      <td>2019-03-29</td>\n",
              "      <td>60857</td>\n",
              "      <td>Argentina</td>\n",
              "      <td>Capital Federal</td>\n",
              "      <td>b'Villa Pueyrred\\xf3n'</td>\n",
              "      <td>None</td>\n",
              "      <td>None</td>\n",
              "      <td>None</td>\n",
              "      <td>-34.584267</td>\n",
              "      <td>-58.501282</td>\n",
              "      <td>Alquiler</td>\n",
              "      <td>Alquiler</td>\n",
              "      <td>11000</td>\n",
              "      <td>Mensual</td>\n",
              "      <td>NaN</td>\n",
              "      <td>2019-02-27</td>\n",
              "      <td>43</td>\n",
              "      <td>49</td>\n",
              "      <td>b'Carlos A Lopez  2700 1\\xb0  - $ 11.000 - Dep...</td>\n",
              "      <td>Departamento</td>\n",
              "      <td>Departamento</td>\n",
              "      <td>POINT (96460.074 105041.354)</td>\n",
              "    </tr>\n",
              "    <tr>\n",
              "      <th>50650</th>\n",
              "      <td>2.0</td>\n",
              "      <td>4.0</td>\n",
              "      <td>Argentina</td>\n",
              "      <td>2019-02-27</td>\n",
              "      <td>ARS</td>\n",
              "      <td>b'Corredor Responsable: JAVIER HERNANDEZ - CUC...</td>\n",
              "      <td>None</td>\n",
              "      <td>2019-03-10</td>\n",
              "      <td>60858</td>\n",
              "      <td>Argentina</td>\n",
              "      <td>Capital Federal</td>\n",
              "      <td>b'Villa Pueyrred\\xf3n'</td>\n",
              "      <td>None</td>\n",
              "      <td>None</td>\n",
              "      <td>None</td>\n",
              "      <td>-34.578043</td>\n",
              "      <td>-58.511571</td>\n",
              "      <td>Alquiler</td>\n",
              "      <td>Alquiler</td>\n",
              "      <td>40000</td>\n",
              "      <td>Mensual</td>\n",
              "      <td>5.0</td>\n",
              "      <td>2019-02-27</td>\n",
              "      <td>150</td>\n",
              "      <td>150</td>\n",
              "      <td>Alquiler-Triplex c/ cochera - sin expensas.</td>\n",
              "      <td>Departamento</td>\n",
              "      <td>Departamento</td>\n",
              "      <td>POINT (95515.687 105731.369)</td>\n",
              "    </tr>\n",
              "  </tbody>\n",
              "</table>\n",
              "<p>33482 rows × 29 columns</p>\n",
              "</div>"
            ],
            "text/plain": [
              "       bathrooms  bedrooms  ...     type_i18n                       geometry\n",
              "0            1.0       1.0  ...  Departamento  POINT (106827.294 104558.628)\n",
              "1            3.0       NaN  ...  Departamento  POINT (106347.880 102524.692)\n",
              "2            1.0       2.0  ...  Departamento  POINT (107658.254 102034.095)\n",
              "4            1.0       1.0  ...  Departamento   POINT (99129.692 105739.092)\n",
              "5            NaN       NaN  ...  Departamento  POINT (103825.371 102026.223)\n",
              "...          ...       ...  ...           ...                            ...\n",
              "50638        1.0       NaN  ...  Departamento   POINT (99005.286 106249.504)\n",
              "50639        1.0       1.0  ...  Departamento   POINT (99047.178 106126.635)\n",
              "50648        1.0       1.0  ...  Departamento  POINT (101961.679 100016.721)\n",
              "50649        1.0       NaN  ...  Departamento   POINT (96460.074 105041.354)\n",
              "50650        2.0       4.0  ...  Departamento   POINT (95515.687 105731.369)\n",
              "\n",
              "[33482 rows x 29 columns]"
            ]
          },
          "metadata": {
            "tags": []
          },
          "execution_count": 28
        }
      ]
    },
    {
      "cell_type": "markdown",
      "metadata": {
        "id": "VW58WJz1lfXP",
        "colab_type": "text"
      },
      "source": [
        "Es posible combinar los filtros con otros metodos para describir o graficar los datos en una sola linea de codigo. Para eso filtro primero y grafico o describo despues.\n"
      ]
    },
    {
      "cell_type": "code",
      "metadata": {
        "id": "Fafijp3b09mc",
        "colab_type": "code",
        "outputId": "dfc27540-5cd5-4129-f147-385a100226ec",
        "colab": {
          "base_uri": "https://localhost:8080/",
          "height": 175
        }
      },
      "source": [
        "departamentos.loc[departamentos['l2']==\"Capital Federal\"].price.describe()"
      ],
      "execution_count": 0,
      "outputs": [
        {
          "output_type": "execute_result",
          "data": {
            "text/plain": [
              "count    3.347200e+04\n",
              "mean     1.855286e+04\n",
              "std      1.733385e+04\n",
              "min      5.000000e+01\n",
              "25%      1.150000e+04\n",
              "50%      1.500000e+04\n",
              "75%      2.200000e+04\n",
              "max      1.232134e+06\n",
              "Name: price, dtype: float64"
            ]
          },
          "metadata": {
            "tags": []
          },
          "execution_count": 14
        }
      ]
    },
    {
      "cell_type": "code",
      "metadata": {
        "id": "BrBXPkuBKtLq",
        "colab_type": "code",
        "outputId": "e673a3a8-c177-4d30-997a-152ed863e624",
        "colab": {
          "base_uri": "https://localhost:8080/",
          "height": 295
        }
      },
      "source": [
        "departamentos.price.hist()"
      ],
      "execution_count": 0,
      "outputs": [
        {
          "output_type": "execute_result",
          "data": {
            "text/plain": [
              "<matplotlib.axes._subplots.AxesSubplot at 0x7f6fd1511438>"
            ]
          },
          "metadata": {
            "tags": []
          },
          "execution_count": 45
        },
        {
          "output_type": "display_data",
          "data": {
            "image/png": "[encoded data removed]",
            "text/plain": [
              "<Figure size 432x288 with 1 Axes>"
            ]
          },
          "metadata": {
            "tags": [],
            "needs_background": "light"
          }
        }
      ]
    },
    {
      "cell_type": "code",
      "metadata": {
        "id": "qiqWdr5VKb6q",
        "colab_type": "code",
        "outputId": "95e28a40-4e1f-4532-cc6b-06e2e8219f60",
        "colab": {
          "base_uri": "https://localhost:8080/",
          "height": 283
        }
      },
      "source": [
        "departamentos.price.loc[departamentos.price<30000].hist()"
      ],
      "execution_count": 0,
      "outputs": [
        {
          "output_type": "execute_result",
          "data": {
            "text/plain": [
              "<matplotlib.axes._subplots.AxesSubplot at 0x7f6fd1529ba8>"
            ]
          },
          "metadata": {
            "tags": []
          },
          "execution_count": 44
        },
        {
          "output_type": "display_data",
          "data": {
            "image/png": "[encoded data removed]",
            "text/plain": [
              "<Figure size 432x288 with 1 Axes>"
            ]
          },
          "metadata": {
            "tags": [],
            "needs_background": "light"
          }
        }
      ]
    },
    {
      "cell_type": "markdown",
      "metadata": {
        "id": "0v7Y1tQb8CEN",
        "colab_type": "text"
      },
      "source": [
        "El método plot() en el GeoDataFrame permite mapear los datos. Podrán reconocer el AMBA\n"
      ]
    },
    {
      "cell_type": "code",
      "metadata": {
        "id": "-NqNb9oXjvkd",
        "colab_type": "code",
        "outputId": "9c5dceed-1a8e-4186-d387-51746672de46",
        "colab": {
          "base_uri": "https://localhost:8080/",
          "height": 283
        }
      },
      "source": [
        "departamentos.plot()"
      ],
      "execution_count": 0,
      "outputs": [
        {
          "output_type": "execute_result",
          "data": {
            "text/plain": [
              "<matplotlib.axes._subplots.AxesSubplot at 0x7f6fd1671c88>"
            ]
          },
          "metadata": {
            "tags": []
          },
          "execution_count": 34
        },
        {
          "output_type": "display_data",
          "data": {
            "image/png": "[encoded data removed]",
            "text/plain": [
              "<Figure size 432x288 with 1 Axes>"
            ]
          },
          "metadata": {
            "tags": [],
            "needs_background": "light"
          }
        }
      ]
    },
    {
      "cell_type": "code",
      "metadata": {
        "id": "aPK60isGlvHG",
        "colab_type": "code",
        "colab": {
          "base_uri": "https://localhost:8080/",
          "height": 282
        },
        "outputId": "a3178827-c491-423b-c6e3-e39f51a00912"
      },
      "source": [
        "departamentos.loc[departamentos.l2==\"Capital Federal\"].plot()"
      ],
      "execution_count": 8,
      "outputs": [
        {
          "output_type": "execute_result",
          "data": {
            "text/plain": [
              "<matplotlib.axes._subplots.AxesSubplot at 0x7f31198dc828>"
            ]
          },
          "metadata": {
            "tags": []
          },
          "execution_count": 8
        },
        {
          "output_type": "display_data",
          "data": {
            "image/png": "[encoded data removed]",
            "text/plain": [
              "<Figure size 432x288 with 1 Axes>"
            ]
          },
          "metadata": {
            "tags": [],
            "needs_background": "light"
          }
        }
      ]
    },
    {
      "cell_type": "markdown",
      "metadata": {
        "id": "H8Sy0Zb3_Q2N",
        "colab_type": "text"
      },
      "source": [
        "# OLS "
      ]
    },
    {
      "cell_type": "markdown",
      "metadata": {
        "id": "9CnhsxjW2K4O",
        "colab_type": "text"
      },
      "source": [
        "Statsmodels es la librería de operaciones estadísticas que usaremos para estimar OLS"
      ]
    },
    {
      "cell_type": "code",
      "metadata": {
        "id": "qoIeLvSTkMed",
        "colab_type": "code",
        "colab": {
          "base_uri": "https://localhost:8080/",
          "height": 52
        },
        "outputId": "c5b495fa-8373-41e2-e031-50e34bf30057"
      },
      "source": [
        "import statsmodels.api as sm"
      ],
      "execution_count": 29,
      "outputs": [
        {
          "output_type": "stream",
          "text": [
            "/usr/local/lib/python3.6/dist-packages/statsmodels/tools/_testing.py:19: FutureWarning: pandas.util.testing is deprecated. Use the functions in the public API at pandas.testing instead.\n",
            "  import pandas.util.testing as tm\n"
          ],
          "name": "stderr"
        }
      ]
    },
    {
      "cell_type": "markdown",
      "metadata": {
        "id": "QJmhtgjqoUW2",
        "colab_type": "text"
      },
      "source": [
        "Nuestro modelo a explorar es el siguiente:"
      ]
    },
    {
      "cell_type": "markdown",
      "metadata": {
        "id": "B5QbC7SGocxS",
        "colab_type": "text"
      },
      "source": [
        "$price_i=\\beta_0+ \\beta_1*bedrooms_i+\\epsilon_i$"
      ]
    },
    {
      "cell_type": "markdown",
      "metadata": {
        "id": "N_P7emX8nPNV",
        "colab_type": "text"
      },
      "source": [
        "Estimar la regresion va a requerir varios pasos:\n",
        "\n",
        "1. Asegurarme de que los datos (las filas en cuestion) que voy a estar usando no tienen datos missing en ninguna variable. \n",
        "2. Separar a la variable a explicar (dependiente) de la(s) explicativas\n",
        "3. Si la regresión va a tener una constante, como en nuestro caso, agregar a las variables explicativas una columna de 1s (unos).\n",
        "\n",
        "\n",
        "4. Asignar a una variable el nombre del modelo y las especificaciones del mismo\n",
        "5. Correr el modelo con el metodo fit() y guardar los resultados en otra variable\n",
        "6. Imprimir los resultados en pantalla (imprimir los contenidos de la variable del paso anterior)"
      ]
    },
    {
      "cell_type": "markdown",
      "metadata": {
        "id": "NFv4Quiwo1PQ",
        "colab_type": "text"
      },
      "source": [
        "### 1. Asegurarme de que los datos (las filas en cuestion) que voy a estar usando no tienen datos missing en ninguna variable\n",
        "\n",
        "Me quedo primero solo con los datos que me interesan en uno dataframe.\n",
        "Luego el metodo dropna() me permite eliminar los missing.\n",
        "El resultado lo guardo bajo el el mismo nombre de dataframe datos solo para comodidad"
      ]
    },
    {
      "cell_type": "code",
      "metadata": {
        "id": "5bKwd4qZ8xSi",
        "colab_type": "code",
        "colab": {}
      },
      "source": [
        "datos=departamentos[['price', 'bedrooms']]"
      ],
      "execution_count": 0,
      "outputs": []
    },
    {
      "cell_type": "code",
      "metadata": {
        "id": "AUjumMJC96tY",
        "colab_type": "code",
        "colab": {}
      },
      "source": [
        "# el metodo dropna() me permite eliminar las filas que tienen algun valor missing\n",
        "datos=datos.dropna()"
      ],
      "execution_count": 0,
      "outputs": []
    },
    {
      "cell_type": "code",
      "metadata": {
        "id": "u7TpJAPb-Q2S",
        "colab_type": "code",
        "colab": {
          "base_uri": "https://localhost:8080/",
          "height": 417
        },
        "outputId": "10845245-e477-4a0f-8846-17202ae3f3a9"
      },
      "source": [
        "datos"
      ],
      "execution_count": 38,
      "outputs": [
        {
          "output_type": "execute_result",
          "data": {
            "text/html": [
              "<div>\n",
              "<style scoped>\n",
              "    .dataframe tbody tr th:only-of-type {\n",
              "        vertical-align: middle;\n",
              "    }\n",
              "\n",
              "    .dataframe tbody tr th {\n",
              "        vertical-align: top;\n",
              "    }\n",
              "\n",
              "    .dataframe thead th {\n",
              "        text-align: right;\n",
              "    }\n",
              "</style>\n",
              "<table border=\"1\" class=\"dataframe\">\n",
              "  <thead>\n",
              "    <tr style=\"text-align: right;\">\n",
              "      <th></th>\n",
              "      <th>price</th>\n",
              "      <th>bedrooms</th>\n",
              "    </tr>\n",
              "  </thead>\n",
              "  <tbody>\n",
              "    <tr>\n",
              "      <th>0</th>\n",
              "      <td>18000</td>\n",
              "      <td>1.0</td>\n",
              "    </tr>\n",
              "    <tr>\n",
              "      <th>2</th>\n",
              "      <td>18500</td>\n",
              "      <td>2.0</td>\n",
              "    </tr>\n",
              "    <tr>\n",
              "      <th>4</th>\n",
              "      <td>18500</td>\n",
              "      <td>1.0</td>\n",
              "    </tr>\n",
              "    <tr>\n",
              "      <th>43</th>\n",
              "      <td>15000</td>\n",
              "      <td>1.0</td>\n",
              "    </tr>\n",
              "    <tr>\n",
              "      <th>45</th>\n",
              "      <td>13000</td>\n",
              "      <td>1.0</td>\n",
              "    </tr>\n",
              "    <tr>\n",
              "      <th>...</th>\n",
              "      <td>...</td>\n",
              "      <td>...</td>\n",
              "    </tr>\n",
              "    <tr>\n",
              "      <th>50647</th>\n",
              "      <td>10500</td>\n",
              "      <td>2.0</td>\n",
              "    </tr>\n",
              "    <tr>\n",
              "      <th>50648</th>\n",
              "      <td>17500</td>\n",
              "      <td>1.0</td>\n",
              "    </tr>\n",
              "    <tr>\n",
              "      <th>50650</th>\n",
              "      <td>40000</td>\n",
              "      <td>4.0</td>\n",
              "    </tr>\n",
              "    <tr>\n",
              "      <th>50651</th>\n",
              "      <td>4500</td>\n",
              "      <td>1.0</td>\n",
              "    </tr>\n",
              "    <tr>\n",
              "      <th>50652</th>\n",
              "      <td>13000</td>\n",
              "      <td>2.0</td>\n",
              "    </tr>\n",
              "  </tbody>\n",
              "</table>\n",
              "<p>27879 rows × 2 columns</p>\n",
              "</div>"
            ],
            "text/plain": [
              "       price  bedrooms\n",
              "0      18000       1.0\n",
              "2      18500       2.0\n",
              "4      18500       1.0\n",
              "43     15000       1.0\n",
              "45     13000       1.0\n",
              "...      ...       ...\n",
              "50647  10500       2.0\n",
              "50648  17500       1.0\n",
              "50650  40000       4.0\n",
              "50651   4500       1.0\n",
              "50652  13000       2.0\n",
              "\n",
              "[27879 rows x 2 columns]"
            ]
          },
          "metadata": {
            "tags": []
          },
          "execution_count": 38
        }
      ]
    },
    {
      "cell_type": "markdown",
      "metadata": {
        "id": "jUQFgoVoprwG",
        "colab_type": "text"
      },
      "source": [
        "2. Separar a la variable a explicar (dependiente) de la(s) explicativas"
      ]
    },
    {
      "cell_type": "code",
      "metadata": {
        "id": "zcQK2FxB-TwK",
        "colab_type": "code",
        "colab": {}
      },
      "source": [
        "Y=datos.price\n",
        "X=datos.bedrooms"
      ],
      "execution_count": 0,
      "outputs": []
    },
    {
      "cell_type": "markdown",
      "metadata": {
        "id": "JUXdSgtj1ri_",
        "colab_type": "text"
      },
      "source": [
        "3. Si la regresión va a tener una constante, como en nuestro caso, agregar a las variables explicativas una columna de 1s (unos). En terminos de nuestra ecuacion equivale a :\n",
        "\n",
        "$price_i=\\beta_0*1+ \\beta_1*bedrooms_i+\\epsilon_i$\n",
        "\n",
        "Si bien podriamos definir una variable de 1s, uso directamente un método de sm que sirve para eso.\n"
      ]
    },
    {
      "cell_type": "code",
      "metadata": {
        "id": "nlwY2N0V-lwK",
        "colab_type": "code",
        "colab": {}
      },
      "source": [
        "X=sm.add_constant(X)"
      ],
      "execution_count": 0,
      "outputs": []
    },
    {
      "cell_type": "code",
      "metadata": {
        "id": "SEDJz7ae_OUV",
        "colab_type": "code",
        "colab": {
          "base_uri": "https://localhost:8080/",
          "height": 417
        },
        "outputId": "4438edf7-287b-4889-922a-19afc539fa8c"
      },
      "source": [
        "X"
      ],
      "execution_count": 42,
      "outputs": [
        {
          "output_type": "execute_result",
          "data": {
            "text/html": [
              "<div>\n",
              "<style scoped>\n",
              "    .dataframe tbody tr th:only-of-type {\n",
              "        vertical-align: middle;\n",
              "    }\n",
              "\n",
              "    .dataframe tbody tr th {\n",
              "        vertical-align: top;\n",
              "    }\n",
              "\n",
              "    .dataframe thead th {\n",
              "        text-align: right;\n",
              "    }\n",
              "</style>\n",
              "<table border=\"1\" class=\"dataframe\">\n",
              "  <thead>\n",
              "    <tr style=\"text-align: right;\">\n",
              "      <th></th>\n",
              "      <th>const</th>\n",
              "      <th>bedrooms</th>\n",
              "    </tr>\n",
              "  </thead>\n",
              "  <tbody>\n",
              "    <tr>\n",
              "      <th>0</th>\n",
              "      <td>1.0</td>\n",
              "      <td>1.0</td>\n",
              "    </tr>\n",
              "    <tr>\n",
              "      <th>2</th>\n",
              "      <td>1.0</td>\n",
              "      <td>2.0</td>\n",
              "    </tr>\n",
              "    <tr>\n",
              "      <th>4</th>\n",
              "      <td>1.0</td>\n",
              "      <td>1.0</td>\n",
              "    </tr>\n",
              "    <tr>\n",
              "      <th>43</th>\n",
              "      <td>1.0</td>\n",
              "      <td>1.0</td>\n",
              "    </tr>\n",
              "    <tr>\n",
              "      <th>45</th>\n",
              "      <td>1.0</td>\n",
              "      <td>1.0</td>\n",
              "    </tr>\n",
              "    <tr>\n",
              "      <th>...</th>\n",
              "      <td>...</td>\n",
              "      <td>...</td>\n",
              "    </tr>\n",
              "    <tr>\n",
              "      <th>50647</th>\n",
              "      <td>1.0</td>\n",
              "      <td>2.0</td>\n",
              "    </tr>\n",
              "    <tr>\n",
              "      <th>50648</th>\n",
              "      <td>1.0</td>\n",
              "      <td>1.0</td>\n",
              "    </tr>\n",
              "    <tr>\n",
              "      <th>50650</th>\n",
              "      <td>1.0</td>\n",
              "      <td>4.0</td>\n",
              "    </tr>\n",
              "    <tr>\n",
              "      <th>50651</th>\n",
              "      <td>1.0</td>\n",
              "      <td>1.0</td>\n",
              "    </tr>\n",
              "    <tr>\n",
              "      <th>50652</th>\n",
              "      <td>1.0</td>\n",
              "      <td>2.0</td>\n",
              "    </tr>\n",
              "  </tbody>\n",
              "</table>\n",
              "<p>27879 rows × 2 columns</p>\n",
              "</div>"
            ],
            "text/plain": [
              "       const  bedrooms\n",
              "0        1.0       1.0\n",
              "2        1.0       2.0\n",
              "4        1.0       1.0\n",
              "43       1.0       1.0\n",
              "45       1.0       1.0\n",
              "...      ...       ...\n",
              "50647    1.0       2.0\n",
              "50648    1.0       1.0\n",
              "50650    1.0       4.0\n",
              "50651    1.0       1.0\n",
              "50652    1.0       2.0\n",
              "\n",
              "[27879 rows x 2 columns]"
            ]
          },
          "metadata": {
            "tags": []
          },
          "execution_count": 42
        }
      ]
    },
    {
      "cell_type": "markdown",
      "metadata": {
        "id": "AbsDvPW7qc7Q",
        "colab_type": "text"
      },
      "source": [
        "4. Asignar a una variable el nombre del modelo y las especificaciones del mismo\n",
        "En este caso guardo bajo el nombre modelo al metodo OLS donde especifico cuales son las variables en cuestion."
      ]
    },
    {
      "cell_type": "code",
      "metadata": {
        "id": "EEhoc8Zc_TGt",
        "colab_type": "code",
        "colab": {}
      },
      "source": [
        "modelo=sm.OLS(Y,X)"
      ],
      "execution_count": 0,
      "outputs": []
    },
    {
      "cell_type": "markdown",
      "metadata": {
        "id": "CcfjEsurqtjC",
        "colab_type": "text"
      },
      "source": [
        "5. Correr el modelo con el metodo fit() y guardar los resultados en otra variable"
      ]
    },
    {
      "cell_type": "code",
      "metadata": {
        "id": "_qDbxhaM_xUr",
        "colab_type": "code",
        "colab": {}
      },
      "source": [
        "resultados=modelo.fit()"
      ],
      "execution_count": 0,
      "outputs": []
    },
    {
      "cell_type": "markdown",
      "metadata": {
        "id": "7laQs5RXq4oE",
        "colab_type": "text"
      },
      "source": [
        "Imprimir los resultados en pantalla (imprimir los contenidos de la variable del paso anterior)"
      ]
    },
    {
      "cell_type": "code",
      "metadata": {
        "id": "eI-qG_9KAD2Q",
        "colab_type": "code",
        "colab": {
          "base_uri": "https://localhost:8080/",
          "height": 423
        },
        "outputId": "90a4de17-fbcf-4856-f7c9-0abcb925ddca"
      },
      "source": [
        "resultados.summary()"
      ],
      "execution_count": 47,
      "outputs": [
        {
          "output_type": "execute_result",
          "data": {
            "text/html": [
              "<table class=\"simpletable\">\n",
              "<caption>OLS Regression Results</caption>\n",
              "<tr>\n",
              "  <th>Dep. Variable:</th>          <td>price</td>      <th>  R-squared:         </th>  <td>   0.049</td>  \n",
              "</tr>\n",
              "<tr>\n",
              "  <th>Model:</th>                   <td>OLS</td>       <th>  Adj. R-squared:    </th>  <td>   0.049</td>  \n",
              "</tr>\n",
              "<tr>\n",
              "  <th>Method:</th>             <td>Least Squares</td>  <th>  F-statistic:       </th>  <td>   1443.</td>  \n",
              "</tr>\n",
              "<tr>\n",
              "  <th>Date:</th>             <td>Fri, 12 Jun 2020</td> <th>  Prob (F-statistic):</th>  <td>7.68e-308</td> \n",
              "</tr>\n",
              "<tr>\n",
              "  <th>Time:</th>                 <td>00:49:14</td>     <th>  Log-Likelihood:    </th> <td>-3.0876e+05</td>\n",
              "</tr>\n",
              "<tr>\n",
              "  <th>No. Observations:</th>      <td> 27879</td>      <th>  AIC:               </th>  <td>6.175e+05</td> \n",
              "</tr>\n",
              "<tr>\n",
              "  <th>Df Residuals:</th>          <td> 27877</td>      <th>  BIC:               </th>  <td>6.175e+05</td> \n",
              "</tr>\n",
              "<tr>\n",
              "  <th>Df Model:</th>              <td>     1</td>      <th>                     </th>      <td> </td>     \n",
              "</tr>\n",
              "<tr>\n",
              "  <th>Covariance Type:</th>      <td>nonrobust</td>    <th>                     </th>      <td> </td>     \n",
              "</tr>\n",
              "</table>\n",
              "<table class=\"simpletable\">\n",
              "<tr>\n",
              "      <td></td>        <th>coef</th>     <th>std err</th>      <th>t</th>      <th>P>|t|</th>  <th>[0.025</th>    <th>0.975]</th>  \n",
              "</tr>\n",
              "<tr>\n",
              "  <th>const</th>    <td> 1.151e+04</td> <td>  205.145</td> <td>   56.088</td> <td> 0.000</td> <td> 1.11e+04</td> <td> 1.19e+04</td>\n",
              "</tr>\n",
              "<tr>\n",
              "  <th>bedrooms</th> <td> 4253.5067</td> <td>  111.984</td> <td>   37.983</td> <td> 0.000</td> <td> 4034.013</td> <td> 4473.000</td>\n",
              "</tr>\n",
              "</table>\n",
              "<table class=\"simpletable\">\n",
              "<tr>\n",
              "  <th>Omnibus:</th>       <td>39834.368</td> <th>  Durbin-Watson:     </th>   <td>   1.851</td>  \n",
              "</tr>\n",
              "<tr>\n",
              "  <th>Prob(Omnibus):</th>  <td> 0.000</td>   <th>  Jarque-Bera (JB):  </th> <td>59814269.062</td>\n",
              "</tr>\n",
              "<tr>\n",
              "  <th>Skew:</th>           <td> 7.918</td>   <th>  Prob(JB):          </th>   <td>    0.00</td>  \n",
              "</tr>\n",
              "<tr>\n",
              "  <th>Kurtosis:</th>       <td>229.365</td>  <th>  Cond. No.          </th>   <td>    5.02</td>  \n",
              "</tr>\n",
              "</table><br/><br/>Warnings:<br/>[1] Standard Errors assume that the covariance matrix of the errors is correctly specified."
            ],
            "text/plain": [
              "<class 'statsmodels.iolib.summary.Summary'>\n",
              "\"\"\"\n",
              "                            OLS Regression Results                            \n",
              "==============================================================================\n",
              "Dep. Variable:                  price   R-squared:                       0.049\n",
              "Model:                            OLS   Adj. R-squared:                  0.049\n",
              "Method:                 Least Squares   F-statistic:                     1443.\n",
              "Date:                Fri, 12 Jun 2020   Prob (F-statistic):          7.68e-308\n",
              "Time:                        00:49:14   Log-Likelihood:            -3.0876e+05\n",
              "No. Observations:               27879   AIC:                         6.175e+05\n",
              "Df Residuals:                   27877   BIC:                         6.175e+05\n",
              "Df Model:                           1                                         \n",
              "Covariance Type:            nonrobust                                         \n",
              "==============================================================================\n",
              "                 coef    std err          t      P>|t|      [0.025      0.975]\n",
              "------------------------------------------------------------------------------\n",
              "const       1.151e+04    205.145     56.088      0.000    1.11e+04    1.19e+04\n",
              "bedrooms    4253.5067    111.984     37.983      0.000    4034.013    4473.000\n",
              "==============================================================================\n",
              "Omnibus:                    39834.368   Durbin-Watson:                   1.851\n",
              "Prob(Omnibus):                  0.000   Jarque-Bera (JB):         59814269.062\n",
              "Skew:                           7.918   Prob(JB):                         0.00\n",
              "Kurtosis:                     229.365   Cond. No.                         5.02\n",
              "==============================================================================\n",
              "\n",
              "Warnings:\n",
              "[1] Standard Errors assume that the covariance matrix of the errors is correctly specified.\n",
              "\"\"\""
            ]
          },
          "metadata": {
            "tags": []
          },
          "execution_count": 47
        }
      ]
    },
    {
      "cell_type": "markdown",
      "metadata": {
        "id": "p5kw-xTV16gB",
        "colab_type": "text"
      },
      "source": [
        "Si usamos print de la siguiente forma, los resultados se imprimen mejor:"
      ]
    },
    {
      "cell_type": "code",
      "metadata": {
        "id": "qtgAzqjamvrB",
        "colab_type": "code",
        "outputId": "1035a7da-3027-4ebe-810e-92fc88c64c78",
        "colab": {
          "base_uri": "https://localhost:8080/",
          "height": 457
        }
      },
      "source": [
        "# mostramos los resultados\n",
        "print(results.summary())"
      ],
      "execution_count": 0,
      "outputs": [
        {
          "output_type": "stream",
          "text": [
            "                            OLS Regression Results                            \n",
            "==============================================================================\n",
            "Dep. Variable:                  price   R-squared:                       0.049\n",
            "Model:                            OLS   Adj. R-squared:                  0.049\n",
            "Method:                 Least Squares   F-statistic:                     1443.\n",
            "Date:                Wed, 10 Jun 2020   Prob (F-statistic):          7.68e-308\n",
            "Time:                        14:38:28   Log-Likelihood:            -3.0876e+05\n",
            "No. Observations:               27879   AIC:                         6.175e+05\n",
            "Df Residuals:                   27877   BIC:                         6.175e+05\n",
            "Df Model:                           1                                         \n",
            "Covariance Type:            nonrobust                                         \n",
            "==============================================================================\n",
            "                 coef    std err          t      P>|t|      [0.025      0.975]\n",
            "------------------------------------------------------------------------------\n",
            "const       1.151e+04    205.145     56.088      0.000    1.11e+04    1.19e+04\n",
            "bedrooms    4253.5067    111.984     37.983      0.000    4034.013    4473.000\n",
            "==============================================================================\n",
            "Omnibus:                    39834.368   Durbin-Watson:                   1.851\n",
            "Prob(Omnibus):                  0.000   Jarque-Bera (JB):         59814269.062\n",
            "Skew:                           7.918   Prob(JB):                         0.00\n",
            "Kurtosis:                     229.365   Cond. No.                         5.02\n",
            "==============================================================================\n",
            "\n",
            "Warnings:\n",
            "[1] Standard Errors assume that the covariance matrix of the errors is correctly specified.\n"
          ],
          "name": "stdout"
        }
      ]
    },
    {
      "cell_type": "markdown",
      "metadata": {
        "id": "qeYPWdOaAwjD",
        "colab_type": "text"
      },
      "source": [
        "Nuestro resultado es:\n",
        "precio= 11500+ 4253* bedrooms"
      ]
    },
    {
      "cell_type": "markdown",
      "metadata": {
        "id": "MG4B4_iFrJ5U",
        "colab_type": "text"
      },
      "source": [
        "## Graficando"
      ]
    },
    {
      "cell_type": "markdown",
      "metadata": {
        "id": "hqy13i7ZtXZV",
        "colab_type": "text"
      },
      "source": [
        "El (geo)dataframe tiene algunos metodos que permiten graficar directamente"
      ]
    },
    {
      "cell_type": "code",
      "metadata": {
        "id": "uRsjNu2G9lMJ",
        "colab_type": "code",
        "outputId": "b65fa389-8f4d-4601-a4cb-2e6372f2337d",
        "colab": {
          "base_uri": "https://localhost:8080/",
          "height": 296
        }
      },
      "source": [
        "datos.plot.scatter(x='bedrooms',  y='price')"
      ],
      "execution_count": 49,
      "outputs": [
        {
          "output_type": "execute_result",
          "data": {
            "text/plain": [
              "<matplotlib.axes._subplots.AxesSubplot at 0x7f2d34e726d8>"
            ]
          },
          "metadata": {
            "tags": []
          },
          "execution_count": 49
        },
        {
          "output_type": "display_data",
          "data": {
            "image/png": "[encoded data removed]",
            "text/plain": [
              "<Figure size 432x288 with 1 Axes>"
            ]
          },
          "metadata": {
            "tags": [],
            "needs_background": "light"
          }
        }
      ]
    },
    {
      "cell_type": "markdown",
      "metadata": {
        "id": "243MRDB1-eBb",
        "colab_type": "text"
      },
      "source": [
        "Scatter plot \n"
      ]
    },
    {
      "cell_type": "code",
      "metadata": {
        "id": "QmSsnwG1-Ei6",
        "colab_type": "code",
        "outputId": "934a835e-3eda-4c67-bad6-13126c5231d5",
        "colab": {
          "base_uri": "https://localhost:8080/",
          "height": 297
        }
      },
      "source": [
        "variables.loc[variables['bedrooms']>0].plot.scatter(x='bedrooms',  y='price')"
      ],
      "execution_count": 0,
      "outputs": [
        {
          "output_type": "execute_result",
          "data": {
            "text/plain": [
              "<matplotlib.axes._subplots.AxesSubplot at 0x7f6fd1729b00>"
            ]
          },
          "metadata": {
            "tags": []
          },
          "execution_count": 20
        },
        {
          "output_type": "display_data",
          "data": {
            "image/png": "[encoded data removed]",
            "text/plain": [
              "<Figure size 432x288 with 1 Axes>"
            ]
          },
          "metadata": {
            "tags": [],
            "needs_background": "light"
          }
        }
      ]
    },
    {
      "cell_type": "markdown",
      "metadata": {
        "id": "uMA3JZMStfKk",
        "colab_type": "text"
      },
      "source": [
        "Para hacer otros graficos más complejos vamos a usar otras librerias como matplotlib"
      ]
    },
    {
      "cell_type": "code",
      "metadata": {
        "id": "n_dgi2pDAVbS",
        "colab_type": "code",
        "colab": {}
      },
      "source": [
        "ypred = results.predict(X)"
      ],
      "execution_count": 0,
      "outputs": []
    },
    {
      "cell_type": "code",
      "metadata": {
        "id": "h9DvHruYAqij",
        "colab_type": "code",
        "outputId": "1482a09f-bfd2-41b5-9f60-48fad4340b48",
        "colab": {
          "base_uri": "https://localhost:8080/",
          "height": 265
        }
      },
      "source": [
        "import matplotlib.pyplot as plt\n",
        "\n",
        "fig, ax = plt.subplots()\n",
        "ax.plot(variables['bedrooms'], variables['price'], 'o', label=\"Data\")\n",
        "ax.plot(variables['bedrooms'], ypred, 'b-', label=\"Prediction\")\n",
        "#ax.plot(np.hstack((x1, x1n)), np.hstack((ypred, ynewpred)), 'r', label=\"OLS prediction\")\n",
        "ax.legend(loc=\"best\");"
      ],
      "execution_count": 0,
      "outputs": [
        {
          "output_type": "display_data",
          "data": {
            "image/png": "[encoded data removed]",
            "text/plain": [
              "<Figure size 432x288 with 1 Axes>"
            ]
          },
          "metadata": {
            "tags": [],
            "needs_background": "light"
          }
        }
      ]
    }
  ]
}