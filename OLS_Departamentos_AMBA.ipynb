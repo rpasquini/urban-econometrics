{
  "nbformat": 4,
  "nbformat_minor": 0,
  "metadata": {
    "colab": {
      "name": "OLS Departamentos AMBA.ipynb",
      "provenance": [],
      "toc_visible": true,
      "authorship_tag": "ABX9TyMYms2x4JWC2fV+gTGLKRJg",
      "include_colab_link": true
    },
    "kernelspec": {
      "name": "python3",
      "display_name": "Python 3"
    }
  },
  "cells": [
    {
      "cell_type": "markdown",
      "metadata": {
        "id": "view-in-github",
        "colab_type": "text"
      },
      "source": [
        "<a href=\"https://colab.research.google.com/github/rpasquini/urban-econometrics/blob/master/OLS_Departamentos_AMBA.ipynb\" target=\"_parent\"><img src=\"https://colab.research.google.com/assets/colab-badge.svg\" alt=\"Open In Colab\"/></a>"
      ]
    },
    {
      "cell_type": "markdown",
      "metadata": {
        "id": "2pjrWWN2Hq6x"
      },
      "source": [
        "Autor: Ricardo Pasquini 2021\n",
        "rpasquini@utdt.edu\n"
      ]
    },
    {
      "cell_type": "markdown",
      "metadata": {
        "id": "3dudLE3CrKxs"
      },
      "source": [
        "# Introducción\n",
        "En este notebook introduciremos algunas de las principales librerías con las que vamos a estar trabajando. Nuestro objetivo inicial es estimar un modelo de regresión simple utilizando datos de alquileres de 2019.\n",
        " "
      ]
    },
    {
      "cell_type": "markdown",
      "metadata": {
        "id": "8jStxxotyK78"
      },
      "source": [
        "## Donde estamos\n",
        "\n",
        "Nuestro ambiente de trabajo ahora es un *notebook* que permite correr codigo, procesar datos, imprimir gráficos, etc. Estos notebooks en general se conocen como \"Jupyter notebooks\" y tienen como particularidad que el  entorno visual en el que trabajan vive en el navegador. En este momento además, el notebook con el que trabajan \"vive en la nube\" de Google Colaboratory. Utiliza recursos de la nube de Google para procesar los datos, etc. Para trabajar con nuestros propios datos tendremos que hacerlos accesibles a Google Colab (subiendo los datos al Colab o subiendo los datos a otro servidor al cual las librerias que usemos puedan acceder)\n",
        "\n",
        "Comentarios relacionados:\n",
        "\n",
        "- Como dijimos el notebook es solo un entorno visual. En este notebook vamos a trabajar con librerias de análisis cuantitativo construidas sobre el lenguaje Python. Los notebooks de Colab tambien pueden correr código de R.\n",
        "- Trabajar en la nube \"Colab\" es conveniente para una clase. También es posible (y a veces necesario) trabajar con un Jupyter Notebook instalado \"localmente\" en sus computadoras.\n",
        "\n",
        "- El ambiente virtual provisto por Google Colab va a borrar todo el contenido que se aloje en la memoria virtual después de un rato de inactividad. Lo unico que se mantiene es lo que está escrito en el notebook (el codigo y el texto explicativo). Esto implica que el notebook debe contener todo el codigo desde la carga de los datos hasta su resultado final para que pueda ser reproducido en cualquier momento.  \n"
      ]
    },
    {
      "cell_type": "markdown",
      "metadata": {
        "id": "lwDlB9JL1B27"
      },
      "source": [
        "# Librerías con las que vamos a trabajar\n",
        "\n",
        "Vamos a arrancar con estas:\n",
        "\n",
        "- Pandas: Una de las principales librerías para trabajar y manipular datos en Python en forma tabular (llamados **dataframes** y usualmente abreviados **df**) \n",
        "- Geopandas: Una libreria que busca ser similar a Pandas pero adaptada adicionalmente a  datos con una dimensión geográfica. A los objetos de geopandas los llamamos **geodataframes**.\n",
        "- StatsModels: Una librería para procesamientos estadísticos.\n",
        "\n",
        "Al respecto del uso de librerías, además debemos tener en cuenta:\n",
        "\n",
        "- En general para usar las librerías tienen que estar *instaladas* y además *importadas * al ambiente de trabajo en el que estemos.\n",
        "- Los Notebooks de Colab vienen con algunas librerías preinstaladas. Solo será necesario importarlas. Para las que no, será necesario instalarlas ( usando un comando de instalacion llamado *pip*).\n"
      ]
    },
    {
      "cell_type": "markdown",
      "metadata": {
        "id": "IolxcRA36t_w"
      },
      "source": [
        "## Instalamos e importamos geopandas"
      ]
    },
    {
      "cell_type": "code",
      "metadata": {
        "id": "gx11uGlqHlXN",
        "colab": {
          "base_uri": "https://localhost:8080/"
        },
        "outputId": "9de41e78-5512-47e3-8493-ca3739b7ad81"
      },
      "source": [
        "!pip install geopandas"
      ],
      "execution_count": 1,
      "outputs": [
        {
          "output_type": "stream",
          "text": [
            "Requirement already satisfied: geopandas in /usr/local/lib/python3.7/dist-packages (0.9.0)\n",
            "Requirement already satisfied: shapely>=1.6 in /usr/local/lib/python3.7/dist-packages (from geopandas) (1.7.1)\n",
            "Requirement already satisfied: pandas>=0.24.0 in /usr/local/lib/python3.7/dist-packages (from geopandas) (1.1.5)\n",
            "Requirement already satisfied: pyproj>=2.2.0 in /usr/local/lib/python3.7/dist-packages (from geopandas) (3.1.0)\n",
            "Requirement already satisfied: fiona>=1.8 in /usr/local/lib/python3.7/dist-packages (from geopandas) (1.8.20)\n",
            "Requirement already satisfied: pytz>=2017.2 in /usr/local/lib/python3.7/dist-packages (from pandas>=0.24.0->geopandas) (2018.9)\n",
            "Requirement already satisfied: numpy>=1.15.4 in /usr/local/lib/python3.7/dist-packages (from pandas>=0.24.0->geopandas) (1.19.5)\n",
            "Requirement already satisfied: python-dateutil>=2.7.3 in /usr/local/lib/python3.7/dist-packages (from pandas>=0.24.0->geopandas) (2.8.1)\n",
            "Requirement already satisfied: certifi in /usr/local/lib/python3.7/dist-packages (from pyproj>=2.2.0->geopandas) (2020.12.5)\n",
            "Requirement already satisfied: attrs>=17 in /usr/local/lib/python3.7/dist-packages (from fiona>=1.8->geopandas) (21.2.0)\n",
            "Requirement already satisfied: click>=4.0 in /usr/local/lib/python3.7/dist-packages (from fiona>=1.8->geopandas) (7.1.2)\n",
            "Requirement already satisfied: click-plugins>=1.0 in /usr/local/lib/python3.7/dist-packages (from fiona>=1.8->geopandas) (1.1.1)\n",
            "Requirement already satisfied: setuptools in /usr/local/lib/python3.7/dist-packages (from fiona>=1.8->geopandas) (57.0.0)\n",
            "Requirement already satisfied: cligj>=0.5 in /usr/local/lib/python3.7/dist-packages (from fiona>=1.8->geopandas) (0.7.2)\n",
            "Requirement already satisfied: six>=1.7 in /usr/local/lib/python3.7/dist-packages (from fiona>=1.8->geopandas) (1.15.0)\n",
            "Requirement already satisfied: munch in /usr/local/lib/python3.7/dist-packages (from fiona>=1.8->geopandas) (2.5.0)\n"
          ],
          "name": "stdout"
        }
      ]
    },
    {
      "cell_type": "markdown",
      "metadata": {
        "id": "gLBowd4z63WV"
      },
      "source": [
        "Ahora importamos geopandas. Una vez importada, la libreria en cuestion vive en el nombre de la variable que lleva su nombre. Podemos ademas cambiar ese nombre al momento de la importacion usando ***as***"
      ]
    },
    {
      "cell_type": "code",
      "metadata": {
        "id": "ILipZ9mqH1pQ"
      },
      "source": [
        "import geopandas as gpd"
      ],
      "execution_count": 2,
      "outputs": []
    },
    {
      "cell_type": "markdown",
      "metadata": {
        "id": "jgAYUIpjHaKu"
      },
      "source": [
        "La fuente de los datos es Properati [properati.com.ar/data/\n",
        "](https://properati.com.ar/data/). \n",
        "Fue descargada haciendo un pedido a su base de datos disponible en Google Big Query\n",
        "\n"
      ]
    },
    {
      "cell_type": "markdown",
      "metadata": {
        "id": "BPo1_6_X7dlj"
      },
      "source": [
        "El método GeoDataFrame.from_file me permite levantar datos desde un archivo y convertirlos en un **GeoDataFrame**"
      ]
    },
    {
      "cell_type": "code",
      "metadata": {
        "id": "qFmIW55RH73q"
      },
      "source": [
        "departamentos=gpd.GeoDataFrame.from_file(\"https://github.com/rpasquini/urban-econometrics/blob/master/data/departamentos2019amba.zip?raw=true\")"
      ],
      "execution_count": 3,
      "outputs": []
    },
    {
      "cell_type": "code",
      "metadata": {
        "id": "tZ7qiICQxBPp",
        "colab": {
          "base_uri": "https://localhost:8080/",
          "height": 927
        },
        "outputId": "67689dfa-6c0f-46f9-ea75-7cbbbd8bc358"
      },
      "source": [
        "departamentos"
      ],
      "execution_count": 4,
      "outputs": [
        {
          "output_type": "execute_result",
          "data": {
            "text/html": [
              "<div>\n",
              "<style scoped>\n",
              "    .dataframe tbody tr th:only-of-type {\n",
              "        vertical-align: middle;\n",
              "    }\n",
              "\n",
              "    .dataframe tbody tr th {\n",
              "        vertical-align: top;\n",
              "    }\n",
              "\n",
              "    .dataframe thead th {\n",
              "        text-align: right;\n",
              "    }\n",
              "</style>\n",
              "<table border=\"1\" class=\"dataframe\">\n",
              "  <thead>\n",
              "    <tr style=\"text-align: right;\">\n",
              "      <th></th>\n",
              "      <th>bathrooms</th>\n",
              "      <th>bedrooms</th>\n",
              "      <th>country</th>\n",
              "      <th>created_on</th>\n",
              "      <th>currency</th>\n",
              "      <th>descriptio</th>\n",
              "      <th>developmen</th>\n",
              "      <th>end_date</th>\n",
              "      <th>index</th>\n",
              "      <th>l1</th>\n",
              "      <th>l2</th>\n",
              "      <th>l3</th>\n",
              "      <th>l4</th>\n",
              "      <th>l5</th>\n",
              "      <th>l6</th>\n",
              "      <th>lat</th>\n",
              "      <th>lon</th>\n",
              "      <th>operation</th>\n",
              "      <th>operation_</th>\n",
              "      <th>price</th>\n",
              "      <th>price_peri</th>\n",
              "      <th>rooms</th>\n",
              "      <th>start_date</th>\n",
              "      <th>surface_co</th>\n",
              "      <th>surface_to</th>\n",
              "      <th>title</th>\n",
              "      <th>type</th>\n",
              "      <th>type_i18n</th>\n",
              "      <th>geometry</th>\n",
              "    </tr>\n",
              "  </thead>\n",
              "  <tbody>\n",
              "    <tr>\n",
              "      <th>0</th>\n",
              "      <td>1.0</td>\n",
              "      <td>1.0</td>\n",
              "      <td>Argentina</td>\n",
              "      <td>2019-09-26</td>\n",
              "      <td>ARS</td>\n",
              "      <td>b'CODIGO: 1819-CRI180 ubicado en: Av. Callao 1...</td>\n",
              "      <td>None</td>\n",
              "      <td>2019-10-10</td>\n",
              "      <td>0</td>\n",
              "      <td>Argentina</td>\n",
              "      <td>Capital Federal</td>\n",
              "      <td>Recoleta</td>\n",
              "      <td>None</td>\n",
              "      <td>None</td>\n",
              "      <td>None</td>\n",
              "      <td>-34.588601</td>\n",
              "      <td>-58.388285</td>\n",
              "      <td>Alquiler</td>\n",
              "      <td>Alquiler</td>\n",
              "      <td>18000</td>\n",
              "      <td>Mensual</td>\n",
              "      <td>NaN</td>\n",
              "      <td>2019-09-26</td>\n",
              "      <td>52</td>\n",
              "      <td>58</td>\n",
              "      <td>b'Recoleta. Av. Callao y Av. Alvear. Piso alto...</td>\n",
              "      <td>Departamento</td>\n",
              "      <td>Departamento</td>\n",
              "      <td>POINT (106827.294 104558.628)</td>\n",
              "    </tr>\n",
              "    <tr>\n",
              "      <th>1</th>\n",
              "      <td>3.0</td>\n",
              "      <td>NaN</td>\n",
              "      <td>Argentina</td>\n",
              "      <td>2019-09-26</td>\n",
              "      <td>ARS</td>\n",
              "      <td>b'Residencia de estudiantes y viajeros. Son do...</td>\n",
              "      <td>None</td>\n",
              "      <td>2019-11-04</td>\n",
              "      <td>1</td>\n",
              "      <td>Argentina</td>\n",
              "      <td>Capital Federal</td>\n",
              "      <td>Balvanera</td>\n",
              "      <td>None</td>\n",
              "      <td>None</td>\n",
              "      <td>None</td>\n",
              "      <td>-34.606939</td>\n",
              "      <td>-58.393496</td>\n",
              "      <td>Alquiler</td>\n",
              "      <td>Alquiler</td>\n",
              "      <td>45000</td>\n",
              "      <td>Mensual</td>\n",
              "      <td>NaN</td>\n",
              "      <td>2019-09-26</td>\n",
              "      <td>219</td>\n",
              "      <td>219</td>\n",
              "      <td>Departamento - Balvanera</td>\n",
              "      <td>Departamento</td>\n",
              "      <td>Departamento</td>\n",
              "      <td>POINT (106347.880 102524.692)</td>\n",
              "    </tr>\n",
              "    <tr>\n",
              "      <th>2</th>\n",
              "      <td>1.0</td>\n",
              "      <td>2.0</td>\n",
              "      <td>Argentina</td>\n",
              "      <td>2019-09-26</td>\n",
              "      <td>ARS</td>\n",
              "      <td>b'CODIGO: 1348-AF021227 ubicado en: Tacuari 26...</td>\n",
              "      <td>None</td>\n",
              "      <td>2019-09-28</td>\n",
              "      <td>2</td>\n",
              "      <td>Argentina</td>\n",
              "      <td>Capital Federal</td>\n",
              "      <td>Monserrat</td>\n",
              "      <td>None</td>\n",
              "      <td>None</td>\n",
              "      <td>None</td>\n",
              "      <td>-34.611352</td>\n",
              "      <td>-58.379205</td>\n",
              "      <td>Alquiler</td>\n",
              "      <td>Alquiler</td>\n",
              "      <td>18500</td>\n",
              "      <td>Mensual</td>\n",
              "      <td>NaN</td>\n",
              "      <td>2019-09-26</td>\n",
              "      <td>61</td>\n",
              "      <td>67</td>\n",
              "      <td>3 ambientes con patio 61 m2 propios bajas expe...</td>\n",
              "      <td>Departamento</td>\n",
              "      <td>Departamento</td>\n",
              "      <td>POINT (107658.254 102034.095)</td>\n",
              "    </tr>\n",
              "    <tr>\n",
              "      <th>3</th>\n",
              "      <td>NaN</td>\n",
              "      <td>NaN</td>\n",
              "      <td>Argentina</td>\n",
              "      <td>2019-09-26</td>\n",
              "      <td>ARS</td>\n",
              "      <td>b'Departamento de dos ambientes a 200 metros d...</td>\n",
              "      <td>None</td>\n",
              "      <td>2020-02-12</td>\n",
              "      <td>4</td>\n",
              "      <td>Argentina</td>\n",
              "      <td>Bs.As. G.B.A. Zona Oeste</td>\n",
              "      <td>La Matanza</td>\n",
              "      <td>San Justo</td>\n",
              "      <td>None</td>\n",
              "      <td>None</td>\n",
              "      <td>-34.680777</td>\n",
              "      <td>-58.553166</td>\n",
              "      <td>Alquiler</td>\n",
              "      <td>Alquiler</td>\n",
              "      <td>11000</td>\n",
              "      <td>Mensual</td>\n",
              "      <td>NaN</td>\n",
              "      <td>2019-09-26</td>\n",
              "      <td>38</td>\n",
              "      <td>38</td>\n",
              "      <td>Departamento - San Justo</td>\n",
              "      <td>Departamento</td>\n",
              "      <td>Departamento</td>\n",
              "      <td>POINT (91709.240 94331.755)</td>\n",
              "    </tr>\n",
              "    <tr>\n",
              "      <th>4</th>\n",
              "      <td>1.0</td>\n",
              "      <td>1.0</td>\n",
              "      <td>Argentina</td>\n",
              "      <td>2019-09-26</td>\n",
              "      <td>ARS</td>\n",
              "      <td>b'CODIGO: 733-1600MARIANOA ubicado en: MARIANO...</td>\n",
              "      <td>None</td>\n",
              "      <td>2019-11-10</td>\n",
              "      <td>5</td>\n",
              "      <td>Argentina</td>\n",
              "      <td>Capital Federal</td>\n",
              "      <td>Villa Urquiza</td>\n",
              "      <td>None</td>\n",
              "      <td>None</td>\n",
              "      <td>None</td>\n",
              "      <td>-34.577983</td>\n",
              "      <td>-58.472185</td>\n",
              "      <td>Alquiler</td>\n",
              "      <td>Alquiler</td>\n",
              "      <td>18500</td>\n",
              "      <td>Mensual</td>\n",
              "      <td>NaN</td>\n",
              "      <td>2019-09-26</td>\n",
              "      <td>39</td>\n",
              "      <td>49</td>\n",
              "      <td>EXCELENTE DEPARTAMENTO 2 AMB CON PATIO 49 MTS ...</td>\n",
              "      <td>Departamento</td>\n",
              "      <td>Departamento</td>\n",
              "      <td>POINT (99129.692 105739.092)</td>\n",
              "    </tr>\n",
              "    <tr>\n",
              "      <th>...</th>\n",
              "      <td>...</td>\n",
              "      <td>...</td>\n",
              "      <td>...</td>\n",
              "      <td>...</td>\n",
              "      <td>...</td>\n",
              "      <td>...</td>\n",
              "      <td>...</td>\n",
              "      <td>...</td>\n",
              "      <td>...</td>\n",
              "      <td>...</td>\n",
              "      <td>...</td>\n",
              "      <td>...</td>\n",
              "      <td>...</td>\n",
              "      <td>...</td>\n",
              "      <td>...</td>\n",
              "      <td>...</td>\n",
              "      <td>...</td>\n",
              "      <td>...</td>\n",
              "      <td>...</td>\n",
              "      <td>...</td>\n",
              "      <td>...</td>\n",
              "      <td>...</td>\n",
              "      <td>...</td>\n",
              "      <td>...</td>\n",
              "      <td>...</td>\n",
              "      <td>...</td>\n",
              "      <td>...</td>\n",
              "      <td>...</td>\n",
              "      <td>...</td>\n",
              "    </tr>\n",
              "    <tr>\n",
              "      <th>50648</th>\n",
              "      <td>1.0</td>\n",
              "      <td>1.0</td>\n",
              "      <td>Argentina</td>\n",
              "      <td>2019-02-27</td>\n",
              "      <td>ARS</td>\n",
              "      <td>Corredor Responsable: Martin Macagno - CUCICBA...</td>\n",
              "      <td>None</td>\n",
              "      <td>2019-04-24</td>\n",
              "      <td>60856</td>\n",
              "      <td>Argentina</td>\n",
              "      <td>Capital Federal</td>\n",
              "      <td>Parque Chacabuco</td>\n",
              "      <td>None</td>\n",
              "      <td>None</td>\n",
              "      <td>None</td>\n",
              "      <td>-34.629564</td>\n",
              "      <td>-58.441308</td>\n",
              "      <td>Alquiler</td>\n",
              "      <td>Alquiler</td>\n",
              "      <td>17500</td>\n",
              "      <td>Mensual</td>\n",
              "      <td>2.0</td>\n",
              "      <td>2019-02-27</td>\n",
              "      <td>45</td>\n",
              "      <td>45</td>\n",
              "      <td>ALQUILER DEPARTAMENTO 2 AMB A ESTRENAR P CHACA...</td>\n",
              "      <td>Departamento</td>\n",
              "      <td>Departamento</td>\n",
              "      <td>POINT (101961.679 100016.721)</td>\n",
              "    </tr>\n",
              "    <tr>\n",
              "      <th>50649</th>\n",
              "      <td>1.0</td>\n",
              "      <td>NaN</td>\n",
              "      <td>Argentina</td>\n",
              "      <td>2019-02-27</td>\n",
              "      <td>ARS</td>\n",
              "      <td>b'**** ALQUILER DUE\\xd1O DIRECTO DE DEPARTAMEN...</td>\n",
              "      <td>None</td>\n",
              "      <td>2019-03-29</td>\n",
              "      <td>60857</td>\n",
              "      <td>Argentina</td>\n",
              "      <td>Capital Federal</td>\n",
              "      <td>b'Villa Pueyrred\\xf3n'</td>\n",
              "      <td>None</td>\n",
              "      <td>None</td>\n",
              "      <td>None</td>\n",
              "      <td>-34.584267</td>\n",
              "      <td>-58.501282</td>\n",
              "      <td>Alquiler</td>\n",
              "      <td>Alquiler</td>\n",
              "      <td>11000</td>\n",
              "      <td>Mensual</td>\n",
              "      <td>NaN</td>\n",
              "      <td>2019-02-27</td>\n",
              "      <td>43</td>\n",
              "      <td>49</td>\n",
              "      <td>b'Carlos A Lopez  2700 1\\xb0  - $ 11.000 - Dep...</td>\n",
              "      <td>Departamento</td>\n",
              "      <td>Departamento</td>\n",
              "      <td>POINT (96460.074 105041.354)</td>\n",
              "    </tr>\n",
              "    <tr>\n",
              "      <th>50650</th>\n",
              "      <td>2.0</td>\n",
              "      <td>4.0</td>\n",
              "      <td>Argentina</td>\n",
              "      <td>2019-02-27</td>\n",
              "      <td>ARS</td>\n",
              "      <td>b'Corredor Responsable: JAVIER HERNANDEZ - CUC...</td>\n",
              "      <td>None</td>\n",
              "      <td>2019-03-10</td>\n",
              "      <td>60858</td>\n",
              "      <td>Argentina</td>\n",
              "      <td>Capital Federal</td>\n",
              "      <td>b'Villa Pueyrred\\xf3n'</td>\n",
              "      <td>None</td>\n",
              "      <td>None</td>\n",
              "      <td>None</td>\n",
              "      <td>-34.578043</td>\n",
              "      <td>-58.511571</td>\n",
              "      <td>Alquiler</td>\n",
              "      <td>Alquiler</td>\n",
              "      <td>40000</td>\n",
              "      <td>Mensual</td>\n",
              "      <td>5.0</td>\n",
              "      <td>2019-02-27</td>\n",
              "      <td>150</td>\n",
              "      <td>150</td>\n",
              "      <td>Alquiler-Triplex c/ cochera - sin expensas.</td>\n",
              "      <td>Departamento</td>\n",
              "      <td>Departamento</td>\n",
              "      <td>POINT (95515.687 105731.369)</td>\n",
              "    </tr>\n",
              "    <tr>\n",
              "      <th>50651</th>\n",
              "      <td>1.0</td>\n",
              "      <td>1.0</td>\n",
              "      <td>Argentina</td>\n",
              "      <td>2019-02-27</td>\n",
              "      <td>ARS</td>\n",
              "      <td>b'Xintel (DIP-DIP-632) EN ALQUILER DEPARTAMENT...</td>\n",
              "      <td>None</td>\n",
              "      <td>2019-06-25</td>\n",
              "      <td>60859</td>\n",
              "      <td>Argentina</td>\n",
              "      <td>Bs.As. G.B.A. Zona Norte</td>\n",
              "      <td>b'General San Mart\\xedn'</td>\n",
              "      <td>Villa Bonich</td>\n",
              "      <td>None</td>\n",
              "      <td>None</td>\n",
              "      <td>-34.572468</td>\n",
              "      <td>-58.566003</td>\n",
              "      <td>Alquiler</td>\n",
              "      <td>Alquiler</td>\n",
              "      <td>4500</td>\n",
              "      <td>Mensual</td>\n",
              "      <td>2.0</td>\n",
              "      <td>2019-02-27</td>\n",
              "      <td>40</td>\n",
              "      <td>40</td>\n",
              "      <td>DEPARTAMENTO EN ALQUILER</td>\n",
              "      <td>Departamento</td>\n",
              "      <td>Departamento</td>\n",
              "      <td>POINT (90520.492 106346.015)</td>\n",
              "    </tr>\n",
              "    <tr>\n",
              "      <th>50652</th>\n",
              "      <td>1.0</td>\n",
              "      <td>2.0</td>\n",
              "      <td>Argentina</td>\n",
              "      <td>2019-02-27</td>\n",
              "      <td>ARS</td>\n",
              "      <td>b'Xintel (ROC-ROC-1972) &lt;p&gt;Departamento 3 AMBI...</td>\n",
              "      <td>None</td>\n",
              "      <td>2019-06-18</td>\n",
              "      <td>60860</td>\n",
              "      <td>Argentina</td>\n",
              "      <td>Bs.As. G.B.A. Zona Norte</td>\n",
              "      <td>b'General San Mart\\xedn'</td>\n",
              "      <td>Villa Ballester</td>\n",
              "      <td>None</td>\n",
              "      <td>None</td>\n",
              "      <td>-34.551403</td>\n",
              "      <td>-58.548134</td>\n",
              "      <td>Alquiler</td>\n",
              "      <td>Alquiler</td>\n",
              "      <td>13000</td>\n",
              "      <td>Mensual</td>\n",
              "      <td>3.0</td>\n",
              "      <td>2019-02-27</td>\n",
              "      <td>57</td>\n",
              "      <td>57</td>\n",
              "      <td>DEPARTAMENTO EN ALQUILER</td>\n",
              "      <td>Departamento</td>\n",
              "      <td>Departamento</td>\n",
              "      <td>POINT (92158.251 108684.417)</td>\n",
              "    </tr>\n",
              "  </tbody>\n",
              "</table>\n",
              "<p>50653 rows × 29 columns</p>\n",
              "</div>"
            ],
            "text/plain": [
              "       bathrooms  bedrooms  ...     type_i18n                       geometry\n",
              "0            1.0       1.0  ...  Departamento  POINT (106827.294 104558.628)\n",
              "1            3.0       NaN  ...  Departamento  POINT (106347.880 102524.692)\n",
              "2            1.0       2.0  ...  Departamento  POINT (107658.254 102034.095)\n",
              "3            NaN       NaN  ...  Departamento    POINT (91709.240 94331.755)\n",
              "4            1.0       1.0  ...  Departamento   POINT (99129.692 105739.092)\n",
              "...          ...       ...  ...           ...                            ...\n",
              "50648        1.0       1.0  ...  Departamento  POINT (101961.679 100016.721)\n",
              "50649        1.0       NaN  ...  Departamento   POINT (96460.074 105041.354)\n",
              "50650        2.0       4.0  ...  Departamento   POINT (95515.687 105731.369)\n",
              "50651        1.0       1.0  ...  Departamento   POINT (90520.492 106346.015)\n",
              "50652        1.0       2.0  ...  Departamento   POINT (92158.251 108684.417)\n",
              "\n",
              "[50653 rows x 29 columns]"
            ]
          },
          "metadata": {
            "tags": []
          },
          "execution_count": 4
        }
      ]
    },
    {
      "cell_type": "code",
      "metadata": {
        "id": "GSgPw3sDjnUq"
      },
      "source": [
        "# Si cargan desde el ambiente de Colab:\n",
        "#departamentos=gpd.read_file(\"zip://departamentos.zip!departamentos.shp\")"
      ],
      "execution_count": 5,
      "outputs": []
    },
    {
      "cell_type": "code",
      "metadata": {
        "id": "rUsH8R-OItXn",
        "colab": {
          "base_uri": "https://localhost:8080/",
          "height": 467
        },
        "outputId": "0849e57e-f9a3-416b-a731-6d8a9059b92f"
      },
      "source": [
        "departamentos.head()"
      ],
      "execution_count": 6,
      "outputs": [
        {
          "output_type": "execute_result",
          "data": {
            "text/html": [
              "<div>\n",
              "<style scoped>\n",
              "    .dataframe tbody tr th:only-of-type {\n",
              "        vertical-align: middle;\n",
              "    }\n",
              "\n",
              "    .dataframe tbody tr th {\n",
              "        vertical-align: top;\n",
              "    }\n",
              "\n",
              "    .dataframe thead th {\n",
              "        text-align: right;\n",
              "    }\n",
              "</style>\n",
              "<table border=\"1\" class=\"dataframe\">\n",
              "  <thead>\n",
              "    <tr style=\"text-align: right;\">\n",
              "      <th></th>\n",
              "      <th>bathrooms</th>\n",
              "      <th>bedrooms</th>\n",
              "      <th>country</th>\n",
              "      <th>created_on</th>\n",
              "      <th>currency</th>\n",
              "      <th>descriptio</th>\n",
              "      <th>developmen</th>\n",
              "      <th>end_date</th>\n",
              "      <th>index</th>\n",
              "      <th>l1</th>\n",
              "      <th>l2</th>\n",
              "      <th>l3</th>\n",
              "      <th>l4</th>\n",
              "      <th>l5</th>\n",
              "      <th>l6</th>\n",
              "      <th>lat</th>\n",
              "      <th>lon</th>\n",
              "      <th>operation</th>\n",
              "      <th>operation_</th>\n",
              "      <th>price</th>\n",
              "      <th>price_peri</th>\n",
              "      <th>rooms</th>\n",
              "      <th>start_date</th>\n",
              "      <th>surface_co</th>\n",
              "      <th>surface_to</th>\n",
              "      <th>title</th>\n",
              "      <th>type</th>\n",
              "      <th>type_i18n</th>\n",
              "      <th>geometry</th>\n",
              "    </tr>\n",
              "  </thead>\n",
              "  <tbody>\n",
              "    <tr>\n",
              "      <th>0</th>\n",
              "      <td>1.0</td>\n",
              "      <td>1.0</td>\n",
              "      <td>Argentina</td>\n",
              "      <td>2019-09-26</td>\n",
              "      <td>ARS</td>\n",
              "      <td>b'CODIGO: 1819-CRI180 ubicado en: Av. Callao 1...</td>\n",
              "      <td>None</td>\n",
              "      <td>2019-10-10</td>\n",
              "      <td>0</td>\n",
              "      <td>Argentina</td>\n",
              "      <td>Capital Federal</td>\n",
              "      <td>Recoleta</td>\n",
              "      <td>None</td>\n",
              "      <td>None</td>\n",
              "      <td>None</td>\n",
              "      <td>-34.588601</td>\n",
              "      <td>-58.388285</td>\n",
              "      <td>Alquiler</td>\n",
              "      <td>Alquiler</td>\n",
              "      <td>18000</td>\n",
              "      <td>Mensual</td>\n",
              "      <td>NaN</td>\n",
              "      <td>2019-09-26</td>\n",
              "      <td>52</td>\n",
              "      <td>58</td>\n",
              "      <td>b'Recoleta. Av. Callao y Av. Alvear. Piso alto...</td>\n",
              "      <td>Departamento</td>\n",
              "      <td>Departamento</td>\n",
              "      <td>POINT (106827.294 104558.628)</td>\n",
              "    </tr>\n",
              "    <tr>\n",
              "      <th>1</th>\n",
              "      <td>3.0</td>\n",
              "      <td>NaN</td>\n",
              "      <td>Argentina</td>\n",
              "      <td>2019-09-26</td>\n",
              "      <td>ARS</td>\n",
              "      <td>b'Residencia de estudiantes y viajeros. Son do...</td>\n",
              "      <td>None</td>\n",
              "      <td>2019-11-04</td>\n",
              "      <td>1</td>\n",
              "      <td>Argentina</td>\n",
              "      <td>Capital Federal</td>\n",
              "      <td>Balvanera</td>\n",
              "      <td>None</td>\n",
              "      <td>None</td>\n",
              "      <td>None</td>\n",
              "      <td>-34.606939</td>\n",
              "      <td>-58.393496</td>\n",
              "      <td>Alquiler</td>\n",
              "      <td>Alquiler</td>\n",
              "      <td>45000</td>\n",
              "      <td>Mensual</td>\n",
              "      <td>NaN</td>\n",
              "      <td>2019-09-26</td>\n",
              "      <td>219</td>\n",
              "      <td>219</td>\n",
              "      <td>Departamento - Balvanera</td>\n",
              "      <td>Departamento</td>\n",
              "      <td>Departamento</td>\n",
              "      <td>POINT (106347.880 102524.692)</td>\n",
              "    </tr>\n",
              "    <tr>\n",
              "      <th>2</th>\n",
              "      <td>1.0</td>\n",
              "      <td>2.0</td>\n",
              "      <td>Argentina</td>\n",
              "      <td>2019-09-26</td>\n",
              "      <td>ARS</td>\n",
              "      <td>b'CODIGO: 1348-AF021227 ubicado en: Tacuari 26...</td>\n",
              "      <td>None</td>\n",
              "      <td>2019-09-28</td>\n",
              "      <td>2</td>\n",
              "      <td>Argentina</td>\n",
              "      <td>Capital Federal</td>\n",
              "      <td>Monserrat</td>\n",
              "      <td>None</td>\n",
              "      <td>None</td>\n",
              "      <td>None</td>\n",
              "      <td>-34.611352</td>\n",
              "      <td>-58.379205</td>\n",
              "      <td>Alquiler</td>\n",
              "      <td>Alquiler</td>\n",
              "      <td>18500</td>\n",
              "      <td>Mensual</td>\n",
              "      <td>NaN</td>\n",
              "      <td>2019-09-26</td>\n",
              "      <td>61</td>\n",
              "      <td>67</td>\n",
              "      <td>3 ambientes con patio 61 m2 propios bajas expe...</td>\n",
              "      <td>Departamento</td>\n",
              "      <td>Departamento</td>\n",
              "      <td>POINT (107658.254 102034.095)</td>\n",
              "    </tr>\n",
              "    <tr>\n",
              "      <th>3</th>\n",
              "      <td>NaN</td>\n",
              "      <td>NaN</td>\n",
              "      <td>Argentina</td>\n",
              "      <td>2019-09-26</td>\n",
              "      <td>ARS</td>\n",
              "      <td>b'Departamento de dos ambientes a 200 metros d...</td>\n",
              "      <td>None</td>\n",
              "      <td>2020-02-12</td>\n",
              "      <td>4</td>\n",
              "      <td>Argentina</td>\n",
              "      <td>Bs.As. G.B.A. Zona Oeste</td>\n",
              "      <td>La Matanza</td>\n",
              "      <td>San Justo</td>\n",
              "      <td>None</td>\n",
              "      <td>None</td>\n",
              "      <td>-34.680777</td>\n",
              "      <td>-58.553166</td>\n",
              "      <td>Alquiler</td>\n",
              "      <td>Alquiler</td>\n",
              "      <td>11000</td>\n",
              "      <td>Mensual</td>\n",
              "      <td>NaN</td>\n",
              "      <td>2019-09-26</td>\n",
              "      <td>38</td>\n",
              "      <td>38</td>\n",
              "      <td>Departamento - San Justo</td>\n",
              "      <td>Departamento</td>\n",
              "      <td>Departamento</td>\n",
              "      <td>POINT (91709.240 94331.755)</td>\n",
              "    </tr>\n",
              "    <tr>\n",
              "      <th>4</th>\n",
              "      <td>1.0</td>\n",
              "      <td>1.0</td>\n",
              "      <td>Argentina</td>\n",
              "      <td>2019-09-26</td>\n",
              "      <td>ARS</td>\n",
              "      <td>b'CODIGO: 733-1600MARIANOA ubicado en: MARIANO...</td>\n",
              "      <td>None</td>\n",
              "      <td>2019-11-10</td>\n",
              "      <td>5</td>\n",
              "      <td>Argentina</td>\n",
              "      <td>Capital Federal</td>\n",
              "      <td>Villa Urquiza</td>\n",
              "      <td>None</td>\n",
              "      <td>None</td>\n",
              "      <td>None</td>\n",
              "      <td>-34.577983</td>\n",
              "      <td>-58.472185</td>\n",
              "      <td>Alquiler</td>\n",
              "      <td>Alquiler</td>\n",
              "      <td>18500</td>\n",
              "      <td>Mensual</td>\n",
              "      <td>NaN</td>\n",
              "      <td>2019-09-26</td>\n",
              "      <td>39</td>\n",
              "      <td>49</td>\n",
              "      <td>EXCELENTE DEPARTAMENTO 2 AMB CON PATIO 49 MTS ...</td>\n",
              "      <td>Departamento</td>\n",
              "      <td>Departamento</td>\n",
              "      <td>POINT (99129.692 105739.092)</td>\n",
              "    </tr>\n",
              "  </tbody>\n",
              "</table>\n",
              "</div>"
            ],
            "text/plain": [
              "   bathrooms  bedrooms  ...     type_i18n                       geometry\n",
              "0        1.0       1.0  ...  Departamento  POINT (106827.294 104558.628)\n",
              "1        3.0       NaN  ...  Departamento  POINT (106347.880 102524.692)\n",
              "2        1.0       2.0  ...  Departamento  POINT (107658.254 102034.095)\n",
              "3        NaN       NaN  ...  Departamento    POINT (91709.240 94331.755)\n",
              "4        1.0       1.0  ...  Departamento   POINT (99129.692 105739.092)\n",
              "\n",
              "[5 rows x 29 columns]"
            ]
          },
          "metadata": {
            "tags": []
          },
          "execution_count": 6
        }
      ]
    },
    {
      "cell_type": "markdown",
      "metadata": {
        "id": "2ec6lqKxK_Bm"
      },
      "source": [
        "## Descripcion rápida de los datos\n"
      ]
    },
    {
      "cell_type": "code",
      "metadata": {
        "id": "xlUxmaSPy2ar",
        "colab": {
          "base_uri": "https://localhost:8080/"
        },
        "outputId": "48fe81b6-07e2-4896-c82c-bba786c5cd76"
      },
      "source": [
        "departamentos.columns"
      ],
      "execution_count": 7,
      "outputs": [
        {
          "output_type": "execute_result",
          "data": {
            "text/plain": [
              "Index(['bathrooms', 'bedrooms', 'country', 'created_on', 'currency',\n",
              "       'descriptio', 'developmen', 'end_date', 'index', 'l1', 'l2', 'l3', 'l4',\n",
              "       'l5', 'l6', 'lat', 'lon', 'operation', 'operation_', 'price',\n",
              "       'price_peri', 'rooms', 'start_date', 'surface_co', 'surface_to',\n",
              "       'title', 'type', 'type_i18n', 'geometry'],\n",
              "      dtype='object')"
            ]
          },
          "metadata": {
            "tags": []
          },
          "execution_count": 7
        }
      ]
    },
    {
      "cell_type": "code",
      "metadata": {
        "id": "s09R5VxOzLJd",
        "colab": {
          "base_uri": "https://localhost:8080/"
        },
        "outputId": "9318177b-190a-43e0-ff3b-b2908d07a79b"
      },
      "source": [
        "departamentos.shape"
      ],
      "execution_count": 8,
      "outputs": [
        {
          "output_type": "execute_result",
          "data": {
            "text/plain": [
              "(50653, 29)"
            ]
          },
          "metadata": {
            "tags": []
          },
          "execution_count": 8
        }
      ]
    },
    {
      "cell_type": "markdown",
      "metadata": {
        "id": "dz2svI6Ul1Lk"
      },
      "source": [
        "Puedo llamar a una columna en particular del dataframe si la escribo entre corchetes "
      ]
    },
    {
      "cell_type": "code",
      "metadata": {
        "id": "sTvv8JVw-m1p",
        "colab": {
          "base_uri": "https://localhost:8080/"
        },
        "outputId": "5b2c50de-bac3-4554-a5e6-d4ad1c52d3f2"
      },
      "source": [
        "departamentos['l2']"
      ],
      "execution_count": 9,
      "outputs": [
        {
          "output_type": "execute_result",
          "data": {
            "text/plain": [
              "0                 Capital Federal\n",
              "1                 Capital Federal\n",
              "2                 Capital Federal\n",
              "3        Bs.As. G.B.A. Zona Oeste\n",
              "4                 Capital Federal\n",
              "                   ...           \n",
              "50648             Capital Federal\n",
              "50649             Capital Federal\n",
              "50650             Capital Federal\n",
              "50651    Bs.As. G.B.A. Zona Norte\n",
              "50652    Bs.As. G.B.A. Zona Norte\n",
              "Name: l2, Length: 50653, dtype: object"
            ]
          },
          "metadata": {
            "tags": []
          },
          "execution_count": 9
        }
      ]
    },
    {
      "cell_type": "markdown",
      "metadata": {
        "id": "rM5MXRBHmdyr"
      },
      "source": [
        "En algunos casos funcionará que solo escriba . y el nombre de la columna. (esto no sirve, por ejemplo si las columnas  tienen espacios en el nombre) \n"
      ]
    },
    {
      "cell_type": "code",
      "metadata": {
        "id": "3MKDeQk6mbJu",
        "colab": {
          "base_uri": "https://localhost:8080/"
        },
        "outputId": "cebdec6b-453c-4705-808f-d3c6f8d244ae"
      },
      "source": [
        "departamentos.l2"
      ],
      "execution_count": 10,
      "outputs": [
        {
          "output_type": "execute_result",
          "data": {
            "text/plain": [
              "0                 Capital Federal\n",
              "1                 Capital Federal\n",
              "2                 Capital Federal\n",
              "3        Bs.As. G.B.A. Zona Oeste\n",
              "4                 Capital Federal\n",
              "                   ...           \n",
              "50648             Capital Federal\n",
              "50649             Capital Federal\n",
              "50650             Capital Federal\n",
              "50651    Bs.As. G.B.A. Zona Norte\n",
              "50652    Bs.As. G.B.A. Zona Norte\n",
              "Name: l2, Length: 50653, dtype: object"
            ]
          },
          "metadata": {
            "tags": []
          },
          "execution_count": 10
        }
      ]
    },
    {
      "cell_type": "markdown",
      "metadata": {
        "id": "RCqE-TV8myVO"
      },
      "source": [
        "Luego puedo ver cuales son los valores unicos que toma la variable:"
      ]
    },
    {
      "cell_type": "code",
      "metadata": {
        "id": "KvdYZ5gjmEbV",
        "colab": {
          "base_uri": "https://localhost:8080/"
        },
        "outputId": "f9f00550-4d5a-4808-ec8e-d822cb97880b"
      },
      "source": [
        "departamentos['l2'].unique()"
      ],
      "execution_count": 11,
      "outputs": [
        {
          "output_type": "execute_result",
          "data": {
            "text/plain": [
              "array(['Capital Federal', 'Bs.As. G.B.A. Zona Oeste',\n",
              "       'Bs.As. G.B.A. Zona Sur', 'Bs.As. G.B.A. Zona Norte',\n",
              "       'Buenos Aires Interior'], dtype=object)"
            ]
          },
          "metadata": {
            "tags": []
          },
          "execution_count": 11
        }
      ]
    },
    {
      "cell_type": "code",
      "metadata": {
        "id": "vn5yGYl_zdAR",
        "colab": {
          "base_uri": "https://localhost:8080/"
        },
        "outputId": "95e7f5e3-13ed-4c9e-8f50-44d00e8038ee"
      },
      "source": [
        "departamentos.dtypes"
      ],
      "execution_count": 12,
      "outputs": [
        {
          "output_type": "execute_result",
          "data": {
            "text/plain": [
              "bathrooms      float64\n",
              "bedrooms       float64\n",
              "country         object\n",
              "created_on      object\n",
              "currency        object\n",
              "descriptio      object\n",
              "developmen      object\n",
              "end_date        object\n",
              "index            int64\n",
              "l1              object\n",
              "l2              object\n",
              "l3              object\n",
              "l4              object\n",
              "l5              object\n",
              "l6              object\n",
              "lat            float64\n",
              "lon            float64\n",
              "operation       object\n",
              "operation_      object\n",
              "price            int64\n",
              "price_peri      object\n",
              "rooms          float64\n",
              "start_date      object\n",
              "surface_co       int64\n",
              "surface_to       int64\n",
              "title           object\n",
              "type            object\n",
              "type_i18n       object\n",
              "geometry      geometry\n",
              "dtype: object"
            ]
          },
          "metadata": {
            "tags": []
          },
          "execution_count": 12
        }
      ]
    },
    {
      "cell_type": "code",
      "metadata": {
        "id": "AsY9Zz1Y08E0",
        "colab": {
          "base_uri": "https://localhost:8080/",
          "height": 282
        },
        "outputId": "e033b4db-1568-40c5-883e-3b2d9c5105af"
      },
      "source": [
        "departamentos.plot()"
      ],
      "execution_count": 13,
      "outputs": [
        {
          "output_type": "execute_result",
          "data": {
            "text/plain": [
              "<matplotlib.axes._subplots.AxesSubplot at 0x7f311f646bd0>"
            ]
          },
          "metadata": {
            "tags": []
          },
          "execution_count": 13
        },
        {
          "output_type": "display_data",
          "data": {
            "image/png": "[encoded data removed]",
            "text/plain": [
              "<Figure size 432x288 with 1 Axes>"
            ]
          },
          "metadata": {
            "tags": [],
            "needs_background": "light"
          }
        }
      ]
    },
    {
      "cell_type": "code",
      "metadata": {
        "id": "qmopF4V8KR4A",
        "colab": {
          "base_uri": "https://localhost:8080/"
        },
        "outputId": "d15479e7-7776-41a2-abec-a79b05cf8d0b"
      },
      "source": [
        "departamentos.price.describe()"
      ],
      "execution_count": 14,
      "outputs": [
        {
          "output_type": "execute_result",
          "data": {
            "text/plain": [
              "count    5.065300e+04\n",
              "mean     1.780301e+04\n",
              "std      1.713533e+04\n",
              "min      5.000000e+01\n",
              "25%      1.050000e+04\n",
              "50%      1.500000e+04\n",
              "75%      2.100000e+04\n",
              "max      1.500000e+06\n",
              "Name: price, dtype: float64"
            ]
          },
          "metadata": {
            "tags": []
          },
          "execution_count": 14
        }
      ]
    },
    {
      "cell_type": "markdown",
      "metadata": {
        "id": "fx9f6Bta4FPD"
      },
      "source": [
        "## Estudiando un subconjunto de datos (filas del dataframe)\n",
        "\n",
        "Para \"filtrar\" el dataframe usamos el método .loc, especificando entre corchetes la condición que filtra nuestros datos\n",
        "\n",
        "Por ejemplo, si queremos departamentos mayores a $100000\n",
        "departamentos.loc[(departamentos.price>100000)]\n",
        "\n",
        "Para escribir una condicion recuerden que pueden utilizar los siguientes lógicos:\n",
        "\n",
        "```==    para chequear la  condicion \"equivale a\" o \"igual a\" va doble igual  ``` \n",
        "\n",
        "```!= distinto a ```\n",
        "\n",
        "```> mayor a  ```\n",
        "\n",
        "```>= mayor o igual a ```\n",
        "\n",
        "```< menor a ```\n",
        "\n",
        "```<= menor o igual a ```\n",
        "\n",
        "En el caso de querer usar dos condiciones o más:\n",
        "\n",
        "```(esta condicion) & (esta condicion) ``` Se cumple esta condicion Y esta otra  \n",
        "\n",
        "```(esta condicion) | (esta condicion) ``` Se cumple esta condicion O esta otra\n",
        "   \n",
        "\n",
        "Recuerden que las condiciones tiene que ir  en parentesis!\n",
        "\n",
        "\n",
        "Vean los siguientes ejemplos:\n",
        "\n",
        "\n"
      ]
    },
    {
      "cell_type": "markdown",
      "metadata": {
        "id": "XFZnxWQllCn8"
      },
      "source": [
        "\n",
        "\n",
        "Filtrar los departamentos que estan en Capital Federal\n"
      ]
    },
    {
      "cell_type": "code",
      "metadata": {
        "id": "l5LnPCc_lALA",
        "colab": {
          "base_uri": "https://localhost:8080/",
          "height": 877
        },
        "outputId": "b4d09863-f8f6-4463-fdb3-8badf1469b36"
      },
      "source": [
        "departamentos.loc[departamentos['l2']==\"Capital Federal\"]"
      ],
      "execution_count": 15,
      "outputs": [
        {
          "output_type": "execute_result",
          "data": {
            "text/html": [
              "<div>\n",
              "<style scoped>\n",
              "    .dataframe tbody tr th:only-of-type {\n",
              "        vertical-align: middle;\n",
              "    }\n",
              "\n",
              "    .dataframe tbody tr th {\n",
              "        vertical-align: top;\n",
              "    }\n",
              "\n",
              "    .dataframe thead th {\n",
              "        text-align: right;\n",
              "    }\n",
              "</style>\n",
              "<table border=\"1\" class=\"dataframe\">\n",
              "  <thead>\n",
              "    <tr style=\"text-align: right;\">\n",
              "      <th></th>\n",
              "      <th>bathrooms</th>\n",
              "      <th>bedrooms</th>\n",
              "      <th>country</th>\n",
              "      <th>created_on</th>\n",
              "      <th>currency</th>\n",
              "      <th>descriptio</th>\n",
              "      <th>developmen</th>\n",
              "      <th>end_date</th>\n",
              "      <th>index</th>\n",
              "      <th>l1</th>\n",
              "      <th>l2</th>\n",
              "      <th>l3</th>\n",
              "      <th>l4</th>\n",
              "      <th>l5</th>\n",
              "      <th>l6</th>\n",
              "      <th>lat</th>\n",
              "      <th>lon</th>\n",
              "      <th>operation</th>\n",
              "      <th>operation_</th>\n",
              "      <th>price</th>\n",
              "      <th>price_peri</th>\n",
              "      <th>rooms</th>\n",
              "      <th>start_date</th>\n",
              "      <th>surface_co</th>\n",
              "      <th>surface_to</th>\n",
              "      <th>title</th>\n",
              "      <th>type</th>\n",
              "      <th>type_i18n</th>\n",
              "      <th>geometry</th>\n",
              "    </tr>\n",
              "  </thead>\n",
              "  <tbody>\n",
              "    <tr>\n",
              "      <th>0</th>\n",
              "      <td>1.0</td>\n",
              "      <td>1.0</td>\n",
              "      <td>Argentina</td>\n",
              "      <td>2019-09-26</td>\n",
              "      <td>ARS</td>\n",
              "      <td>b'CODIGO: 1819-CRI180 ubicado en: Av. Callao 1...</td>\n",
              "      <td>None</td>\n",
              "      <td>2019-10-10</td>\n",
              "      <td>0</td>\n",
              "      <td>Argentina</td>\n",
              "      <td>Capital Federal</td>\n",
              "      <td>Recoleta</td>\n",
              "      <td>None</td>\n",
              "      <td>None</td>\n",
              "      <td>None</td>\n",
              "      <td>-34.588601</td>\n",
              "      <td>-58.388285</td>\n",
              "      <td>Alquiler</td>\n",
              "      <td>Alquiler</td>\n",
              "      <td>18000</td>\n",
              "      <td>Mensual</td>\n",
              "      <td>NaN</td>\n",
              "      <td>2019-09-26</td>\n",
              "      <td>52</td>\n",
              "      <td>58</td>\n",
              "      <td>b'Recoleta. Av. Callao y Av. Alvear. Piso alto...</td>\n",
              "      <td>Departamento</td>\n",
              "      <td>Departamento</td>\n",
              "      <td>POINT (106827.294 104558.628)</td>\n",
              "    </tr>\n",
              "    <tr>\n",
              "      <th>1</th>\n",
              "      <td>3.0</td>\n",
              "      <td>NaN</td>\n",
              "      <td>Argentina</td>\n",
              "      <td>2019-09-26</td>\n",
              "      <td>ARS</td>\n",
              "      <td>b'Residencia de estudiantes y viajeros. Son do...</td>\n",
              "      <td>None</td>\n",
              "      <td>2019-11-04</td>\n",
              "      <td>1</td>\n",
              "      <td>Argentina</td>\n",
              "      <td>Capital Federal</td>\n",
              "      <td>Balvanera</td>\n",
              "      <td>None</td>\n",
              "      <td>None</td>\n",
              "      <td>None</td>\n",
              "      <td>-34.606939</td>\n",
              "      <td>-58.393496</td>\n",
              "      <td>Alquiler</td>\n",
              "      <td>Alquiler</td>\n",
              "      <td>45000</td>\n",
              "      <td>Mensual</td>\n",
              "      <td>NaN</td>\n",
              "      <td>2019-09-26</td>\n",
              "      <td>219</td>\n",
              "      <td>219</td>\n",
              "      <td>Departamento - Balvanera</td>\n",
              "      <td>Departamento</td>\n",
              "      <td>Departamento</td>\n",
              "      <td>POINT (106347.880 102524.692)</td>\n",
              "    </tr>\n",
              "    <tr>\n",
              "      <th>2</th>\n",
              "      <td>1.0</td>\n",
              "      <td>2.0</td>\n",
              "      <td>Argentina</td>\n",
              "      <td>2019-09-26</td>\n",
              "      <td>ARS</td>\n",
              "      <td>b'CODIGO: 1348-AF021227 ubicado en: Tacuari 26...</td>\n",
              "      <td>None</td>\n",
              "      <td>2019-09-28</td>\n",
              "      <td>2</td>\n",
              "      <td>Argentina</td>\n",
              "      <td>Capital Federal</td>\n",
              "      <td>Monserrat</td>\n",
              "      <td>None</td>\n",
              "      <td>None</td>\n",
              "      <td>None</td>\n",
              "      <td>-34.611352</td>\n",
              "      <td>-58.379205</td>\n",
              "      <td>Alquiler</td>\n",
              "      <td>Alquiler</td>\n",
              "      <td>18500</td>\n",
              "      <td>Mensual</td>\n",
              "      <td>NaN</td>\n",
              "      <td>2019-09-26</td>\n",
              "      <td>61</td>\n",
              "      <td>67</td>\n",
              "      <td>3 ambientes con patio 61 m2 propios bajas expe...</td>\n",
              "      <td>Departamento</td>\n",
              "      <td>Departamento</td>\n",
              "      <td>POINT (107658.254 102034.095)</td>\n",
              "    </tr>\n",
              "    <tr>\n",
              "      <th>4</th>\n",
              "      <td>1.0</td>\n",
              "      <td>1.0</td>\n",
              "      <td>Argentina</td>\n",
              "      <td>2019-09-26</td>\n",
              "      <td>ARS</td>\n",
              "      <td>b'CODIGO: 733-1600MARIANOA ubicado en: MARIANO...</td>\n",
              "      <td>None</td>\n",
              "      <td>2019-11-10</td>\n",
              "      <td>5</td>\n",
              "      <td>Argentina</td>\n",
              "      <td>Capital Federal</td>\n",
              "      <td>Villa Urquiza</td>\n",
              "      <td>None</td>\n",
              "      <td>None</td>\n",
              "      <td>None</td>\n",
              "      <td>-34.577983</td>\n",
              "      <td>-58.472185</td>\n",
              "      <td>Alquiler</td>\n",
              "      <td>Alquiler</td>\n",
              "      <td>18500</td>\n",
              "      <td>Mensual</td>\n",
              "      <td>NaN</td>\n",
              "      <td>2019-09-26</td>\n",
              "      <td>39</td>\n",
              "      <td>49</td>\n",
              "      <td>EXCELENTE DEPARTAMENTO 2 AMB CON PATIO 49 MTS ...</td>\n",
              "      <td>Departamento</td>\n",
              "      <td>Departamento</td>\n",
              "      <td>POINT (99129.692 105739.092)</td>\n",
              "    </tr>\n",
              "    <tr>\n",
              "      <th>5</th>\n",
              "      <td>NaN</td>\n",
              "      <td>NaN</td>\n",
              "      <td>Argentina</td>\n",
              "      <td>2019-09-26</td>\n",
              "      <td>ARS</td>\n",
              "      <td>b'MONOAMBIENTE EN ALMAGRO&lt;br&gt;AMPLIO Y LUMINOSO...</td>\n",
              "      <td>None</td>\n",
              "      <td>2019-10-02</td>\n",
              "      <td>6</td>\n",
              "      <td>Argentina</td>\n",
              "      <td>Capital Federal</td>\n",
              "      <td>Almagro</td>\n",
              "      <td>None</td>\n",
              "      <td>None</td>\n",
              "      <td>None</td>\n",
              "      <td>-34.611445</td>\n",
              "      <td>-58.420994</td>\n",
              "      <td>Alquiler</td>\n",
              "      <td>Alquiler</td>\n",
              "      <td>9000</td>\n",
              "      <td>Mensual</td>\n",
              "      <td>1.0</td>\n",
              "      <td>2019-09-26</td>\n",
              "      <td>30</td>\n",
              "      <td>30</td>\n",
              "      <td>Departamento - Almagro</td>\n",
              "      <td>Departamento</td>\n",
              "      <td>Departamento</td>\n",
              "      <td>POINT (103825.371 102026.223)</td>\n",
              "    </tr>\n",
              "    <tr>\n",
              "      <th>...</th>\n",
              "      <td>...</td>\n",
              "      <td>...</td>\n",
              "      <td>...</td>\n",
              "      <td>...</td>\n",
              "      <td>...</td>\n",
              "      <td>...</td>\n",
              "      <td>...</td>\n",
              "      <td>...</td>\n",
              "      <td>...</td>\n",
              "      <td>...</td>\n",
              "      <td>...</td>\n",
              "      <td>...</td>\n",
              "      <td>...</td>\n",
              "      <td>...</td>\n",
              "      <td>...</td>\n",
              "      <td>...</td>\n",
              "      <td>...</td>\n",
              "      <td>...</td>\n",
              "      <td>...</td>\n",
              "      <td>...</td>\n",
              "      <td>...</td>\n",
              "      <td>...</td>\n",
              "      <td>...</td>\n",
              "      <td>...</td>\n",
              "      <td>...</td>\n",
              "      <td>...</td>\n",
              "      <td>...</td>\n",
              "      <td>...</td>\n",
              "      <td>...</td>\n",
              "    </tr>\n",
              "    <tr>\n",
              "      <th>50638</th>\n",
              "      <td>1.0</td>\n",
              "      <td>NaN</td>\n",
              "      <td>Argentina</td>\n",
              "      <td>2019-02-27</td>\n",
              "      <td>ARS</td>\n",
              "      <td>b'ALQUILER EXCELENTE MONOAMBIENTE MUY LUMINOSO...</td>\n",
              "      <td>None</td>\n",
              "      <td>2019-03-16</td>\n",
              "      <td>60841</td>\n",
              "      <td>Argentina</td>\n",
              "      <td>Capital Federal</td>\n",
              "      <td>Villa Urquiza</td>\n",
              "      <td>None</td>\n",
              "      <td>None</td>\n",
              "      <td>None</td>\n",
              "      <td>-34.573382</td>\n",
              "      <td>-58.473540</td>\n",
              "      <td>Alquiler</td>\n",
              "      <td>Alquiler</td>\n",
              "      <td>12500</td>\n",
              "      <td>Mensual</td>\n",
              "      <td>1.0</td>\n",
              "      <td>2019-02-27</td>\n",
              "      <td>32</td>\n",
              "      <td>37</td>\n",
              "      <td>ALQUILER EXCELENTE MONOAMBIENTE MUY LUMINOSO A...</td>\n",
              "      <td>Departamento</td>\n",
              "      <td>Departamento</td>\n",
              "      <td>POINT (99005.286 106249.504)</td>\n",
              "    </tr>\n",
              "    <tr>\n",
              "      <th>50639</th>\n",
              "      <td>1.0</td>\n",
              "      <td>1.0</td>\n",
              "      <td>Argentina</td>\n",
              "      <td>2019-02-27</td>\n",
              "      <td>ARS</td>\n",
              "      <td>b'Monoambiente de 35m2 Totales en complejo Gre...</td>\n",
              "      <td>None</td>\n",
              "      <td>2019-07-17</td>\n",
              "      <td>60842</td>\n",
              "      <td>Argentina</td>\n",
              "      <td>Capital Federal</td>\n",
              "      <td>Villa Urquiza</td>\n",
              "      <td>None</td>\n",
              "      <td>None</td>\n",
              "      <td>None</td>\n",
              "      <td>-34.574489</td>\n",
              "      <td>-58.473084</td>\n",
              "      <td>Alquiler</td>\n",
              "      <td>Alquiler</td>\n",
              "      <td>15000</td>\n",
              "      <td>None</td>\n",
              "      <td>1.0</td>\n",
              "      <td>2019-02-27</td>\n",
              "      <td>27</td>\n",
              "      <td>32</td>\n",
              "      <td>Excelente departamento en Alquiler con cochera</td>\n",
              "      <td>Departamento</td>\n",
              "      <td>Departamento</td>\n",
              "      <td>POINT (99047.178 106126.635)</td>\n",
              "    </tr>\n",
              "    <tr>\n",
              "      <th>50648</th>\n",
              "      <td>1.0</td>\n",
              "      <td>1.0</td>\n",
              "      <td>Argentina</td>\n",
              "      <td>2019-02-27</td>\n",
              "      <td>ARS</td>\n",
              "      <td>Corredor Responsable: Martin Macagno - CUCICBA...</td>\n",
              "      <td>None</td>\n",
              "      <td>2019-04-24</td>\n",
              "      <td>60856</td>\n",
              "      <td>Argentina</td>\n",
              "      <td>Capital Federal</td>\n",
              "      <td>Parque Chacabuco</td>\n",
              "      <td>None</td>\n",
              "      <td>None</td>\n",
              "      <td>None</td>\n",
              "      <td>-34.629564</td>\n",
              "      <td>-58.441308</td>\n",
              "      <td>Alquiler</td>\n",
              "      <td>Alquiler</td>\n",
              "      <td>17500</td>\n",
              "      <td>Mensual</td>\n",
              "      <td>2.0</td>\n",
              "      <td>2019-02-27</td>\n",
              "      <td>45</td>\n",
              "      <td>45</td>\n",
              "      <td>ALQUILER DEPARTAMENTO 2 AMB A ESTRENAR P CHACA...</td>\n",
              "      <td>Departamento</td>\n",
              "      <td>Departamento</td>\n",
              "      <td>POINT (101961.679 100016.721)</td>\n",
              "    </tr>\n",
              "    <tr>\n",
              "      <th>50649</th>\n",
              "      <td>1.0</td>\n",
              "      <td>NaN</td>\n",
              "      <td>Argentina</td>\n",
              "      <td>2019-02-27</td>\n",
              "      <td>ARS</td>\n",
              "      <td>b'**** ALQUILER DUE\\xd1O DIRECTO DE DEPARTAMEN...</td>\n",
              "      <td>None</td>\n",
              "      <td>2019-03-29</td>\n",
              "      <td>60857</td>\n",
              "      <td>Argentina</td>\n",
              "      <td>Capital Federal</td>\n",
              "      <td>b'Villa Pueyrred\\xf3n'</td>\n",
              "      <td>None</td>\n",
              "      <td>None</td>\n",
              "      <td>None</td>\n",
              "      <td>-34.584267</td>\n",
              "      <td>-58.501282</td>\n",
              "      <td>Alquiler</td>\n",
              "      <td>Alquiler</td>\n",
              "      <td>11000</td>\n",
              "      <td>Mensual</td>\n",
              "      <td>NaN</td>\n",
              "      <td>2019-02-27</td>\n",
              "      <td>43</td>\n",
              "      <td>49</td>\n",
              "      <td>b'Carlos A Lopez  2700 1\\xb0  - $ 11.000 - Dep...</td>\n",
              "      <td>Departamento</td>\n",
              "      <td>Departamento</td>\n",
              "      <td>POINT (96460.074 105041.354)</td>\n",
              "    </tr>\n",
              "    <tr>\n",
              "      <th>50650</th>\n",
              "      <td>2.0</td>\n",
              "      <td>4.0</td>\n",
              "      <td>Argentina</td>\n",
              "      <td>2019-02-27</td>\n",
              "      <td>ARS</td>\n",
              "      <td>b'Corredor Responsable: JAVIER HERNANDEZ - CUC...</td>\n",
              "      <td>None</td>\n",
              "      <td>2019-03-10</td>\n",
              "      <td>60858</td>\n",
              "      <td>Argentina</td>\n",
              "      <td>Capital Federal</td>\n",
              "      <td>b'Villa Pueyrred\\xf3n'</td>\n",
              "      <td>None</td>\n",
              "      <td>None</td>\n",
              "      <td>None</td>\n",
              "      <td>-34.578043</td>\n",
              "      <td>-58.511571</td>\n",
              "      <td>Alquiler</td>\n",
              "      <td>Alquiler</td>\n",
              "      <td>40000</td>\n",
              "      <td>Mensual</td>\n",
              "      <td>5.0</td>\n",
              "      <td>2019-02-27</td>\n",
              "      <td>150</td>\n",
              "      <td>150</td>\n",
              "      <td>Alquiler-Triplex c/ cochera - sin expensas.</td>\n",
              "      <td>Departamento</td>\n",
              "      <td>Departamento</td>\n",
              "      <td>POINT (95515.687 105731.369)</td>\n",
              "    </tr>\n",
              "  </tbody>\n",
              "</table>\n",
              "<p>33472 rows × 29 columns</p>\n",
              "</div>"
            ],
            "text/plain": [
              "       bathrooms  bedrooms  ...     type_i18n                       geometry\n",
              "0            1.0       1.0  ...  Departamento  POINT (106827.294 104558.628)\n",
              "1            3.0       NaN  ...  Departamento  POINT (106347.880 102524.692)\n",
              "2            1.0       2.0  ...  Departamento  POINT (107658.254 102034.095)\n",
              "4            1.0       1.0  ...  Departamento   POINT (99129.692 105739.092)\n",
              "5            NaN       NaN  ...  Departamento  POINT (103825.371 102026.223)\n",
              "...          ...       ...  ...           ...                            ...\n",
              "50638        1.0       NaN  ...  Departamento   POINT (99005.286 106249.504)\n",
              "50639        1.0       1.0  ...  Departamento   POINT (99047.178 106126.635)\n",
              "50648        1.0       1.0  ...  Departamento  POINT (101961.679 100016.721)\n",
              "50649        1.0       NaN  ...  Departamento   POINT (96460.074 105041.354)\n",
              "50650        2.0       4.0  ...  Departamento   POINT (95515.687 105731.369)\n",
              "\n",
              "[33472 rows x 29 columns]"
            ]
          },
          "metadata": {
            "tags": []
          },
          "execution_count": 15
        }
      ]
    },
    {
      "cell_type": "markdown",
      "metadata": {
        "id": "vULG9Ru_kmKd"
      },
      "source": [
        "Filtrar los departamentos que valen más de $100000 Y que además estan en capital federal"
      ]
    },
    {
      "cell_type": "code",
      "metadata": {
        "id": "s57f-ms12k2D",
        "colab": {
          "base_uri": "https://localhost:8080/",
          "height": 1000
        },
        "outputId": "cd37dbfe-3835-4896-8d58-722e2c87182b"
      },
      "source": [
        "departamentos.loc[(departamentos.price>100000)&(departamentos.l2==\"Capital Federal\")]"
      ],
      "execution_count": 16,
      "outputs": [
        {
          "output_type": "execute_result",
          "data": {
            "text/html": [
              "<div>\n",
              "<style scoped>\n",
              "    .dataframe tbody tr th:only-of-type {\n",
              "        vertical-align: middle;\n",
              "    }\n",
              "\n",
              "    .dataframe tbody tr th {\n",
              "        vertical-align: top;\n",
              "    }\n",
              "\n",
              "    .dataframe thead th {\n",
              "        text-align: right;\n",
              "    }\n",
              "</style>\n",
              "<table border=\"1\" class=\"dataframe\">\n",
              "  <thead>\n",
              "    <tr style=\"text-align: right;\">\n",
              "      <th></th>\n",
              "      <th>bathrooms</th>\n",
              "      <th>bedrooms</th>\n",
              "      <th>country</th>\n",
              "      <th>created_on</th>\n",
              "      <th>currency</th>\n",
              "      <th>descriptio</th>\n",
              "      <th>developmen</th>\n",
              "      <th>end_date</th>\n",
              "      <th>index</th>\n",
              "      <th>l1</th>\n",
              "      <th>l2</th>\n",
              "      <th>l3</th>\n",
              "      <th>l4</th>\n",
              "      <th>l5</th>\n",
              "      <th>l6</th>\n",
              "      <th>lat</th>\n",
              "      <th>lon</th>\n",
              "      <th>operation</th>\n",
              "      <th>operation_</th>\n",
              "      <th>price</th>\n",
              "      <th>price_peri</th>\n",
              "      <th>rooms</th>\n",
              "      <th>start_date</th>\n",
              "      <th>surface_co</th>\n",
              "      <th>surface_to</th>\n",
              "      <th>title</th>\n",
              "      <th>type</th>\n",
              "      <th>type_i18n</th>\n",
              "      <th>geometry</th>\n",
              "    </tr>\n",
              "  </thead>\n",
              "  <tbody>\n",
              "    <tr>\n",
              "      <th>200</th>\n",
              "      <td>3.0</td>\n",
              "      <td>NaN</td>\n",
              "      <td>Argentina</td>\n",
              "      <td>2019-12-20</td>\n",
              "      <td>ARS</td>\n",
              "      <td>b'*** A ESTRENAR ***&lt;br&gt;&lt;br&gt;Espectacular 4 amb...</td>\n",
              "      <td>None</td>\n",
              "      <td>2020-05-14</td>\n",
              "      <td>255</td>\n",
              "      <td>Argentina</td>\n",
              "      <td>Capital Federal</td>\n",
              "      <td>Belgrano</td>\n",
              "      <td>None</td>\n",
              "      <td>None</td>\n",
              "      <td>None</td>\n",
              "      <td>-34.564840</td>\n",
              "      <td>-58.437743</td>\n",
              "      <td>Alquiler</td>\n",
              "      <td>Alquiler</td>\n",
              "      <td>160000</td>\n",
              "      <td>Mensual</td>\n",
              "      <td>4.0</td>\n",
              "      <td>2019-12-20</td>\n",
              "      <td>130</td>\n",
              "      <td>149</td>\n",
              "      <td>Espectacular 158m2 - UNICO 3 Suites - Dependen...</td>\n",
              "      <td>Departamento</td>\n",
              "      <td>Departamento</td>\n",
              "      <td>POINT (102290.361 107196.883)</td>\n",
              "    </tr>\n",
              "    <tr>\n",
              "      <th>985</th>\n",
              "      <td>NaN</td>\n",
              "      <td>NaN</td>\n",
              "      <td>Argentina</td>\n",
              "      <td>2019-04-15</td>\n",
              "      <td>ARS</td>\n",
              "      <td>test test test test</td>\n",
              "      <td>None</td>\n",
              "      <td>2019-07-26</td>\n",
              "      <td>1210</td>\n",
              "      <td>Argentina</td>\n",
              "      <td>Capital Federal</td>\n",
              "      <td>Belgrano</td>\n",
              "      <td>None</td>\n",
              "      <td>None</td>\n",
              "      <td>None</td>\n",
              "      <td>-34.555387</td>\n",
              "      <td>-58.445545</td>\n",
              "      <td>Alquiler</td>\n",
              "      <td>Alquiler</td>\n",
              "      <td>1232134</td>\n",
              "      <td>Mensual</td>\n",
              "      <td>1.0</td>\n",
              "      <td>2019-04-15</td>\n",
              "      <td>123</td>\n",
              "      <td>123</td>\n",
              "      <td>Departamento alquiler</td>\n",
              "      <td>Departamento</td>\n",
              "      <td>Departamento</td>\n",
              "      <td>POINT (101574.557 108245.646)</td>\n",
              "    </tr>\n",
              "    <tr>\n",
              "      <th>1346</th>\n",
              "      <td>1.0</td>\n",
              "      <td>1.0</td>\n",
              "      <td>Argentina</td>\n",
              "      <td>2019-01-31</td>\n",
              "      <td>ARS</td>\n",
              "      <td>b'Corredor Responsable: JAVIER HERNANDEZ - CUC...</td>\n",
              "      <td>None</td>\n",
              "      <td>2019-08-07</td>\n",
              "      <td>1662</td>\n",
              "      <td>Argentina</td>\n",
              "      <td>Capital Federal</td>\n",
              "      <td>Puerto Madero</td>\n",
              "      <td>None</td>\n",
              "      <td>None</td>\n",
              "      <td>None</td>\n",
              "      <td>-34.609558</td>\n",
              "      <td>-58.362674</td>\n",
              "      <td>Alquiler</td>\n",
              "      <td>Alquiler</td>\n",
              "      <td>120000</td>\n",
              "      <td>None</td>\n",
              "      <td>2.0</td>\n",
              "      <td>2019-01-31</td>\n",
              "      <td>160</td>\n",
              "      <td>200</td>\n",
              "      <td>Alquiler Triplex Los Molinos. Expensas incluidas</td>\n",
              "      <td>Departamento</td>\n",
              "      <td>Departamento</td>\n",
              "      <td>POINT (109174.738 102231.768)</td>\n",
              "    </tr>\n",
              "    <tr>\n",
              "      <th>1621</th>\n",
              "      <td>2.0</td>\n",
              "      <td>3.0</td>\n",
              "      <td>Argentina</td>\n",
              "      <td>2019-03-08</td>\n",
              "      <td>ARS</td>\n",
              "      <td>b'ALQUILER 4 AMBIENTES EN PALERMO SIN MUEBLES ...</td>\n",
              "      <td>None</td>\n",
              "      <td>2019-04-30</td>\n",
              "      <td>1983</td>\n",
              "      <td>Argentina</td>\n",
              "      <td>Capital Federal</td>\n",
              "      <td>Palermo</td>\n",
              "      <td>None</td>\n",
              "      <td>None</td>\n",
              "      <td>None</td>\n",
              "      <td>-34.581219</td>\n",
              "      <td>-58.406424</td>\n",
              "      <td>Alquiler</td>\n",
              "      <td>Alquiler</td>\n",
              "      <td>139000</td>\n",
              "      <td>Mensual</td>\n",
              "      <td>4.0</td>\n",
              "      <td>2019-03-08</td>\n",
              "      <td>157</td>\n",
              "      <td>168</td>\n",
              "      <td>b'ALQUILER D\\xdaPLEX EN PISO ALTO TORRE DE CAT...</td>\n",
              "      <td>Departamento</td>\n",
              "      <td>Departamento</td>\n",
              "      <td>POINT (105163.595 105378.695)</td>\n",
              "    </tr>\n",
              "    <tr>\n",
              "      <th>2260</th>\n",
              "      <td>2.0</td>\n",
              "      <td>NaN</td>\n",
              "      <td>Argentina</td>\n",
              "      <td>2019-05-09</td>\n",
              "      <td>ARS</td>\n",
              "      <td>b'PISO EN EDIFICIO DE ESTILO FRANC\\xc9S DE 12 ...</td>\n",
              "      <td>None</td>\n",
              "      <td>2019-06-14</td>\n",
              "      <td>2757</td>\n",
              "      <td>Argentina</td>\n",
              "      <td>Capital Federal</td>\n",
              "      <td>Palermo</td>\n",
              "      <td>None</td>\n",
              "      <td>None</td>\n",
              "      <td>None</td>\n",
              "      <td>-34.574938</td>\n",
              "      <td>-58.419038</td>\n",
              "      <td>Alquiler</td>\n",
              "      <td>Alquiler</td>\n",
              "      <td>105000</td>\n",
              "      <td>Mensual</td>\n",
              "      <td>4.0</td>\n",
              "      <td>2019-05-09</td>\n",
              "      <td>161</td>\n",
              "      <td>168</td>\n",
              "      <td>Venta piso de 4 ambientes con cochera</td>\n",
              "      <td>Departamento</td>\n",
              "      <td>Departamento</td>\n",
              "      <td>POINT (104006.530 106075.998)</td>\n",
              "    </tr>\n",
              "    <tr>\n",
              "      <th>...</th>\n",
              "      <td>...</td>\n",
              "      <td>...</td>\n",
              "      <td>...</td>\n",
              "      <td>...</td>\n",
              "      <td>...</td>\n",
              "      <td>...</td>\n",
              "      <td>...</td>\n",
              "      <td>...</td>\n",
              "      <td>...</td>\n",
              "      <td>...</td>\n",
              "      <td>...</td>\n",
              "      <td>...</td>\n",
              "      <td>...</td>\n",
              "      <td>...</td>\n",
              "      <td>...</td>\n",
              "      <td>...</td>\n",
              "      <td>...</td>\n",
              "      <td>...</td>\n",
              "      <td>...</td>\n",
              "      <td>...</td>\n",
              "      <td>...</td>\n",
              "      <td>...</td>\n",
              "      <td>...</td>\n",
              "      <td>...</td>\n",
              "      <td>...</td>\n",
              "      <td>...</td>\n",
              "      <td>...</td>\n",
              "      <td>...</td>\n",
              "      <td>...</td>\n",
              "    </tr>\n",
              "    <tr>\n",
              "      <th>48649</th>\n",
              "      <td>3.0</td>\n",
              "      <td>3.0</td>\n",
              "      <td>Argentina</td>\n",
              "      <td>2019-07-31</td>\n",
              "      <td>ARS</td>\n",
              "      <td>b'Departamento \\xfanico en piso alt\\xedsimo co...</td>\n",
              "      <td>None</td>\n",
              "      <td>2019-08-14</td>\n",
              "      <td>58561</td>\n",
              "      <td>Argentina</td>\n",
              "      <td>Capital Federal</td>\n",
              "      <td>Palermo</td>\n",
              "      <td>Palermo Chico</td>\n",
              "      <td>None</td>\n",
              "      <td>None</td>\n",
              "      <td>-34.580420</td>\n",
              "      <td>-58.406067</td>\n",
              "      <td>Alquiler</td>\n",
              "      <td>Alquiler</td>\n",
              "      <td>119000</td>\n",
              "      <td>None</td>\n",
              "      <td>4.0</td>\n",
              "      <td>2019-07-31</td>\n",
              "      <td>157</td>\n",
              "      <td>157</td>\n",
              "      <td>ALQUILER TORRES BULNES GRAN RECEPCION 3 DORM. ...</td>\n",
              "      <td>Departamento</td>\n",
              "      <td>Departamento</td>\n",
              "      <td>POINT (105196.369 105467.289)</td>\n",
              "    </tr>\n",
              "    <tr>\n",
              "      <th>48742</th>\n",
              "      <td>4.0</td>\n",
              "      <td>3.0</td>\n",
              "      <td>Argentina</td>\n",
              "      <td>2019-07-31</td>\n",
              "      <td>ARS</td>\n",
              "      <td>b'Alquiler Departamento tipo duplex. Rodea de ...</td>\n",
              "      <td>None</td>\n",
              "      <td>2019-08-14</td>\n",
              "      <td>58665</td>\n",
              "      <td>Argentina</td>\n",
              "      <td>Capital Federal</td>\n",
              "      <td>Belgrano</td>\n",
              "      <td>None</td>\n",
              "      <td>None</td>\n",
              "      <td>None</td>\n",
              "      <td>-34.560822</td>\n",
              "      <td>-58.463434</td>\n",
              "      <td>Alquiler</td>\n",
              "      <td>Alquiler</td>\n",
              "      <td>130000</td>\n",
              "      <td>None</td>\n",
              "      <td>5.0</td>\n",
              "      <td>2019-07-31</td>\n",
              "      <td>242</td>\n",
              "      <td>396</td>\n",
              "      <td>Casa dentro de Edificio. Seguridad Coch Doble-...</td>\n",
              "      <td>Departamento</td>\n",
              "      <td>Departamento</td>\n",
              "      <td>POINT (99932.663 107642.892)</td>\n",
              "    </tr>\n",
              "    <tr>\n",
              "      <th>49168</th>\n",
              "      <td>3.0</td>\n",
              "      <td>4.0</td>\n",
              "      <td>Argentina</td>\n",
              "      <td>2019-07-31</td>\n",
              "      <td>ARS</td>\n",
              "      <td>b'Semipiso 5 amb c/dependencia y 2 cocheras cu...</td>\n",
              "      <td>None</td>\n",
              "      <td>2019-08-14</td>\n",
              "      <td>59165</td>\n",
              "      <td>Argentina</td>\n",
              "      <td>Capital Federal</td>\n",
              "      <td>b'Las Ca\\xf1itas'</td>\n",
              "      <td>None</td>\n",
              "      <td>None</td>\n",
              "      <td>None</td>\n",
              "      <td>-34.578066</td>\n",
              "      <td>-58.426532</td>\n",
              "      <td>Alquiler</td>\n",
              "      <td>Alquiler</td>\n",
              "      <td>107000</td>\n",
              "      <td>None</td>\n",
              "      <td>5.0</td>\n",
              "      <td>2019-07-31</td>\n",
              "      <td>190</td>\n",
              "      <td>200</td>\n",
              "      <td>Semipiso 5 ambientes con dependencia y 2 coche...</td>\n",
              "      <td>Departamento</td>\n",
              "      <td>Departamento</td>\n",
              "      <td>POINT (103318.736 105729.364)</td>\n",
              "    </tr>\n",
              "    <tr>\n",
              "      <th>49795</th>\n",
              "      <td>3.0</td>\n",
              "      <td>3.0</td>\n",
              "      <td>Argentina</td>\n",
              "      <td>2019-08-01</td>\n",
              "      <td>ARS</td>\n",
              "      <td>b'Planta de categor\\xeda en el Palacio Bellini...</td>\n",
              "      <td>None</td>\n",
              "      <td>2019-08-14</td>\n",
              "      <td>59894</td>\n",
              "      <td>Argentina</td>\n",
              "      <td>Capital Federal</td>\n",
              "      <td>Palermo</td>\n",
              "      <td>Palermo Chico</td>\n",
              "      <td>None</td>\n",
              "      <td>None</td>\n",
              "      <td>-34.580355</td>\n",
              "      <td>-58.413138</td>\n",
              "      <td>Alquiler</td>\n",
              "      <td>Alquiler</td>\n",
              "      <td>115000</td>\n",
              "      <td>None</td>\n",
              "      <td>4.0</td>\n",
              "      <td>2019-08-01</td>\n",
              "      <td>145</td>\n",
              "      <td>155</td>\n",
              "      <td>PALACIO BELLINI - PALERMO (APTO PROFESIONAL CO...</td>\n",
              "      <td>Departamento</td>\n",
              "      <td>Departamento</td>\n",
              "      <td>POINT (104547.555 105474.833)</td>\n",
              "    </tr>\n",
              "    <tr>\n",
              "      <th>49852</th>\n",
              "      <td>2.0</td>\n",
              "      <td>3.0</td>\n",
              "      <td>Argentina</td>\n",
              "      <td>2019-08-01</td>\n",
              "      <td>ARS</td>\n",
              "      <td>b'Exclusivo duplex con vista abierta  al r\\xed...</td>\n",
              "      <td>None</td>\n",
              "      <td>2019-08-14</td>\n",
              "      <td>59951</td>\n",
              "      <td>Argentina</td>\n",
              "      <td>Capital Federal</td>\n",
              "      <td>Palermo</td>\n",
              "      <td>None</td>\n",
              "      <td>None</td>\n",
              "      <td>None</td>\n",
              "      <td>-34.581219</td>\n",
              "      <td>-58.406424</td>\n",
              "      <td>Alquiler</td>\n",
              "      <td>Alquiler</td>\n",
              "      <td>119000</td>\n",
              "      <td>None</td>\n",
              "      <td>4.0</td>\n",
              "      <td>2019-08-01</td>\n",
              "      <td>157</td>\n",
              "      <td>168</td>\n",
              "      <td>Departamento  duplex 4 ambientes en Alquiler -...</td>\n",
              "      <td>Departamento</td>\n",
              "      <td>Departamento</td>\n",
              "      <td>POINT (105163.595 105378.695)</td>\n",
              "    </tr>\n",
              "  </tbody>\n",
              "</table>\n",
              "<p>164 rows × 29 columns</p>\n",
              "</div>"
            ],
            "text/plain": [
              "       bathrooms  bedrooms  ...     type_i18n                       geometry\n",
              "200          3.0       NaN  ...  Departamento  POINT (102290.361 107196.883)\n",
              "985          NaN       NaN  ...  Departamento  POINT (101574.557 108245.646)\n",
              "1346         1.0       1.0  ...  Departamento  POINT (109174.738 102231.768)\n",
              "1621         2.0       3.0  ...  Departamento  POINT (105163.595 105378.695)\n",
              "2260         2.0       NaN  ...  Departamento  POINT (104006.530 106075.998)\n",
              "...          ...       ...  ...           ...                            ...\n",
              "48649        3.0       3.0  ...  Departamento  POINT (105196.369 105467.289)\n",
              "48742        4.0       3.0  ...  Departamento   POINT (99932.663 107642.892)\n",
              "49168        3.0       4.0  ...  Departamento  POINT (103318.736 105729.364)\n",
              "49795        3.0       3.0  ...  Departamento  POINT (104547.555 105474.833)\n",
              "49852        2.0       3.0  ...  Departamento  POINT (105163.595 105378.695)\n",
              "\n",
              "[164 rows x 29 columns]"
            ]
          },
          "metadata": {
            "tags": []
          },
          "execution_count": 16
        }
      ]
    },
    {
      "cell_type": "markdown",
      "metadata": {
        "id": "VW58WJz1lfXP"
      },
      "source": [
        "Es posible combinar los filtros con otros metodos para describir o graficar los datos en una sola linea de codigo. Para eso filtro primero y grafico o describo despues.\n"
      ]
    },
    {
      "cell_type": "code",
      "metadata": {
        "id": "Fafijp3b09mc",
        "colab": {
          "base_uri": "https://localhost:8080/"
        },
        "outputId": "587740fe-fa18-4e3d-d5be-66352c8357c0"
      },
      "source": [
        "departamentos.loc[departamentos['l2']==\"Capital Federal\"].price.describe()"
      ],
      "execution_count": 17,
      "outputs": [
        {
          "output_type": "execute_result",
          "data": {
            "text/plain": [
              "count    3.347200e+04\n",
              "mean     1.855286e+04\n",
              "std      1.733385e+04\n",
              "min      5.000000e+01\n",
              "25%      1.150000e+04\n",
              "50%      1.500000e+04\n",
              "75%      2.200000e+04\n",
              "max      1.232134e+06\n",
              "Name: price, dtype: float64"
            ]
          },
          "metadata": {
            "tags": []
          },
          "execution_count": 17
        }
      ]
    },
    {
      "cell_type": "code",
      "metadata": {
        "id": "BrBXPkuBKtLq",
        "colab": {
          "base_uri": "https://localhost:8080/",
          "height": 295
        },
        "outputId": "22261c11-41df-423e-fe8b-dc9b97372955"
      },
      "source": [
        "departamentos.price.hist()"
      ],
      "execution_count": 18,
      "outputs": [
        {
          "output_type": "execute_result",
          "data": {
            "text/plain": [
              "<matplotlib.axes._subplots.AxesSubplot at 0x7f311efe8610>"
            ]
          },
          "metadata": {
            "tags": []
          },
          "execution_count": 18
        },
        {
          "output_type": "display_data",
          "data": {
            "image/png": "[encoded data removed]",
            "text/plain": [
              "<Figure size 432x288 with 1 Axes>"
            ]
          },
          "metadata": {
            "tags": [],
            "needs_background": "light"
          }
        }
      ]
    },
    {
      "cell_type": "code",
      "metadata": {
        "id": "qiqWdr5VKb6q",
        "colab": {
          "base_uri": "https://localhost:8080/",
          "height": 282
        },
        "outputId": "c0ae7dd9-b15e-4717-b3cd-659aa647f654"
      },
      "source": [
        "departamentos.price.loc[departamentos.price<30000].hist()"
      ],
      "execution_count": 19,
      "outputs": [
        {
          "output_type": "execute_result",
          "data": {
            "text/plain": [
              "<matplotlib.axes._subplots.AxesSubplot at 0x7f311ef8f690>"
            ]
          },
          "metadata": {
            "tags": []
          },
          "execution_count": 19
        },
        {
          "output_type": "display_data",
          "data": {
            "image/png": "[encoded data removed]",
            "text/plain": [
              "<Figure size 432x288 with 1 Axes>"
            ]
          },
          "metadata": {
            "tags": [],
            "needs_background": "light"
          }
        }
      ]
    },
    {
      "cell_type": "markdown",
      "metadata": {
        "id": "0v7Y1tQb8CEN"
      },
      "source": [
        "El método plot() en el GeoDataFrame permite mapear los datos. Podrán reconocer el AMBA\n"
      ]
    },
    {
      "cell_type": "code",
      "metadata": {
        "id": "-NqNb9oXjvkd",
        "colab": {
          "base_uri": "https://localhost:8080/",
          "height": 282
        },
        "outputId": "f9715859-b01e-4c41-91b3-ebdd3254ce86"
      },
      "source": [
        "departamentos.plot()"
      ],
      "execution_count": 20,
      "outputs": [
        {
          "output_type": "execute_result",
          "data": {
            "text/plain": [
              "<matplotlib.axes._subplots.AxesSubplot at 0x7f311efa1290>"
            ]
          },
          "metadata": {
            "tags": []
          },
          "execution_count": 20
        },
        {
          "output_type": "display_data",
          "data": {
            "image/png": "[encoded data removed]",
            "text/plain": [
              "<Figure size 432x288 with 1 Axes>"
            ]
          },
          "metadata": {
            "tags": [],
            "needs_background": "light"
          }
        }
      ]
    },
    {
      "cell_type": "code",
      "metadata": {
        "id": "aPK60isGlvHG",
        "colab": {
          "base_uri": "https://localhost:8080/",
          "height": 282
        },
        "outputId": "2c56c0b4-98aa-453d-e208-73077e056e3d"
      },
      "source": [
        "departamentos.loc[departamentos.l2==\"Capital Federal\"].plot()"
      ],
      "execution_count": 21,
      "outputs": [
        {
          "output_type": "execute_result",
          "data": {
            "text/plain": [
              "<matplotlib.axes._subplots.AxesSubplot at 0x7f311ef3a910>"
            ]
          },
          "metadata": {
            "tags": []
          },
          "execution_count": 21
        },
        {
          "output_type": "display_data",
          "data": {
            "image/png": "[encoded data removed]",
            "text/plain": [
              "<Figure size 432x288 with 1 Axes>"
            ]
          },
          "metadata": {
            "tags": [],
            "needs_background": "light"
          }
        }
      ]
    },
    {
      "cell_type": "markdown",
      "metadata": {
        "id": "H8Sy0Zb3_Q2N"
      },
      "source": [
        "# OLS "
      ]
    },
    {
      "cell_type": "markdown",
      "metadata": {
        "id": "9CnhsxjW2K4O"
      },
      "source": [
        "Statsmodels es la librería de operaciones estadísticas que usaremos para estimar OLS"
      ]
    },
    {
      "cell_type": "code",
      "metadata": {
        "id": "qoIeLvSTkMed",
        "colab": {
          "base_uri": "https://localhost:8080/"
        },
        "outputId": "4e9c2efe-5958-4405-af8b-00c45b96206e"
      },
      "source": [
        "import statsmodels.api as sm"
      ],
      "execution_count": 22,
      "outputs": [
        {
          "output_type": "stream",
          "text": [
            "/usr/local/lib/python3.7/dist-packages/statsmodels/tools/_testing.py:19: FutureWarning: pandas.util.testing is deprecated. Use the functions in the public API at pandas.testing instead.\n",
            "  import pandas.util.testing as tm\n"
          ],
          "name": "stderr"
        }
      ]
    },
    {
      "cell_type": "markdown",
      "metadata": {
        "id": "QJmhtgjqoUW2"
      },
      "source": [
        "Nuestro modelo a explorar es el siguiente:"
      ]
    },
    {
      "cell_type": "markdown",
      "metadata": {
        "id": "B5QbC7SGocxS"
      },
      "source": [
        "$price_i=\\beta_0+ \\beta_1*bedrooms_i+\\epsilon_i$"
      ]
    },
    {
      "cell_type": "markdown",
      "metadata": {
        "id": "N_P7emX8nPNV"
      },
      "source": [
        "Estimar la regresion va a requerir varios pasos:\n",
        "\n",
        "1. Asegurarme de que los datos (las filas en cuestion) que voy a estar usando no tienen datos missing en ninguna variable. \n",
        "2. Separar a la variable a explicar (dependiente) de la(s) explicativas\n",
        "3. Si la regresión va a tener una constante, como en nuestro caso, agregar a las variables explicativas una columna de 1s (unos).\n",
        "\n",
        "\n",
        "4. Asignar a una variable el nombre del modelo y las especificaciones del mismo\n",
        "5. Correr el modelo con el metodo fit() y guardar los resultados en otra variable\n",
        "6. Imprimir los resultados en pantalla (imprimir los contenidos de la variable del paso anterior)"
      ]
    },
    {
      "cell_type": "markdown",
      "metadata": {
        "id": "NFv4Quiwo1PQ"
      },
      "source": [
        "### 1. Asegurarme de que los datos (las filas en cuestion) que voy a estar usando no tienen datos missing en ninguna variable\n",
        "\n",
        "Me quedo primero solo con los datos que me interesan en uno dataframe.\n",
        "Luego el metodo dropna() me permite eliminar los missing.\n",
        "El resultado lo guardo bajo el el mismo nombre de dataframe datos solo para comodidad"
      ]
    },
    {
      "cell_type": "code",
      "metadata": {
        "id": "5bKwd4qZ8xSi"
      },
      "source": [
        "datos=departamentos[['price', 'bedrooms']]"
      ],
      "execution_count": 23,
      "outputs": []
    },
    {
      "cell_type": "code",
      "metadata": {
        "id": "AUjumMJC96tY"
      },
      "source": [
        "# el metodo dropna() me permite eliminar las filas que tienen algun valor missing\n",
        "datos=datos.dropna()"
      ],
      "execution_count": 24,
      "outputs": []
    },
    {
      "cell_type": "code",
      "metadata": {
        "id": "u7TpJAPb-Q2S",
        "colab": {
          "base_uri": "https://localhost:8080/",
          "height": 407
        },
        "outputId": "3fe77961-c058-467b-b78d-121f38d714c4"
      },
      "source": [
        "datos"
      ],
      "execution_count": 25,
      "outputs": [
        {
          "output_type": "execute_result",
          "data": {
            "text/html": [
              "<div>\n",
              "<style scoped>\n",
              "    .dataframe tbody tr th:only-of-type {\n",
              "        vertical-align: middle;\n",
              "    }\n",
              "\n",
              "    .dataframe tbody tr th {\n",
              "        vertical-align: top;\n",
              "    }\n",
              "\n",
              "    .dataframe thead th {\n",
              "        text-align: right;\n",
              "    }\n",
              "</style>\n",
              "<table border=\"1\" class=\"dataframe\">\n",
              "  <thead>\n",
              "    <tr style=\"text-align: right;\">\n",
              "      <th></th>\n",
              "      <th>price</th>\n",
              "      <th>bedrooms</th>\n",
              "    </tr>\n",
              "  </thead>\n",
              "  <tbody>\n",
              "    <tr>\n",
              "      <th>0</th>\n",
              "      <td>18000</td>\n",
              "      <td>1.0</td>\n",
              "    </tr>\n",
              "    <tr>\n",
              "      <th>2</th>\n",
              "      <td>18500</td>\n",
              "      <td>2.0</td>\n",
              "    </tr>\n",
              "    <tr>\n",
              "      <th>4</th>\n",
              "      <td>18500</td>\n",
              "      <td>1.0</td>\n",
              "    </tr>\n",
              "    <tr>\n",
              "      <th>43</th>\n",
              "      <td>15000</td>\n",
              "      <td>1.0</td>\n",
              "    </tr>\n",
              "    <tr>\n",
              "      <th>45</th>\n",
              "      <td>13000</td>\n",
              "      <td>1.0</td>\n",
              "    </tr>\n",
              "    <tr>\n",
              "      <th>...</th>\n",
              "      <td>...</td>\n",
              "      <td>...</td>\n",
              "    </tr>\n",
              "    <tr>\n",
              "      <th>50647</th>\n",
              "      <td>10500</td>\n",
              "      <td>2.0</td>\n",
              "    </tr>\n",
              "    <tr>\n",
              "      <th>50648</th>\n",
              "      <td>17500</td>\n",
              "      <td>1.0</td>\n",
              "    </tr>\n",
              "    <tr>\n",
              "      <th>50650</th>\n",
              "      <td>40000</td>\n",
              "      <td>4.0</td>\n",
              "    </tr>\n",
              "    <tr>\n",
              "      <th>50651</th>\n",
              "      <td>4500</td>\n",
              "      <td>1.0</td>\n",
              "    </tr>\n",
              "    <tr>\n",
              "      <th>50652</th>\n",
              "      <td>13000</td>\n",
              "      <td>2.0</td>\n",
              "    </tr>\n",
              "  </tbody>\n",
              "</table>\n",
              "<p>27879 rows × 2 columns</p>\n",
              "</div>"
            ],
            "text/plain": [
              "       price  bedrooms\n",
              "0      18000       1.0\n",
              "2      18500       2.0\n",
              "4      18500       1.0\n",
              "43     15000       1.0\n",
              "45     13000       1.0\n",
              "...      ...       ...\n",
              "50647  10500       2.0\n",
              "50648  17500       1.0\n",
              "50650  40000       4.0\n",
              "50651   4500       1.0\n",
              "50652  13000       2.0\n",
              "\n",
              "[27879 rows x 2 columns]"
            ]
          },
          "metadata": {
            "tags": []
          },
          "execution_count": 25
        }
      ]
    },
    {
      "cell_type": "markdown",
      "metadata": {
        "id": "jUQFgoVoprwG"
      },
      "source": [
        "2. Separar a la variable a explicar (dependiente) de la(s) explicativas"
      ]
    },
    {
      "cell_type": "code",
      "metadata": {
        "id": "zcQK2FxB-TwK"
      },
      "source": [
        "Y=datos.price\n",
        "X=datos.bedrooms"
      ],
      "execution_count": 26,
      "outputs": []
    },
    {
      "cell_type": "markdown",
      "metadata": {
        "id": "JUXdSgtj1ri_"
      },
      "source": [
        "3. Si la regresión va a tener una constante, como en nuestro caso, agregar a las variables explicativas una columna de 1s (unos). En terminos de nuestra ecuacion equivale a :\n",
        "\n",
        "$price_i=\\beta_0*1+ \\beta_1*bedrooms_i+\\epsilon_i$\n",
        "\n",
        "Si bien podriamos definir una variable de 1s, uso directamente un método de sm que sirve para eso.\n"
      ]
    },
    {
      "cell_type": "code",
      "metadata": {
        "id": "nlwY2N0V-lwK"
      },
      "source": [
        "X=sm.add_constant(X)"
      ],
      "execution_count": 27,
      "outputs": []
    },
    {
      "cell_type": "code",
      "metadata": {
        "id": "SEDJz7ae_OUV",
        "colab": {
          "base_uri": "https://localhost:8080/",
          "height": 407
        },
        "outputId": "5ee0267f-3b26-4d71-eb35-eea5cdaad575"
      },
      "source": [
        "X"
      ],
      "execution_count": 28,
      "outputs": [
        {
          "output_type": "execute_result",
          "data": {
            "text/html": [
              "<div>\n",
              "<style scoped>\n",
              "    .dataframe tbody tr th:only-of-type {\n",
              "        vertical-align: middle;\n",
              "    }\n",
              "\n",
              "    .dataframe tbody tr th {\n",
              "        vertical-align: top;\n",
              "    }\n",
              "\n",
              "    .dataframe thead th {\n",
              "        text-align: right;\n",
              "    }\n",
              "</style>\n",
              "<table border=\"1\" class=\"dataframe\">\n",
              "  <thead>\n",
              "    <tr style=\"text-align: right;\">\n",
              "      <th></th>\n",
              "      <th>const</th>\n",
              "      <th>bedrooms</th>\n",
              "    </tr>\n",
              "  </thead>\n",
              "  <tbody>\n",
              "    <tr>\n",
              "      <th>0</th>\n",
              "      <td>1.0</td>\n",
              "      <td>1.0</td>\n",
              "    </tr>\n",
              "    <tr>\n",
              "      <th>2</th>\n",
              "      <td>1.0</td>\n",
              "      <td>2.0</td>\n",
              "    </tr>\n",
              "    <tr>\n",
              "      <th>4</th>\n",
              "      <td>1.0</td>\n",
              "      <td>1.0</td>\n",
              "    </tr>\n",
              "    <tr>\n",
              "      <th>43</th>\n",
              "      <td>1.0</td>\n",
              "      <td>1.0</td>\n",
              "    </tr>\n",
              "    <tr>\n",
              "      <th>45</th>\n",
              "      <td>1.0</td>\n",
              "      <td>1.0</td>\n",
              "    </tr>\n",
              "    <tr>\n",
              "      <th>...</th>\n",
              "      <td>...</td>\n",
              "      <td>...</td>\n",
              "    </tr>\n",
              "    <tr>\n",
              "      <th>50647</th>\n",
              "      <td>1.0</td>\n",
              "      <td>2.0</td>\n",
              "    </tr>\n",
              "    <tr>\n",
              "      <th>50648</th>\n",
              "      <td>1.0</td>\n",
              "      <td>1.0</td>\n",
              "    </tr>\n",
              "    <tr>\n",
              "      <th>50650</th>\n",
              "      <td>1.0</td>\n",
              "      <td>4.0</td>\n",
              "    </tr>\n",
              "    <tr>\n",
              "      <th>50651</th>\n",
              "      <td>1.0</td>\n",
              "      <td>1.0</td>\n",
              "    </tr>\n",
              "    <tr>\n",
              "      <th>50652</th>\n",
              "      <td>1.0</td>\n",
              "      <td>2.0</td>\n",
              "    </tr>\n",
              "  </tbody>\n",
              "</table>\n",
              "<p>27879 rows × 2 columns</p>\n",
              "</div>"
            ],
            "text/plain": [
              "       const  bedrooms\n",
              "0        1.0       1.0\n",
              "2        1.0       2.0\n",
              "4        1.0       1.0\n",
              "43       1.0       1.0\n",
              "45       1.0       1.0\n",
              "...      ...       ...\n",
              "50647    1.0       2.0\n",
              "50648    1.0       1.0\n",
              "50650    1.0       4.0\n",
              "50651    1.0       1.0\n",
              "50652    1.0       2.0\n",
              "\n",
              "[27879 rows x 2 columns]"
            ]
          },
          "metadata": {
            "tags": []
          },
          "execution_count": 28
        }
      ]
    },
    {
      "cell_type": "markdown",
      "metadata": {
        "id": "AbsDvPW7qc7Q"
      },
      "source": [
        "4. Asignar a una variable el nombre del modelo y las especificaciones del mismo\n",
        "En este caso guardo bajo el nombre modelo al metodo OLS donde especifico cuales son las variables en cuestion."
      ]
    },
    {
      "cell_type": "code",
      "metadata": {
        "id": "EEhoc8Zc_TGt"
      },
      "source": [
        "modelo=sm.OLS(Y,X)"
      ],
      "execution_count": 29,
      "outputs": []
    },
    {
      "cell_type": "markdown",
      "metadata": {
        "id": "CcfjEsurqtjC"
      },
      "source": [
        "5. Correr el modelo con el metodo fit() y guardar los resultados en otra variable"
      ]
    },
    {
      "cell_type": "code",
      "metadata": {
        "id": "_qDbxhaM_xUr"
      },
      "source": [
        "resultados=modelo.fit()"
      ],
      "execution_count": 30,
      "outputs": []
    },
    {
      "cell_type": "markdown",
      "metadata": {
        "id": "7laQs5RXq4oE"
      },
      "source": [
        "Imprimir los resultados en pantalla (imprimir los contenidos de la variable del paso anterior)"
      ]
    },
    {
      "cell_type": "code",
      "metadata": {
        "id": "eI-qG_9KAD2Q",
        "colab": {
          "base_uri": "https://localhost:8080/",
          "height": 425
        },
        "outputId": "30562fef-8070-441b-bcbc-40d32a40f33c"
      },
      "source": [
        "resultados.summary()"
      ],
      "execution_count": 31,
      "outputs": [
        {
          "output_type": "execute_result",
          "data": {
            "text/html": [
              "<table class=\"simpletable\">\n",
              "<caption>OLS Regression Results</caption>\n",
              "<tr>\n",
              "  <th>Dep. Variable:</th>          <td>price</td>      <th>  R-squared:         </th>  <td>   0.049</td>  \n",
              "</tr>\n",
              "<tr>\n",
              "  <th>Model:</th>                   <td>OLS</td>       <th>  Adj. R-squared:    </th>  <td>   0.049</td>  \n",
              "</tr>\n",
              "<tr>\n",
              "  <th>Method:</th>             <td>Least Squares</td>  <th>  F-statistic:       </th>  <td>   1443.</td>  \n",
              "</tr>\n",
              "<tr>\n",
              "  <th>Date:</th>             <td>Mon, 07 Jun 2021</td> <th>  Prob (F-statistic):</th>  <td>7.68e-308</td> \n",
              "</tr>\n",
              "<tr>\n",
              "  <th>Time:</th>                 <td>14:47:54</td>     <th>  Log-Likelihood:    </th> <td>-3.0876e+05</td>\n",
              "</tr>\n",
              "<tr>\n",
              "  <th>No. Observations:</th>      <td> 27879</td>      <th>  AIC:               </th>  <td>6.175e+05</td> \n",
              "</tr>\n",
              "<tr>\n",
              "  <th>Df Residuals:</th>          <td> 27877</td>      <th>  BIC:               </th>  <td>6.175e+05</td> \n",
              "</tr>\n",
              "<tr>\n",
              "  <th>Df Model:</th>              <td>     1</td>      <th>                     </th>      <td> </td>     \n",
              "</tr>\n",
              "<tr>\n",
              "  <th>Covariance Type:</th>      <td>nonrobust</td>    <th>                     </th>      <td> </td>     \n",
              "</tr>\n",
              "</table>\n",
              "<table class=\"simpletable\">\n",
              "<tr>\n",
              "      <td></td>        <th>coef</th>     <th>std err</th>      <th>t</th>      <th>P>|t|</th>  <th>[0.025</th>    <th>0.975]</th>  \n",
              "</tr>\n",
              "<tr>\n",
              "  <th>const</th>    <td> 1.151e+04</td> <td>  205.145</td> <td>   56.088</td> <td> 0.000</td> <td> 1.11e+04</td> <td> 1.19e+04</td>\n",
              "</tr>\n",
              "<tr>\n",
              "  <th>bedrooms</th> <td> 4253.5067</td> <td>  111.984</td> <td>   37.983</td> <td> 0.000</td> <td> 4034.013</td> <td> 4473.000</td>\n",
              "</tr>\n",
              "</table>\n",
              "<table class=\"simpletable\">\n",
              "<tr>\n",
              "  <th>Omnibus:</th>       <td>39834.368</td> <th>  Durbin-Watson:     </th>   <td>   1.851</td>  \n",
              "</tr>\n",
              "<tr>\n",
              "  <th>Prob(Omnibus):</th>  <td> 0.000</td>   <th>  Jarque-Bera (JB):  </th> <td>59814269.062</td>\n",
              "</tr>\n",
              "<tr>\n",
              "  <th>Skew:</th>           <td> 7.918</td>   <th>  Prob(JB):          </th>   <td>    0.00</td>  \n",
              "</tr>\n",
              "<tr>\n",
              "  <th>Kurtosis:</th>       <td>229.365</td>  <th>  Cond. No.          </th>   <td>    5.02</td>  \n",
              "</tr>\n",
              "</table><br/><br/>Warnings:<br/>[1] Standard Errors assume that the covariance matrix of the errors is correctly specified."
            ],
            "text/plain": [
              "<class 'statsmodels.iolib.summary.Summary'>\n",
              "\"\"\"\n",
              "                            OLS Regression Results                            \n",
              "==============================================================================\n",
              "Dep. Variable:                  price   R-squared:                       0.049\n",
              "Model:                            OLS   Adj. R-squared:                  0.049\n",
              "Method:                 Least Squares   F-statistic:                     1443.\n",
              "Date:                Mon, 07 Jun 2021   Prob (F-statistic):          7.68e-308\n",
              "Time:                        14:47:54   Log-Likelihood:            -3.0876e+05\n",
              "No. Observations:               27879   AIC:                         6.175e+05\n",
              "Df Residuals:                   27877   BIC:                         6.175e+05\n",
              "Df Model:                           1                                         \n",
              "Covariance Type:            nonrobust                                         \n",
              "==============================================================================\n",
              "                 coef    std err          t      P>|t|      [0.025      0.975]\n",
              "------------------------------------------------------------------------------\n",
              "const       1.151e+04    205.145     56.088      0.000    1.11e+04    1.19e+04\n",
              "bedrooms    4253.5067    111.984     37.983      0.000    4034.013    4473.000\n",
              "==============================================================================\n",
              "Omnibus:                    39834.368   Durbin-Watson:                   1.851\n",
              "Prob(Omnibus):                  0.000   Jarque-Bera (JB):         59814269.062\n",
              "Skew:                           7.918   Prob(JB):                         0.00\n",
              "Kurtosis:                     229.365   Cond. No.                         5.02\n",
              "==============================================================================\n",
              "\n",
              "Warnings:\n",
              "[1] Standard Errors assume that the covariance matrix of the errors is correctly specified.\n",
              "\"\"\""
            ]
          },
          "metadata": {
            "tags": []
          },
          "execution_count": 31
        }
      ]
    },
    {
      "cell_type": "markdown",
      "metadata": {
        "id": "p5kw-xTV16gB"
      },
      "source": [
        "Si usamos print de la siguiente forma, los resultados se imprimen mejor:"
      ]
    },
    {
      "cell_type": "code",
      "metadata": {
        "id": "qtgAzqjamvrB",
        "colab": {
          "base_uri": "https://localhost:8080/"
        },
        "outputId": "6fa11cb7-09c0-417b-8b91-24e96cfd7982"
      },
      "source": [
        "# mostramos los resultados\n",
        "print(resultados.summary())"
      ],
      "execution_count": 33,
      "outputs": [
        {
          "output_type": "stream",
          "text": [
            "                            OLS Regression Results                            \n",
            "==============================================================================\n",
            "Dep. Variable:                  price   R-squared:                       0.049\n",
            "Model:                            OLS   Adj. R-squared:                  0.049\n",
            "Method:                 Least Squares   F-statistic:                     1443.\n",
            "Date:                Mon, 07 Jun 2021   Prob (F-statistic):          7.68e-308\n",
            "Time:                        14:48:09   Log-Likelihood:            -3.0876e+05\n",
            "No. Observations:               27879   AIC:                         6.175e+05\n",
            "Df Residuals:                   27877   BIC:                         6.175e+05\n",
            "Df Model:                           1                                         \n",
            "Covariance Type:            nonrobust                                         \n",
            "==============================================================================\n",
            "                 coef    std err          t      P>|t|      [0.025      0.975]\n",
            "------------------------------------------------------------------------------\n",
            "const       1.151e+04    205.145     56.088      0.000    1.11e+04    1.19e+04\n",
            "bedrooms    4253.5067    111.984     37.983      0.000    4034.013    4473.000\n",
            "==============================================================================\n",
            "Omnibus:                    39834.368   Durbin-Watson:                   1.851\n",
            "Prob(Omnibus):                  0.000   Jarque-Bera (JB):         59814269.062\n",
            "Skew:                           7.918   Prob(JB):                         0.00\n",
            "Kurtosis:                     229.365   Cond. No.                         5.02\n",
            "==============================================================================\n",
            "\n",
            "Warnings:\n",
            "[1] Standard Errors assume that the covariance matrix of the errors is correctly specified.\n"
          ],
          "name": "stdout"
        }
      ]
    },
    {
      "cell_type": "markdown",
      "metadata": {
        "id": "qeYPWdOaAwjD"
      },
      "source": [
        "Nuestro resultado es:\n",
        "precio= 11500+ 4253* bedrooms"
      ]
    },
    {
      "cell_type": "markdown",
      "metadata": {
        "id": "MG4B4_iFrJ5U"
      },
      "source": [
        "## Graficando"
      ]
    },
    {
      "cell_type": "markdown",
      "metadata": {
        "id": "hqy13i7ZtXZV"
      },
      "source": [
        "El (geo)dataframe tiene algunos metodos que permiten graficar directamente"
      ]
    },
    {
      "cell_type": "code",
      "metadata": {
        "id": "uRsjNu2G9lMJ",
        "colab": {
          "base_uri": "https://localhost:8080/",
          "height": 296
        },
        "outputId": "fdc2c5c3-a9e6-4bb9-9e00-16f79d33001c"
      },
      "source": [
        "datos.plot.scatter(x='bedrooms',  y='price')"
      ],
      "execution_count": 34,
      "outputs": [
        {
          "output_type": "execute_result",
          "data": {
            "text/plain": [
              "<matplotlib.axes._subplots.AxesSubplot at 0x7f311e909250>"
            ]
          },
          "metadata": {
            "tags": []
          },
          "execution_count": 34
        },
        {
          "output_type": "display_data",
          "data": {
            "image/png": "[encoded data removed]",
            "text/plain": [
              "<Figure size 432x288 with 1 Axes>"
            ]
          },
          "metadata": {
            "tags": [],
            "needs_background": "light"
          }
        }
      ]
    },
    {
      "cell_type": "markdown",
      "metadata": {
        "id": "243MRDB1-eBb"
      },
      "source": [
        "Scatter plot \n"
      ]
    },
    {
      "cell_type": "code",
      "metadata": {
        "id": "QmSsnwG1-Ei6",
        "colab": {
          "base_uri": "https://localhost:8080/",
          "height": 296
        },
        "outputId": "02047296-e7b3-487e-8243-57529fd7f38c"
      },
      "source": [
        "datos.loc[datos['bedrooms']>0].plot.scatter(x='bedrooms',  y='price')"
      ],
      "execution_count": 36,
      "outputs": [
        {
          "output_type": "execute_result",
          "data": {
            "text/plain": [
              "<matplotlib.axes._subplots.AxesSubplot at 0x7f311e8cec50>"
            ]
          },
          "metadata": {
            "tags": []
          },
          "execution_count": 36
        },
        {
          "output_type": "display_data",
          "data": {
            "image/png": "[encoded data removed]",
            "text/plain": [
              "<Figure size 432x288 with 1 Axes>"
            ]
          },
          "metadata": {
            "tags": [],
            "needs_background": "light"
          }
        }
      ]
    },
    {
      "cell_type": "markdown",
      "metadata": {
        "id": "uMA3JZMStfKk"
      },
      "source": [
        "Para hacer otros graficos más complejos vamos a usar otras librerias como matplotlib"
      ]
    },
    {
      "cell_type": "code",
      "metadata": {
        "id": "n_dgi2pDAVbS"
      },
      "source": [
        "ypred = resultados.predict(X)"
      ],
      "execution_count": 38,
      "outputs": []
    },
    {
      "cell_type": "code",
      "metadata": {
        "id": "h9DvHruYAqij",
        "colab": {
          "base_uri": "https://localhost:8080/",
          "height": 265
        },
        "outputId": "f74d02fe-d931-44fa-ffc8-7aee8402b832"
      },
      "source": [
        "import matplotlib.pyplot as plt\n",
        "\n",
        "fig, ax = plt.subplots()\n",
        "ax.plot(datos['bedrooms'], datos['price'], 'o', label=\"Data\")\n",
        "ax.plot(datos['bedrooms'], ypred, 'b-', label=\"Prediction\")\n",
        "#ax.plot(np.hstack((x1, x1n)), np.hstack((ypred, ynewpred)), 'r', label=\"OLS prediction\")\n",
        "ax.legend(loc=\"best\");"
      ],
      "execution_count": 39,
      "outputs": [
        {
          "output_type": "display_data",
          "data": {
            "image/png": "[encoded data removed]",
            "text/plain": [
              "<Figure size 432x288 with 1 Axes>"
            ]
          },
          "metadata": {
            "tags": [],
            "needs_background": "light"
          }
        }
      ]
    },
    {
      "cell_type": "markdown",
      "metadata": {
        "id": "hvCFmNhhXyHe"
      },
      "source": [
        "# Ejemplo de ploteo con layers (capas)\n"
      ]
    },
    {
      "cell_type": "code",
      "metadata": {
        "id": "3aSSL0n_Npup"
      },
      "source": [
        "limites=gpd.read_file(\"zip:///content/ign_departamento.zip\")\n",
        "\n",
        "#limites=gpd.GeoDataFrame.from_file(\"https://github.com/rpasquini/urban-econometrics/blob/master/data/departamentos2019amba.zip?raw=true\")"
      ],
      "execution_count": 51,
      "outputs": []
    },
    {
      "cell_type": "code",
      "metadata": {
        "id": "qGtwtXfLRobK",
        "outputId": "8cb59050-62af-4e0a-ce1c-967895cda8cb",
        "colab": {
          "base_uri": "https://localhost:8080/",
          "height": 612
        }
      },
      "source": [
        "fig, ax = plt.subplots(figsize=(10, 10))\n",
        "limites.to_crs(\"EPSG:4326\").plot(ax=ax)\n",
        "departamentos.to_crs(\"EPSG:4326\").plot(ax=ax,color='orange')\n",
        "ax.set_xlim(-59, -58)\n",
        "ax.set_ylim(-35, -34.1)"
      ],
      "execution_count": 81,
      "outputs": [
        {
          "output_type": "execute_result",
          "data": {
            "text/plain": [
              "(-35.0, -34.1)"
            ]
          },
          "metadata": {
            "tags": []
          },
          "execution_count": 81
        },
        {
          "output_type": "display_data",
          "data": {
            "image/png": "[encoded data removed]",
            "text/plain": [
              "<Figure size 720x720 with 1 Axes>"
            ]
          },
          "metadata": {
            "tags": [],
            "needs_background": "light"
          }
        }
      ]
    }
  ]
}